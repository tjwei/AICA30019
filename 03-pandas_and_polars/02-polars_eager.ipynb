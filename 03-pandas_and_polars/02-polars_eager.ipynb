{
 "cells": [
  {
   "cell_type": "code",
   "execution_count": 1,
   "id": "a9bdc457-dbc3-4b82-8e17-661e3e5f2761",
   "metadata": {
    "tags": []
   },
   "outputs": [],
   "source": [
    "import polars as pl"
   ]
  },
  {
   "cell_type": "code",
   "execution_count": 2,
   "id": "bf83201b-6554-449f-ae1b-39da29e50d7a",
   "metadata": {},
   "outputs": [
    {
     "data": {
      "text/plain": [
       "['light_test_source_labels.csv',\n",
       " 'light_train_source_labels.csv',\n",
       " 'light_train_target_labels.csv',\n",
       " 'sample.csv',\n",
       " 'test_source_events.csv',\n",
       " 'train_source_events.csv',\n",
       " 'train_target_events.csv']"
      ]
     },
     "execution_count": 2,
     "metadata": {},
     "output_type": "execute_result"
    }
   ],
   "source": [
    "import os\n",
    "os.listdir('../kkdata')"
   ]
  },
  {
   "cell_type": "code",
   "execution_count": 3,
   "id": "e6efb16b-4d91-43fb-b49c-982909c3159d",
   "metadata": {},
   "outputs": [
    {
     "name": "stdout",
     "output_type": "stream",
     "text": [
      "..\\kkdata\\light_test_source_labels.csv\n",
      "..\\kkdata\\light_train_source_labels.csv\n",
      "..\\kkdata\\light_train_target_labels.csv\n",
      "..\\kkdata\\sample.csv\n",
      "..\\kkdata\\test_source_events.csv\n",
      "..\\kkdata\\train_source_events.csv\n",
      "..\\kkdata\\train_target_events.csv\n"
     ]
    }
   ],
   "source": [
    "from pathlib import Path\n",
    "for p in Path('../kkdata').glob('*'):\n",
    "    print(p)"
   ]
  },
  {
   "cell_type": "code",
   "execution_count": 4,
   "id": "bc3b5cc9-17b5-49b8-abc5-bda0ace804c2",
   "metadata": {
    "tags": []
   },
   "outputs": [],
   "source": [
    "df_source = pl.read_csv(\"../kkdata/train_source_events.csv\")\n",
    "df_target = pl.read_csv(\"../kkdata/train_target_events.csv\")"
   ]
  },
  {
   "cell_type": "code",
   "execution_count": 5,
   "id": "872c42ab-90ca-46d2-9815-0652a5c834fe",
   "metadata": {
    "tags": []
   },
   "outputs": [
    {
     "data": {
      "text/plain": [
       "(374170, 10)"
      ]
     },
     "execution_count": 5,
     "metadata": {},
     "output_type": "execute_result"
    }
   ],
   "source": [
    "df_target.shape"
   ]
  },
  {
   "cell_type": "code",
   "execution_count": 6,
   "id": "f7278801-c187-4b02-a92e-35fedeeb01c4",
   "metadata": {
    "tags": []
   },
   "outputs": [
    {
     "data": {
      "text/plain": [
       "(9714103, 10)"
      ]
     },
     "execution_count": 6,
     "metadata": {},
     "output_type": "execute_result"
    }
   ],
   "source": [
    "df_source.shape"
   ]
  },
  {
   "cell_type": "code",
   "execution_count": 7,
   "id": "a31b12ba-efba-4d1f-9bcf-879905a1b53f",
   "metadata": {},
   "outputs": [
    {
     "data": {
      "text/plain": [
       "['user_id',\n",
       " 'device_id',\n",
       " 'session_id',\n",
       " 'title_id',\n",
       " 'event_time',\n",
       " 'played_duration',\n",
       " 'action_trigger',\n",
       " 'platform',\n",
       " 'title_in_simulcast',\n",
       " 'internet_connection_type']"
      ]
     },
     "execution_count": 7,
     "metadata": {},
     "output_type": "execute_result"
    }
   ],
   "source": [
    "df_source.columns"
   ]
  },
  {
   "cell_type": "code",
   "execution_count": 8,
   "id": "000cf8ff-8ff9-458e-b079-1d3279f1719a",
   "metadata": {},
   "outputs": [
    {
     "data": {
      "text/plain": [
       "['user_id',\n",
       " 'device_id',\n",
       " 'session_id',\n",
       " 'title_id',\n",
       " 'event_time',\n",
       " 'played_duration',\n",
       " 'action_trigger',\n",
       " 'platform',\n",
       " 'title_in_simulcast',\n",
       " 'internet_connection_type']"
      ]
     },
     "execution_count": 8,
     "metadata": {},
     "output_type": "execute_result"
    }
   ],
   "source": [
    "df_target.columns"
   ]
  },
  {
   "cell_type": "code",
   "execution_count": 9,
   "id": "2c3c2e51-d6f7-4e79-aa7b-342ba635e97b",
   "metadata": {},
   "outputs": [
    {
     "data": {
      "text/plain": [
       "True"
      ]
     },
     "execution_count": 9,
     "metadata": {},
     "output_type": "execute_result"
    }
   ],
   "source": [
    "df_target.columns == df_source.columns"
   ]
  },
  {
   "cell_type": "markdown",
   "id": "a312b6a5-b73d-42e9-8f44-981bafdacc16",
   "metadata": {},
   "source": [
    "### How many unique user id?"
   ]
  },
  {
   "cell_type": "code",
   "execution_count": 10,
   "id": "fa1fa1e3-37b8-4ce5-a966-f73544f839f0",
   "metadata": {},
   "outputs": [
    {
     "data": {
      "text/plain": [
       "30460"
      ]
     },
     "execution_count": 10,
     "metadata": {},
     "output_type": "execute_result"
    }
   ],
   "source": [
    "len(set(df_source['user_id']))"
   ]
  },
  {
   "cell_type": "code",
   "execution_count": 11,
   "id": "90e81e61-7419-4f99-b74b-b4af18fb14db",
   "metadata": {
    "tags": []
   },
   "outputs": [
    {
     "data": {
      "text/plain": [
       "30460"
      ]
     },
     "execution_count": 11,
     "metadata": {},
     "output_type": "execute_result"
    }
   ],
   "source": [
    "len(set(df_source['user_id']))"
   ]
  },
  {
   "cell_type": "code",
   "execution_count": 12,
   "id": "0b9a33a5-f562-4e28-ae77-c8019d53da46",
   "metadata": {
    "tags": []
   },
   "outputs": [
    {
     "data": {
      "text/plain": [
       "30460"
      ]
     },
     "execution_count": 12,
     "metadata": {},
     "output_type": "execute_result"
    }
   ],
   "source": [
    "df_source['user_id'].unique().shape[0]"
   ]
  },
  {
   "cell_type": "code",
   "execution_count": 13,
   "id": "6849f616-9e3e-4327-911f-8cfc01788710",
   "metadata": {},
   "outputs": [
    {
     "data": {
      "text/plain": [
       "30460"
      ]
     },
     "execution_count": 13,
     "metadata": {},
     "output_type": "execute_result"
    }
   ],
   "source": [
    "df_target['user_id'].unique().shape[0]"
   ]
  },
  {
   "cell_type": "code",
   "execution_count": 14,
   "id": "c1ae7c25-b3eb-4a69-953a-88d49cdd2cc8",
   "metadata": {},
   "outputs": [
    {
     "name": "stdout",
     "output_type": "stream",
     "text": [
      "['user_id', 'device_id', 'session_id', 'title_id', 'event_time', 'played_duration', 'action_trigger', 'platform', 'title_in_simulcast', 'internet_connection_type']\n"
     ]
    }
   ],
   "source": [
    "print(df_source.columns)"
   ]
  },
  {
   "cell_type": "code",
   "execution_count": 15,
   "id": "c1e156ae-7e35-4fa1-a967-aa5890452927",
   "metadata": {},
   "outputs": [
    {
     "data": {
      "text/html": [
       "<div><style>\n",
       ".dataframe > thead > tr > th,\n",
       ".dataframe > tbody > tr > td {\n",
       "  text-align: right;\n",
       "  white-space: pre-wrap;\n",
       "}\n",
       "</style>\n",
       "<small>shape: (9, 11)</small><table border=\"1\" class=\"dataframe\"><thead><tr><th>describe</th><th>user_id</th><th>device_id</th><th>session_id</th><th>title_id</th><th>event_time</th><th>played_duration</th><th>action_trigger</th><th>platform</th><th>title_in_simulcast</th><th>internet_connection_type</th></tr><tr><td>str</td><td>f64</td><td>f64</td><td>f64</td><td>f64</td><td>f64</td><td>f64</td><td>f64</td><td>f64</td><td>f64</td><td>f64</td></tr></thead><tbody><tr><td>&quot;count&quot;</td><td>9.714103e6</td><td>9.714103e6</td><td>9.714103e6</td><td>9.714103e6</td><td>9.714103e6</td><td>9.714103e6</td><td>9.714103e6</td><td>9.714103e6</td><td>9.714103e6</td><td>9.714103e6</td></tr><tr><td>&quot;null_count&quot;</td><td>0.0</td><td>0.0</td><td>0.0</td><td>0.0</td><td>0.0</td><td>0.0</td><td>0.0</td><td>0.0</td><td>0.0</td><td>0.0</td></tr><tr><td>&quot;mean&quot;</td><td>15333.388016</td><td>70125.333662</td><td>2.1198e6</td><td>621.729785</td><td>1.6526e9</td><td>962.180728</td><td>1.318401</td><td>0.808483</td><td>0.40129</td><td>2.008922</td></tr><tr><td>&quot;std&quot;</td><td>8857.883822</td><td>40736.610848</td><td>1.2206e6</td><td>890.0741</td><td>6.7707e6</td><td>2592.890024</td><td>2.501955</td><td>0.900307</td><td>0.491486</td><td>1.588802</td></tr><tr><td>&quot;min&quot;</td><td>0.0</td><td>0.0</td><td>0.0</td><td>0.0</td><td>1.6410e9</td><td>1.0</td><td>0.0</td><td>0.0</td><td>0.0</td><td>0.0</td></tr><tr><td>&quot;25%&quot;</td><td>7654.0</td><td>35069.0</td><td>1.060623e6</td><td>74.0</td><td>1.6462e9</td><td>57.0</td><td>0.0</td><td>0.0</td><td>0.0</td><td>1.0</td></tr><tr><td>&quot;50%&quot;</td><td>15263.0</td><td>69639.0</td><td>2.120013e6</td><td>239.0</td><td>1.6535e9</td><td>603.0</td><td>1.0</td><td>1.0</td><td>0.0</td><td>1.0</td></tr><tr><td>&quot;75%&quot;</td><td>23018.0</td><td>105460.0</td><td>3.179921e6</td><td>758.0</td><td>1.6586e9</td><td>1424.0</td><td>1.0</td><td>1.0</td><td>1.0</td><td>3.0</td></tr><tr><td>&quot;max&quot;</td><td>30459.0</td><td>140513.0</td><td>4.226481e6</td><td>6101.0</td><td>1.6634e9</td><td>2.06549e6</td><td>13.0</td><td>3.0</td><td>2.0</td><td>11.0</td></tr></tbody></table></div>"
      ],
      "text/plain": [
       "shape: (9, 11)\n",
       "┌───────────┬───────────┬───────────┬───────────┬───┬───────────┬───────────┬───────────┬──────────┐\n",
       "│ describe  ┆ user_id   ┆ device_id ┆ session_i ┆ … ┆ action_tr ┆ platform  ┆ title_in_ ┆ internet │\n",
       "│ ---       ┆ ---       ┆ ---       ┆ d         ┆   ┆ igger     ┆ ---       ┆ simulcast ┆ _connect │\n",
       "│ str       ┆ f64       ┆ f64       ┆ ---       ┆   ┆ ---       ┆ f64       ┆ ---       ┆ ion_type │\n",
       "│           ┆           ┆           ┆ f64       ┆   ┆ f64       ┆           ┆ f64       ┆ ---      │\n",
       "│           ┆           ┆           ┆           ┆   ┆           ┆           ┆           ┆ f64      │\n",
       "╞═══════════╪═══════════╪═══════════╪═══════════╪═══╪═══════════╪═══════════╪═══════════╪══════════╡\n",
       "│ count     ┆ 9.714103e ┆ 9.714103e ┆ 9.714103e ┆ … ┆ 9.714103e ┆ 9.714103e ┆ 9.714103e ┆ 9.714103 │\n",
       "│           ┆ 6         ┆ 6         ┆ 6         ┆   ┆ 6         ┆ 6         ┆ 6         ┆ e6       │\n",
       "│ null_coun ┆ 0.0       ┆ 0.0       ┆ 0.0       ┆ … ┆ 0.0       ┆ 0.0       ┆ 0.0       ┆ 0.0      │\n",
       "│ t         ┆           ┆           ┆           ┆   ┆           ┆           ┆           ┆          │\n",
       "│ mean      ┆ 15333.388 ┆ 70125.333 ┆ 2.1198e6  ┆ … ┆ 1.318401  ┆ 0.808483  ┆ 0.40129   ┆ 2.008922 │\n",
       "│           ┆ 016       ┆ 662       ┆           ┆   ┆           ┆           ┆           ┆          │\n",
       "│ std       ┆ 8857.8838 ┆ 40736.610 ┆ 1.2206e6  ┆ … ┆ 2.501955  ┆ 0.900307  ┆ 0.491486  ┆ 1.588802 │\n",
       "│           ┆ 22        ┆ 848       ┆           ┆   ┆           ┆           ┆           ┆          │\n",
       "│ min       ┆ 0.0       ┆ 0.0       ┆ 0.0       ┆ … ┆ 0.0       ┆ 0.0       ┆ 0.0       ┆ 0.0      │\n",
       "│ 25%       ┆ 7654.0    ┆ 35069.0   ┆ 1.060623e ┆ … ┆ 0.0       ┆ 0.0       ┆ 0.0       ┆ 1.0      │\n",
       "│           ┆           ┆           ┆ 6         ┆   ┆           ┆           ┆           ┆          │\n",
       "│ 50%       ┆ 15263.0   ┆ 69639.0   ┆ 2.120013e ┆ … ┆ 1.0       ┆ 1.0       ┆ 0.0       ┆ 1.0      │\n",
       "│           ┆           ┆           ┆ 6         ┆   ┆           ┆           ┆           ┆          │\n",
       "│ 75%       ┆ 23018.0   ┆ 105460.0  ┆ 3.179921e ┆ … ┆ 1.0       ┆ 1.0       ┆ 1.0       ┆ 3.0      │\n",
       "│           ┆           ┆           ┆ 6         ┆   ┆           ┆           ┆           ┆          │\n",
       "│ max       ┆ 30459.0   ┆ 140513.0  ┆ 4.226481e ┆ … ┆ 13.0      ┆ 3.0       ┆ 2.0       ┆ 11.0     │\n",
       "│           ┆           ┆           ┆ 6         ┆   ┆           ┆           ┆           ┆          │\n",
       "└───────────┴───────────┴───────────┴───────────┴───┴───────────┴───────────┴───────────┴──────────┘"
      ]
     },
     "execution_count": 15,
     "metadata": {},
     "output_type": "execute_result"
    }
   ],
   "source": [
    "df_source.describe()"
   ]
  },
  {
   "cell_type": "code",
   "execution_count": 16,
   "id": "44ffef8a-603e-48bb-9eca-541b52a4402d",
   "metadata": {},
   "outputs": [
    {
     "data": {
      "text/plain": [
       "1663376400.336"
      ]
     },
     "execution_count": 16,
     "metadata": {},
     "output_type": "execute_result"
    }
   ],
   "source": [
    "df_target['event_time'].min()"
   ]
  },
  {
   "cell_type": "markdown",
   "id": "9e0d6974-3b6d-4c2a-a03f-f5981ca113a7",
   "metadata": {},
   "source": [
    "### How many total play time?"
   ]
  },
  {
   "cell_type": "code",
   "execution_count": 17,
   "id": "9e9b9c41-398e-4beb-89dc-b492a709d1d5",
   "metadata": {
    "tags": []
   },
   "outputs": [
    {
     "data": {
      "text/plain": [
       "9346722696"
      ]
     },
     "execution_count": 17,
     "metadata": {},
     "output_type": "execute_result"
    }
   ],
   "source": [
    "df_source['played_duration'].sum()"
   ]
  },
  {
   "cell_type": "markdown",
   "id": "c221bcd8-48f0-4c36-8b22-54b0035a6e2e",
   "metadata": {},
   "source": [
    "### Time interval?"
   ]
  },
  {
   "cell_type": "code",
   "execution_count": 18,
   "id": "b6832e95-3af5-4480-866c-d02b6be004fc",
   "metadata": {
    "tags": []
   },
   "outputs": [
    {
     "data": {
      "text/plain": [
       "1640998801.205"
      ]
     },
     "execution_count": 18,
     "metadata": {},
     "output_type": "execute_result"
    }
   ],
   "source": [
    "df_source['event_time'].min()"
   ]
  },
  {
   "cell_type": "code",
   "execution_count": 19,
   "id": "f82da103-1738-46e1-987a-20261c636eaf",
   "metadata": {
    "tags": []
   },
   "outputs": [
    {
     "data": {
      "text/plain": [
       "1663376398.588"
      ]
     },
     "execution_count": 19,
     "metadata": {},
     "output_type": "execute_result"
    }
   ],
   "source": [
    "df_source['event_time'].max()"
   ]
  },
  {
   "cell_type": "code",
   "execution_count": 20,
   "id": "95cd858a-0ead-42d3-b793-9a491607c701",
   "metadata": {
    "tags": []
   },
   "outputs": [
    {
     "data": {
      "text/html": [
       "<div><style>\n",
       ".dataframe > thead > tr > th,\n",
       ".dataframe > tbody > tr > td {\n",
       "  text-align: right;\n",
       "  white-space: pre-wrap;\n",
       "}\n",
       "</style>\n",
       "<small>shape: (9, 2)</small><table border=\"1\" class=\"dataframe\"><thead><tr><th>statistic</th><th>value</th></tr><tr><td>str</td><td>f64</td></tr></thead><tbody><tr><td>&quot;count&quot;</td><td>9.714103e6</td></tr><tr><td>&quot;null_count&quot;</td><td>0.0</td></tr><tr><td>&quot;mean&quot;</td><td>1.6526e9</td></tr><tr><td>&quot;std&quot;</td><td>6.7707e6</td></tr><tr><td>&quot;min&quot;</td><td>1.6410e9</td></tr><tr><td>&quot;25%&quot;</td><td>1.6462e9</td></tr><tr><td>&quot;50%&quot;</td><td>1.6535e9</td></tr><tr><td>&quot;75%&quot;</td><td>1.6586e9</td></tr><tr><td>&quot;max&quot;</td><td>1.6634e9</td></tr></tbody></table></div>"
      ],
      "text/plain": [
       "shape: (9, 2)\n",
       "┌────────────┬────────────┐\n",
       "│ statistic  ┆ value      │\n",
       "│ ---        ┆ ---        │\n",
       "│ str        ┆ f64        │\n",
       "╞════════════╪════════════╡\n",
       "│ count      ┆ 9.714103e6 │\n",
       "│ null_count ┆ 0.0        │\n",
       "│ mean       ┆ 1.6526e9   │\n",
       "│ std        ┆ 6.7707e6   │\n",
       "│ min        ┆ 1.6410e9   │\n",
       "│ 25%        ┆ 1.6462e9   │\n",
       "│ 50%        ┆ 1.6535e9   │\n",
       "│ 75%        ┆ 1.6586e9   │\n",
       "│ max        ┆ 1.6634e9   │\n",
       "└────────────┴────────────┘"
      ]
     },
     "execution_count": 20,
     "metadata": {},
     "output_type": "execute_result"
    }
   ],
   "source": [
    "df_source['event_time'].describe()"
   ]
  },
  {
   "cell_type": "code",
   "execution_count": 21,
   "id": "8adf5877-871c-45ed-8581-0b93cf736bfe",
   "metadata": {},
   "outputs": [
    {
     "data": {
      "text/plain": [
       "372959.9563833356"
      ]
     },
     "execution_count": 21,
     "metadata": {},
     "output_type": "execute_result"
    }
   ],
   "source": [
    "(df_source['event_time'].max()-df_source['event_time'].min())/60"
   ]
  },
  {
   "cell_type": "code",
   "execution_count": 22,
   "id": "969e97ce-a578-46a4-82ff-3658c0321554",
   "metadata": {},
   "outputs": [
    {
     "data": {
      "text/plain": [
       "36.999995672949964"
      ]
     },
     "execution_count": 22,
     "metadata": {},
     "output_type": "execute_result"
    }
   ],
   "source": [
    "et = df_source['event_time']\n",
    "(et.max()-et.min())/60/60/24/7"
   ]
  },
  {
   "cell_type": "code",
   "execution_count": 23,
   "id": "562ddb76-a422-4b3c-ae9f-c467177c42fb",
   "metadata": {},
   "outputs": [
    {
     "data": {
      "text/plain": [
       "0.9999933746693627"
      ]
     },
     "execution_count": 23,
     "metadata": {},
     "output_type": "execute_result"
    }
   ],
   "source": [
    "et = df_target['event_time']\n",
    "(et.max()-et.min())/60/60/24/7"
   ]
  },
  {
   "cell_type": "code",
   "execution_count": 24,
   "id": "30fd3655-6f3c-4ec2-89d5-c3f00b6c953b",
   "metadata": {},
   "outputs": [
    {
     "data": {
      "text/plain": [
       "1663981196.329"
      ]
     },
     "execution_count": 24,
     "metadata": {},
     "output_type": "execute_result"
    }
   ],
   "source": [
    "et.max()"
   ]
  },
  {
   "cell_type": "code",
   "execution_count": 25,
   "id": "78d7faf5-e1c3-4f65-a97d-727a96b2e6c0",
   "metadata": {},
   "outputs": [
    {
     "data": {
      "text/plain": [
       "datetime.datetime(2022, 9, 3, 8, 59, 56, 329000)"
      ]
     },
     "execution_count": 25,
     "metadata": {},
     "output_type": "execute_result"
    }
   ],
   "source": [
    "import datetime\n",
    "datetime.datetime.fromtimestamp(1662166796.329)"
   ]
  },
  {
   "cell_type": "code",
   "execution_count": 26,
   "id": "d52459ec-c030-48ef-834c-1d02d0de5695",
   "metadata": {},
   "outputs": [],
   "source": [
    "et = df_source['event_time']\n"
   ]
  },
  {
   "cell_type": "code",
   "execution_count": 27,
   "id": "7171d7ee-dba2-4f17-886a-b67715060a22",
   "metadata": {},
   "outputs": [
    {
     "data": {
      "text/html": [
       "[(col(\"event_time\").strict_cast(Int64)) * (1000000)].strict_cast(Datetime(Microseconds, None))"
      ],
      "text/plain": [
       "<polars.expr.expr.Expr at 0x1dade150990>"
      ]
     },
     "execution_count": 27,
     "metadata": {},
     "output_type": "execute_result"
    }
   ],
   "source": [
    "pl.from_epoch(\"event_time\", time_unit=\"s\")"
   ]
  },
  {
   "cell_type": "code",
   "execution_count": 28,
   "id": "435b9dbc-8fc0-4108-abcc-afff56ba45e9",
   "metadata": {},
   "outputs": [
    {
     "data": {
      "text/html": [
       "<div><style>\n",
       ".dataframe > thead > tr > th,\n",
       ".dataframe > tbody > tr > td {\n",
       "  text-align: right;\n",
       "  white-space: pre-wrap;\n",
       "}\n",
       "</style>\n",
       "<small>shape: (374_170, 1)</small><table border=\"1\" class=\"dataframe\"><thead><tr><th>event_time</th></tr><tr><td>datetime[μs]</td></tr></thead><tbody><tr><td>2022-09-17 11:29:17</td></tr><tr><td>2022-09-17 11:30:00</td></tr><tr><td>2022-09-17 11:33:57</td></tr><tr><td>2022-09-17 12:26:05</td></tr><tr><td>2022-09-17 12:46:43</td></tr><tr><td>2022-09-17 13:04:27</td></tr><tr><td>2022-09-17 13:06:21</td></tr><tr><td>2022-09-18 13:44:53</td></tr><tr><td>2022-09-19 13:00:55</td></tr><tr><td>2022-09-19 13:24:59</td></tr><tr><td>2022-09-19 23:52:35</td></tr><tr><td>2022-09-19 23:53:14</td></tr><tr><td>&hellip;</td></tr><tr><td>2022-09-23 23:09:39</td></tr><tr><td>2022-09-21 12:28:59</td></tr><tr><td>2022-09-21 12:41:40</td></tr><tr><td>2022-09-21 12:41:49</td></tr><tr><td>2022-09-21 12:46:01</td></tr><tr><td>2022-09-21 12:49:34</td></tr><tr><td>2022-09-21 12:53:09</td></tr><tr><td>2022-09-21 12:56:41</td></tr><tr><td>2022-09-21 13:00:15</td></tr><tr><td>2022-09-21 13:03:49</td></tr><tr><td>2022-09-21 13:07:22</td></tr><tr><td>2022-09-22 14:03:28</td></tr></tbody></table></div>"
      ],
      "text/plain": [
       "shape: (374_170, 1)\n",
       "┌─────────────────────┐\n",
       "│ event_time          │\n",
       "│ ---                 │\n",
       "│ datetime[μs]        │\n",
       "╞═════════════════════╡\n",
       "│ 2022-09-17 11:29:17 │\n",
       "│ 2022-09-17 11:30:00 │\n",
       "│ 2022-09-17 11:33:57 │\n",
       "│ 2022-09-17 12:26:05 │\n",
       "│ …                   │\n",
       "│ 2022-09-21 13:00:15 │\n",
       "│ 2022-09-21 13:03:49 │\n",
       "│ 2022-09-21 13:07:22 │\n",
       "│ 2022-09-22 14:03:28 │\n",
       "└─────────────────────┘"
      ]
     },
     "execution_count": 28,
     "metadata": {},
     "output_type": "execute_result"
    }
   ],
   "source": [
    "df_target[['event_time']].with_columns(\n",
    "       pl.from_epoch(\"event_time\", time_unit=\"s\")\n",
    ")"
   ]
  },
  {
   "cell_type": "markdown",
   "id": "7b87e7c2-cd88-4efa-9ebf-9332db95e9c3",
   "metadata": {},
   "source": [
    "### How many event per user?"
   ]
  },
  {
   "cell_type": "code",
   "execution_count": 29,
   "id": "b715c465-d737-4769-aa96-7205f741ec52",
   "metadata": {
    "tags": []
   },
   "outputs": [
    {
     "data": {
      "text/html": [
       "<div><style>\n",
       ".dataframe > thead > tr > th,\n",
       ".dataframe > tbody > tr > td {\n",
       "  text-align: right;\n",
       "  white-space: pre-wrap;\n",
       "}\n",
       "</style>\n",
       "<small>shape: (30_460, 2)</small><table border=\"1\" class=\"dataframe\"><thead><tr><th>user_id</th><th>count</th></tr><tr><td>i64</td><td>u32</td></tr></thead><tbody><tr><td>16304</td><td>1</td></tr><tr><td>20800</td><td>1</td></tr><tr><td>12144</td><td>1</td></tr><tr><td>19617</td><td>1</td></tr><tr><td>13361</td><td>1</td></tr><tr><td>6737</td><td>1</td></tr><tr><td>22545</td><td>1</td></tr><tr><td>26769</td><td>1</td></tr><tr><td>28210</td><td>1</td></tr><tr><td>27634</td><td>1</td></tr><tr><td>22866</td><td>1</td></tr><tr><td>5906</td><td>1</td></tr><tr><td>&hellip;</td><td>&hellip;</td></tr><tr><td>296</td><td>5899</td></tr><tr><td>3935</td><td>6299</td></tr><tr><td>4380</td><td>6671</td></tr><tr><td>28772</td><td>6683</td></tr><tr><td>18105</td><td>6789</td></tr><tr><td>20298</td><td>6808</td></tr><tr><td>29679</td><td>6944</td></tr><tr><td>23805</td><td>7560</td></tr><tr><td>13043</td><td>8662</td></tr><tr><td>27195</td><td>9282</td></tr><tr><td>8848</td><td>9323</td></tr><tr><td>28251</td><td>9941</td></tr></tbody></table></div>"
      ],
      "text/plain": [
       "shape: (30_460, 2)\n",
       "┌─────────┬───────┐\n",
       "│ user_id ┆ count │\n",
       "│ ---     ┆ ---   │\n",
       "│ i64     ┆ u32   │\n",
       "╞═════════╪═══════╡\n",
       "│ 16304   ┆ 1     │\n",
       "│ 20800   ┆ 1     │\n",
       "│ 12144   ┆ 1     │\n",
       "│ 19617   ┆ 1     │\n",
       "│ …       ┆ …     │\n",
       "│ 13043   ┆ 8662  │\n",
       "│ 27195   ┆ 9282  │\n",
       "│ 8848    ┆ 9323  │\n",
       "│ 28251   ┆ 9941  │\n",
       "└─────────┴───────┘"
      ]
     },
     "execution_count": 29,
     "metadata": {},
     "output_type": "execute_result"
    }
   ],
   "source": [
    "df_source.group_by('user_id').count().sort(by='count')"
   ]
  },
  {
   "cell_type": "code",
   "execution_count": 30,
   "id": "64f75baf-7b1a-49d0-87cf-6d908d6ab72e",
   "metadata": {
    "tags": []
   },
   "outputs": [
    {
     "data": {
      "text/html": [
       "<div><style>\n",
       ".dataframe > thead > tr > th,\n",
       ".dataframe > tbody > tr > td {\n",
       "  text-align: right;\n",
       "  white-space: pre-wrap;\n",
       "}\n",
       "</style>\n",
       "<small>shape: (30_460, 2)</small><table border=\"1\" class=\"dataframe\"><thead><tr><th>user_id</th><th>played_duration</th></tr><tr><td>i64</td><td>i64</td></tr></thead><tbody><tr><td>27872</td><td>1</td></tr><tr><td>7712</td><td>1</td></tr><tr><td>1536</td><td>1</td></tr><tr><td>4304</td><td>1</td></tr><tr><td>15056</td><td>1</td></tr><tr><td>3170</td><td>1</td></tr><tr><td>21170</td><td>1</td></tr><tr><td>6098</td><td>1</td></tr><tr><td>2307</td><td>1</td></tr><tr><td>15347</td><td>1</td></tr><tr><td>18852</td><td>1</td></tr><tr><td>29316</td><td>1</td></tr><tr><td>&hellip;</td><td>&hellip;</td></tr><tr><td>10386</td><td>243558</td></tr><tr><td>26928</td><td>248761</td></tr><tr><td>29269</td><td>249277</td></tr><tr><td>29356</td><td>263233</td></tr><tr><td>27559</td><td>267790</td></tr><tr><td>25554</td><td>279194</td></tr><tr><td>6726</td><td>282551</td></tr><tr><td>21535</td><td>284851</td></tr><tr><td>19794</td><td>370232</td></tr><tr><td>19637</td><td>372322</td></tr><tr><td>20826</td><td>392001</td></tr><tr><td>20155</td><td>486812</td></tr></tbody></table></div>"
      ],
      "text/plain": [
       "shape: (30_460, 2)\n",
       "┌─────────┬─────────────────┐\n",
       "│ user_id ┆ played_duration │\n",
       "│ ---     ┆ ---             │\n",
       "│ i64     ┆ i64             │\n",
       "╞═════════╪═════════════════╡\n",
       "│ 27872   ┆ 1               │\n",
       "│ 7712    ┆ 1               │\n",
       "│ 1536    ┆ 1               │\n",
       "│ 4304    ┆ 1               │\n",
       "│ …       ┆ …               │\n",
       "│ 19794   ┆ 370232          │\n",
       "│ 19637   ┆ 372322          │\n",
       "│ 20826   ┆ 392001          │\n",
       "│ 20155   ┆ 486812          │\n",
       "└─────────┴─────────────────┘"
      ]
     },
     "execution_count": 30,
     "metadata": {},
     "output_type": "execute_result"
    }
   ],
   "source": [
    "# total time by user\n",
    "df_target[['user_id', 'played_duration']].group_by('user_id').sum().sort('played_duration')"
   ]
  },
  {
   "cell_type": "code",
   "execution_count": 31,
   "id": "4a1f5c48-ed01-48ed-8bb7-f9c90044e227",
   "metadata": {},
   "outputs": [
    {
     "data": {
      "text/plain": [
       "5.634398148148148"
      ]
     },
     "execution_count": 31,
     "metadata": {},
     "output_type": "execute_result"
    }
   ],
   "source": [
    "486812/60/60/24"
   ]
  },
  {
   "cell_type": "code",
   "execution_count": 32,
   "id": "42dc724b-dd8b-43af-97d1-5cbfa23f4259",
   "metadata": {
    "tags": []
   },
   "outputs": [],
   "source": [
    "source_total = df_source[['user_id', 'played_duration']].group_by('user_id').sum()\n",
    "target_total = df_target[['user_id', 'played_duration']].group_by('user_id').sum()"
   ]
  },
  {
   "cell_type": "code",
   "execution_count": 33,
   "id": "405b4393-1894-461b-9721-df691fb9b92a",
   "metadata": {
    "tags": []
   },
   "outputs": [
    {
     "data": {
      "text/html": [
       "<div><style>\n",
       ".dataframe > thead > tr > th,\n",
       ".dataframe > tbody > tr > td {\n",
       "  text-align: right;\n",
       "  white-space: pre-wrap;\n",
       "}\n",
       "</style>\n",
       "<small>shape: (30_460, 3)</small><table border=\"1\" class=\"dataframe\"><thead><tr><th>user_id</th><th>played_duration</th><th>played_duration_right</th></tr><tr><td>i64</td><td>i64</td><td>i64</td></tr></thead><tbody><tr><td>11360</td><td>534198</td><td>54308</td></tr><tr><td>14400</td><td>59376</td><td>28885</td></tr><tr><td>18624</td><td>48863</td><td>2749</td></tr><tr><td>23104</td><td>3783</td><td>66</td></tr><tr><td>25008</td><td>589859</td><td>5949</td></tr><tr><td>21664</td><td>2090526</td><td>63215</td></tr><tr><td>23408</td><td>94480</td><td>1563</td></tr><tr><td>27648</td><td>724453</td><td>57035</td></tr><tr><td>22128</td><td>162605</td><td>1498</td></tr><tr><td>26608</td><td>826873</td><td>1107</td></tr><tr><td>23664</td><td>149943</td><td>11058</td></tr><tr><td>26656</td><td>96671</td><td>2624</td></tr><tr><td>&hellip;</td><td>&hellip;</td><td>&hellip;</td></tr><tr><td>8431</td><td>158843</td><td>1340</td></tr><tr><td>25119</td><td>299367</td><td>9624</td></tr><tr><td>2607</td><td>21257</td><td>541</td></tr><tr><td>11343</td><td>134994</td><td>16070</td></tr><tr><td>16751</td><td>629828</td><td>10866</td></tr><tr><td>6623</td><td>230782</td><td>5442</td></tr><tr><td>13807</td><td>146710</td><td>9833</td></tr><tr><td>495</td><td>68249</td><td>36128</td></tr><tr><td>9039</td><td>276470</td><td>13360</td></tr><tr><td>22031</td><td>157975</td><td>9586</td></tr><tr><td>27951</td><td>1822095</td><td>65762</td></tr><tr><td>6255</td><td>559093</td><td>26981</td></tr></tbody></table></div>"
      ],
      "text/plain": [
       "shape: (30_460, 3)\n",
       "┌─────────┬─────────────────┬───────────────────────┐\n",
       "│ user_id ┆ played_duration ┆ played_duration_right │\n",
       "│ ---     ┆ ---             ┆ ---                   │\n",
       "│ i64     ┆ i64             ┆ i64                   │\n",
       "╞═════════╪═════════════════╪═══════════════════════╡\n",
       "│ 11360   ┆ 534198          ┆ 54308                 │\n",
       "│ 14400   ┆ 59376           ┆ 28885                 │\n",
       "│ 18624   ┆ 48863           ┆ 2749                  │\n",
       "│ 23104   ┆ 3783            ┆ 66                    │\n",
       "│ …       ┆ …               ┆ …                     │\n",
       "│ 9039    ┆ 276470          ┆ 13360                 │\n",
       "│ 22031   ┆ 157975          ┆ 9586                  │\n",
       "│ 27951   ┆ 1822095         ┆ 65762                 │\n",
       "│ 6255    ┆ 559093          ┆ 26981                 │\n",
       "└─────────┴─────────────────┴───────────────────────┘"
      ]
     },
     "execution_count": 33,
     "metadata": {},
     "output_type": "execute_result"
    }
   ],
   "source": [
    "df_total = source_total.join(target_total, on='user_id')\n",
    "df_total"
   ]
  },
  {
   "cell_type": "code",
   "execution_count": 34,
   "id": "8c352fa3-15ee-421d-b8c0-f2c076993276",
   "metadata": {
    "tags": []
   },
   "outputs": [],
   "source": [
    "%matplotlib inline"
   ]
  },
  {
   "cell_type": "code",
   "execution_count": 35,
   "id": "a7179be8-1e79-4448-9b5b-29e6e1b011c4",
   "metadata": {
    "tags": []
   },
   "outputs": [],
   "source": [
    "import matplotlib.pyplot as plt"
   ]
  },
  {
   "cell_type": "code",
   "execution_count": 36,
   "id": "9e6890e0-5704-482e-a310-c11686f0d2bb",
   "metadata": {
    "tags": []
   },
   "outputs": [
    {
     "data": {
      "text/plain": [
       "<matplotlib.collections.PathCollection at 0x1dae00260d0>"
      ]
     },
     "execution_count": 36,
     "metadata": {},
     "output_type": "execute_result"
    },
    {
     "data": {
      "image/png": "[encoded data removed]",
      "text/plain": [
       "<Figure size 640x480 with 1 Axes>"
      ]
     },
     "metadata": {},
     "output_type": "display_data"
    }
   ],
   "source": [
    "plt.xlim(0, 500000)\n",
    "plt.ylim(0, 10000)\n",
    "plt.scatter(df_total['played_duration'], df_total['played_duration_right'], s=1)"
   ]
  },
  {
   "cell_type": "code",
   "execution_count": 37,
   "id": "0a30cd8a-09b1-4903-ae2d-3903de72b600",
   "metadata": {
    "tags": []
   },
   "outputs": [
    {
     "data": {
      "image/png": "[encoded data removed]",
      "text/plain": [
       "<Figure size 640x480 with 1 Axes>"
      ]
     },
     "metadata": {},
     "output_type": "display_data"
    }
   ],
   "source": [
    "plt.hist(df_total['played_duration'].clip(0, 1000000), bins=100);"
   ]
  },
  {
   "cell_type": "code",
   "execution_count": 38,
   "id": "12f15b7d-dbf8-41f9-b2e1-a468ccb2a64a",
   "metadata": {
    "tags": []
   },
   "outputs": [
    {
     "data": {
      "text/html": [
       "<div><style>\n",
       ".dataframe > thead > tr > th,\n",
       ".dataframe > tbody > tr > td {\n",
       "  text-align: right;\n",
       "  white-space: pre-wrap;\n",
       "}\n",
       "</style>\n",
       "<small>shape: (9, 4)</small><table border=\"1\" class=\"dataframe\"><thead><tr><th>describe</th><th>user_id</th><th>played_duration</th><th>played_duration_right</th></tr><tr><td>str</td><td>f64</td><td>f64</td><td>f64</td></tr></thead><tbody><tr><td>&quot;count&quot;</td><td>30460.0</td><td>30460.0</td><td>30460.0</td></tr><tr><td>&quot;null_count&quot;</td><td>0.0</td><td>0.0</td><td>0.0</td></tr><tr><td>&quot;mean&quot;</td><td>15229.5</td><td>306852.353775</td><td>12065.788247</td></tr><tr><td>&quot;std&quot;</td><td>8793.188936</td><td>379116.98106</td><td>18612.75255</td></tr><tr><td>&quot;min&quot;</td><td>0.0</td><td>1.0</td><td>1.0</td></tr><tr><td>&quot;5%&quot;</td><td>1523.0</td><td>12544.0</td><td>85.0</td></tr><tr><td>&quot;50%&quot;</td><td>15230.0</td><td>204118.0</td><td>6148.0</td></tr><tr><td>&quot;95%&quot;</td><td>28937.0</td><td>921558.0</td><td>43682.0</td></tr><tr><td>&quot;max&quot;</td><td>30459.0</td><td>1.1995926e7</td><td>486812.0</td></tr></tbody></table></div>"
      ],
      "text/plain": [
       "shape: (9, 4)\n",
       "┌────────────┬─────────────┬─────────────────┬───────────────────────┐\n",
       "│ describe   ┆ user_id     ┆ played_duration ┆ played_duration_right │\n",
       "│ ---        ┆ ---         ┆ ---             ┆ ---                   │\n",
       "│ str        ┆ f64         ┆ f64             ┆ f64                   │\n",
       "╞════════════╪═════════════╪═════════════════╪═══════════════════════╡\n",
       "│ count      ┆ 30460.0     ┆ 30460.0         ┆ 30460.0               │\n",
       "│ null_count ┆ 0.0         ┆ 0.0             ┆ 0.0                   │\n",
       "│ mean       ┆ 15229.5     ┆ 306852.353775   ┆ 12065.788247          │\n",
       "│ std        ┆ 8793.188936 ┆ 379116.98106    ┆ 18612.75255           │\n",
       "│ min        ┆ 0.0         ┆ 1.0             ┆ 1.0                   │\n",
       "│ 5%         ┆ 1523.0      ┆ 12544.0         ┆ 85.0                  │\n",
       "│ 50%        ┆ 15230.0     ┆ 204118.0        ┆ 6148.0                │\n",
       "│ 95%        ┆ 28937.0     ┆ 921558.0        ┆ 43682.0               │\n",
       "│ max        ┆ 30459.0     ┆ 1.1995926e7     ┆ 486812.0              │\n",
       "└────────────┴─────────────┴─────────────────┴───────────────────────┘"
      ]
     },
     "execution_count": 38,
     "metadata": {},
     "output_type": "execute_result"
    }
   ],
   "source": [
    "df_total.describe([0.05, 0.5, 0.95])"
   ]
  },
  {
   "cell_type": "code",
   "execution_count": 39,
   "id": "a510dc1d-1cbb-45ed-862c-dad53558167b",
   "metadata": {
    "tags": []
   },
   "outputs": [
    {
     "data": {
      "image/png": "[encoded data removed]",
      "text/plain": [
       "<Figure size 640x480 with 1 Axes>"
      ]
     },
     "metadata": {},
     "output_type": "display_data"
    }
   ],
   "source": [
    "plt.hist(df_total['played_duration'].clip(12544,921558), bins=100);"
   ]
  },
  {
   "cell_type": "code",
   "execution_count": 40,
   "id": "a3ddee8d-8bac-4e92-a899-ce254fc25d95",
   "metadata": {
    "tags": []
   },
   "outputs": [
    {
     "data": {
      "text/html": [
       "<div><style>\n",
       ".dataframe > thead > tr > th,\n",
       ".dataframe > tbody > tr > td {\n",
       "  text-align: right;\n",
       "  white-space: pre-wrap;\n",
       "}\n",
       "</style>\n",
       "<small>shape: (30_460,)</small><table border=\"1\" class=\"dataframe\"><thead><tr><th>played_duration</th></tr><tr><td>f64</td></tr></thead><tbody><tr><td>148.0</td></tr><tr><td>16.0</td></tr><tr><td>14.0</td></tr><tr><td>1.0</td></tr><tr><td>164.0</td></tr><tr><td>581.0</td></tr><tr><td>26.0</td></tr><tr><td>201.0</td></tr><tr><td>45.0</td></tr><tr><td>230.0</td></tr><tr><td>42.0</td></tr><tr><td>27.0</td></tr><tr><td>&hellip;</td></tr><tr><td>44.0</td></tr><tr><td>83.0</td></tr><tr><td>6.0</td></tr><tr><td>37.0</td></tr><tr><td>175.0</td></tr><tr><td>64.0</td></tr><tr><td>41.0</td></tr><tr><td>19.0</td></tr><tr><td>77.0</td></tr><tr><td>44.0</td></tr><tr><td>506.0</td></tr><tr><td>155.0</td></tr></tbody></table></div>"
      ],
      "text/plain": [
       "shape: (30_460,)\n",
       "Series: 'played_duration' [f64]\n",
       "[\n",
       "\t148.0\n",
       "\t16.0\n",
       "\t14.0\n",
       "\t1.0\n",
       "\t164.0\n",
       "\t581.0\n",
       "\t26.0\n",
       "\t201.0\n",
       "\t45.0\n",
       "\t230.0\n",
       "\t42.0\n",
       "\t27.0\n",
       "\t…\n",
       "\t37.0\n",
       "\t44.0\n",
       "\t83.0\n",
       "\t6.0\n",
       "\t37.0\n",
       "\t175.0\n",
       "\t64.0\n",
       "\t41.0\n",
       "\t19.0\n",
       "\t77.0\n",
       "\t44.0\n",
       "\t506.0\n",
       "\t155.0\n",
       "]"
      ]
     },
     "execution_count": 40,
     "metadata": {},
     "output_type": "execute_result"
    }
   ],
   "source": [
    "(df_total['played_duration']/3600).round()"
   ]
  },
  {
   "cell_type": "code",
   "execution_count": 41,
   "id": "5bfc3aa2-3e36-4533-89e1-d7d3e35a19cd",
   "metadata": {
    "tags": []
   },
   "outputs": [
    {
     "data": {
      "text/html": [
       "<div><style>\n",
       ".dataframe > thead > tr > th,\n",
       ".dataframe > tbody > tr > td {\n",
       "  text-align: right;\n",
       "  white-space: pre-wrap;\n",
       "}\n",
       "</style>\n",
       "<small>shape: (30_460, 4)</small><table border=\"1\" class=\"dataframe\"><thead><tr><th>user_id</th><th>played_duration</th><th>played_duration_right</th><th>played_hour</th></tr><tr><td>i64</td><td>i64</td><td>i64</td><td>f64</td></tr></thead><tbody><tr><td>11360</td><td>534198</td><td>54308</td><td>148.0</td></tr><tr><td>14400</td><td>59376</td><td>28885</td><td>16.0</td></tr><tr><td>18624</td><td>48863</td><td>2749</td><td>14.0</td></tr><tr><td>23104</td><td>3783</td><td>66</td><td>1.0</td></tr><tr><td>25008</td><td>589859</td><td>5949</td><td>164.0</td></tr><tr><td>21664</td><td>2090526</td><td>63215</td><td>581.0</td></tr><tr><td>23408</td><td>94480</td><td>1563</td><td>26.0</td></tr><tr><td>27648</td><td>724453</td><td>57035</td><td>201.0</td></tr><tr><td>22128</td><td>162605</td><td>1498</td><td>45.0</td></tr><tr><td>26608</td><td>826873</td><td>1107</td><td>230.0</td></tr><tr><td>23664</td><td>149943</td><td>11058</td><td>42.0</td></tr><tr><td>26656</td><td>96671</td><td>2624</td><td>27.0</td></tr><tr><td>&hellip;</td><td>&hellip;</td><td>&hellip;</td><td>&hellip;</td></tr><tr><td>8431</td><td>158843</td><td>1340</td><td>44.0</td></tr><tr><td>25119</td><td>299367</td><td>9624</td><td>83.0</td></tr><tr><td>2607</td><td>21257</td><td>541</td><td>6.0</td></tr><tr><td>11343</td><td>134994</td><td>16070</td><td>37.0</td></tr><tr><td>16751</td><td>629828</td><td>10866</td><td>175.0</td></tr><tr><td>6623</td><td>230782</td><td>5442</td><td>64.0</td></tr><tr><td>13807</td><td>146710</td><td>9833</td><td>41.0</td></tr><tr><td>495</td><td>68249</td><td>36128</td><td>19.0</td></tr><tr><td>9039</td><td>276470</td><td>13360</td><td>77.0</td></tr><tr><td>22031</td><td>157975</td><td>9586</td><td>44.0</td></tr><tr><td>27951</td><td>1822095</td><td>65762</td><td>506.0</td></tr><tr><td>6255</td><td>559093</td><td>26981</td><td>155.0</td></tr></tbody></table></div>"
      ],
      "text/plain": [
       "shape: (30_460, 4)\n",
       "┌─────────┬─────────────────┬───────────────────────┬─────────────┐\n",
       "│ user_id ┆ played_duration ┆ played_duration_right ┆ played_hour │\n",
       "│ ---     ┆ ---             ┆ ---                   ┆ ---         │\n",
       "│ i64     ┆ i64             ┆ i64                   ┆ f64         │\n",
       "╞═════════╪═════════════════╪═══════════════════════╪═════════════╡\n",
       "│ 11360   ┆ 534198          ┆ 54308                 ┆ 148.0       │\n",
       "│ 14400   ┆ 59376           ┆ 28885                 ┆ 16.0        │\n",
       "│ 18624   ┆ 48863           ┆ 2749                  ┆ 14.0        │\n",
       "│ 23104   ┆ 3783            ┆ 66                    ┆ 1.0         │\n",
       "│ …       ┆ …               ┆ …                     ┆ …           │\n",
       "│ 9039    ┆ 276470          ┆ 13360                 ┆ 77.0        │\n",
       "│ 22031   ┆ 157975          ┆ 9586                  ┆ 44.0        │\n",
       "│ 27951   ┆ 1822095         ┆ 65762                 ┆ 506.0       │\n",
       "│ 6255    ┆ 559093          ┆ 26981                 ┆ 155.0       │\n",
       "└─────────┴─────────────────┴───────────────────────┴─────────────┘"
      ]
     },
     "execution_count": 41,
     "metadata": {},
     "output_type": "execute_result"
    }
   ],
   "source": [
    "#df_total['played_duration_hour'] = (df_total['played_duration']/3600).round()\n",
    "df_total = df_total.with_columns( played_hour = (df_total['played_duration']/3600).round())\n",
    "df_total"
   ]
  },
  {
   "cell_type": "code",
   "execution_count": 42,
   "id": "16122977-de5e-481e-9924-9d764c0bd435",
   "metadata": {
    "tags": []
   },
   "outputs": [
    {
     "data": {
      "text/html": [
       "<div><style>\n",
       ".dataframe > thead > tr > th,\n",
       ".dataframe > tbody > tr > td {\n",
       "  text-align: right;\n",
       "  white-space: pre-wrap;\n",
       "}\n",
       "</style>\n",
       "<small>shape: (694, 2)</small><table border=\"1\" class=\"dataframe\"><thead><tr><th>played_hour</th><th>played_duration_right</th></tr><tr><td>f64</td><td>f64</td></tr></thead><tbody><tr><td>0.0</td><td>7124.806667</td></tr><tr><td>1.0</td><td>5906.935065</td></tr><tr><td>2.0</td><td>7063.103535</td></tr><tr><td>3.0</td><td>6752.316216</td></tr><tr><td>4.0</td><td>6043.69086</td></tr><tr><td>5.0</td><td>6334.935754</td></tr><tr><td>6.0</td><td>6131.73817</td></tr><tr><td>7.0</td><td>5983.666667</td></tr><tr><td>8.0</td><td>6722.218354</td></tr><tr><td>9.0</td><td>6252.250755</td></tr><tr><td>10.0</td><td>5945.825342</td></tr><tr><td>11.0</td><td>8187.087786</td></tr><tr><td>&hellip;</td><td>&hellip;</td></tr><tr><td>1484.0</td><td>178042.0</td></tr><tr><td>1535.0</td><td>185631.0</td></tr><tr><td>1597.0</td><td>169952.0</td></tr><tr><td>1634.0</td><td>150953.0</td></tr><tr><td>1676.0</td><td>201294.0</td></tr><tr><td>1688.0</td><td>166498.0</td></tr><tr><td>1713.0</td><td>96740.0</td></tr><tr><td>1784.0</td><td>175538.0</td></tr><tr><td>1812.0</td><td>243558.0</td></tr><tr><td>2276.0</td><td>263233.0</td></tr><tr><td>2551.0</td><td>65766.0</td></tr><tr><td>3332.0</td><td>117720.0</td></tr></tbody></table></div>"
      ],
      "text/plain": [
       "shape: (694, 2)\n",
       "┌─────────────┬───────────────────────┐\n",
       "│ played_hour ┆ played_duration_right │\n",
       "│ ---         ┆ ---                   │\n",
       "│ f64         ┆ f64                   │\n",
       "╞═════════════╪═══════════════════════╡\n",
       "│ 0.0         ┆ 7124.806667           │\n",
       "│ 1.0         ┆ 5906.935065           │\n",
       "│ 2.0         ┆ 7063.103535           │\n",
       "│ 3.0         ┆ 6752.316216           │\n",
       "│ …           ┆ …                     │\n",
       "│ 1812.0      ┆ 243558.0              │\n",
       "│ 2276.0      ┆ 263233.0              │\n",
       "│ 2551.0      ┆ 65766.0               │\n",
       "│ 3332.0      ┆ 117720.0              │\n",
       "└─────────────┴───────────────────────┘"
      ]
     },
     "execution_count": 42,
     "metadata": {},
     "output_type": "execute_result"
    }
   ],
   "source": [
    "df_total_gb = df_total[['played_duration_right', 'played_hour']].group_by('played_hour').mean().sort('played_hour')\n",
    "df_total_gb"
   ]
  },
  {
   "cell_type": "code",
   "execution_count": 43,
   "id": "6c88c0fd-7a16-46d5-9a34-1ded7a43333c",
   "metadata": {
    "tags": []
   },
   "outputs": [
    {
     "data": {
      "text/plain": [
       "[<matplotlib.lines.Line2D at 0x1dae0973590>]"
      ]
     },
     "execution_count": 43,
     "metadata": {},
     "output_type": "execute_result"
    },
    {
     "data": {
      "image/png": "[encoded data removed]",
      "text/plain": [
       "<Figure size 640x480 with 1 Axes>"
      ]
     },
     "metadata": {},
     "output_type": "display_data"
    }
   ],
   "source": [
    "plt.plot(df_total_gb['played_hour'], df_total_gb['played_duration_right'])"
   ]
  },
  {
   "cell_type": "code",
   "execution_count": 44,
   "id": "432f0642-7b17-4af6-9679-2312fc1b4cc6",
   "metadata": {
    "tags": []
   },
   "outputs": [
    {
     "data": {
      "text/plain": [
       "[<matplotlib.lines.Line2D at 0x1dae0a97d90>]"
      ]
     },
     "execution_count": 44,
     "metadata": {},
     "output_type": "execute_result"
    },
    {
     "data": {
      "image/png": "[encoded data removed]",
      "text/plain": [
       "<Figure size 640x480 with 1 Axes>"
      ]
     },
     "metadata": {},
     "output_type": "display_data"
    }
   ],
   "source": [
    "df_total_gb = df_total[['played_duration_right', 'played_hour']].group_by('played_hour').quantile(0.5).sort('played_hour')\n",
    "plt.plot(df_total_gb['played_hour'], df_total_gb['played_duration_right'])"
   ]
  },
  {
   "cell_type": "code",
   "execution_count": 45,
   "id": "8f41c144-ca6c-4807-9378-139617bcc0cf",
   "metadata": {
    "tags": []
   },
   "outputs": [
    {
     "data": {
      "text/html": [
       "<div><style>\n",
       ".dataframe > thead > tr > th,\n",
       ".dataframe > tbody > tr > td {\n",
       "  text-align: right;\n",
       "  white-space: pre-wrap;\n",
       "}\n",
       "</style>\n",
       "<small>shape: (30_460, 3)</small><table border=\"1\" class=\"dataframe\"><thead><tr><th>user_id</th><th>count</th><th>count_right</th></tr><tr><td>i64</td><td>u32</td><td>u32</td></tr></thead><tbody><tr><td>27248</td><td>368</td><td>16</td></tr><tr><td>20576</td><td>91</td><td>10</td></tr><tr><td>19808</td><td>139</td><td>16</td></tr><tr><td>4048</td><td>48</td><td>2</td></tr><tr><td>17088</td><td>82</td><td>9</td></tr><tr><td>6944</td><td>177</td><td>1</td></tr><tr><td>10480</td><td>352</td><td>7</td></tr><tr><td>13104</td><td>790</td><td>48</td></tr><tr><td>19616</td><td>2</td><td>3</td></tr><tr><td>28528</td><td>2578</td><td>91</td></tr><tr><td>29488</td><td>66</td><td>6</td></tr><tr><td>10784</td><td>366</td><td>8</td></tr><tr><td>&hellip;</td><td>&hellip;</td><td>&hellip;</td></tr><tr><td>22815</td><td>90</td><td>4</td></tr><tr><td>12815</td><td>201</td><td>5</td></tr><tr><td>13263</td><td>108</td><td>2</td></tr><tr><td>13295</td><td>140</td><td>5</td></tr><tr><td>7327</td><td>233</td><td>9</td></tr><tr><td>14831</td><td>151</td><td>1</td></tr><tr><td>16831</td><td>66</td><td>19</td></tr><tr><td>19087</td><td>583</td><td>51</td></tr><tr><td>18559</td><td>261</td><td>10</td></tr><tr><td>8623</td><td>51</td><td>1</td></tr><tr><td>975</td><td>496</td><td>46</td></tr><tr><td>24351</td><td>8</td><td>65</td></tr></tbody></table></div>"
      ],
      "text/plain": [
       "shape: (30_460, 3)\n",
       "┌─────────┬───────┬─────────────┐\n",
       "│ user_id ┆ count ┆ count_right │\n",
       "│ ---     ┆ ---   ┆ ---         │\n",
       "│ i64     ┆ u32   ┆ u32         │\n",
       "╞═════════╪═══════╪═════════════╡\n",
       "│ 27248   ┆ 368   ┆ 16          │\n",
       "│ 20576   ┆ 91    ┆ 10          │\n",
       "│ 19808   ┆ 139   ┆ 16          │\n",
       "│ 4048    ┆ 48    ┆ 2           │\n",
       "│ …       ┆ …     ┆ …           │\n",
       "│ 18559   ┆ 261   ┆ 10          │\n",
       "│ 8623    ┆ 51    ┆ 1           │\n",
       "│ 975     ┆ 496   ┆ 46          │\n",
       "│ 24351   ┆ 8     ┆ 65          │\n",
       "└─────────┴───────┴─────────────┘"
      ]
     },
     "execution_count": 45,
     "metadata": {},
     "output_type": "execute_result"
    }
   ],
   "source": [
    "df_source_count = df_source.group_by('user_id').count()\n",
    "df_target_count = df_target.group_by('user_id').count()\n",
    "df_count = df_source_count.join(df_target_count, on='user_id')\n",
    "df_count"
   ]
  },
  {
   "cell_type": "code",
   "execution_count": 46,
   "id": "cdb48167-5964-4e3b-8492-41fff6bd6eac",
   "metadata": {
    "tags": []
   },
   "outputs": [
    {
     "data": {
      "text/plain": [
       "<matplotlib.collections.PathCollection at 0x1dae0a58050>"
      ]
     },
     "execution_count": 46,
     "metadata": {},
     "output_type": "execute_result"
    },
    {
     "data": {
      "image/png": "[encoded data removed]",
      "text/plain": [
       "<Figure size 640x480 with 1 Axes>"
      ]
     },
     "metadata": {},
     "output_type": "display_data"
    }
   ],
   "source": [
    "plt.xlim(0, 2000)\n",
    "plt.ylim(0, 100)\n",
    "plt.scatter(df_count['count'], df_count['count_right'], s=1)"
   ]
  },
  {
   "cell_type": "markdown",
   "id": "86cdce36-9106-4684-bf87-96e99017f708",
   "metadata": {},
   "source": [
    "### Similarity between users\n",
    "#### How to represent a user?"
   ]
  },
  {
   "cell_type": "code",
   "execution_count": 47,
   "id": "f9b65b80-8614-4de8-86df-0de8034f6b5e",
   "metadata": {
    "tags": []
   },
   "outputs": [
    {
     "data": {
      "text/plain": [
       "0"
      ]
     },
     "execution_count": 47,
     "metadata": {},
     "output_type": "execute_result"
    }
   ],
   "source": [
    "# df_source[df_source.user_id == 0]\n",
    "df_source.filter((pl.col('user_id')==0) &  (pl.col('title_id')==212))['played_duration'].sum()"
   ]
  },
  {
   "cell_type": "code",
   "execution_count": 51,
   "id": "9d48d8a4-be68-4010-9dc0-07568e375d8d",
   "metadata": {},
   "outputs": [
    {
     "data": {
      "text/html": [
       "<div><style>\n",
       ".dataframe > thead > tr > th,\n",
       ".dataframe > tbody > tr > td {\n",
       "  text-align: right;\n",
       "  white-space: pre-wrap;\n",
       "}\n",
       "</style>\n",
       "<small>shape: (1_094_012, 3)</small><table border=\"1\" class=\"dataframe\"><thead><tr><th>user_id</th><th>title_id</th><th>played_duration</th></tr><tr><td>i64</td><td>i64</td><td>i64</td></tr></thead><tbody><tr><td>0</td><td>0</td><td>30201</td></tr><tr><td>745</td><td>0</td><td>37747</td></tr><tr><td>934</td><td>0</td><td>27006</td></tr><tr><td>1231</td><td>0</td><td>27292</td></tr><tr><td>1246</td><td>0</td><td>10835</td></tr><tr><td>1543</td><td>0</td><td>25840</td></tr><tr><td>1655</td><td>0</td><td>24051</td></tr><tr><td>1845</td><td>0</td><td>19852</td></tr><tr><td>2144</td><td>0</td><td>10207</td></tr><tr><td>2249</td><td>0</td><td>23391</td></tr><tr><td>2565</td><td>0</td><td>3946</td></tr><tr><td>3069</td><td>0</td><td>4076</td></tr><tr><td>&hellip;</td><td>&hellip;</td><td>&hellip;</td></tr><tr><td>29781</td><td>5925</td><td>5405</td></tr><tr><td>23727</td><td>5944</td><td>139</td></tr><tr><td>19931</td><td>5951</td><td>70</td></tr><tr><td>23560</td><td>5969</td><td>68</td></tr><tr><td>20825</td><td>5970</td><td>1</td></tr><tr><td>24682</td><td>5974</td><td>140</td></tr><tr><td>21591</td><td>5981</td><td>155</td></tr><tr><td>24599</td><td>6018</td><td>6</td></tr><tr><td>24448</td><td>6034</td><td>124</td></tr><tr><td>25641</td><td>6050</td><td>2790</td></tr><tr><td>27385</td><td>6063</td><td>118</td></tr><tr><td>29684</td><td>6094</td><td>57</td></tr></tbody></table></div>"
      ],
      "text/plain": [
       "shape: (1_094_012, 3)\n",
       "┌─────────┬──────────┬─────────────────┐\n",
       "│ user_id ┆ title_id ┆ played_duration │\n",
       "│ ---     ┆ ---      ┆ ---             │\n",
       "│ i64     ┆ i64      ┆ i64             │\n",
       "╞═════════╪══════════╪═════════════════╡\n",
       "│ 0       ┆ 0        ┆ 30201           │\n",
       "│ 745     ┆ 0        ┆ 37747           │\n",
       "│ 934     ┆ 0        ┆ 27006           │\n",
       "│ 1231    ┆ 0        ┆ 27292           │\n",
       "│ …       ┆ …        ┆ …               │\n",
       "│ 24448   ┆ 6034     ┆ 124             │\n",
       "│ 25641   ┆ 6050     ┆ 2790            │\n",
       "│ 27385   ┆ 6063     ┆ 118             │\n",
       "│ 29684   ┆ 6094     ┆ 57              │\n",
       "└─────────┴──────────┴─────────────────┘"
      ]
     },
     "execution_count": 51,
     "metadata": {},
     "output_type": "execute_result"
    }
   ],
   "source": [
    "group_by_key = [\"user_id\", \"title_id\"]\n",
    "df_ = df_source[group_by_key+[\"played_duration\"]].sort(by='title_id').group_by([\"user_id\", \"title_id\"]).sum()\n",
    "df_"
   ]
  },
  {
   "cell_type": "code",
   "execution_count": 50,
   "id": "bda7b6dc-cff5-482c-b9f0-7a257e325039",
   "metadata": {
    "tags": []
   },
   "outputs": [
    {
     "data": {
      "text/html": [
       "<div><style>\n",
       ".dataframe > thead > tr > th,\n",
       ".dataframe > tbody > tr > td {\n",
       "  text-align: right;\n",
       "  white-space: pre-wrap;\n",
       "}\n",
       "</style>\n",
       "<small>shape: (30_460, 6_033)</small><table border=\"1\" class=\"dataframe\"><thead><tr><th>user_id</th><th>0</th><th>1</th><th>2</th><th>3</th><th>4</th><th>5</th><th>6</th><th>7</th><th>8</th><th>9</th><th>10</th><th>11</th><th>12</th><th>13</th><th>14</th><th>15</th><th>16</th><th>17</th><th>18</th><th>19</th><th>20</th><th>21</th><th>22</th><th>23</th><th>24</th><th>25</th><th>26</th><th>27</th><th>28</th><th>29</th><th>30</th><th>31</th><th>32</th><th>33</th><th>34</th><th>35</th><th>&hellip;</th><th>5082</th><th>5336</th><th>5356</th><th>5418</th><th>5459</th><th>5534</th><th>5538</th><th>5608</th><th>5637</th><th>5666</th><th>5769</th><th>5824</th><th>5870</th><th>5873</th><th>5894</th><th>5897</th><th>5960</th><th>5997</th><th>6052</th><th>6080</th><th>2245</th><th>2521</th><th>3282</th><th>4832</th><th>4940</th><th>5002</th><th>5120</th><th>5169</th><th>5540</th><th>5660</th><th>5664</th><th>5670</th><th>5675</th><th>6034</th><th>6050</th><th>6063</th><th>6094</th></tr><tr><td>i64</td><td>i64</td><td>i64</td><td>i64</td><td>i64</td><td>i64</td><td>i64</td><td>i64</td><td>i64</td><td>i64</td><td>i64</td><td>i64</td><td>i64</td><td>i64</td><td>i64</td><td>i64</td><td>i64</td><td>i64</td><td>i64</td><td>i64</td><td>i64</td><td>i64</td><td>i64</td><td>i64</td><td>i64</td><td>i64</td><td>i64</td><td>i64</td><td>i64</td><td>i64</td><td>i64</td><td>i64</td><td>i64</td><td>i64</td><td>i64</td><td>i64</td><td>i64</td><td>&hellip;</td><td>i64</td><td>i64</td><td>i64</td><td>i64</td><td>i64</td><td>i64</td><td>i64</td><td>i64</td><td>i64</td><td>i64</td><td>i64</td><td>i64</td><td>i64</td><td>i64</td><td>i64</td><td>i64</td><td>i64</td><td>i64</td><td>i64</td><td>i64</td><td>i64</td><td>i64</td><td>i64</td><td>i64</td><td>i64</td><td>i64</td><td>i64</td><td>i64</td><td>i64</td><td>i64</td><td>i64</td><td>i64</td><td>i64</td><td>i64</td><td>i64</td><td>i64</td><td>i64</td></tr></thead><tbody><tr><td>0</td><td>30201</td><td>0</td><td>0</td><td>0</td><td>56004</td><td>24669</td><td>2811</td><td>503</td><td>0</td><td>0</td><td>0</td><td>6921</td><td>2645</td><td>0</td><td>12280</td><td>0</td><td>5001</td><td>0</td><td>0</td><td>0</td><td>0</td><td>25072</td><td>0</td><td>0</td><td>0</td><td>0</td><td>0</td><td>70296</td><td>49567</td><td>60</td><td>0</td><td>0</td><td>0</td><td>0</td><td>0</td><td>0</td><td>&hellip;</td><td>0</td><td>0</td><td>0</td><td>0</td><td>0</td><td>0</td><td>0</td><td>0</td><td>0</td><td>0</td><td>0</td><td>0</td><td>0</td><td>0</td><td>0</td><td>0</td><td>0</td><td>0</td><td>0</td><td>0</td><td>0</td><td>0</td><td>0</td><td>0</td><td>0</td><td>0</td><td>0</td><td>0</td><td>0</td><td>0</td><td>0</td><td>0</td><td>0</td><td>0</td><td>0</td><td>0</td><td>0</td></tr><tr><td>745</td><td>37747</td><td>0</td><td>5268</td><td>0</td><td>0</td><td>0</td><td>0</td><td>0</td><td>0</td><td>0</td><td>0</td><td>0</td><td>0</td><td>0</td><td>0</td><td>0</td><td>7180</td><td>0</td><td>0</td><td>0</td><td>0</td><td>0</td><td>0</td><td>4159</td><td>0</td><td>0</td><td>0</td><td>36711</td><td>0</td><td>0</td><td>0</td><td>0</td><td>0</td><td>0</td><td>0</td><td>0</td><td>&hellip;</td><td>0</td><td>0</td><td>0</td><td>0</td><td>0</td><td>0</td><td>0</td><td>0</td><td>0</td><td>0</td><td>0</td><td>0</td><td>0</td><td>0</td><td>0</td><td>0</td><td>0</td><td>0</td><td>0</td><td>0</td><td>0</td><td>0</td><td>0</td><td>0</td><td>0</td><td>0</td><td>0</td><td>0</td><td>0</td><td>0</td><td>0</td><td>0</td><td>0</td><td>0</td><td>0</td><td>0</td><td>0</td></tr><tr><td>934</td><td>27006</td><td>0</td><td>0</td><td>34781</td><td>0</td><td>0</td><td>28814</td><td>15611</td><td>0</td><td>0</td><td>17</td><td>3623</td><td>0</td><td>0</td><td>0</td><td>0</td><td>0</td><td>0</td><td>0</td><td>0</td><td>0</td><td>0</td><td>3310</td><td>0</td><td>0</td><td>0</td><td>0</td><td>0</td><td>40814</td><td>7029</td><td>0</td><td>0</td><td>35675</td><td>0</td><td>0</td><td>0</td><td>&hellip;</td><td>0</td><td>0</td><td>0</td><td>0</td><td>0</td><td>0</td><td>0</td><td>0</td><td>0</td><td>0</td><td>0</td><td>0</td><td>0</td><td>0</td><td>0</td><td>0</td><td>0</td><td>0</td><td>0</td><td>0</td><td>0</td><td>0</td><td>0</td><td>0</td><td>0</td><td>0</td><td>0</td><td>0</td><td>0</td><td>0</td><td>0</td><td>0</td><td>0</td><td>0</td><td>0</td><td>0</td><td>0</td></tr><tr><td>1231</td><td>27292</td><td>0</td><td>0</td><td>17184</td><td>0</td><td>20739</td><td>0</td><td>24677</td><td>623</td><td>69756</td><td>0</td><td>0</td><td>0</td><td>0</td><td>21249</td><td>0</td><td>0</td><td>0</td><td>0</td><td>0</td><td>0</td><td>0</td><td>0</td><td>3695</td><td>916</td><td>0</td><td>0</td><td>37247</td><td>0</td><td>0</td><td>0</td><td>0</td><td>0</td><td>0</td><td>0</td><td>0</td><td>&hellip;</td><td>0</td><td>0</td><td>0</td><td>0</td><td>0</td><td>0</td><td>0</td><td>0</td><td>0</td><td>0</td><td>0</td><td>0</td><td>0</td><td>0</td><td>0</td><td>0</td><td>0</td><td>0</td><td>0</td><td>0</td><td>0</td><td>0</td><td>0</td><td>0</td><td>0</td><td>0</td><td>0</td><td>0</td><td>0</td><td>0</td><td>0</td><td>0</td><td>0</td><td>0</td><td>0</td><td>0</td><td>0</td></tr><tr><td>1246</td><td>10835</td><td>0</td><td>0</td><td>2955</td><td>0</td><td>0</td><td>0</td><td>0</td><td>0</td><td>0</td><td>0</td><td>0</td><td>0</td><td>0</td><td>0</td><td>0</td><td>0</td><td>0</td><td>0</td><td>19</td><td>0</td><td>0</td><td>0</td><td>0</td><td>0</td><td>0</td><td>0</td><td>0</td><td>0</td><td>0</td><td>0</td><td>0</td><td>0</td><td>0</td><td>0</td><td>0</td><td>&hellip;</td><td>0</td><td>0</td><td>0</td><td>0</td><td>0</td><td>0</td><td>0</td><td>0</td><td>0</td><td>0</td><td>0</td><td>0</td><td>0</td><td>0</td><td>0</td><td>0</td><td>0</td><td>0</td><td>0</td><td>0</td><td>0</td><td>0</td><td>0</td><td>0</td><td>0</td><td>0</td><td>0</td><td>0</td><td>0</td><td>0</td><td>0</td><td>0</td><td>0</td><td>0</td><td>0</td><td>0</td><td>0</td></tr><tr><td>1543</td><td>25840</td><td>1346</td><td>22722</td><td>0</td><td>0</td><td>0</td><td>0</td><td>0</td><td>0</td><td>0</td><td>0</td><td>0</td><td>0</td><td>0</td><td>0</td><td>0</td><td>1525</td><td>0</td><td>0</td><td>0</td><td>0</td><td>0</td><td>182</td><td>0</td><td>0</td><td>0</td><td>0</td><td>0</td><td>0</td><td>0</td><td>0</td><td>0</td><td>0</td><td>0</td><td>0</td><td>421</td><td>&hellip;</td><td>0</td><td>0</td><td>0</td><td>0</td><td>0</td><td>0</td><td>0</td><td>0</td><td>0</td><td>0</td><td>0</td><td>0</td><td>0</td><td>0</td><td>0</td><td>0</td><td>0</td><td>0</td><td>0</td><td>0</td><td>0</td><td>0</td><td>0</td><td>0</td><td>0</td><td>0</td><td>0</td><td>0</td><td>0</td><td>0</td><td>0</td><td>0</td><td>0</td><td>0</td><td>0</td><td>0</td><td>0</td></tr><tr><td>1655</td><td>24051</td><td>0</td><td>0</td><td>0</td><td>0</td><td>0</td><td>0</td><td>0</td><td>0</td><td>0</td><td>0</td><td>0</td><td>0</td><td>0</td><td>0</td><td>0</td><td>0</td><td>0</td><td>0</td><td>0</td><td>0</td><td>0</td><td>0</td><td>0</td><td>0</td><td>0</td><td>0</td><td>0</td><td>0</td><td>0</td><td>0</td><td>0</td><td>0</td><td>0</td><td>0</td><td>0</td><td>&hellip;</td><td>0</td><td>0</td><td>0</td><td>0</td><td>0</td><td>0</td><td>0</td><td>0</td><td>0</td><td>0</td><td>0</td><td>0</td><td>0</td><td>0</td><td>0</td><td>0</td><td>0</td><td>0</td><td>0</td><td>0</td><td>0</td><td>0</td><td>0</td><td>0</td><td>0</td><td>0</td><td>0</td><td>0</td><td>0</td><td>0</td><td>0</td><td>0</td><td>0</td><td>0</td><td>0</td><td>0</td><td>0</td></tr><tr><td>1845</td><td>19852</td><td>0</td><td>166</td><td>19621</td><td>8812</td><td>6529</td><td>0</td><td>15393</td><td>0</td><td>0</td><td>0</td><td>14827</td><td>0</td><td>0</td><td>13956</td><td>0</td><td>0</td><td>11097</td><td>0</td><td>0</td><td>0</td><td>0</td><td>0</td><td>12465</td><td>179</td><td>35</td><td>32</td><td>0</td><td>0</td><td>0</td><td>0</td><td>0</td><td>0</td><td>0</td><td>0</td><td>0</td><td>&hellip;</td><td>0</td><td>0</td><td>0</td><td>0</td><td>0</td><td>0</td><td>0</td><td>0</td><td>0</td><td>0</td><td>0</td><td>0</td><td>0</td><td>0</td><td>0</td><td>0</td><td>0</td><td>0</td><td>0</td><td>0</td><td>0</td><td>0</td><td>0</td><td>0</td><td>0</td><td>0</td><td>0</td><td>0</td><td>0</td><td>0</td><td>0</td><td>0</td><td>0</td><td>0</td><td>0</td><td>0</td><td>0</td></tr><tr><td>2144</td><td>10207</td><td>2480</td><td>0</td><td>0</td><td>0</td><td>0</td><td>0</td><td>0</td><td>0</td><td>0</td><td>0</td><td>0</td><td>0</td><td>0</td><td>0</td><td>0</td><td>5338</td><td>0</td><td>0</td><td>0</td><td>0</td><td>0</td><td>12</td><td>0</td><td>0</td><td>0</td><td>0</td><td>0</td><td>1002</td><td>0</td><td>0</td><td>0</td><td>0</td><td>21840</td><td>0</td><td>0</td><td>&hellip;</td><td>0</td><td>0</td><td>0</td><td>0</td><td>0</td><td>0</td><td>0</td><td>0</td><td>0</td><td>0</td><td>0</td><td>0</td><td>0</td><td>0</td><td>0</td><td>0</td><td>0</td><td>0</td><td>0</td><td>0</td><td>0</td><td>0</td><td>0</td><td>0</td><td>0</td><td>0</td><td>0</td><td>0</td><td>0</td><td>0</td><td>0</td><td>0</td><td>0</td><td>0</td><td>0</td><td>0</td><td>0</td></tr><tr><td>2249</td><td>23391</td><td>0</td><td>27302</td><td>0</td><td>0</td><td>13418</td><td>26</td><td>0</td><td>0</td><td>78847</td><td>0</td><td>19510</td><td>0</td><td>0</td><td>0</td><td>0</td><td>0</td><td>0</td><td>0</td><td>0</td><td>0</td><td>0</td><td>2</td><td>0</td><td>0</td><td>0</td><td>0</td><td>0</td><td>0</td><td>0</td><td>0</td><td>0</td><td>0</td><td>0</td><td>0</td><td>0</td><td>&hellip;</td><td>0</td><td>0</td><td>0</td><td>0</td><td>0</td><td>0</td><td>0</td><td>0</td><td>0</td><td>0</td><td>0</td><td>0</td><td>0</td><td>0</td><td>0</td><td>0</td><td>0</td><td>0</td><td>0</td><td>0</td><td>0</td><td>0</td><td>0</td><td>0</td><td>0</td><td>0</td><td>0</td><td>0</td><td>0</td><td>0</td><td>0</td><td>0</td><td>0</td><td>0</td><td>0</td><td>0</td><td>0</td></tr><tr><td>2565</td><td>3946</td><td>0</td><td>0</td><td>0</td><td>0</td><td>8574</td><td>0</td><td>0</td><td>5312</td><td>0</td><td>0</td><td>24581</td><td>0</td><td>0</td><td>25588</td><td>0</td><td>0</td><td>18993</td><td>0</td><td>0</td><td>0</td><td>0</td><td>0</td><td>0</td><td>0</td><td>0</td><td>0</td><td>0</td><td>0</td><td>0</td><td>0</td><td>0</td><td>0</td><td>0</td><td>0</td><td>0</td><td>&hellip;</td><td>0</td><td>0</td><td>0</td><td>0</td><td>0</td><td>0</td><td>0</td><td>0</td><td>0</td><td>0</td><td>0</td><td>0</td><td>0</td><td>0</td><td>0</td><td>0</td><td>0</td><td>0</td><td>0</td><td>0</td><td>0</td><td>0</td><td>0</td><td>0</td><td>0</td><td>0</td><td>0</td><td>0</td><td>0</td><td>0</td><td>0</td><td>0</td><td>0</td><td>0</td><td>0</td><td>0</td><td>0</td></tr><tr><td>3069</td><td>4076</td><td>0</td><td>0</td><td>0</td><td>6231</td><td>42461</td><td>6074</td><td>0</td><td>0</td><td>0</td><td>0</td><td>0</td><td>0</td><td>0</td><td>0</td><td>0</td><td>0</td><td>19931</td><td>0</td><td>0</td><td>0</td><td>0</td><td>0</td><td>0</td><td>0</td><td>0</td><td>0</td><td>8119</td><td>24369</td><td>0</td><td>0</td><td>0</td><td>0</td><td>0</td><td>0</td><td>0</td><td>&hellip;</td><td>0</td><td>0</td><td>0</td><td>0</td><td>0</td><td>0</td><td>0</td><td>0</td><td>0</td><td>0</td><td>0</td><td>0</td><td>0</td><td>0</td><td>0</td><td>0</td><td>0</td><td>0</td><td>0</td><td>0</td><td>0</td><td>0</td><td>0</td><td>0</td><td>0</td><td>0</td><td>0</td><td>0</td><td>0</td><td>0</td><td>0</td><td>0</td><td>0</td><td>0</td><td>0</td><td>0</td><td>0</td></tr><tr><td>&hellip;</td><td>&hellip;</td><td>&hellip;</td><td>&hellip;</td><td>&hellip;</td><td>&hellip;</td><td>&hellip;</td><td>&hellip;</td><td>&hellip;</td><td>&hellip;</td><td>&hellip;</td><td>&hellip;</td><td>&hellip;</td><td>&hellip;</td><td>&hellip;</td><td>&hellip;</td><td>&hellip;</td><td>&hellip;</td><td>&hellip;</td><td>&hellip;</td><td>&hellip;</td><td>&hellip;</td><td>&hellip;</td><td>&hellip;</td><td>&hellip;</td><td>&hellip;</td><td>&hellip;</td><td>&hellip;</td><td>&hellip;</td><td>&hellip;</td><td>&hellip;</td><td>&hellip;</td><td>&hellip;</td><td>&hellip;</td><td>&hellip;</td><td>&hellip;</td><td>&hellip;</td><td>&hellip;</td><td>&hellip;</td><td>&hellip;</td><td>&hellip;</td><td>&hellip;</td><td>&hellip;</td><td>&hellip;</td><td>&hellip;</td><td>&hellip;</td><td>&hellip;</td><td>&hellip;</td><td>&hellip;</td><td>&hellip;</td><td>&hellip;</td><td>&hellip;</td><td>&hellip;</td><td>&hellip;</td><td>&hellip;</td><td>&hellip;</td><td>&hellip;</td><td>&hellip;</td><td>&hellip;</td><td>&hellip;</td><td>&hellip;</td><td>&hellip;</td><td>&hellip;</td><td>&hellip;</td><td>&hellip;</td><td>&hellip;</td><td>&hellip;</td><td>&hellip;</td><td>&hellip;</td><td>&hellip;</td><td>&hellip;</td><td>&hellip;</td><td>&hellip;</td><td>&hellip;</td><td>&hellip;</td></tr><tr><td>15715</td><td>0</td><td>0</td><td>0</td><td>0</td><td>0</td><td>0</td><td>0</td><td>0</td><td>0</td><td>0</td><td>0</td><td>0</td><td>0</td><td>0</td><td>0</td><td>0</td><td>0</td><td>0</td><td>0</td><td>0</td><td>0</td><td>0</td><td>0</td><td>0</td><td>0</td><td>0</td><td>0</td><td>0</td><td>0</td><td>0</td><td>0</td><td>0</td><td>0</td><td>0</td><td>0</td><td>0</td><td>&hellip;</td><td>0</td><td>0</td><td>0</td><td>0</td><td>0</td><td>0</td><td>0</td><td>0</td><td>0</td><td>0</td><td>0</td><td>0</td><td>0</td><td>0</td><td>0</td><td>0</td><td>0</td><td>0</td><td>0</td><td>0</td><td>0</td><td>0</td><td>0</td><td>0</td><td>0</td><td>0</td><td>0</td><td>0</td><td>0</td><td>0</td><td>0</td><td>0</td><td>0</td><td>0</td><td>0</td><td>0</td><td>0</td></tr><tr><td>3182</td><td>0</td><td>0</td><td>0</td><td>0</td><td>0</td><td>0</td><td>0</td><td>0</td><td>0</td><td>0</td><td>0</td><td>0</td><td>0</td><td>0</td><td>0</td><td>0</td><td>0</td><td>0</td><td>0</td><td>0</td><td>0</td><td>0</td><td>0</td><td>0</td><td>0</td><td>0</td><td>0</td><td>0</td><td>0</td><td>0</td><td>0</td><td>0</td><td>0</td><td>0</td><td>0</td><td>0</td><td>&hellip;</td><td>0</td><td>0</td><td>0</td><td>0</td><td>0</td><td>0</td><td>0</td><td>0</td><td>0</td><td>0</td><td>0</td><td>0</td><td>0</td><td>0</td><td>0</td><td>0</td><td>0</td><td>0</td><td>0</td><td>0</td><td>0</td><td>0</td><td>0</td><td>0</td><td>0</td><td>0</td><td>0</td><td>0</td><td>0</td><td>0</td><td>0</td><td>0</td><td>0</td><td>0</td><td>0</td><td>0</td><td>0</td></tr><tr><td>1093</td><td>0</td><td>0</td><td>0</td><td>0</td><td>0</td><td>0</td><td>0</td><td>0</td><td>0</td><td>0</td><td>0</td><td>0</td><td>0</td><td>0</td><td>0</td><td>0</td><td>0</td><td>0</td><td>0</td><td>0</td><td>0</td><td>0</td><td>0</td><td>0</td><td>0</td><td>0</td><td>0</td><td>0</td><td>0</td><td>0</td><td>0</td><td>0</td><td>0</td><td>0</td><td>0</td><td>0</td><td>&hellip;</td><td>0</td><td>0</td><td>0</td><td>0</td><td>0</td><td>0</td><td>0</td><td>0</td><td>0</td><td>0</td><td>0</td><td>0</td><td>0</td><td>0</td><td>0</td><td>0</td><td>0</td><td>0</td><td>0</td><td>0</td><td>0</td><td>0</td><td>0</td><td>0</td><td>0</td><td>0</td><td>0</td><td>0</td><td>0</td><td>0</td><td>0</td><td>0</td><td>0</td><td>0</td><td>0</td><td>0</td><td>0</td></tr><tr><td>11002</td><td>0</td><td>0</td><td>0</td><td>0</td><td>0</td><td>0</td><td>0</td><td>0</td><td>0</td><td>0</td><td>0</td><td>0</td><td>0</td><td>0</td><td>0</td><td>0</td><td>0</td><td>0</td><td>0</td><td>0</td><td>0</td><td>0</td><td>0</td><td>0</td><td>0</td><td>0</td><td>0</td><td>0</td><td>0</td><td>0</td><td>0</td><td>0</td><td>0</td><td>0</td><td>0</td><td>0</td><td>&hellip;</td><td>0</td><td>0</td><td>0</td><td>0</td><td>0</td><td>0</td><td>0</td><td>0</td><td>0</td><td>0</td><td>0</td><td>0</td><td>0</td><td>0</td><td>0</td><td>0</td><td>0</td><td>0</td><td>0</td><td>0</td><td>0</td><td>0</td><td>0</td><td>0</td><td>0</td><td>0</td><td>0</td><td>0</td><td>0</td><td>0</td><td>0</td><td>0</td><td>0</td><td>0</td><td>0</td><td>0</td><td>0</td></tr><tr><td>4362</td><td>0</td><td>0</td><td>0</td><td>0</td><td>0</td><td>0</td><td>0</td><td>0</td><td>0</td><td>0</td><td>0</td><td>0</td><td>0</td><td>0</td><td>0</td><td>0</td><td>0</td><td>0</td><td>0</td><td>0</td><td>0</td><td>0</td><td>0</td><td>0</td><td>0</td><td>0</td><td>0</td><td>0</td><td>0</td><td>0</td><td>0</td><td>0</td><td>0</td><td>0</td><td>0</td><td>0</td><td>&hellip;</td><td>0</td><td>0</td><td>0</td><td>0</td><td>0</td><td>0</td><td>0</td><td>0</td><td>0</td><td>0</td><td>0</td><td>0</td><td>0</td><td>0</td><td>0</td><td>0</td><td>0</td><td>0</td><td>0</td><td>0</td><td>0</td><td>0</td><td>0</td><td>0</td><td>0</td><td>0</td><td>0</td><td>0</td><td>0</td><td>0</td><td>0</td><td>0</td><td>0</td><td>0</td><td>0</td><td>0</td><td>0</td></tr><tr><td>8701</td><td>0</td><td>0</td><td>0</td><td>0</td><td>0</td><td>0</td><td>0</td><td>0</td><td>0</td><td>0</td><td>0</td><td>0</td><td>0</td><td>0</td><td>0</td><td>0</td><td>0</td><td>0</td><td>0</td><td>0</td><td>0</td><td>0</td><td>0</td><td>0</td><td>0</td><td>0</td><td>0</td><td>0</td><td>0</td><td>0</td><td>0</td><td>0</td><td>0</td><td>0</td><td>0</td><td>0</td><td>&hellip;</td><td>0</td><td>0</td><td>0</td><td>0</td><td>0</td><td>0</td><td>0</td><td>0</td><td>0</td><td>0</td><td>0</td><td>0</td><td>0</td><td>0</td><td>0</td><td>0</td><td>0</td><td>0</td><td>0</td><td>0</td><td>0</td><td>0</td><td>0</td><td>0</td><td>0</td><td>0</td><td>0</td><td>0</td><td>0</td><td>0</td><td>0</td><td>0</td><td>0</td><td>0</td><td>0</td><td>0</td><td>0</td></tr><tr><td>15712</td><td>0</td><td>0</td><td>0</td><td>0</td><td>0</td><td>0</td><td>0</td><td>0</td><td>0</td><td>0</td><td>0</td><td>0</td><td>0</td><td>0</td><td>0</td><td>0</td><td>0</td><td>0</td><td>0</td><td>0</td><td>0</td><td>0</td><td>0</td><td>0</td><td>0</td><td>0</td><td>0</td><td>0</td><td>0</td><td>0</td><td>0</td><td>0</td><td>0</td><td>0</td><td>0</td><td>0</td><td>&hellip;</td><td>0</td><td>0</td><td>0</td><td>0</td><td>0</td><td>0</td><td>0</td><td>0</td><td>0</td><td>0</td><td>0</td><td>0</td><td>0</td><td>0</td><td>0</td><td>0</td><td>0</td><td>0</td><td>0</td><td>0</td><td>0</td><td>0</td><td>0</td><td>0</td><td>0</td><td>0</td><td>0</td><td>0</td><td>0</td><td>0</td><td>0</td><td>0</td><td>0</td><td>0</td><td>0</td><td>0</td><td>0</td></tr><tr><td>21660</td><td>0</td><td>0</td><td>0</td><td>0</td><td>0</td><td>0</td><td>0</td><td>0</td><td>0</td><td>0</td><td>0</td><td>0</td><td>0</td><td>0</td><td>0</td><td>0</td><td>0</td><td>0</td><td>0</td><td>0</td><td>0</td><td>0</td><td>0</td><td>0</td><td>0</td><td>0</td><td>0</td><td>0</td><td>0</td><td>0</td><td>0</td><td>0</td><td>0</td><td>0</td><td>0</td><td>0</td><td>&hellip;</td><td>0</td><td>0</td><td>0</td><td>0</td><td>0</td><td>0</td><td>0</td><td>0</td><td>0</td><td>0</td><td>0</td><td>0</td><td>0</td><td>0</td><td>0</td><td>0</td><td>0</td><td>0</td><td>0</td><td>0</td><td>0</td><td>0</td><td>0</td><td>0</td><td>0</td><td>0</td><td>0</td><td>0</td><td>0</td><td>0</td><td>0</td><td>0</td><td>0</td><td>0</td><td>0</td><td>0</td><td>0</td></tr><tr><td>2337</td><td>0</td><td>0</td><td>0</td><td>0</td><td>0</td><td>0</td><td>0</td><td>0</td><td>0</td><td>0</td><td>0</td><td>0</td><td>0</td><td>0</td><td>0</td><td>0</td><td>0</td><td>0</td><td>0</td><td>0</td><td>0</td><td>0</td><td>0</td><td>0</td><td>0</td><td>0</td><td>0</td><td>0</td><td>0</td><td>0</td><td>0</td><td>0</td><td>0</td><td>0</td><td>0</td><td>0</td><td>&hellip;</td><td>0</td><td>0</td><td>0</td><td>0</td><td>0</td><td>0</td><td>0</td><td>0</td><td>0</td><td>0</td><td>0</td><td>0</td><td>0</td><td>0</td><td>0</td><td>0</td><td>0</td><td>0</td><td>0</td><td>0</td><td>0</td><td>0</td><td>0</td><td>0</td><td>0</td><td>0</td><td>0</td><td>0</td><td>0</td><td>0</td><td>0</td><td>0</td><td>0</td><td>0</td><td>0</td><td>0</td><td>0</td></tr><tr><td>9422</td><td>0</td><td>0</td><td>0</td><td>0</td><td>0</td><td>0</td><td>0</td><td>0</td><td>0</td><td>0</td><td>0</td><td>0</td><td>0</td><td>0</td><td>0</td><td>0</td><td>0</td><td>0</td><td>0</td><td>0</td><td>0</td><td>0</td><td>0</td><td>0</td><td>0</td><td>0</td><td>0</td><td>0</td><td>0</td><td>0</td><td>0</td><td>0</td><td>0</td><td>0</td><td>0</td><td>0</td><td>&hellip;</td><td>0</td><td>0</td><td>0</td><td>0</td><td>0</td><td>0</td><td>0</td><td>0</td><td>0</td><td>0</td><td>0</td><td>0</td><td>0</td><td>0</td><td>0</td><td>0</td><td>0</td><td>0</td><td>0</td><td>0</td><td>0</td><td>0</td><td>0</td><td>0</td><td>0</td><td>0</td><td>0</td><td>0</td><td>0</td><td>0</td><td>0</td><td>0</td><td>0</td><td>0</td><td>0</td><td>0</td><td>0</td></tr><tr><td>29618</td><td>0</td><td>0</td><td>0</td><td>0</td><td>0</td><td>0</td><td>0</td><td>0</td><td>0</td><td>0</td><td>0</td><td>0</td><td>0</td><td>0</td><td>0</td><td>0</td><td>0</td><td>0</td><td>0</td><td>0</td><td>0</td><td>0</td><td>0</td><td>0</td><td>0</td><td>0</td><td>0</td><td>0</td><td>0</td><td>0</td><td>0</td><td>0</td><td>0</td><td>0</td><td>0</td><td>0</td><td>&hellip;</td><td>0</td><td>0</td><td>0</td><td>0</td><td>0</td><td>0</td><td>0</td><td>0</td><td>0</td><td>0</td><td>0</td><td>0</td><td>0</td><td>0</td><td>0</td><td>0</td><td>0</td><td>0</td><td>0</td><td>0</td><td>0</td><td>0</td><td>0</td><td>0</td><td>0</td><td>0</td><td>0</td><td>0</td><td>0</td><td>0</td><td>0</td><td>0</td><td>0</td><td>0</td><td>0</td><td>0</td><td>0</td></tr><tr><td>20477</td><td>0</td><td>0</td><td>0</td><td>0</td><td>0</td><td>0</td><td>0</td><td>0</td><td>0</td><td>0</td><td>0</td><td>0</td><td>0</td><td>0</td><td>0</td><td>0</td><td>0</td><td>0</td><td>0</td><td>0</td><td>0</td><td>0</td><td>0</td><td>0</td><td>0</td><td>0</td><td>0</td><td>0</td><td>0</td><td>0</td><td>0</td><td>0</td><td>0</td><td>0</td><td>0</td><td>0</td><td>&hellip;</td><td>0</td><td>0</td><td>0</td><td>0</td><td>0</td><td>0</td><td>0</td><td>0</td><td>0</td><td>0</td><td>0</td><td>0</td><td>0</td><td>0</td><td>0</td><td>0</td><td>0</td><td>0</td><td>0</td><td>0</td><td>0</td><td>0</td><td>0</td><td>0</td><td>0</td><td>0</td><td>0</td><td>0</td><td>0</td><td>0</td><td>0</td><td>0</td><td>0</td><td>0</td><td>0</td><td>0</td><td>0</td></tr></tbody></table></div>"
      ],
      "text/plain": [
       "shape: (30_460, 6_033)\n",
       "┌─────────┬───────┬─────┬──────┬───┬──────┬──────┬──────┬──────┐\n",
       "│ user_id ┆ 0     ┆ 1   ┆ 2    ┆ … ┆ 6034 ┆ 6050 ┆ 6063 ┆ 6094 │\n",
       "│ ---     ┆ ---   ┆ --- ┆ ---  ┆   ┆ ---  ┆ ---  ┆ ---  ┆ ---  │\n",
       "│ i64     ┆ i64   ┆ i64 ┆ i64  ┆   ┆ i64  ┆ i64  ┆ i64  ┆ i64  │\n",
       "╞═════════╪═══════╪═════╪══════╪═══╪══════╪══════╪══════╪══════╡\n",
       "│ 0       ┆ 30201 ┆ 0   ┆ 0    ┆ … ┆ 0    ┆ 0    ┆ 0    ┆ 0    │\n",
       "│ 745     ┆ 37747 ┆ 0   ┆ 5268 ┆ … ┆ 0    ┆ 0    ┆ 0    ┆ 0    │\n",
       "│ 934     ┆ 27006 ┆ 0   ┆ 0    ┆ … ┆ 0    ┆ 0    ┆ 0    ┆ 0    │\n",
       "│ 1231    ┆ 27292 ┆ 0   ┆ 0    ┆ … ┆ 0    ┆ 0    ┆ 0    ┆ 0    │\n",
       "│ …       ┆ …     ┆ …   ┆ …    ┆ … ┆ …    ┆ …    ┆ …    ┆ …    │\n",
       "│ 2337    ┆ 0     ┆ 0   ┆ 0    ┆ … ┆ 0    ┆ 0    ┆ 0    ┆ 0    │\n",
       "│ 9422    ┆ 0     ┆ 0   ┆ 0    ┆ … ┆ 0    ┆ 0    ┆ 0    ┆ 0    │\n",
       "│ 29618   ┆ 0     ┆ 0   ┆ 0    ┆ … ┆ 0    ┆ 0    ┆ 0    ┆ 0    │\n",
       "│ 20477   ┆ 0     ┆ 0   ┆ 0    ┆ … ┆ 0    ┆ 0    ┆ 0    ┆ 0    │\n",
       "└─────────┴───────┴─────┴──────┴───┴──────┴──────┴──────┴──────┘"
      ]
     },
     "execution_count": 50,
     "metadata": {},
     "output_type": "execute_result"
    }
   ],
   "source": [
    "df_ = df_.pivot(values=\"played_duration\", index=\"user_id\", columns=\"title_id\").fill_null(0)\n",
    "df_"
   ]
  },
  {
   "cell_type": "code",
   "execution_count": 56,
   "id": "172c9c78-f37d-4cf8-bf43-c9e6caf4468c",
   "metadata": {
    "tags": []
   },
   "outputs": [
    {
     "data": {
      "text/plain": [
       "array([[30201,     0,     0, ...,     0,     0,     0],\n",
       "       [37747,     0,  5268, ...,     0,     0,     0],\n",
       "       [27006,     0,     0, ...,     0,     0,     0],\n",
       "       ...,\n",
       "       [    0,     0,     0, ...,     0,     0,     0],\n",
       "       [    0,     0,     0, ...,     0,     0,     0],\n",
       "       [    0,     0,     0, ...,     0,     0,     0]], dtype=int64)"
      ]
     },
     "execution_count": 56,
     "metadata": {},
     "output_type": "execute_result"
    }
   ],
   "source": [
    "A = df_[df_.columns[1:]].to_numpy()\n",
    "A"
   ]
  },
  {
   "cell_type": "code",
   "execution_count": 57,
   "id": "69faa938-75b7-4f5b-8fee-9064320aa715",
   "metadata": {
    "tags": []
   },
   "outputs": [
    {
     "data": {
      "text/plain": [
       "array([[0.15549228, 0.        , 0.        , ..., 0.        , 0.        ,\n",
       "        0.        ],\n",
       "       [0.35745349, 0.        , 0.04988648, ..., 0.        , 0.        ,\n",
       "        0.        ],\n",
       "       [0.12096315, 0.        , 0.        , ..., 0.        , 0.        ,\n",
       "        0.        ],\n",
       "       ...,\n",
       "       [0.        , 0.        , 0.        , ..., 0.        , 0.        ,\n",
       "        0.        ],\n",
       "       [0.        , 0.        , 0.        , ..., 0.        , 0.        ,\n",
       "        0.        ],\n",
       "       [0.        , 0.        , 0.        , ..., 0.        , 0.        ,\n",
       "        0.        ]])"
      ]
     },
     "execution_count": 57,
     "metadata": {},
     "output_type": "execute_result"
    }
   ],
   "source": [
    "import numpy as np\n",
    "A = A / np.linalg.norm(A, axis=1, keepdims=True)\n",
    "A"
   ]
  },
  {
   "cell_type": "code",
   "execution_count": 58,
   "id": "68961cfa-ec61-41d7-8cb8-5efa4db0968e",
   "metadata": {
    "tags": []
   },
   "outputs": [],
   "source": [
    "D = A[:100] @ A.T"
   ]
  },
  {
   "cell_type": "code",
   "execution_count": 59,
   "id": "66fbef30-f5ba-4338-87d3-f8862124395b",
   "metadata": {
    "tags": []
   },
   "outputs": [
    {
     "data": {
      "text/plain": [
       "array([25049, 15029, 21993, 14755, 25087, 24354, 10770,  7107,  8446,\n",
       "       30222, 20215, 29932, 29315, 27226,  8329, 19542, 14704, 23216,\n",
       "       26792, 14080,  9016,  4073, 23637,  5602, 16102,  1949, 19138,\n",
       "        5006,  9590, 13042, 20685, 10793,  1931, 12208, 10308, 29786,\n",
       "        7811, 13264, 17670, 30352,  4024, 12044, 17065,  6255, 20642,\n",
       "       12341,  2526, 11659,  9065, 14583,  9322,  1018, 18095, 26385,\n",
       "       18200,  6506, 13874, 29970, 25420,    64,  4913,  3519,  9342,\n",
       "         702, 30012, 25052,  9261, 14755,  3889,  3393, 14315, 10575,\n",
       "       26714,  4248, 11570,   230, 22000,  1743,  3979, 27646, 22927,\n",
       "       12192, 25036, 25776,  1051,  1587,   698, 30332,   714, 28609,\n",
       "        7871, 17270, 17380,  9664,  7341, 20516, 26134,    64,  9799,\n",
       "       27569], dtype=int64)"
      ]
     },
     "execution_count": 59,
     "metadata": {},
     "output_type": "execute_result"
    }
   ],
   "source": [
    "np.fill_diagonal(D, 0)\n",
    "D.argmax(axis=1)"
   ]
  },
  {
   "cell_type": "code",
   "execution_count": 60,
   "id": "93d1d275-69ce-465f-88a3-c1e09c530083",
   "metadata": {
    "tags": []
   },
   "outputs": [
    {
     "name": "stdout",
     "output_type": "stream",
     "text": [
      "[ 36  28 228 482 165   8  17 294 203 119 171  64  27 144 178   4  67   3\n",
      "   6  95]\n",
      "[0.16531533 0.201759   0.20935747 0.21667767 0.22950313 0.2704357\n",
      " 0.30265664 0.31095689 0.31868847 0.55259581]\n"
     ]
    }
   ],
   "source": [
    "X = A[672]\n",
    "print(X.argsort()[-20:])\n",
    "print(X[X.argsort()[-10:]])"
   ]
  },
  {
   "cell_type": "code",
   "execution_count": 61,
   "id": "2fe9eba3-cb05-45ed-9e39-4985f22ba74d",
   "metadata": {
    "tags": []
   },
   "outputs": [
    {
     "name": "stdout",
     "output_type": "stream",
     "text": [
      "[215 281  62 662  43   5  21 495 470 585   0 667 195 203  28 148   4  27\n",
      " 145 284]\n",
      "[0.         0.07714633 0.36192462 0.         0.         0.2883411\n",
      " 0.02897106 0.         0.01447266 0.        ]\n"
     ]
    }
   ],
   "source": [
    "Y = A[0]\n",
    "print(Y.argsort()[-20:])\n",
    "print(Y[X.argsort()[-10:]])"
   ]
  },
  {
   "cell_type": "code",
   "execution_count": 62,
   "id": "dc23ff3b-2e57-4068-a83d-50515d7af25c",
   "metadata": {
    "tags": []
   },
   "outputs": [
    {
     "name": "stdout",
     "output_type": "stream",
     "text": [
      "{3, 6, 28, 32, 163, 675, 37, 165, 294, 171, 299, 178, 64, 67, 206, 80, 337, 215, 228, 111, 1402}\n"
     ]
    },
    {
     "data": {
      "text/plain": [
       "{3, 6, 28, 32, 80, 165, 206, 1402}"
      ]
     },
     "execution_count": 62,
     "metadata": {},
     "output_type": "execute_result"
    }
   ],
   "source": [
    "X = A[21993]\n",
    "Y = A[2]\n",
    "C = set(X.nonzero()[0]) & set(Y.nonzero()[0])\n",
    "print(C)\n",
    "set(X.argsort()[-20:]) & set(Y.argsort()[-20:]) & C"
   ]
  },
  {
   "cell_type": "code",
   "execution_count": 63,
   "id": "b651d1af-fdf5-4db3-a49a-d0926346bb8e",
   "metadata": {
    "tags": []
   },
   "outputs": [
    {
     "data": {
      "text/plain": [
       "{0,\n",
       " 3,\n",
       " 6,\n",
       " 7,\n",
       " 10,\n",
       " 11,\n",
       " 22,\n",
       " 28,\n",
       " 29,\n",
       " 32,\n",
       " 37,\n",
       " 55,\n",
       " 58,\n",
       " 64,\n",
       " 66,\n",
       " 67,\n",
       " 69,\n",
       " 71,\n",
       " 78,\n",
       " 80,\n",
       " 82,\n",
       " 93,\n",
       " 94,\n",
       " 111,\n",
       " 112,\n",
       " 114,\n",
       " 118,\n",
       " 120,\n",
       " 122,\n",
       " 139,\n",
       " 147,\n",
       " 157,\n",
       " 162,\n",
       " 163,\n",
       " 164,\n",
       " 165,\n",
       " 171,\n",
       " 178,\n",
       " 186,\n",
       " 206,\n",
       " 213,\n",
       " 215,\n",
       " 228,\n",
       " 265,\n",
       " 294,\n",
       " 299,\n",
       " 304,\n",
       " 329,\n",
       " 337,\n",
       " 353,\n",
       " 363,\n",
       " 370,\n",
       " 380,\n",
       " 394,\n",
       " 397,\n",
       " 416,\n",
       " 429,\n",
       " 452,\n",
       " 476,\n",
       " 480,\n",
       " 487,\n",
       " 554,\n",
       " 558,\n",
       " 588,\n",
       " 599,\n",
       " 609,\n",
       " 639,\n",
       " 653,\n",
       " 658,\n",
       " 675,\n",
       " 678,\n",
       " 736,\n",
       " 784,\n",
       " 789,\n",
       " 826,\n",
       " 835,\n",
       " 852,\n",
       " 965,\n",
       " 971,\n",
       " 1067,\n",
       " 1085,\n",
       " 1113,\n",
       " 1164,\n",
       " 1193,\n",
       " 1207,\n",
       " 1274,\n",
       " 1310,\n",
       " 1343,\n",
       " 1387,\n",
       " 1402,\n",
       " 1451,\n",
       " 1528,\n",
       " 1639,\n",
       " 1726,\n",
       " 1748,\n",
       " 1847,\n",
       " 1949,\n",
       " 2097,\n",
       " 2278,\n",
       " 2708}"
      ]
     },
     "execution_count": 63,
     "metadata": {},
     "output_type": "execute_result"
    }
   ],
   "source": [
    "set(Y.nonzero()[0])"
   ]
  },
  {
   "cell_type": "code",
   "execution_count": 64,
   "id": "0df103fd-34ea-4847-9bab-04b58106e866",
   "metadata": {
    "tags": []
   },
   "outputs": [
    {
     "data": {
      "text/plain": [
       "{4, 6, 7, 11, 27, 28, 42, 64, 67, 133, 159, 203, 215, 354, 838}"
      ]
     },
     "execution_count": 64,
     "metadata": {},
     "output_type": "execute_result"
    }
   ],
   "source": [
    "set(A[0].nonzero()[0]) & set(A[672].nonzero()[0])"
   ]
  },
  {
   "cell_type": "code",
   "execution_count": null,
   "id": "c7a203ae-c6e6-41c6-a39a-85aa1fb995aa",
   "metadata": {
    "tags": []
   },
   "outputs": [],
   "source": [
    "set(A[15029].nonzero()[0]) & set(A[1].nonzero()[0])"
   ]
  },
  {
   "cell_type": "code",
   "execution_count": null,
   "id": "67497789-a163-4e4f-8676-4ea30c93b6dc",
   "metadata": {
    "tags": []
   },
   "outputs": [],
   "source": [
    "set(A[0].nonzero()[0]) & set(A[25049].nonzero()[0])"
   ]
  },
  {
   "cell_type": "markdown",
   "id": "029d1287",
   "metadata": {},
   "source": [
    "## Lazy Dataframe"
   ]
  },
  {
   "cell_type": "code",
   "execution_count": 52,
   "id": "5b65e808",
   "metadata": {},
   "outputs": [
    {
     "data": {
      "text/html": [
       "<div><style>\n",
       ".dataframe > thead > tr > th,\n",
       ".dataframe > tbody > tr > td {\n",
       "  text-align: right;\n",
       "  white-space: pre-wrap;\n",
       "}\n",
       "</style>\n",
       "<small>shape: (9_714_103, 10)</small><table border=\"1\" class=\"dataframe\"><thead><tr><th>user_id</th><th>device_id</th><th>session_id</th><th>title_id</th><th>event_time</th><th>played_duration</th><th>action_trigger</th><th>platform</th><th>title_in_simulcast</th><th>internet_connection_type</th></tr><tr><td>i64</td><td>i64</td><td>i64</td><td>i64</td><td>f64</td><td>i64</td><td>i64</td><td>i64</td><td>i64</td><td>i64</td></tr></thead><tbody><tr><td>0</td><td>525</td><td>2328</td><td>384</td><td>1.6489e9</td><td>1361</td><td>1</td><td>0</td><td>0</td><td>1</td></tr><tr><td>0</td><td>525</td><td>2328</td><td>384</td><td>1.6489e9</td><td>2</td><td>0</td><td>0</td><td>0</td><td>1</td></tr><tr><td>0</td><td>525</td><td>2400</td><td>68</td><td>1.6490e9</td><td>2</td><td>0</td><td>0</td><td>0</td><td>1</td></tr><tr><td>0</td><td>525</td><td>2400</td><td>68</td><td>1.6490e9</td><td>20</td><td>9</td><td>0</td><td>0</td><td>1</td></tr><tr><td>0</td><td>532</td><td>2401</td><td>68</td><td>1.6490e9</td><td>8</td><td>10</td><td>2</td><td>1</td><td>4</td></tr><tr><td>0</td><td>532</td><td>2401</td><td>68</td><td>1.6490e9</td><td>19</td><td>10</td><td>2</td><td>1</td><td>4</td></tr><tr><td>0</td><td>532</td><td>2403</td><td>68</td><td>1.6490e9</td><td>2432</td><td>10</td><td>2</td><td>1</td><td>4</td></tr><tr><td>0</td><td>532</td><td>2403</td><td>68</td><td>1.6490e9</td><td>297</td><td>1</td><td>2</td><td>1</td><td>4</td></tr><tr><td>0</td><td>532</td><td>2403</td><td>68</td><td>1.6490e9</td><td>4</td><td>10</td><td>2</td><td>1</td><td>4</td></tr><tr><td>0</td><td>525</td><td>2400</td><td>68</td><td>1.6490e9</td><td>2</td><td>0</td><td>0</td><td>0</td><td>1</td></tr><tr><td>0</td><td>525</td><td>2389</td><td>594</td><td>1.6490e9</td><td>28</td><td>0</td><td>0</td><td>0</td><td>0</td></tr><tr><td>0</td><td>525</td><td>2389</td><td>594</td><td>1.6490e9</td><td>2</td><td>0</td><td>0</td><td>0</td><td>2</td></tr><tr><td>&hellip;</td><td>&hellip;</td><td>&hellip;</td><td>&hellip;</td><td>&hellip;</td><td>&hellip;</td><td>&hellip;</td><td>&hellip;</td><td>&hellip;</td><td>&hellip;</td></tr><tr><td>30459</td><td>139403</td><td>4212246</td><td>600</td><td>1.6629e9</td><td>30</td><td>1</td><td>0</td><td>1</td><td>1</td></tr><tr><td>30459</td><td>139403</td><td>4212246</td><td>600</td><td>1.6629e9</td><td>30</td><td>1</td><td>0</td><td>1</td><td>1</td></tr><tr><td>30459</td><td>139403</td><td>4212246</td><td>600</td><td>1.6629e9</td><td>30</td><td>1</td><td>0</td><td>1</td><td>1</td></tr><tr><td>30459</td><td>139403</td><td>4212246</td><td>600</td><td>1.6629e9</td><td>4</td><td>0</td><td>0</td><td>1</td><td>1</td></tr><tr><td>30459</td><td>139403</td><td>4215442</td><td>113</td><td>1.6630e9</td><td>2725</td><td>1</td><td>0</td><td>0</td><td>1</td></tr><tr><td>30459</td><td>139403</td><td>4218020</td><td>113</td><td>1.6631e9</td><td>2737</td><td>1</td><td>0</td><td>0</td><td>1</td></tr><tr><td>30459</td><td>139403</td><td>4218064</td><td>113</td><td>1.6631e9</td><td>578</td><td>9</td><td>0</td><td>0</td><td>1</td></tr><tr><td>30459</td><td>139403</td><td>4218064</td><td>113</td><td>1.6631e9</td><td>2157</td><td>1</td><td>0</td><td>0</td><td>1</td></tr><tr><td>30459</td><td>139403</td><td>4220179</td><td>113</td><td>1.6632e9</td><td>2743</td><td>1</td><td>0</td><td>0</td><td>1</td></tr><tr><td>30459</td><td>139403</td><td>4220179</td><td>113</td><td>1.6632e9</td><td>2723</td><td>1</td><td>0</td><td>0</td><td>1</td></tr><tr><td>30459</td><td>139403</td><td>4222301</td><td>113</td><td>1.6632e9</td><td>2699</td><td>1</td><td>0</td><td>0</td><td>1</td></tr><tr><td>30459</td><td>139403</td><td>4222301</td><td>10</td><td>1.6632e9</td><td>3</td><td>0</td><td>0</td><td>1</td><td>1</td></tr></tbody></table></div>"
      ],
      "text/plain": [
       "shape: (9_714_103, 10)\n",
       "┌─────────┬───────────┬────────────┬──────────┬───┬────────────┬──────────┬────────────┬───────────┐\n",
       "│ user_id ┆ device_id ┆ session_id ┆ title_id ┆ … ┆ action_tri ┆ platform ┆ title_in_s ┆ internet_ │\n",
       "│ ---     ┆ ---       ┆ ---        ┆ ---      ┆   ┆ gger       ┆ ---      ┆ imulcast   ┆ connectio │\n",
       "│ i64     ┆ i64       ┆ i64        ┆ i64      ┆   ┆ ---        ┆ i64      ┆ ---        ┆ n_type    │\n",
       "│         ┆           ┆            ┆          ┆   ┆ i64        ┆          ┆ i64        ┆ ---       │\n",
       "│         ┆           ┆            ┆          ┆   ┆            ┆          ┆            ┆ i64       │\n",
       "╞═════════╪═══════════╪════════════╪══════════╪═══╪════════════╪══════════╪════════════╪═══════════╡\n",
       "│ 0       ┆ 525       ┆ 2328       ┆ 384      ┆ … ┆ 1          ┆ 0        ┆ 0          ┆ 1         │\n",
       "│ 0       ┆ 525       ┆ 2328       ┆ 384      ┆ … ┆ 0          ┆ 0        ┆ 0          ┆ 1         │\n",
       "│ 0       ┆ 525       ┆ 2400       ┆ 68       ┆ … ┆ 0          ┆ 0        ┆ 0          ┆ 1         │\n",
       "│ 0       ┆ 525       ┆ 2400       ┆ 68       ┆ … ┆ 9          ┆ 0        ┆ 0          ┆ 1         │\n",
       "│ …       ┆ …         ┆ …          ┆ …        ┆ … ┆ …          ┆ …        ┆ …          ┆ …         │\n",
       "│ 30459   ┆ 139403    ┆ 4220179    ┆ 113      ┆ … ┆ 1          ┆ 0        ┆ 0          ┆ 1         │\n",
       "│ 30459   ┆ 139403    ┆ 4220179    ┆ 113      ┆ … ┆ 1          ┆ 0        ┆ 0          ┆ 1         │\n",
       "│ 30459   ┆ 139403    ┆ 4222301    ┆ 113      ┆ … ┆ 1          ┆ 0        ┆ 0          ┆ 1         │\n",
       "│ 30459   ┆ 139403    ┆ 4222301    ┆ 10       ┆ … ┆ 0          ┆ 0        ┆ 1          ┆ 1         │\n",
       "└─────────┴───────────┴────────────┴──────────┴───┴────────────┴──────────┴────────────┴───────────┘"
      ]
     },
     "execution_count": 52,
     "metadata": {},
     "output_type": "execute_result"
    }
   ],
   "source": []
  },
  {
   "cell_type": "markdown",
   "id": "edd637f1",
   "metadata": {},
   "source": [
    "### backup plan"
   ]
  },
  {
   "cell_type": "code",
   "execution_count": 65,
   "id": "22c61291-dd53-41d2-b85b-ea490c989737",
   "metadata": {},
   "outputs": [],
   "source": [
    "\n",
    "df_source = pl.read_csv(\"../kkdata/train_source_events.csv\")\n",
    "group_by_key = [\"user_id\", \"title_id\"]\n",
    "df_ = df_source[group_by_key+[\"played_duration\"]].sort(by='title_id').group_by([\"user_id\", \"title_id\"]).sum()\n",
    "df_ = df_.pivot(values=\"played_duration\", index=\"user_id\", columns=\"title_id\").fill_null(0)"
   ]
  },
  {
   "cell_type": "code",
   "execution_count": 74,
   "id": "d8b2b895",
   "metadata": {},
   "outputs": [
    {
     "data": {
      "text/html": [
       "<h4>NAIVE QUERY PLAN</h4><p>run <b>LazyFrame.show_graph()</b> to see the optimized version</p><?xml version=\"1.0\" encoding=\"UTF-8\" standalone=\"no\"?>\r\n",
       "<!DOCTYPE svg PUBLIC \"-//W3C//DTD SVG 1.1//EN\"\r\n",
       " \"http://www.w3.org/Graphics/SVG/1.1/DTD/svg11.dtd\">\r\n",
       "<!-- Generated by graphviz version 2.50.0 (0)\r\n",
       " -->\r\n",
       "<!-- Title: polars_query Pages: 1 -->\r\n",
       "<svg width=\"274pt\" height=\"294pt\"\r\n",
       " viewBox=\"0.00 0.00 274.00 294.00\" xmlns=\"http://www.w3.org/2000/svg\" xmlns:xlink=\"http://www.w3.org/1999/xlink\">\r\n",
       "<g id=\"graph0\" class=\"graph\" transform=\"scale(1 1) rotate(0) translate(4 290)\">\r\n",
       "<title>polars_query</title>\r\n",
       "<polygon fill=\"white\" stroke=\"transparent\" points=\"-4,4 -4,-290 270,-290 270,4 -4,4\"/>\r\n",
       "<!-- AGG [col(&quot;played_duration&quot;).sum()]\r\n",
       "BY\r\n",
       "[col(&quot;user_id&quot;),col(&quot;title_id&quot;)] [(0, 0)] [(0, 0)] -->\r\n",
       "<g id=\"node1\" class=\"node\">\r\n",
       "<title>AGG [col(&quot;played_duration&quot;).sum()]\r\n",
       "BY\r\n",
       "[col(&quot;user_id&quot;),col(&quot;title_id&quot;)] [(0, 0)] [(0, 0)]</title>\r\n",
       "<polygon fill=\"none\" stroke=\"black\" points=\"245.5,-286 20.5,-286 20.5,-233 245.5,-233 245.5,-286\"/>\r\n",
       "<text text-anchor=\"middle\" x=\"133\" y=\"-270.8\" font-family=\"Times New Roman,serif\" font-size=\"14.00\">AGG [col(&quot;played_duration&quot;).sum()]</text>\r\n",
       "<text text-anchor=\"middle\" x=\"133\" y=\"-255.8\" font-family=\"Times New Roman,serif\" font-size=\"14.00\">BY</text>\r\n",
       "<text text-anchor=\"middle\" x=\"133\" y=\"-240.8\" font-family=\"Times New Roman,serif\" font-size=\"14.00\">[col(&quot;user_id&quot;),col(&quot;title_id&quot;)] [(0, 0)]</text>\r\n",
       "</g>\r\n",
       "<!-- SORT BY [col(&quot;title_id&quot;)] [(0, 1)] -->\r\n",
       "<g id=\"node2\" class=\"node\">\r\n",
       "<title>SORT BY [col(&quot;title_id&quot;)] [(0, 1)]</title>\r\n",
       "<polygon fill=\"none\" stroke=\"black\" points=\"213.5,-197 52.5,-197 52.5,-161 213.5,-161 213.5,-197\"/>\r\n",
       "<text text-anchor=\"middle\" x=\"133\" y=\"-175.3\" font-family=\"Times New Roman,serif\" font-size=\"14.00\">SORT BY [col(&quot;title_id&quot;)]</text>\r\n",
       "</g>\r\n",
       "<!-- AGG [col(&quot;played_duration&quot;).sum()]\r\n",
       "BY\r\n",
       "[col(&quot;user_id&quot;),col(&quot;title_id&quot;)] [(0, 0)] [(0, 0)]&#45;&#45;SORT BY [col(&quot;title_id&quot;)] [(0, 1)] -->\r\n",
       "<g id=\"edge1\" class=\"edge\">\r\n",
       "<title>AGG [col(&quot;played_duration&quot;).sum()]\r\n",
       "BY\r\n",
       "[col(&quot;user_id&quot;),col(&quot;title_id&quot;)] [(0, 0)] [(0, 0)]&#45;&#45;SORT BY [col(&quot;title_id&quot;)] [(0, 1)]</title>\r\n",
       "<path fill=\"none\" stroke=\"black\" d=\"M133,-232.8C133,-221.17 133,-207.74 133,-197.33\"/>\r\n",
       "</g>\r\n",
       "<!-- π 3/10 [(0, 2)] -->\r\n",
       "<g id=\"node3\" class=\"node\">\r\n",
       "<title>π 3/10 [(0, 2)]</title>\r\n",
       "<polygon fill=\"none\" stroke=\"black\" points=\"160,-125 106,-125 106,-89 160,-89 160,-125\"/>\r\n",
       "<text text-anchor=\"middle\" x=\"133\" y=\"-103.3\" font-family=\"Times New Roman,serif\" font-size=\"14.00\">π 3/10</text>\r\n",
       "</g>\r\n",
       "<!-- SORT BY [col(&quot;title_id&quot;)] [(0, 1)]&#45;&#45;π 3/10 [(0, 2)] -->\r\n",
       "<g id=\"edge2\" class=\"edge\">\r\n",
       "<title>SORT BY [col(&quot;title_id&quot;)] [(0, 1)]&#45;&#45;π 3/10 [(0, 2)]</title>\r\n",
       "<path fill=\"none\" stroke=\"black\" d=\"M133,-160.7C133,-149.85 133,-135.92 133,-125.1\"/>\r\n",
       "</g>\r\n",
       "<!-- Csv SCAN ../kkdata/train_source_events.csv;\r\n",
       "π */10;\r\n",
       "σ &#45; [(0, 3)] -->\r\n",
       "<g id=\"node4\" class=\"node\">\r\n",
       "<title>Csv SCAN ../kkdata/train_source_events.csv;\r\n",
       "π */10;\r\n",
       "σ &#45; [(0, 3)]</title>\r\n",
       "<polygon fill=\"none\" stroke=\"black\" points=\"266,-53 0,-53 0,0 266,0 266,-53\"/>\r\n",
       "<text text-anchor=\"middle\" x=\"133\" y=\"-37.8\" font-family=\"Times New Roman,serif\" font-size=\"14.00\">Csv SCAN ../kkdata/train_source_events.csv;</text>\r\n",
       "<text text-anchor=\"middle\" x=\"133\" y=\"-22.8\" font-family=\"Times New Roman,serif\" font-size=\"14.00\">π */10;</text>\r\n",
       "<text text-anchor=\"middle\" x=\"133\" y=\"-7.8\" font-family=\"Times New Roman,serif\" font-size=\"14.00\">σ &#45;</text>\r\n",
       "</g>\r\n",
       "<!-- π 3/10 [(0, 2)]&#45;&#45;Csv SCAN ../kkdata/train_source_events.csv;\r\n",
       "π */10;\r\n",
       "σ &#45; [(0, 3)] -->\r\n",
       "<g id=\"edge3\" class=\"edge\">\r\n",
       "<title>π 3/10 [(0, 2)]&#45;&#45;Csv SCAN ../kkdata/train_source_events.csv;\r\n",
       "π */10;\r\n",
       "σ &#45; [(0, 3)]</title>\r\n",
       "<path fill=\"none\" stroke=\"black\" d=\"M133,-88.97C133,-78.51 133,-64.9 133,-53.16\"/>\r\n",
       "</g>\r\n",
       "</g>\r\n",
       "</svg>\r\n"
      ],
      "text/plain": [
       "<LazyFrame [3 cols, {\"user_id\": Int64 … \"played_duration\": Int64}] at 0x1F4B7ABD4D0>"
      ]
     },
     "execution_count": 74,
     "metadata": {},
     "output_type": "execute_result"
    }
   ],
   "source": [
    "\n",
    "group_by_key = [\"user_id\", \"title_id\"]\n",
    "query_plan = (pl.scan_csv(\"../kkdata/train_source_events.csv\").select(group_by_key+[\"played_duration\"])\n",
    "    .sort(by='title_id')\n",
    "    .group_by([\"user_id\", \"title_id\"])\n",
    "    .sum()\n",
    ")\n",
    "query_plan"
   ]
  },
  {
   "cell_type": "code",
   "execution_count": 75,
   "id": "fa9a70a7",
   "metadata": {},
   "outputs": [
    {
     "data": {
      "text/html": [
       "<div><style>\n",
       ".dataframe > thead > tr > th,\n",
       ".dataframe > tbody > tr > td {\n",
       "  text-align: right;\n",
       "  white-space: pre-wrap;\n",
       "}\n",
       "</style>\n",
       "<small>shape: (30_460, 6_033)</small><table border=\"1\" class=\"dataframe\"><thead><tr><th>user_id</th><th>0</th><th>1</th><th>2</th><th>3</th><th>4</th><th>5</th><th>6</th><th>7</th><th>8</th><th>9</th><th>10</th><th>11</th><th>12</th><th>13</th><th>14</th><th>15</th><th>16</th><th>17</th><th>18</th><th>19</th><th>20</th><th>21</th><th>22</th><th>23</th><th>24</th><th>25</th><th>26</th><th>27</th><th>28</th><th>29</th><th>30</th><th>31</th><th>32</th><th>33</th><th>34</th><th>35</th><th>&hellip;</th><th>5082</th><th>5336</th><th>5356</th><th>5418</th><th>5459</th><th>5534</th><th>5538</th><th>5608</th><th>5637</th><th>5666</th><th>5769</th><th>5824</th><th>5870</th><th>5873</th><th>5894</th><th>5897</th><th>5960</th><th>5997</th><th>6052</th><th>6080</th><th>2245</th><th>2521</th><th>3282</th><th>4832</th><th>4940</th><th>5002</th><th>5120</th><th>5169</th><th>5540</th><th>5660</th><th>5664</th><th>5670</th><th>5675</th><th>6034</th><th>6050</th><th>6063</th><th>6094</th></tr><tr><td>i64</td><td>i64</td><td>i64</td><td>i64</td><td>i64</td><td>i64</td><td>i64</td><td>i64</td><td>i64</td><td>i64</td><td>i64</td><td>i64</td><td>i64</td><td>i64</td><td>i64</td><td>i64</td><td>i64</td><td>i64</td><td>i64</td><td>i64</td><td>i64</td><td>i64</td><td>i64</td><td>i64</td><td>i64</td><td>i64</td><td>i64</td><td>i64</td><td>i64</td><td>i64</td><td>i64</td><td>i64</td><td>i64</td><td>i64</td><td>i64</td><td>i64</td><td>i64</td><td>&hellip;</td><td>i64</td><td>i64</td><td>i64</td><td>i64</td><td>i64</td><td>i64</td><td>i64</td><td>i64</td><td>i64</td><td>i64</td><td>i64</td><td>i64</td><td>i64</td><td>i64</td><td>i64</td><td>i64</td><td>i64</td><td>i64</td><td>i64</td><td>i64</td><td>i64</td><td>i64</td><td>i64</td><td>i64</td><td>i64</td><td>i64</td><td>i64</td><td>i64</td><td>i64</td><td>i64</td><td>i64</td><td>i64</td><td>i64</td><td>i64</td><td>i64</td><td>i64</td><td>i64</td></tr></thead><tbody><tr><td>0</td><td>30201</td><td>0</td><td>0</td><td>0</td><td>56004</td><td>24669</td><td>2811</td><td>503</td><td>0</td><td>0</td><td>0</td><td>6921</td><td>2645</td><td>0</td><td>12280</td><td>0</td><td>5001</td><td>0</td><td>0</td><td>0</td><td>0</td><td>25072</td><td>0</td><td>0</td><td>0</td><td>0</td><td>0</td><td>70296</td><td>49567</td><td>60</td><td>0</td><td>0</td><td>0</td><td>0</td><td>0</td><td>0</td><td>&hellip;</td><td>0</td><td>0</td><td>0</td><td>0</td><td>0</td><td>0</td><td>0</td><td>0</td><td>0</td><td>0</td><td>0</td><td>0</td><td>0</td><td>0</td><td>0</td><td>0</td><td>0</td><td>0</td><td>0</td><td>0</td><td>0</td><td>0</td><td>0</td><td>0</td><td>0</td><td>0</td><td>0</td><td>0</td><td>0</td><td>0</td><td>0</td><td>0</td><td>0</td><td>0</td><td>0</td><td>0</td><td>0</td></tr><tr><td>745</td><td>37747</td><td>0</td><td>5268</td><td>0</td><td>0</td><td>0</td><td>0</td><td>0</td><td>0</td><td>0</td><td>0</td><td>0</td><td>0</td><td>0</td><td>0</td><td>0</td><td>7180</td><td>0</td><td>0</td><td>0</td><td>0</td><td>0</td><td>0</td><td>4159</td><td>0</td><td>0</td><td>0</td><td>36711</td><td>0</td><td>0</td><td>0</td><td>0</td><td>0</td><td>0</td><td>0</td><td>0</td><td>&hellip;</td><td>0</td><td>0</td><td>0</td><td>0</td><td>0</td><td>0</td><td>0</td><td>0</td><td>0</td><td>0</td><td>0</td><td>0</td><td>0</td><td>0</td><td>0</td><td>0</td><td>0</td><td>0</td><td>0</td><td>0</td><td>0</td><td>0</td><td>0</td><td>0</td><td>0</td><td>0</td><td>0</td><td>0</td><td>0</td><td>0</td><td>0</td><td>0</td><td>0</td><td>0</td><td>0</td><td>0</td><td>0</td></tr><tr><td>934</td><td>27006</td><td>0</td><td>0</td><td>34781</td><td>0</td><td>0</td><td>28814</td><td>15611</td><td>0</td><td>0</td><td>17</td><td>3623</td><td>0</td><td>0</td><td>0</td><td>0</td><td>0</td><td>0</td><td>0</td><td>0</td><td>0</td><td>0</td><td>3310</td><td>0</td><td>0</td><td>0</td><td>0</td><td>0</td><td>40814</td><td>7029</td><td>0</td><td>0</td><td>35675</td><td>0</td><td>0</td><td>0</td><td>&hellip;</td><td>0</td><td>0</td><td>0</td><td>0</td><td>0</td><td>0</td><td>0</td><td>0</td><td>0</td><td>0</td><td>0</td><td>0</td><td>0</td><td>0</td><td>0</td><td>0</td><td>0</td><td>0</td><td>0</td><td>0</td><td>0</td><td>0</td><td>0</td><td>0</td><td>0</td><td>0</td><td>0</td><td>0</td><td>0</td><td>0</td><td>0</td><td>0</td><td>0</td><td>0</td><td>0</td><td>0</td><td>0</td></tr><tr><td>1231</td><td>27292</td><td>0</td><td>0</td><td>17184</td><td>0</td><td>20739</td><td>0</td><td>24677</td><td>623</td><td>69756</td><td>0</td><td>0</td><td>0</td><td>0</td><td>21249</td><td>0</td><td>0</td><td>0</td><td>0</td><td>0</td><td>0</td><td>0</td><td>0</td><td>3695</td><td>916</td><td>0</td><td>0</td><td>37247</td><td>0</td><td>0</td><td>0</td><td>0</td><td>0</td><td>0</td><td>0</td><td>0</td><td>&hellip;</td><td>0</td><td>0</td><td>0</td><td>0</td><td>0</td><td>0</td><td>0</td><td>0</td><td>0</td><td>0</td><td>0</td><td>0</td><td>0</td><td>0</td><td>0</td><td>0</td><td>0</td><td>0</td><td>0</td><td>0</td><td>0</td><td>0</td><td>0</td><td>0</td><td>0</td><td>0</td><td>0</td><td>0</td><td>0</td><td>0</td><td>0</td><td>0</td><td>0</td><td>0</td><td>0</td><td>0</td><td>0</td></tr><tr><td>1246</td><td>10835</td><td>0</td><td>0</td><td>2955</td><td>0</td><td>0</td><td>0</td><td>0</td><td>0</td><td>0</td><td>0</td><td>0</td><td>0</td><td>0</td><td>0</td><td>0</td><td>0</td><td>0</td><td>0</td><td>19</td><td>0</td><td>0</td><td>0</td><td>0</td><td>0</td><td>0</td><td>0</td><td>0</td><td>0</td><td>0</td><td>0</td><td>0</td><td>0</td><td>0</td><td>0</td><td>0</td><td>&hellip;</td><td>0</td><td>0</td><td>0</td><td>0</td><td>0</td><td>0</td><td>0</td><td>0</td><td>0</td><td>0</td><td>0</td><td>0</td><td>0</td><td>0</td><td>0</td><td>0</td><td>0</td><td>0</td><td>0</td><td>0</td><td>0</td><td>0</td><td>0</td><td>0</td><td>0</td><td>0</td><td>0</td><td>0</td><td>0</td><td>0</td><td>0</td><td>0</td><td>0</td><td>0</td><td>0</td><td>0</td><td>0</td></tr><tr><td>1543</td><td>25840</td><td>1346</td><td>22722</td><td>0</td><td>0</td><td>0</td><td>0</td><td>0</td><td>0</td><td>0</td><td>0</td><td>0</td><td>0</td><td>0</td><td>0</td><td>0</td><td>1525</td><td>0</td><td>0</td><td>0</td><td>0</td><td>0</td><td>182</td><td>0</td><td>0</td><td>0</td><td>0</td><td>0</td><td>0</td><td>0</td><td>0</td><td>0</td><td>0</td><td>0</td><td>0</td><td>421</td><td>&hellip;</td><td>0</td><td>0</td><td>0</td><td>0</td><td>0</td><td>0</td><td>0</td><td>0</td><td>0</td><td>0</td><td>0</td><td>0</td><td>0</td><td>0</td><td>0</td><td>0</td><td>0</td><td>0</td><td>0</td><td>0</td><td>0</td><td>0</td><td>0</td><td>0</td><td>0</td><td>0</td><td>0</td><td>0</td><td>0</td><td>0</td><td>0</td><td>0</td><td>0</td><td>0</td><td>0</td><td>0</td><td>0</td></tr><tr><td>1655</td><td>24051</td><td>0</td><td>0</td><td>0</td><td>0</td><td>0</td><td>0</td><td>0</td><td>0</td><td>0</td><td>0</td><td>0</td><td>0</td><td>0</td><td>0</td><td>0</td><td>0</td><td>0</td><td>0</td><td>0</td><td>0</td><td>0</td><td>0</td><td>0</td><td>0</td><td>0</td><td>0</td><td>0</td><td>0</td><td>0</td><td>0</td><td>0</td><td>0</td><td>0</td><td>0</td><td>0</td><td>&hellip;</td><td>0</td><td>0</td><td>0</td><td>0</td><td>0</td><td>0</td><td>0</td><td>0</td><td>0</td><td>0</td><td>0</td><td>0</td><td>0</td><td>0</td><td>0</td><td>0</td><td>0</td><td>0</td><td>0</td><td>0</td><td>0</td><td>0</td><td>0</td><td>0</td><td>0</td><td>0</td><td>0</td><td>0</td><td>0</td><td>0</td><td>0</td><td>0</td><td>0</td><td>0</td><td>0</td><td>0</td><td>0</td></tr><tr><td>1845</td><td>19852</td><td>0</td><td>166</td><td>19621</td><td>8812</td><td>6529</td><td>0</td><td>15393</td><td>0</td><td>0</td><td>0</td><td>14827</td><td>0</td><td>0</td><td>13956</td><td>0</td><td>0</td><td>11097</td><td>0</td><td>0</td><td>0</td><td>0</td><td>0</td><td>12465</td><td>179</td><td>35</td><td>32</td><td>0</td><td>0</td><td>0</td><td>0</td><td>0</td><td>0</td><td>0</td><td>0</td><td>0</td><td>&hellip;</td><td>0</td><td>0</td><td>0</td><td>0</td><td>0</td><td>0</td><td>0</td><td>0</td><td>0</td><td>0</td><td>0</td><td>0</td><td>0</td><td>0</td><td>0</td><td>0</td><td>0</td><td>0</td><td>0</td><td>0</td><td>0</td><td>0</td><td>0</td><td>0</td><td>0</td><td>0</td><td>0</td><td>0</td><td>0</td><td>0</td><td>0</td><td>0</td><td>0</td><td>0</td><td>0</td><td>0</td><td>0</td></tr><tr><td>2144</td><td>10207</td><td>2480</td><td>0</td><td>0</td><td>0</td><td>0</td><td>0</td><td>0</td><td>0</td><td>0</td><td>0</td><td>0</td><td>0</td><td>0</td><td>0</td><td>0</td><td>5338</td><td>0</td><td>0</td><td>0</td><td>0</td><td>0</td><td>12</td><td>0</td><td>0</td><td>0</td><td>0</td><td>0</td><td>1002</td><td>0</td><td>0</td><td>0</td><td>0</td><td>21840</td><td>0</td><td>0</td><td>&hellip;</td><td>0</td><td>0</td><td>0</td><td>0</td><td>0</td><td>0</td><td>0</td><td>0</td><td>0</td><td>0</td><td>0</td><td>0</td><td>0</td><td>0</td><td>0</td><td>0</td><td>0</td><td>0</td><td>0</td><td>0</td><td>0</td><td>0</td><td>0</td><td>0</td><td>0</td><td>0</td><td>0</td><td>0</td><td>0</td><td>0</td><td>0</td><td>0</td><td>0</td><td>0</td><td>0</td><td>0</td><td>0</td></tr><tr><td>2249</td><td>23391</td><td>0</td><td>27302</td><td>0</td><td>0</td><td>13418</td><td>26</td><td>0</td><td>0</td><td>78847</td><td>0</td><td>19510</td><td>0</td><td>0</td><td>0</td><td>0</td><td>0</td><td>0</td><td>0</td><td>0</td><td>0</td><td>0</td><td>2</td><td>0</td><td>0</td><td>0</td><td>0</td><td>0</td><td>0</td><td>0</td><td>0</td><td>0</td><td>0</td><td>0</td><td>0</td><td>0</td><td>&hellip;</td><td>0</td><td>0</td><td>0</td><td>0</td><td>0</td><td>0</td><td>0</td><td>0</td><td>0</td><td>0</td><td>0</td><td>0</td><td>0</td><td>0</td><td>0</td><td>0</td><td>0</td><td>0</td><td>0</td><td>0</td><td>0</td><td>0</td><td>0</td><td>0</td><td>0</td><td>0</td><td>0</td><td>0</td><td>0</td><td>0</td><td>0</td><td>0</td><td>0</td><td>0</td><td>0</td><td>0</td><td>0</td></tr><tr><td>2565</td><td>3946</td><td>0</td><td>0</td><td>0</td><td>0</td><td>8574</td><td>0</td><td>0</td><td>5312</td><td>0</td><td>0</td><td>24581</td><td>0</td><td>0</td><td>25588</td><td>0</td><td>0</td><td>18993</td><td>0</td><td>0</td><td>0</td><td>0</td><td>0</td><td>0</td><td>0</td><td>0</td><td>0</td><td>0</td><td>0</td><td>0</td><td>0</td><td>0</td><td>0</td><td>0</td><td>0</td><td>0</td><td>&hellip;</td><td>0</td><td>0</td><td>0</td><td>0</td><td>0</td><td>0</td><td>0</td><td>0</td><td>0</td><td>0</td><td>0</td><td>0</td><td>0</td><td>0</td><td>0</td><td>0</td><td>0</td><td>0</td><td>0</td><td>0</td><td>0</td><td>0</td><td>0</td><td>0</td><td>0</td><td>0</td><td>0</td><td>0</td><td>0</td><td>0</td><td>0</td><td>0</td><td>0</td><td>0</td><td>0</td><td>0</td><td>0</td></tr><tr><td>3069</td><td>4076</td><td>0</td><td>0</td><td>0</td><td>6231</td><td>42461</td><td>6074</td><td>0</td><td>0</td><td>0</td><td>0</td><td>0</td><td>0</td><td>0</td><td>0</td><td>0</td><td>0</td><td>19931</td><td>0</td><td>0</td><td>0</td><td>0</td><td>0</td><td>0</td><td>0</td><td>0</td><td>0</td><td>8119</td><td>24369</td><td>0</td><td>0</td><td>0</td><td>0</td><td>0</td><td>0</td><td>0</td><td>&hellip;</td><td>0</td><td>0</td><td>0</td><td>0</td><td>0</td><td>0</td><td>0</td><td>0</td><td>0</td><td>0</td><td>0</td><td>0</td><td>0</td><td>0</td><td>0</td><td>0</td><td>0</td><td>0</td><td>0</td><td>0</td><td>0</td><td>0</td><td>0</td><td>0</td><td>0</td><td>0</td><td>0</td><td>0</td><td>0</td><td>0</td><td>0</td><td>0</td><td>0</td><td>0</td><td>0</td><td>0</td><td>0</td></tr><tr><td>&hellip;</td><td>&hellip;</td><td>&hellip;</td><td>&hellip;</td><td>&hellip;</td><td>&hellip;</td><td>&hellip;</td><td>&hellip;</td><td>&hellip;</td><td>&hellip;</td><td>&hellip;</td><td>&hellip;</td><td>&hellip;</td><td>&hellip;</td><td>&hellip;</td><td>&hellip;</td><td>&hellip;</td><td>&hellip;</td><td>&hellip;</td><td>&hellip;</td><td>&hellip;</td><td>&hellip;</td><td>&hellip;</td><td>&hellip;</td><td>&hellip;</td><td>&hellip;</td><td>&hellip;</td><td>&hellip;</td><td>&hellip;</td><td>&hellip;</td><td>&hellip;</td><td>&hellip;</td><td>&hellip;</td><td>&hellip;</td><td>&hellip;</td><td>&hellip;</td><td>&hellip;</td><td>&hellip;</td><td>&hellip;</td><td>&hellip;</td><td>&hellip;</td><td>&hellip;</td><td>&hellip;</td><td>&hellip;</td><td>&hellip;</td><td>&hellip;</td><td>&hellip;</td><td>&hellip;</td><td>&hellip;</td><td>&hellip;</td><td>&hellip;</td><td>&hellip;</td><td>&hellip;</td><td>&hellip;</td><td>&hellip;</td><td>&hellip;</td><td>&hellip;</td><td>&hellip;</td><td>&hellip;</td><td>&hellip;</td><td>&hellip;</td><td>&hellip;</td><td>&hellip;</td><td>&hellip;</td><td>&hellip;</td><td>&hellip;</td><td>&hellip;</td><td>&hellip;</td><td>&hellip;</td><td>&hellip;</td><td>&hellip;</td><td>&hellip;</td><td>&hellip;</td><td>&hellip;</td><td>&hellip;</td></tr><tr><td>15715</td><td>0</td><td>0</td><td>0</td><td>0</td><td>0</td><td>0</td><td>0</td><td>0</td><td>0</td><td>0</td><td>0</td><td>0</td><td>0</td><td>0</td><td>0</td><td>0</td><td>0</td><td>0</td><td>0</td><td>0</td><td>0</td><td>0</td><td>0</td><td>0</td><td>0</td><td>0</td><td>0</td><td>0</td><td>0</td><td>0</td><td>0</td><td>0</td><td>0</td><td>0</td><td>0</td><td>0</td><td>&hellip;</td><td>0</td><td>0</td><td>0</td><td>0</td><td>0</td><td>0</td><td>0</td><td>0</td><td>0</td><td>0</td><td>0</td><td>0</td><td>0</td><td>0</td><td>0</td><td>0</td><td>0</td><td>0</td><td>0</td><td>0</td><td>0</td><td>0</td><td>0</td><td>0</td><td>0</td><td>0</td><td>0</td><td>0</td><td>0</td><td>0</td><td>0</td><td>0</td><td>0</td><td>0</td><td>0</td><td>0</td><td>0</td></tr><tr><td>3182</td><td>0</td><td>0</td><td>0</td><td>0</td><td>0</td><td>0</td><td>0</td><td>0</td><td>0</td><td>0</td><td>0</td><td>0</td><td>0</td><td>0</td><td>0</td><td>0</td><td>0</td><td>0</td><td>0</td><td>0</td><td>0</td><td>0</td><td>0</td><td>0</td><td>0</td><td>0</td><td>0</td><td>0</td><td>0</td><td>0</td><td>0</td><td>0</td><td>0</td><td>0</td><td>0</td><td>0</td><td>&hellip;</td><td>0</td><td>0</td><td>0</td><td>0</td><td>0</td><td>0</td><td>0</td><td>0</td><td>0</td><td>0</td><td>0</td><td>0</td><td>0</td><td>0</td><td>0</td><td>0</td><td>0</td><td>0</td><td>0</td><td>0</td><td>0</td><td>0</td><td>0</td><td>0</td><td>0</td><td>0</td><td>0</td><td>0</td><td>0</td><td>0</td><td>0</td><td>0</td><td>0</td><td>0</td><td>0</td><td>0</td><td>0</td></tr><tr><td>1093</td><td>0</td><td>0</td><td>0</td><td>0</td><td>0</td><td>0</td><td>0</td><td>0</td><td>0</td><td>0</td><td>0</td><td>0</td><td>0</td><td>0</td><td>0</td><td>0</td><td>0</td><td>0</td><td>0</td><td>0</td><td>0</td><td>0</td><td>0</td><td>0</td><td>0</td><td>0</td><td>0</td><td>0</td><td>0</td><td>0</td><td>0</td><td>0</td><td>0</td><td>0</td><td>0</td><td>0</td><td>&hellip;</td><td>0</td><td>0</td><td>0</td><td>0</td><td>0</td><td>0</td><td>0</td><td>0</td><td>0</td><td>0</td><td>0</td><td>0</td><td>0</td><td>0</td><td>0</td><td>0</td><td>0</td><td>0</td><td>0</td><td>0</td><td>0</td><td>0</td><td>0</td><td>0</td><td>0</td><td>0</td><td>0</td><td>0</td><td>0</td><td>0</td><td>0</td><td>0</td><td>0</td><td>0</td><td>0</td><td>0</td><td>0</td></tr><tr><td>11002</td><td>0</td><td>0</td><td>0</td><td>0</td><td>0</td><td>0</td><td>0</td><td>0</td><td>0</td><td>0</td><td>0</td><td>0</td><td>0</td><td>0</td><td>0</td><td>0</td><td>0</td><td>0</td><td>0</td><td>0</td><td>0</td><td>0</td><td>0</td><td>0</td><td>0</td><td>0</td><td>0</td><td>0</td><td>0</td><td>0</td><td>0</td><td>0</td><td>0</td><td>0</td><td>0</td><td>0</td><td>&hellip;</td><td>0</td><td>0</td><td>0</td><td>0</td><td>0</td><td>0</td><td>0</td><td>0</td><td>0</td><td>0</td><td>0</td><td>0</td><td>0</td><td>0</td><td>0</td><td>0</td><td>0</td><td>0</td><td>0</td><td>0</td><td>0</td><td>0</td><td>0</td><td>0</td><td>0</td><td>0</td><td>0</td><td>0</td><td>0</td><td>0</td><td>0</td><td>0</td><td>0</td><td>0</td><td>0</td><td>0</td><td>0</td></tr><tr><td>4362</td><td>0</td><td>0</td><td>0</td><td>0</td><td>0</td><td>0</td><td>0</td><td>0</td><td>0</td><td>0</td><td>0</td><td>0</td><td>0</td><td>0</td><td>0</td><td>0</td><td>0</td><td>0</td><td>0</td><td>0</td><td>0</td><td>0</td><td>0</td><td>0</td><td>0</td><td>0</td><td>0</td><td>0</td><td>0</td><td>0</td><td>0</td><td>0</td><td>0</td><td>0</td><td>0</td><td>0</td><td>&hellip;</td><td>0</td><td>0</td><td>0</td><td>0</td><td>0</td><td>0</td><td>0</td><td>0</td><td>0</td><td>0</td><td>0</td><td>0</td><td>0</td><td>0</td><td>0</td><td>0</td><td>0</td><td>0</td><td>0</td><td>0</td><td>0</td><td>0</td><td>0</td><td>0</td><td>0</td><td>0</td><td>0</td><td>0</td><td>0</td><td>0</td><td>0</td><td>0</td><td>0</td><td>0</td><td>0</td><td>0</td><td>0</td></tr><tr><td>8701</td><td>0</td><td>0</td><td>0</td><td>0</td><td>0</td><td>0</td><td>0</td><td>0</td><td>0</td><td>0</td><td>0</td><td>0</td><td>0</td><td>0</td><td>0</td><td>0</td><td>0</td><td>0</td><td>0</td><td>0</td><td>0</td><td>0</td><td>0</td><td>0</td><td>0</td><td>0</td><td>0</td><td>0</td><td>0</td><td>0</td><td>0</td><td>0</td><td>0</td><td>0</td><td>0</td><td>0</td><td>&hellip;</td><td>0</td><td>0</td><td>0</td><td>0</td><td>0</td><td>0</td><td>0</td><td>0</td><td>0</td><td>0</td><td>0</td><td>0</td><td>0</td><td>0</td><td>0</td><td>0</td><td>0</td><td>0</td><td>0</td><td>0</td><td>0</td><td>0</td><td>0</td><td>0</td><td>0</td><td>0</td><td>0</td><td>0</td><td>0</td><td>0</td><td>0</td><td>0</td><td>0</td><td>0</td><td>0</td><td>0</td><td>0</td></tr><tr><td>15712</td><td>0</td><td>0</td><td>0</td><td>0</td><td>0</td><td>0</td><td>0</td><td>0</td><td>0</td><td>0</td><td>0</td><td>0</td><td>0</td><td>0</td><td>0</td><td>0</td><td>0</td><td>0</td><td>0</td><td>0</td><td>0</td><td>0</td><td>0</td><td>0</td><td>0</td><td>0</td><td>0</td><td>0</td><td>0</td><td>0</td><td>0</td><td>0</td><td>0</td><td>0</td><td>0</td><td>0</td><td>&hellip;</td><td>0</td><td>0</td><td>0</td><td>0</td><td>0</td><td>0</td><td>0</td><td>0</td><td>0</td><td>0</td><td>0</td><td>0</td><td>0</td><td>0</td><td>0</td><td>0</td><td>0</td><td>0</td><td>0</td><td>0</td><td>0</td><td>0</td><td>0</td><td>0</td><td>0</td><td>0</td><td>0</td><td>0</td><td>0</td><td>0</td><td>0</td><td>0</td><td>0</td><td>0</td><td>0</td><td>0</td><td>0</td></tr><tr><td>21660</td><td>0</td><td>0</td><td>0</td><td>0</td><td>0</td><td>0</td><td>0</td><td>0</td><td>0</td><td>0</td><td>0</td><td>0</td><td>0</td><td>0</td><td>0</td><td>0</td><td>0</td><td>0</td><td>0</td><td>0</td><td>0</td><td>0</td><td>0</td><td>0</td><td>0</td><td>0</td><td>0</td><td>0</td><td>0</td><td>0</td><td>0</td><td>0</td><td>0</td><td>0</td><td>0</td><td>0</td><td>&hellip;</td><td>0</td><td>0</td><td>0</td><td>0</td><td>0</td><td>0</td><td>0</td><td>0</td><td>0</td><td>0</td><td>0</td><td>0</td><td>0</td><td>0</td><td>0</td><td>0</td><td>0</td><td>0</td><td>0</td><td>0</td><td>0</td><td>0</td><td>0</td><td>0</td><td>0</td><td>0</td><td>0</td><td>0</td><td>0</td><td>0</td><td>0</td><td>0</td><td>0</td><td>0</td><td>0</td><td>0</td><td>0</td></tr><tr><td>2337</td><td>0</td><td>0</td><td>0</td><td>0</td><td>0</td><td>0</td><td>0</td><td>0</td><td>0</td><td>0</td><td>0</td><td>0</td><td>0</td><td>0</td><td>0</td><td>0</td><td>0</td><td>0</td><td>0</td><td>0</td><td>0</td><td>0</td><td>0</td><td>0</td><td>0</td><td>0</td><td>0</td><td>0</td><td>0</td><td>0</td><td>0</td><td>0</td><td>0</td><td>0</td><td>0</td><td>0</td><td>&hellip;</td><td>0</td><td>0</td><td>0</td><td>0</td><td>0</td><td>0</td><td>0</td><td>0</td><td>0</td><td>0</td><td>0</td><td>0</td><td>0</td><td>0</td><td>0</td><td>0</td><td>0</td><td>0</td><td>0</td><td>0</td><td>0</td><td>0</td><td>0</td><td>0</td><td>0</td><td>0</td><td>0</td><td>0</td><td>0</td><td>0</td><td>0</td><td>0</td><td>0</td><td>0</td><td>0</td><td>0</td><td>0</td></tr><tr><td>9422</td><td>0</td><td>0</td><td>0</td><td>0</td><td>0</td><td>0</td><td>0</td><td>0</td><td>0</td><td>0</td><td>0</td><td>0</td><td>0</td><td>0</td><td>0</td><td>0</td><td>0</td><td>0</td><td>0</td><td>0</td><td>0</td><td>0</td><td>0</td><td>0</td><td>0</td><td>0</td><td>0</td><td>0</td><td>0</td><td>0</td><td>0</td><td>0</td><td>0</td><td>0</td><td>0</td><td>0</td><td>&hellip;</td><td>0</td><td>0</td><td>0</td><td>0</td><td>0</td><td>0</td><td>0</td><td>0</td><td>0</td><td>0</td><td>0</td><td>0</td><td>0</td><td>0</td><td>0</td><td>0</td><td>0</td><td>0</td><td>0</td><td>0</td><td>0</td><td>0</td><td>0</td><td>0</td><td>0</td><td>0</td><td>0</td><td>0</td><td>0</td><td>0</td><td>0</td><td>0</td><td>0</td><td>0</td><td>0</td><td>0</td><td>0</td></tr><tr><td>29618</td><td>0</td><td>0</td><td>0</td><td>0</td><td>0</td><td>0</td><td>0</td><td>0</td><td>0</td><td>0</td><td>0</td><td>0</td><td>0</td><td>0</td><td>0</td><td>0</td><td>0</td><td>0</td><td>0</td><td>0</td><td>0</td><td>0</td><td>0</td><td>0</td><td>0</td><td>0</td><td>0</td><td>0</td><td>0</td><td>0</td><td>0</td><td>0</td><td>0</td><td>0</td><td>0</td><td>0</td><td>&hellip;</td><td>0</td><td>0</td><td>0</td><td>0</td><td>0</td><td>0</td><td>0</td><td>0</td><td>0</td><td>0</td><td>0</td><td>0</td><td>0</td><td>0</td><td>0</td><td>0</td><td>0</td><td>0</td><td>0</td><td>0</td><td>0</td><td>0</td><td>0</td><td>0</td><td>0</td><td>0</td><td>0</td><td>0</td><td>0</td><td>0</td><td>0</td><td>0</td><td>0</td><td>0</td><td>0</td><td>0</td><td>0</td></tr><tr><td>20477</td><td>0</td><td>0</td><td>0</td><td>0</td><td>0</td><td>0</td><td>0</td><td>0</td><td>0</td><td>0</td><td>0</td><td>0</td><td>0</td><td>0</td><td>0</td><td>0</td><td>0</td><td>0</td><td>0</td><td>0</td><td>0</td><td>0</td><td>0</td><td>0</td><td>0</td><td>0</td><td>0</td><td>0</td><td>0</td><td>0</td><td>0</td><td>0</td><td>0</td><td>0</td><td>0</td><td>0</td><td>&hellip;</td><td>0</td><td>0</td><td>0</td><td>0</td><td>0</td><td>0</td><td>0</td><td>0</td><td>0</td><td>0</td><td>0</td><td>0</td><td>0</td><td>0</td><td>0</td><td>0</td><td>0</td><td>0</td><td>0</td><td>0</td><td>0</td><td>0</td><td>0</td><td>0</td><td>0</td><td>0</td><td>0</td><td>0</td><td>0</td><td>0</td><td>0</td><td>0</td><td>0</td><td>0</td><td>0</td><td>0</td><td>0</td></tr></tbody></table></div>"
      ],
      "text/plain": [
       "shape: (30_460, 6_033)\n",
       "┌─────────┬───────┬─────┬──────┬───┬──────┬──────┬──────┬──────┐\n",
       "│ user_id ┆ 0     ┆ 1   ┆ 2    ┆ … ┆ 6034 ┆ 6050 ┆ 6063 ┆ 6094 │\n",
       "│ ---     ┆ ---   ┆ --- ┆ ---  ┆   ┆ ---  ┆ ---  ┆ ---  ┆ ---  │\n",
       "│ i64     ┆ i64   ┆ i64 ┆ i64  ┆   ┆ i64  ┆ i64  ┆ i64  ┆ i64  │\n",
       "╞═════════╪═══════╪═════╪══════╪═══╪══════╪══════╪══════╪══════╡\n",
       "│ 0       ┆ 30201 ┆ 0   ┆ 0    ┆ … ┆ 0    ┆ 0    ┆ 0    ┆ 0    │\n",
       "│ 745     ┆ 37747 ┆ 0   ┆ 5268 ┆ … ┆ 0    ┆ 0    ┆ 0    ┆ 0    │\n",
       "│ 934     ┆ 27006 ┆ 0   ┆ 0    ┆ … ┆ 0    ┆ 0    ┆ 0    ┆ 0    │\n",
       "│ 1231    ┆ 27292 ┆ 0   ┆ 0    ┆ … ┆ 0    ┆ 0    ┆ 0    ┆ 0    │\n",
       "│ …       ┆ …     ┆ …   ┆ …    ┆ … ┆ …    ┆ …    ┆ …    ┆ …    │\n",
       "│ 2337    ┆ 0     ┆ 0   ┆ 0    ┆ … ┆ 0    ┆ 0    ┆ 0    ┆ 0    │\n",
       "│ 9422    ┆ 0     ┆ 0   ┆ 0    ┆ … ┆ 0    ┆ 0    ┆ 0    ┆ 0    │\n",
       "│ 29618   ┆ 0     ┆ 0   ┆ 0    ┆ … ┆ 0    ┆ 0    ┆ 0    ┆ 0    │\n",
       "│ 20477   ┆ 0     ┆ 0   ┆ 0    ┆ … ┆ 0    ┆ 0    ┆ 0    ┆ 0    │\n",
       "└─────────┴───────┴─────┴──────┴───┴──────┴──────┴──────┴──────┘"
      ]
     },
     "execution_count": 75,
     "metadata": {},
     "output_type": "execute_result"
    }
   ],
   "source": [
    "query_plan.collect().pivot(values=\"played_duration\", index=\"user_id\", columns=\"title_id\").fill_null(0)"
   ]
  },
  {
   "cell_type": "code",
   "execution_count": 78,
   "id": "1dce2a41",
   "metadata": {},
   "outputs": [
    {
     "data": {
      "text/html": [
       "<h4>NAIVE QUERY PLAN</h4><p>run <b>LazyFrame.show_graph()</b> to see the optimized version</p><?xml version=\"1.0\" encoding=\"UTF-8\" standalone=\"no\"?>\r\n",
       "<!DOCTYPE svg PUBLIC \"-//W3C//DTD SVG 1.1//EN\"\r\n",
       " \"http://www.w3.org/Graphics/SVG/1.1/DTD/svg11.dtd\">\r\n",
       "<!-- Generated by graphviz version 2.50.0 (0)\r\n",
       " -->\r\n",
       "<!-- Title: polars_query Pages: 1 -->\r\n",
       "<svg width=\"554pt\" height=\"239pt\"\r\n",
       " viewBox=\"0.00 0.00 553.50 239.00\" xmlns=\"http://www.w3.org/2000/svg\" xmlns:xlink=\"http://www.w3.org/1999/xlink\">\r\n",
       "<g id=\"graph0\" class=\"graph\" transform=\"scale(1 1) rotate(0) translate(4 235)\">\r\n",
       "<title>polars_query</title>\r\n",
       "<polygon fill=\"white\" stroke=\"transparent\" points=\"-4,4 -4,-235 549.5,-235 549.5,4 -4,4\"/>\r\n",
       "<!-- JOIN INNER\r\n",
       " &#160;&#160;&#160;&#160;&#160;&#160;&#160;&#160;&#160;&#160;&#160;&#160;&#160;&#160;&#160;&#160;&#160;&#160;&#160;left [col(&quot;user_id&quot;)];\r\n",
       " &#160;&#160;&#160;&#160;&#160;&#160;&#160;&#160;&#160;&#160;&#160;&#160;&#160;&#160;&#160;&#160;&#160;&#160;&#160;right: [col(&quot;user_id&quot;)] [(0, 0)] -->\r\n",
       "<g id=\"node1\" class=\"node\">\r\n",
       "<title>JOIN INNER\r\n",
       " &#160;&#160;&#160;&#160;&#160;&#160;&#160;&#160;&#160;&#160;&#160;&#160;&#160;&#160;&#160;&#160;&#160;&#160;&#160;left [col(&quot;user_id&quot;)];\r\n",
       " &#160;&#160;&#160;&#160;&#160;&#160;&#160;&#160;&#160;&#160;&#160;&#160;&#160;&#160;&#160;&#160;&#160;&#160;&#160;right: [col(&quot;user_id&quot;)] [(0, 0)]</title>\r\n",
       "<polygon fill=\"none\" stroke=\"black\" points=\"378.5,-231 167.5,-231 167.5,-178 378.5,-178 378.5,-231\"/>\r\n",
       "<text text-anchor=\"middle\" x=\"273\" y=\"-215.8\" font-family=\"Times New Roman,serif\" font-size=\"14.00\">JOIN INNER</text>\r\n",
       "<text text-anchor=\"middle\" x=\"273\" y=\"-200.8\" font-family=\"Times New Roman,serif\" font-size=\"14.00\"> &#160;&#160;&#160;&#160;&#160;&#160;&#160;&#160;&#160;&#160;&#160;&#160;&#160;&#160;&#160;&#160;&#160;&#160;&#160;left [col(&quot;user_id&quot;)];</text>\r\n",
       "<text text-anchor=\"middle\" x=\"273\" y=\"-185.8\" font-family=\"Times New Roman,serif\" font-size=\"14.00\"> &#160;&#160;&#160;&#160;&#160;&#160;&#160;&#160;&#160;&#160;&#160;&#160;&#160;&#160;&#160;&#160;&#160;&#160;&#160;right: [col(&quot;user_id&quot;)]</text>\r\n",
       "</g>\r\n",
       "<!-- AGG [count()]\r\n",
       "BY\r\n",
       "[col(&quot;user_id&quot;)] [(100, 1)] [(100, 1)] -->\r\n",
       "<g id=\"node2\" class=\"node\">\r\n",
       "<title>AGG [count()]\r\n",
       "BY\r\n",
       "[col(&quot;user_id&quot;)] [(100, 1)] [(100, 1)]</title>\r\n",
       "<polygon fill=\"none\" stroke=\"black\" points=\"264.5,-142 105.5,-142 105.5,-89 264.5,-89 264.5,-142\"/>\r\n",
       "<text text-anchor=\"middle\" x=\"185\" y=\"-126.8\" font-family=\"Times New Roman,serif\" font-size=\"14.00\">AGG [count()]</text>\r\n",
       "<text text-anchor=\"middle\" x=\"185\" y=\"-111.8\" font-family=\"Times New Roman,serif\" font-size=\"14.00\">BY</text>\r\n",
       "<text text-anchor=\"middle\" x=\"185\" y=\"-96.8\" font-family=\"Times New Roman,serif\" font-size=\"14.00\">[col(&quot;user_id&quot;)] [(100, 1)]</text>\r\n",
       "</g>\r\n",
       "<!-- JOIN INNER\r\n",
       " &#160;&#160;&#160;&#160;&#160;&#160;&#160;&#160;&#160;&#160;&#160;&#160;&#160;&#160;&#160;&#160;&#160;&#160;&#160;left [col(&quot;user_id&quot;)];\r\n",
       " &#160;&#160;&#160;&#160;&#160;&#160;&#160;&#160;&#160;&#160;&#160;&#160;&#160;&#160;&#160;&#160;&#160;&#160;&#160;right: [col(&quot;user_id&quot;)] [(0, 0)]&#45;&#45;AGG [count()]\r\n",
       "BY\r\n",
       "[col(&quot;user_id&quot;)] [(100, 1)] [(100, 1)] -->\r\n",
       "<g id=\"edge1\" class=\"edge\">\r\n",
       "<title>JOIN INNER\r\n",
       " &#160;&#160;&#160;&#160;&#160;&#160;&#160;&#160;&#160;&#160;&#160;&#160;&#160;&#160;&#160;&#160;&#160;&#160;&#160;left [col(&quot;user_id&quot;)];\r\n",
       " &#160;&#160;&#160;&#160;&#160;&#160;&#160;&#160;&#160;&#160;&#160;&#160;&#160;&#160;&#160;&#160;&#160;&#160;&#160;right: [col(&quot;user_id&quot;)] [(0, 0)]&#45;&#45;AGG [count()]\r\n",
       "BY\r\n",
       "[col(&quot;user_id&quot;)] [(100, 1)] [(100, 1)]</title>\r\n",
       "<path fill=\"none\" stroke=\"black\" d=\"M247.07,-177.87C235.72,-166.64 222.42,-153.49 211.05,-142.25\"/>\r\n",
       "</g>\r\n",
       "<!-- AGG [count()]\r\n",
       "BY\r\n",
       "[col(&quot;user_id&quot;)] [(200, 1)] [(200, 1)] -->\r\n",
       "<g id=\"node4\" class=\"node\">\r\n",
       "<title>AGG [count()]\r\n",
       "BY\r\n",
       "[col(&quot;user_id&quot;)] [(200, 1)] [(200, 1)]</title>\r\n",
       "<polygon fill=\"none\" stroke=\"black\" points=\"467.5,-142 308.5,-142 308.5,-89 467.5,-89 467.5,-142\"/>\r\n",
       "<text text-anchor=\"middle\" x=\"388\" y=\"-126.8\" font-family=\"Times New Roman,serif\" font-size=\"14.00\">AGG [count()]</text>\r\n",
       "<text text-anchor=\"middle\" x=\"388\" y=\"-111.8\" font-family=\"Times New Roman,serif\" font-size=\"14.00\">BY</text>\r\n",
       "<text text-anchor=\"middle\" x=\"388\" y=\"-96.8\" font-family=\"Times New Roman,serif\" font-size=\"14.00\">[col(&quot;user_id&quot;)] [(200, 1)]</text>\r\n",
       "</g>\r\n",
       "<!-- JOIN INNER\r\n",
       " &#160;&#160;&#160;&#160;&#160;&#160;&#160;&#160;&#160;&#160;&#160;&#160;&#160;&#160;&#160;&#160;&#160;&#160;&#160;left [col(&quot;user_id&quot;)];\r\n",
       " &#160;&#160;&#160;&#160;&#160;&#160;&#160;&#160;&#160;&#160;&#160;&#160;&#160;&#160;&#160;&#160;&#160;&#160;&#160;right: [col(&quot;user_id&quot;)] [(0, 0)]&#45;&#45;AGG [count()]\r\n",
       "BY\r\n",
       "[col(&quot;user_id&quot;)] [(200, 1)] [(200, 1)] -->\r\n",
       "<g id=\"edge3\" class=\"edge\">\r\n",
       "<title>JOIN INNER\r\n",
       " &#160;&#160;&#160;&#160;&#160;&#160;&#160;&#160;&#160;&#160;&#160;&#160;&#160;&#160;&#160;&#160;&#160;&#160;&#160;left [col(&quot;user_id&quot;)];\r\n",
       " &#160;&#160;&#160;&#160;&#160;&#160;&#160;&#160;&#160;&#160;&#160;&#160;&#160;&#160;&#160;&#160;&#160;&#160;&#160;right: [col(&quot;user_id&quot;)] [(0, 0)]&#45;&#45;AGG [count()]\r\n",
       "BY\r\n",
       "[col(&quot;user_id&quot;)] [(200, 1)] [(200, 1)]</title>\r\n",
       "<path fill=\"none\" stroke=\"black\" d=\"M306.88,-177.87C321.72,-166.64 339.1,-153.49 353.96,-142.25\"/>\r\n",
       "</g>\r\n",
       "<!-- Csv SCAN ../kkdata/train_source_events.csv;\r\n",
       "π */10;\r\n",
       "σ &#45; [(100, 2)] -->\r\n",
       "<g id=\"node3\" class=\"node\">\r\n",
       "<title>Csv SCAN ../kkdata/train_source_events.csv;\r\n",
       "π */10;\r\n",
       "σ &#45; [(100, 2)]</title>\r\n",
       "<polygon fill=\"none\" stroke=\"black\" points=\"266,-53 0,-53 0,0 266,0 266,-53\"/>\r\n",
       "<text text-anchor=\"middle\" x=\"133\" y=\"-37.8\" font-family=\"Times New Roman,serif\" font-size=\"14.00\">Csv SCAN ../kkdata/train_source_events.csv;</text>\r\n",
       "<text text-anchor=\"middle\" x=\"133\" y=\"-22.8\" font-family=\"Times New Roman,serif\" font-size=\"14.00\">π */10;</text>\r\n",
       "<text text-anchor=\"middle\" x=\"133\" y=\"-7.8\" font-family=\"Times New Roman,serif\" font-size=\"14.00\">σ &#45;</text>\r\n",
       "</g>\r\n",
       "<!-- AGG [count()]\r\n",
       "BY\r\n",
       "[col(&quot;user_id&quot;)] [(100, 1)] [(100, 1)]&#45;&#45;Csv SCAN ../kkdata/train_source_events.csv;\r\n",
       "π */10;\r\n",
       "σ &#45; [(100, 2)] -->\r\n",
       "<g id=\"edge2\" class=\"edge\">\r\n",
       "<title>AGG [count()]\r\n",
       "BY\r\n",
       "[col(&quot;user_id&quot;)] [(100, 1)] [(100, 1)]&#45;&#45;Csv SCAN ../kkdata/train_source_events.csv;\r\n",
       "π */10;\r\n",
       "σ &#45; [(100, 2)]</title>\r\n",
       "<path fill=\"none\" stroke=\"black\" d=\"M169.68,-88.87C162.97,-77.64 155.11,-64.49 148.39,-53.25\"/>\r\n",
       "</g>\r\n",
       "<!-- Csv SCAN ../kkdata/train_target_events.csv;\r\n",
       "π */10;\r\n",
       "σ &#45; [(200, 2)] -->\r\n",
       "<g id=\"node5\" class=\"node\">\r\n",
       "<title>Csv SCAN ../kkdata/train_target_events.csv;\r\n",
       "π */10;\r\n",
       "σ &#45; [(200, 2)]</title>\r\n",
       "<polygon fill=\"none\" stroke=\"black\" points=\"545.5,-53 284.5,-53 284.5,0 545.5,0 545.5,-53\"/>\r\n",
       "<text text-anchor=\"middle\" x=\"415\" y=\"-37.8\" font-family=\"Times New Roman,serif\" font-size=\"14.00\">Csv SCAN ../kkdata/train_target_events.csv;</text>\r\n",
       "<text text-anchor=\"middle\" x=\"415\" y=\"-22.8\" font-family=\"Times New Roman,serif\" font-size=\"14.00\">π */10;</text>\r\n",
       "<text text-anchor=\"middle\" x=\"415\" y=\"-7.8\" font-family=\"Times New Roman,serif\" font-size=\"14.00\">σ &#45;</text>\r\n",
       "</g>\r\n",
       "<!-- AGG [count()]\r\n",
       "BY\r\n",
       "[col(&quot;user_id&quot;)] [(200, 1)] [(200, 1)]&#45;&#45;Csv SCAN ../kkdata/train_target_events.csv;\r\n",
       "π */10;\r\n",
       "σ &#45; [(200, 2)] -->\r\n",
       "<g id=\"edge4\" class=\"edge\">\r\n",
       "<title>AGG [count()]\r\n",
       "BY\r\n",
       "[col(&quot;user_id&quot;)] [(200, 1)] [(200, 1)]&#45;&#45;Csv SCAN ../kkdata/train_target_events.csv;\r\n",
       "π */10;\r\n",
       "σ &#45; [(200, 2)]</title>\r\n",
       "<path fill=\"none\" stroke=\"black\" d=\"M395.95,-88.87C399.44,-77.64 403.52,-64.49 407.01,-53.25\"/>\r\n",
       "</g>\r\n",
       "</g>\r\n",
       "</svg>\r\n"
      ],
      "text/plain": [
       "<LazyFrame [3 cols, {\"user_id\": Int64 … \"count_right\": UInt32}] at 0x1F4B605FB10>"
      ]
     },
     "execution_count": 78,
     "metadata": {},
     "output_type": "execute_result"
    }
   ],
   "source": [
    "\n",
    "plan_source_count = (\n",
    "    pl.scan_csv(\"../kkdata/train_source_events.csv\")\n",
    "    .group_by('user_id')\n",
    "    .count()\n",
    ")\n",
    "plan_target_count = (\n",
    "    pl.scan_csv(\"../kkdata/train_target_events.csv\")\n",
    "    .group_by('user_id')\n",
    "    .count()\n",
    ")\n",
    "plan_count = plan_source_count.join(plan_target_count, on='user_id')\n",
    "plan_count"
   ]
  },
  {
   "cell_type": "code",
   "execution_count": 79,
   "id": "f5a3d326",
   "metadata": {},
   "outputs": [
    {
     "data": {
      "text/html": [
       "<h4>NAIVE QUERY PLAN</h4><p>run <b>LazyFrame.show_graph()</b> to see the optimized version</p><?xml version=\"1.0\" encoding=\"UTF-8\" standalone=\"no\"?>\r\n",
       "<!DOCTYPE svg PUBLIC \"-//W3C//DTD SVG 1.1//EN\"\r\n",
       " \"http://www.w3.org/Graphics/SVG/1.1/DTD/svg11.dtd\">\r\n",
       "<!-- Generated by graphviz version 2.50.0 (0)\r\n",
       " -->\r\n",
       "<!-- Title: polars_query Pages: 1 -->\r\n",
       "<svg width=\"554pt\" height=\"239pt\"\r\n",
       " viewBox=\"0.00 0.00 553.50 239.00\" xmlns=\"http://www.w3.org/2000/svg\" xmlns:xlink=\"http://www.w3.org/1999/xlink\">\r\n",
       "<g id=\"graph0\" class=\"graph\" transform=\"scale(1 1) rotate(0) translate(4 235)\">\r\n",
       "<title>polars_query</title>\r\n",
       "<polygon fill=\"white\" stroke=\"transparent\" points=\"-4,4 -4,-235 549.5,-235 549.5,4 -4,4\"/>\r\n",
       "<!-- JOIN INNER\r\n",
       " &#160;&#160;&#160;&#160;&#160;&#160;&#160;&#160;&#160;&#160;&#160;&#160;&#160;&#160;&#160;&#160;&#160;&#160;&#160;left [col(&quot;user_id&quot;)];\r\n",
       " &#160;&#160;&#160;&#160;&#160;&#160;&#160;&#160;&#160;&#160;&#160;&#160;&#160;&#160;&#160;&#160;&#160;&#160;&#160;right: [col(&quot;user_id&quot;)] [(0, 0)] -->\r\n",
       "<g id=\"node1\" class=\"node\">\r\n",
       "<title>JOIN INNER\r\n",
       " &#160;&#160;&#160;&#160;&#160;&#160;&#160;&#160;&#160;&#160;&#160;&#160;&#160;&#160;&#160;&#160;&#160;&#160;&#160;left [col(&quot;user_id&quot;)];\r\n",
       " &#160;&#160;&#160;&#160;&#160;&#160;&#160;&#160;&#160;&#160;&#160;&#160;&#160;&#160;&#160;&#160;&#160;&#160;&#160;right: [col(&quot;user_id&quot;)] [(0, 0)]</title>\r\n",
       "<polygon fill=\"none\" stroke=\"black\" points=\"378.5,-231 167.5,-231 167.5,-178 378.5,-178 378.5,-231\"/>\r\n",
       "<text text-anchor=\"middle\" x=\"273\" y=\"-215.8\" font-family=\"Times New Roman,serif\" font-size=\"14.00\">JOIN INNER</text>\r\n",
       "<text text-anchor=\"middle\" x=\"273\" y=\"-200.8\" font-family=\"Times New Roman,serif\" font-size=\"14.00\"> &#160;&#160;&#160;&#160;&#160;&#160;&#160;&#160;&#160;&#160;&#160;&#160;&#160;&#160;&#160;&#160;&#160;&#160;&#160;left [col(&quot;user_id&quot;)];</text>\r\n",
       "<text text-anchor=\"middle\" x=\"273\" y=\"-185.8\" font-family=\"Times New Roman,serif\" font-size=\"14.00\"> &#160;&#160;&#160;&#160;&#160;&#160;&#160;&#160;&#160;&#160;&#160;&#160;&#160;&#160;&#160;&#160;&#160;&#160;&#160;right: [col(&quot;user_id&quot;)]</text>\r\n",
       "</g>\r\n",
       "<!-- AGG [count()]\r\n",
       "BY\r\n",
       "[col(&quot;user_id&quot;)] [(100, 1)] [(100, 1)] -->\r\n",
       "<g id=\"node2\" class=\"node\">\r\n",
       "<title>AGG [count()]\r\n",
       "BY\r\n",
       "[col(&quot;user_id&quot;)] [(100, 1)] [(100, 1)]</title>\r\n",
       "<polygon fill=\"none\" stroke=\"black\" points=\"264.5,-142 105.5,-142 105.5,-89 264.5,-89 264.5,-142\"/>\r\n",
       "<text text-anchor=\"middle\" x=\"185\" y=\"-126.8\" font-family=\"Times New Roman,serif\" font-size=\"14.00\">AGG [count()]</text>\r\n",
       "<text text-anchor=\"middle\" x=\"185\" y=\"-111.8\" font-family=\"Times New Roman,serif\" font-size=\"14.00\">BY</text>\r\n",
       "<text text-anchor=\"middle\" x=\"185\" y=\"-96.8\" font-family=\"Times New Roman,serif\" font-size=\"14.00\">[col(&quot;user_id&quot;)] [(100, 1)]</text>\r\n",
       "</g>\r\n",
       "<!-- JOIN INNER\r\n",
       " &#160;&#160;&#160;&#160;&#160;&#160;&#160;&#160;&#160;&#160;&#160;&#160;&#160;&#160;&#160;&#160;&#160;&#160;&#160;left [col(&quot;user_id&quot;)];\r\n",
       " &#160;&#160;&#160;&#160;&#160;&#160;&#160;&#160;&#160;&#160;&#160;&#160;&#160;&#160;&#160;&#160;&#160;&#160;&#160;right: [col(&quot;user_id&quot;)] [(0, 0)]&#45;&#45;AGG [count()]\r\n",
       "BY\r\n",
       "[col(&quot;user_id&quot;)] [(100, 1)] [(100, 1)] -->\r\n",
       "<g id=\"edge1\" class=\"edge\">\r\n",
       "<title>JOIN INNER\r\n",
       " &#160;&#160;&#160;&#160;&#160;&#160;&#160;&#160;&#160;&#160;&#160;&#160;&#160;&#160;&#160;&#160;&#160;&#160;&#160;left [col(&quot;user_id&quot;)];\r\n",
       " &#160;&#160;&#160;&#160;&#160;&#160;&#160;&#160;&#160;&#160;&#160;&#160;&#160;&#160;&#160;&#160;&#160;&#160;&#160;right: [col(&quot;user_id&quot;)] [(0, 0)]&#45;&#45;AGG [count()]\r\n",
       "BY\r\n",
       "[col(&quot;user_id&quot;)] [(100, 1)] [(100, 1)]</title>\r\n",
       "<path fill=\"none\" stroke=\"black\" d=\"M247.07,-177.87C235.72,-166.64 222.42,-153.49 211.05,-142.25\"/>\r\n",
       "</g>\r\n",
       "<!-- AGG [count()]\r\n",
       "BY\r\n",
       "[col(&quot;user_id&quot;)] [(200, 1)] [(200, 1)] -->\r\n",
       "<g id=\"node4\" class=\"node\">\r\n",
       "<title>AGG [count()]\r\n",
       "BY\r\n",
       "[col(&quot;user_id&quot;)] [(200, 1)] [(200, 1)]</title>\r\n",
       "<polygon fill=\"none\" stroke=\"black\" points=\"467.5,-142 308.5,-142 308.5,-89 467.5,-89 467.5,-142\"/>\r\n",
       "<text text-anchor=\"middle\" x=\"388\" y=\"-126.8\" font-family=\"Times New Roman,serif\" font-size=\"14.00\">AGG [count()]</text>\r\n",
       "<text text-anchor=\"middle\" x=\"388\" y=\"-111.8\" font-family=\"Times New Roman,serif\" font-size=\"14.00\">BY</text>\r\n",
       "<text text-anchor=\"middle\" x=\"388\" y=\"-96.8\" font-family=\"Times New Roman,serif\" font-size=\"14.00\">[col(&quot;user_id&quot;)] [(200, 1)]</text>\r\n",
       "</g>\r\n",
       "<!-- JOIN INNER\r\n",
       " &#160;&#160;&#160;&#160;&#160;&#160;&#160;&#160;&#160;&#160;&#160;&#160;&#160;&#160;&#160;&#160;&#160;&#160;&#160;left [col(&quot;user_id&quot;)];\r\n",
       " &#160;&#160;&#160;&#160;&#160;&#160;&#160;&#160;&#160;&#160;&#160;&#160;&#160;&#160;&#160;&#160;&#160;&#160;&#160;right: [col(&quot;user_id&quot;)] [(0, 0)]&#45;&#45;AGG [count()]\r\n",
       "BY\r\n",
       "[col(&quot;user_id&quot;)] [(200, 1)] [(200, 1)] -->\r\n",
       "<g id=\"edge3\" class=\"edge\">\r\n",
       "<title>JOIN INNER\r\n",
       " &#160;&#160;&#160;&#160;&#160;&#160;&#160;&#160;&#160;&#160;&#160;&#160;&#160;&#160;&#160;&#160;&#160;&#160;&#160;left [col(&quot;user_id&quot;)];\r\n",
       " &#160;&#160;&#160;&#160;&#160;&#160;&#160;&#160;&#160;&#160;&#160;&#160;&#160;&#160;&#160;&#160;&#160;&#160;&#160;right: [col(&quot;user_id&quot;)] [(0, 0)]&#45;&#45;AGG [count()]\r\n",
       "BY\r\n",
       "[col(&quot;user_id&quot;)] [(200, 1)] [(200, 1)]</title>\r\n",
       "<path fill=\"none\" stroke=\"black\" d=\"M306.88,-177.87C321.72,-166.64 339.1,-153.49 353.96,-142.25\"/>\r\n",
       "</g>\r\n",
       "<!-- Csv SCAN ../kkdata/train_source_events.csv;\r\n",
       "π */10;\r\n",
       "σ &#45; [(100, 2)] -->\r\n",
       "<g id=\"node3\" class=\"node\">\r\n",
       "<title>Csv SCAN ../kkdata/train_source_events.csv;\r\n",
       "π */10;\r\n",
       "σ &#45; [(100, 2)]</title>\r\n",
       "<polygon fill=\"none\" stroke=\"black\" points=\"266,-53 0,-53 0,0 266,0 266,-53\"/>\r\n",
       "<text text-anchor=\"middle\" x=\"133\" y=\"-37.8\" font-family=\"Times New Roman,serif\" font-size=\"14.00\">Csv SCAN ../kkdata/train_source_events.csv;</text>\r\n",
       "<text text-anchor=\"middle\" x=\"133\" y=\"-22.8\" font-family=\"Times New Roman,serif\" font-size=\"14.00\">π */10;</text>\r\n",
       "<text text-anchor=\"middle\" x=\"133\" y=\"-7.8\" font-family=\"Times New Roman,serif\" font-size=\"14.00\">σ &#45;</text>\r\n",
       "</g>\r\n",
       "<!-- AGG [count()]\r\n",
       "BY\r\n",
       "[col(&quot;user_id&quot;)] [(100, 1)] [(100, 1)]&#45;&#45;Csv SCAN ../kkdata/train_source_events.csv;\r\n",
       "π */10;\r\n",
       "σ &#45; [(100, 2)] -->\r\n",
       "<g id=\"edge2\" class=\"edge\">\r\n",
       "<title>AGG [count()]\r\n",
       "BY\r\n",
       "[col(&quot;user_id&quot;)] [(100, 1)] [(100, 1)]&#45;&#45;Csv SCAN ../kkdata/train_source_events.csv;\r\n",
       "π */10;\r\n",
       "σ &#45; [(100, 2)]</title>\r\n",
       "<path fill=\"none\" stroke=\"black\" d=\"M169.68,-88.87C162.97,-77.64 155.11,-64.49 148.39,-53.25\"/>\r\n",
       "</g>\r\n",
       "<!-- Csv SCAN ../kkdata/train_target_events.csv;\r\n",
       "π */10;\r\n",
       "σ &#45; [(200, 2)] -->\r\n",
       "<g id=\"node5\" class=\"node\">\r\n",
       "<title>Csv SCAN ../kkdata/train_target_events.csv;\r\n",
       "π */10;\r\n",
       "σ &#45; [(200, 2)]</title>\r\n",
       "<polygon fill=\"none\" stroke=\"black\" points=\"545.5,-53 284.5,-53 284.5,0 545.5,0 545.5,-53\"/>\r\n",
       "<text text-anchor=\"middle\" x=\"415\" y=\"-37.8\" font-family=\"Times New Roman,serif\" font-size=\"14.00\">Csv SCAN ../kkdata/train_target_events.csv;</text>\r\n",
       "<text text-anchor=\"middle\" x=\"415\" y=\"-22.8\" font-family=\"Times New Roman,serif\" font-size=\"14.00\">π */10;</text>\r\n",
       "<text text-anchor=\"middle\" x=\"415\" y=\"-7.8\" font-family=\"Times New Roman,serif\" font-size=\"14.00\">σ &#45;</text>\r\n",
       "</g>\r\n",
       "<!-- AGG [count()]\r\n",
       "BY\r\n",
       "[col(&quot;user_id&quot;)] [(200, 1)] [(200, 1)]&#45;&#45;Csv SCAN ../kkdata/train_target_events.csv;\r\n",
       "π */10;\r\n",
       "σ &#45; [(200, 2)] -->\r\n",
       "<g id=\"edge4\" class=\"edge\">\r\n",
       "<title>AGG [count()]\r\n",
       "BY\r\n",
       "[col(&quot;user_id&quot;)] [(200, 1)] [(200, 1)]&#45;&#45;Csv SCAN ../kkdata/train_target_events.csv;\r\n",
       "π */10;\r\n",
       "σ &#45; [(200, 2)]</title>\r\n",
       "<path fill=\"none\" stroke=\"black\" d=\"M395.95,-88.87C399.44,-77.64 403.52,-64.49 407.01,-53.25\"/>\r\n",
       "</g>\r\n",
       "</g>\r\n",
       "</svg>\r\n"
      ],
      "text/plain": [
       "<LazyFrame [3 cols, {\"user_id\": Int64 … \"count_right\": UInt32}] at 0x1F4BFFA6250>"
      ]
     },
     "execution_count": 79,
     "metadata": {},
     "output_type": "execute_result"
    }
   ],
   "source": [
    "\n",
    "plan_target_count = (\n",
    "    pl.scan_csv(\"../kkdata/train_target_events.csv\")\n",
    "    .group_by('user_id')\n",
    "    .count()\n",
    ")\n",
    "plan_count = (\n",
    "    pl.scan_csv(\"../kkdata/train_source_events.csv\")\n",
    "    .group_by('user_id')\n",
    "    .count()\n",
    "    .join(plan_target_count, on='user_id')\n",
    ")\n",
    "plan_count"
   ]
  },
  {
   "cell_type": "code",
   "execution_count": 81,
   "id": "5026f5dd",
   "metadata": {},
   "outputs": [
    {
     "data": {
      "text/html": [
       "<h4>NAIVE QUERY PLAN</h4><p>run <b>LazyFrame.show_graph()</b> to see the optimized version</p><?xml version=\"1.0\" encoding=\"UTF-8\" standalone=\"no\"?>\r\n",
       "<!DOCTYPE svg PUBLIC \"-//W3C//DTD SVG 1.1//EN\"\r\n",
       " \"http://www.w3.org/Graphics/SVG/1.1/DTD/svg11.dtd\">\r\n",
       "<!-- Generated by graphviz version 2.50.0 (0)\r\n",
       " -->\r\n",
       "<!-- Title: polars_query Pages: 1 -->\r\n",
       "<svg width=\"554pt\" height=\"239pt\"\r\n",
       " viewBox=\"0.00 0.00 553.50 239.00\" xmlns=\"http://www.w3.org/2000/svg\" xmlns:xlink=\"http://www.w3.org/1999/xlink\">\r\n",
       "<g id=\"graph0\" class=\"graph\" transform=\"scale(1 1) rotate(0) translate(4 235)\">\r\n",
       "<title>polars_query</title>\r\n",
       "<polygon fill=\"white\" stroke=\"transparent\" points=\"-4,4 -4,-235 549.5,-235 549.5,4 -4,4\"/>\r\n",
       "<!-- JOIN INNER\r\n",
       " &#160;&#160;&#160;&#160;&#160;&#160;&#160;&#160;&#160;&#160;&#160;&#160;&#160;&#160;&#160;&#160;&#160;&#160;&#160;left [col(&quot;user_id&quot;)];\r\n",
       " &#160;&#160;&#160;&#160;&#160;&#160;&#160;&#160;&#160;&#160;&#160;&#160;&#160;&#160;&#160;&#160;&#160;&#160;&#160;right: [col(&quot;user_id&quot;)] [(0, 0)] -->\r\n",
       "<g id=\"node1\" class=\"node\">\r\n",
       "<title>JOIN INNER\r\n",
       " &#160;&#160;&#160;&#160;&#160;&#160;&#160;&#160;&#160;&#160;&#160;&#160;&#160;&#160;&#160;&#160;&#160;&#160;&#160;left [col(&quot;user_id&quot;)];\r\n",
       " &#160;&#160;&#160;&#160;&#160;&#160;&#160;&#160;&#160;&#160;&#160;&#160;&#160;&#160;&#160;&#160;&#160;&#160;&#160;right: [col(&quot;user_id&quot;)] [(0, 0)]</title>\r\n",
       "<polygon fill=\"none\" stroke=\"black\" points=\"378.5,-231 167.5,-231 167.5,-178 378.5,-178 378.5,-231\"/>\r\n",
       "<text text-anchor=\"middle\" x=\"273\" y=\"-215.8\" font-family=\"Times New Roman,serif\" font-size=\"14.00\">JOIN INNER</text>\r\n",
       "<text text-anchor=\"middle\" x=\"273\" y=\"-200.8\" font-family=\"Times New Roman,serif\" font-size=\"14.00\"> &#160;&#160;&#160;&#160;&#160;&#160;&#160;&#160;&#160;&#160;&#160;&#160;&#160;&#160;&#160;&#160;&#160;&#160;&#160;left [col(&quot;user_id&quot;)];</text>\r\n",
       "<text text-anchor=\"middle\" x=\"273\" y=\"-185.8\" font-family=\"Times New Roman,serif\" font-size=\"14.00\"> &#160;&#160;&#160;&#160;&#160;&#160;&#160;&#160;&#160;&#160;&#160;&#160;&#160;&#160;&#160;&#160;&#160;&#160;&#160;right: [col(&quot;user_id&quot;)]</text>\r\n",
       "</g>\r\n",
       "<!-- AGG [count()]\r\n",
       "BY\r\n",
       "[col(&quot;user_id&quot;)] [(100, 1)] [(100, 1)] -->\r\n",
       "<g id=\"node2\" class=\"node\">\r\n",
       "<title>AGG [count()]\r\n",
       "BY\r\n",
       "[col(&quot;user_id&quot;)] [(100, 1)] [(100, 1)]</title>\r\n",
       "<polygon fill=\"none\" stroke=\"black\" points=\"264.5,-142 105.5,-142 105.5,-89 264.5,-89 264.5,-142\"/>\r\n",
       "<text text-anchor=\"middle\" x=\"185\" y=\"-126.8\" font-family=\"Times New Roman,serif\" font-size=\"14.00\">AGG [count()]</text>\r\n",
       "<text text-anchor=\"middle\" x=\"185\" y=\"-111.8\" font-family=\"Times New Roman,serif\" font-size=\"14.00\">BY</text>\r\n",
       "<text text-anchor=\"middle\" x=\"185\" y=\"-96.8\" font-family=\"Times New Roman,serif\" font-size=\"14.00\">[col(&quot;user_id&quot;)] [(100, 1)]</text>\r\n",
       "</g>\r\n",
       "<!-- JOIN INNER\r\n",
       " &#160;&#160;&#160;&#160;&#160;&#160;&#160;&#160;&#160;&#160;&#160;&#160;&#160;&#160;&#160;&#160;&#160;&#160;&#160;left [col(&quot;user_id&quot;)];\r\n",
       " &#160;&#160;&#160;&#160;&#160;&#160;&#160;&#160;&#160;&#160;&#160;&#160;&#160;&#160;&#160;&#160;&#160;&#160;&#160;right: [col(&quot;user_id&quot;)] [(0, 0)]&#45;&#45;AGG [count()]\r\n",
       "BY\r\n",
       "[col(&quot;user_id&quot;)] [(100, 1)] [(100, 1)] -->\r\n",
       "<g id=\"edge1\" class=\"edge\">\r\n",
       "<title>JOIN INNER\r\n",
       " &#160;&#160;&#160;&#160;&#160;&#160;&#160;&#160;&#160;&#160;&#160;&#160;&#160;&#160;&#160;&#160;&#160;&#160;&#160;left [col(&quot;user_id&quot;)];\r\n",
       " &#160;&#160;&#160;&#160;&#160;&#160;&#160;&#160;&#160;&#160;&#160;&#160;&#160;&#160;&#160;&#160;&#160;&#160;&#160;right: [col(&quot;user_id&quot;)] [(0, 0)]&#45;&#45;AGG [count()]\r\n",
       "BY\r\n",
       "[col(&quot;user_id&quot;)] [(100, 1)] [(100, 1)]</title>\r\n",
       "<path fill=\"none\" stroke=\"black\" d=\"M247.07,-177.87C235.72,-166.64 222.42,-153.49 211.05,-142.25\"/>\r\n",
       "</g>\r\n",
       "<!-- AGG [count()]\r\n",
       "BY\r\n",
       "[col(&quot;user_id&quot;)] [(200, 1)] [(200, 1)] -->\r\n",
       "<g id=\"node4\" class=\"node\">\r\n",
       "<title>AGG [count()]\r\n",
       "BY\r\n",
       "[col(&quot;user_id&quot;)] [(200, 1)] [(200, 1)]</title>\r\n",
       "<polygon fill=\"none\" stroke=\"black\" points=\"467.5,-142 308.5,-142 308.5,-89 467.5,-89 467.5,-142\"/>\r\n",
       "<text text-anchor=\"middle\" x=\"388\" y=\"-126.8\" font-family=\"Times New Roman,serif\" font-size=\"14.00\">AGG [count()]</text>\r\n",
       "<text text-anchor=\"middle\" x=\"388\" y=\"-111.8\" font-family=\"Times New Roman,serif\" font-size=\"14.00\">BY</text>\r\n",
       "<text text-anchor=\"middle\" x=\"388\" y=\"-96.8\" font-family=\"Times New Roman,serif\" font-size=\"14.00\">[col(&quot;user_id&quot;)] [(200, 1)]</text>\r\n",
       "</g>\r\n",
       "<!-- JOIN INNER\r\n",
       " &#160;&#160;&#160;&#160;&#160;&#160;&#160;&#160;&#160;&#160;&#160;&#160;&#160;&#160;&#160;&#160;&#160;&#160;&#160;left [col(&quot;user_id&quot;)];\r\n",
       " &#160;&#160;&#160;&#160;&#160;&#160;&#160;&#160;&#160;&#160;&#160;&#160;&#160;&#160;&#160;&#160;&#160;&#160;&#160;right: [col(&quot;user_id&quot;)] [(0, 0)]&#45;&#45;AGG [count()]\r\n",
       "BY\r\n",
       "[col(&quot;user_id&quot;)] [(200, 1)] [(200, 1)] -->\r\n",
       "<g id=\"edge3\" class=\"edge\">\r\n",
       "<title>JOIN INNER\r\n",
       " &#160;&#160;&#160;&#160;&#160;&#160;&#160;&#160;&#160;&#160;&#160;&#160;&#160;&#160;&#160;&#160;&#160;&#160;&#160;left [col(&quot;user_id&quot;)];\r\n",
       " &#160;&#160;&#160;&#160;&#160;&#160;&#160;&#160;&#160;&#160;&#160;&#160;&#160;&#160;&#160;&#160;&#160;&#160;&#160;right: [col(&quot;user_id&quot;)] [(0, 0)]&#45;&#45;AGG [count()]\r\n",
       "BY\r\n",
       "[col(&quot;user_id&quot;)] [(200, 1)] [(200, 1)]</title>\r\n",
       "<path fill=\"none\" stroke=\"black\" d=\"M306.88,-177.87C321.72,-166.64 339.1,-153.49 353.96,-142.25\"/>\r\n",
       "</g>\r\n",
       "<!-- Csv SCAN ../kkdata/train_source_events.csv;\r\n",
       "π */10;\r\n",
       "σ &#45; [(100, 2)] -->\r\n",
       "<g id=\"node3\" class=\"node\">\r\n",
       "<title>Csv SCAN ../kkdata/train_source_events.csv;\r\n",
       "π */10;\r\n",
       "σ &#45; [(100, 2)]</title>\r\n",
       "<polygon fill=\"none\" stroke=\"black\" points=\"266,-53 0,-53 0,0 266,0 266,-53\"/>\r\n",
       "<text text-anchor=\"middle\" x=\"133\" y=\"-37.8\" font-family=\"Times New Roman,serif\" font-size=\"14.00\">Csv SCAN ../kkdata/train_source_events.csv;</text>\r\n",
       "<text text-anchor=\"middle\" x=\"133\" y=\"-22.8\" font-family=\"Times New Roman,serif\" font-size=\"14.00\">π */10;</text>\r\n",
       "<text text-anchor=\"middle\" x=\"133\" y=\"-7.8\" font-family=\"Times New Roman,serif\" font-size=\"14.00\">σ &#45;</text>\r\n",
       "</g>\r\n",
       "<!-- AGG [count()]\r\n",
       "BY\r\n",
       "[col(&quot;user_id&quot;)] [(100, 1)] [(100, 1)]&#45;&#45;Csv SCAN ../kkdata/train_source_events.csv;\r\n",
       "π */10;\r\n",
       "σ &#45; [(100, 2)] -->\r\n",
       "<g id=\"edge2\" class=\"edge\">\r\n",
       "<title>AGG [count()]\r\n",
       "BY\r\n",
       "[col(&quot;user_id&quot;)] [(100, 1)] [(100, 1)]&#45;&#45;Csv SCAN ../kkdata/train_source_events.csv;\r\n",
       "π */10;\r\n",
       "σ &#45; [(100, 2)]</title>\r\n",
       "<path fill=\"none\" stroke=\"black\" d=\"M169.68,-88.87C162.97,-77.64 155.11,-64.49 148.39,-53.25\"/>\r\n",
       "</g>\r\n",
       "<!-- Csv SCAN ../kkdata/train_target_events.csv;\r\n",
       "π */10;\r\n",
       "σ &#45; [(200, 2)] -->\r\n",
       "<g id=\"node5\" class=\"node\">\r\n",
       "<title>Csv SCAN ../kkdata/train_target_events.csv;\r\n",
       "π */10;\r\n",
       "σ &#45; [(200, 2)]</title>\r\n",
       "<polygon fill=\"none\" stroke=\"black\" points=\"545.5,-53 284.5,-53 284.5,0 545.5,0 545.5,-53\"/>\r\n",
       "<text text-anchor=\"middle\" x=\"415\" y=\"-37.8\" font-family=\"Times New Roman,serif\" font-size=\"14.00\">Csv SCAN ../kkdata/train_target_events.csv;</text>\r\n",
       "<text text-anchor=\"middle\" x=\"415\" y=\"-22.8\" font-family=\"Times New Roman,serif\" font-size=\"14.00\">π */10;</text>\r\n",
       "<text text-anchor=\"middle\" x=\"415\" y=\"-7.8\" font-family=\"Times New Roman,serif\" font-size=\"14.00\">σ &#45;</text>\r\n",
       "</g>\r\n",
       "<!-- AGG [count()]\r\n",
       "BY\r\n",
       "[col(&quot;user_id&quot;)] [(200, 1)] [(200, 1)]&#45;&#45;Csv SCAN ../kkdata/train_target_events.csv;\r\n",
       "π */10;\r\n",
       "σ &#45; [(200, 2)] -->\r\n",
       "<g id=\"edge4\" class=\"edge\">\r\n",
       "<title>AGG [count()]\r\n",
       "BY\r\n",
       "[col(&quot;user_id&quot;)] [(200, 1)] [(200, 1)]&#45;&#45;Csv SCAN ../kkdata/train_target_events.csv;\r\n",
       "π */10;\r\n",
       "σ &#45; [(200, 2)]</title>\r\n",
       "<path fill=\"none\" stroke=\"black\" d=\"M395.95,-88.87C399.44,-77.64 403.52,-64.49 407.01,-53.25\"/>\r\n",
       "</g>\r\n",
       "</g>\r\n",
       "</svg>\r\n"
      ],
      "text/plain": [
       "<LazyFrame [3 cols, {\"user_id\": Int64 … \"count_right\": UInt32}] at 0x1F4C0E3E690>"
      ]
     },
     "execution_count": 81,
     "metadata": {},
     "output_type": "execute_result"
    }
   ],
   "source": [
    "plan_count = (\n",
    "    pl.scan_csv(\"../kkdata/train_source_events.csv\")\n",
    "    .group_by('user_id')\n",
    "    .count()\n",
    "    .join(on='user_id',\n",
    "          other=pl.scan_csv(\"../kkdata/train_target_events.csv\")\n",
    "                  .group_by('user_id')\n",
    "                  .count()\n",
    "          )\n",
    ")\n",
    "plan_count"
   ]
  },
  {
   "cell_type": "code",
   "execution_count": 82,
   "id": "8da004e8",
   "metadata": {},
   "outputs": [
    {
     "data": {
      "text/html": [
       "<h4>NAIVE QUERY PLAN</h4><p>run <b>LazyFrame.show_graph()</b> to see the optimized version</p><?xml version=\"1.0\" encoding=\"UTF-8\" standalone=\"no\"?>\r\n",
       "<!DOCTYPE svg PUBLIC \"-//W3C//DTD SVG 1.1//EN\"\r\n",
       " \"http://www.w3.org/Graphics/SVG/1.1/DTD/svg11.dtd\">\r\n",
       "<!-- Generated by graphviz version 2.50.0 (0)\r\n",
       " -->\r\n",
       "<!-- Title: polars_query Pages: 1 -->\r\n",
       "<svg width=\"554pt\" height=\"239pt\"\r\n",
       " viewBox=\"0.00 0.00 553.50 239.00\" xmlns=\"http://www.w3.org/2000/svg\" xmlns:xlink=\"http://www.w3.org/1999/xlink\">\r\n",
       "<g id=\"graph0\" class=\"graph\" transform=\"scale(1 1) rotate(0) translate(4 235)\">\r\n",
       "<title>polars_query</title>\r\n",
       "<polygon fill=\"white\" stroke=\"transparent\" points=\"-4,4 -4,-235 549.5,-235 549.5,4 -4,4\"/>\r\n",
       "<!-- JOIN INNER\r\n",
       " &#160;&#160;&#160;&#160;&#160;&#160;&#160;&#160;&#160;&#160;&#160;&#160;&#160;&#160;&#160;&#160;&#160;&#160;&#160;left [col(&quot;user_id&quot;)];\r\n",
       " &#160;&#160;&#160;&#160;&#160;&#160;&#160;&#160;&#160;&#160;&#160;&#160;&#160;&#160;&#160;&#160;&#160;&#160;&#160;right: [col(&quot;user_id&quot;)] [(0, 0)] -->\r\n",
       "<g id=\"node1\" class=\"node\">\r\n",
       "<title>JOIN INNER\r\n",
       " &#160;&#160;&#160;&#160;&#160;&#160;&#160;&#160;&#160;&#160;&#160;&#160;&#160;&#160;&#160;&#160;&#160;&#160;&#160;left [col(&quot;user_id&quot;)];\r\n",
       " &#160;&#160;&#160;&#160;&#160;&#160;&#160;&#160;&#160;&#160;&#160;&#160;&#160;&#160;&#160;&#160;&#160;&#160;&#160;right: [col(&quot;user_id&quot;)] [(0, 0)]</title>\r\n",
       "<polygon fill=\"none\" stroke=\"black\" points=\"378.5,-231 167.5,-231 167.5,-178 378.5,-178 378.5,-231\"/>\r\n",
       "<text text-anchor=\"middle\" x=\"273\" y=\"-215.8\" font-family=\"Times New Roman,serif\" font-size=\"14.00\">JOIN INNER</text>\r\n",
       "<text text-anchor=\"middle\" x=\"273\" y=\"-200.8\" font-family=\"Times New Roman,serif\" font-size=\"14.00\"> &#160;&#160;&#160;&#160;&#160;&#160;&#160;&#160;&#160;&#160;&#160;&#160;&#160;&#160;&#160;&#160;&#160;&#160;&#160;left [col(&quot;user_id&quot;)];</text>\r\n",
       "<text text-anchor=\"middle\" x=\"273\" y=\"-185.8\" font-family=\"Times New Roman,serif\" font-size=\"14.00\"> &#160;&#160;&#160;&#160;&#160;&#160;&#160;&#160;&#160;&#160;&#160;&#160;&#160;&#160;&#160;&#160;&#160;&#160;&#160;right: [col(&quot;user_id&quot;)]</text>\r\n",
       "</g>\r\n",
       "<!-- AGG [count()]\r\n",
       "BY\r\n",
       "[col(&quot;user_id&quot;)] [(100, 1)] [(100, 1)] -->\r\n",
       "<g id=\"node2\" class=\"node\">\r\n",
       "<title>AGG [count()]\r\n",
       "BY\r\n",
       "[col(&quot;user_id&quot;)] [(100, 1)] [(100, 1)]</title>\r\n",
       "<polygon fill=\"none\" stroke=\"black\" points=\"264.5,-142 105.5,-142 105.5,-89 264.5,-89 264.5,-142\"/>\r\n",
       "<text text-anchor=\"middle\" x=\"185\" y=\"-126.8\" font-family=\"Times New Roman,serif\" font-size=\"14.00\">AGG [count()]</text>\r\n",
       "<text text-anchor=\"middle\" x=\"185\" y=\"-111.8\" font-family=\"Times New Roman,serif\" font-size=\"14.00\">BY</text>\r\n",
       "<text text-anchor=\"middle\" x=\"185\" y=\"-96.8\" font-family=\"Times New Roman,serif\" font-size=\"14.00\">[col(&quot;user_id&quot;)] [(100, 1)]</text>\r\n",
       "</g>\r\n",
       "<!-- JOIN INNER\r\n",
       " &#160;&#160;&#160;&#160;&#160;&#160;&#160;&#160;&#160;&#160;&#160;&#160;&#160;&#160;&#160;&#160;&#160;&#160;&#160;left [col(&quot;user_id&quot;)];\r\n",
       " &#160;&#160;&#160;&#160;&#160;&#160;&#160;&#160;&#160;&#160;&#160;&#160;&#160;&#160;&#160;&#160;&#160;&#160;&#160;right: [col(&quot;user_id&quot;)] [(0, 0)]&#45;&#45;AGG [count()]\r\n",
       "BY\r\n",
       "[col(&quot;user_id&quot;)] [(100, 1)] [(100, 1)] -->\r\n",
       "<g id=\"edge1\" class=\"edge\">\r\n",
       "<title>JOIN INNER\r\n",
       " &#160;&#160;&#160;&#160;&#160;&#160;&#160;&#160;&#160;&#160;&#160;&#160;&#160;&#160;&#160;&#160;&#160;&#160;&#160;left [col(&quot;user_id&quot;)];\r\n",
       " &#160;&#160;&#160;&#160;&#160;&#160;&#160;&#160;&#160;&#160;&#160;&#160;&#160;&#160;&#160;&#160;&#160;&#160;&#160;right: [col(&quot;user_id&quot;)] [(0, 0)]&#45;&#45;AGG [count()]\r\n",
       "BY\r\n",
       "[col(&quot;user_id&quot;)] [(100, 1)] [(100, 1)]</title>\r\n",
       "<path fill=\"none\" stroke=\"black\" d=\"M247.07,-177.87C235.72,-166.64 222.42,-153.49 211.05,-142.25\"/>\r\n",
       "</g>\r\n",
       "<!-- AGG [count()]\r\n",
       "BY\r\n",
       "[col(&quot;user_id&quot;)] [(200, 1)] [(200, 1)] -->\r\n",
       "<g id=\"node4\" class=\"node\">\r\n",
       "<title>AGG [count()]\r\n",
       "BY\r\n",
       "[col(&quot;user_id&quot;)] [(200, 1)] [(200, 1)]</title>\r\n",
       "<polygon fill=\"none\" stroke=\"black\" points=\"467.5,-142 308.5,-142 308.5,-89 467.5,-89 467.5,-142\"/>\r\n",
       "<text text-anchor=\"middle\" x=\"388\" y=\"-126.8\" font-family=\"Times New Roman,serif\" font-size=\"14.00\">AGG [count()]</text>\r\n",
       "<text text-anchor=\"middle\" x=\"388\" y=\"-111.8\" font-family=\"Times New Roman,serif\" font-size=\"14.00\">BY</text>\r\n",
       "<text text-anchor=\"middle\" x=\"388\" y=\"-96.8\" font-family=\"Times New Roman,serif\" font-size=\"14.00\">[col(&quot;user_id&quot;)] [(200, 1)]</text>\r\n",
       "</g>\r\n",
       "<!-- JOIN INNER\r\n",
       " &#160;&#160;&#160;&#160;&#160;&#160;&#160;&#160;&#160;&#160;&#160;&#160;&#160;&#160;&#160;&#160;&#160;&#160;&#160;left [col(&quot;user_id&quot;)];\r\n",
       " &#160;&#160;&#160;&#160;&#160;&#160;&#160;&#160;&#160;&#160;&#160;&#160;&#160;&#160;&#160;&#160;&#160;&#160;&#160;right: [col(&quot;user_id&quot;)] [(0, 0)]&#45;&#45;AGG [count()]\r\n",
       "BY\r\n",
       "[col(&quot;user_id&quot;)] [(200, 1)] [(200, 1)] -->\r\n",
       "<g id=\"edge3\" class=\"edge\">\r\n",
       "<title>JOIN INNER\r\n",
       " &#160;&#160;&#160;&#160;&#160;&#160;&#160;&#160;&#160;&#160;&#160;&#160;&#160;&#160;&#160;&#160;&#160;&#160;&#160;left [col(&quot;user_id&quot;)];\r\n",
       " &#160;&#160;&#160;&#160;&#160;&#160;&#160;&#160;&#160;&#160;&#160;&#160;&#160;&#160;&#160;&#160;&#160;&#160;&#160;right: [col(&quot;user_id&quot;)] [(0, 0)]&#45;&#45;AGG [count()]\r\n",
       "BY\r\n",
       "[col(&quot;user_id&quot;)] [(200, 1)] [(200, 1)]</title>\r\n",
       "<path fill=\"none\" stroke=\"black\" d=\"M306.88,-177.87C321.72,-166.64 339.1,-153.49 353.96,-142.25\"/>\r\n",
       "</g>\r\n",
       "<!-- Csv SCAN ../kkdata/train_source_events.csv;\r\n",
       "π */10;\r\n",
       "σ &#45; [(100, 2)] -->\r\n",
       "<g id=\"node3\" class=\"node\">\r\n",
       "<title>Csv SCAN ../kkdata/train_source_events.csv;\r\n",
       "π */10;\r\n",
       "σ &#45; [(100, 2)]</title>\r\n",
       "<polygon fill=\"none\" stroke=\"black\" points=\"266,-53 0,-53 0,0 266,0 266,-53\"/>\r\n",
       "<text text-anchor=\"middle\" x=\"133\" y=\"-37.8\" font-family=\"Times New Roman,serif\" font-size=\"14.00\">Csv SCAN ../kkdata/train_source_events.csv;</text>\r\n",
       "<text text-anchor=\"middle\" x=\"133\" y=\"-22.8\" font-family=\"Times New Roman,serif\" font-size=\"14.00\">π */10;</text>\r\n",
       "<text text-anchor=\"middle\" x=\"133\" y=\"-7.8\" font-family=\"Times New Roman,serif\" font-size=\"14.00\">σ &#45;</text>\r\n",
       "</g>\r\n",
       "<!-- AGG [count()]\r\n",
       "BY\r\n",
       "[col(&quot;user_id&quot;)] [(100, 1)] [(100, 1)]&#45;&#45;Csv SCAN ../kkdata/train_source_events.csv;\r\n",
       "π */10;\r\n",
       "σ &#45; [(100, 2)] -->\r\n",
       "<g id=\"edge2\" class=\"edge\">\r\n",
       "<title>AGG [count()]\r\n",
       "BY\r\n",
       "[col(&quot;user_id&quot;)] [(100, 1)] [(100, 1)]&#45;&#45;Csv SCAN ../kkdata/train_source_events.csv;\r\n",
       "π */10;\r\n",
       "σ &#45; [(100, 2)]</title>\r\n",
       "<path fill=\"none\" stroke=\"black\" d=\"M169.68,-88.87C162.97,-77.64 155.11,-64.49 148.39,-53.25\"/>\r\n",
       "</g>\r\n",
       "<!-- Csv SCAN ../kkdata/train_target_events.csv;\r\n",
       "π */10;\r\n",
       "σ &#45; [(200, 2)] -->\r\n",
       "<g id=\"node5\" class=\"node\">\r\n",
       "<title>Csv SCAN ../kkdata/train_target_events.csv;\r\n",
       "π */10;\r\n",
       "σ &#45; [(200, 2)]</title>\r\n",
       "<polygon fill=\"none\" stroke=\"black\" points=\"545.5,-53 284.5,-53 284.5,0 545.5,0 545.5,-53\"/>\r\n",
       "<text text-anchor=\"middle\" x=\"415\" y=\"-37.8\" font-family=\"Times New Roman,serif\" font-size=\"14.00\">Csv SCAN ../kkdata/train_target_events.csv;</text>\r\n",
       "<text text-anchor=\"middle\" x=\"415\" y=\"-22.8\" font-family=\"Times New Roman,serif\" font-size=\"14.00\">π */10;</text>\r\n",
       "<text text-anchor=\"middle\" x=\"415\" y=\"-7.8\" font-family=\"Times New Roman,serif\" font-size=\"14.00\">σ &#45;</text>\r\n",
       "</g>\r\n",
       "<!-- AGG [count()]\r\n",
       "BY\r\n",
       "[col(&quot;user_id&quot;)] [(200, 1)] [(200, 1)]&#45;&#45;Csv SCAN ../kkdata/train_target_events.csv;\r\n",
       "π */10;\r\n",
       "σ &#45; [(200, 2)] -->\r\n",
       "<g id=\"edge4\" class=\"edge\">\r\n",
       "<title>AGG [count()]\r\n",
       "BY\r\n",
       "[col(&quot;user_id&quot;)] [(200, 1)] [(200, 1)]&#45;&#45;Csv SCAN ../kkdata/train_target_events.csv;\r\n",
       "π */10;\r\n",
       "σ &#45; [(200, 2)]</title>\r\n",
       "<path fill=\"none\" stroke=\"black\" d=\"M395.95,-88.87C399.44,-77.64 403.52,-64.49 407.01,-53.25\"/>\r\n",
       "</g>\r\n",
       "</g>\r\n",
       "</svg>\r\n"
      ],
      "text/plain": [
       "<LazyFrame [3 cols, {\"user_id\": Int64 … \"count_right\": UInt32}] at 0x1F4B7A50A50>"
      ]
     },
     "execution_count": 82,
     "metadata": {},
     "output_type": "execute_result"
    }
   ],
   "source": [
    "def count_plan(fn):\n",
    "    return (\n",
    "        pl.scan_csv(fn)\n",
    "        .group_by('user_id')\n",
    "        .count()\n",
    "    )\n",
    "plan_count = count_plan(\"../kkdata/train_source_events.csv\").join(\n",
    "    on='user_id',\n",
    "    other=count_plan(\"../kkdata/train_target_events.csv\")\n",
    ")\n",
    "plan_count"
   ]
  },
  {
   "cell_type": "code",
   "execution_count": 86,
   "id": "ed58f8d2",
   "metadata": {},
   "outputs": [
    {
     "name": "stdout",
     "output_type": "stream",
     "text": [
      "INNER JOIN:\n",
      "LEFT PLAN ON: [col(\"user_id\")]\n",
      "  AGGREGATE\n",
      "  \t[count()] BY [col(\"user_id\")] FROM\n",
      "\n",
      "      Csv SCAN ../kkdata/train_source_events.csv\n",
      "      PROJECT 1/10 COLUMNS\n",
      "RIGHT PLAN ON: [col(\"user_id\")]\n",
      "  AGGREGATE\n",
      "  \t[count()] BY [col(\"user_id\")] FROM\n",
      "\n",
      "      Csv SCAN ../kkdata/train_target_events.csv\n",
      "      PROJECT 1/10 COLUMNS\n",
      "END INNER JOIN\n"
     ]
    }
   ],
   "source": [
    "print(plan_count.explain())"
   ]
  },
  {
   "cell_type": "code",
   "execution_count": 55,
   "id": "59bf3292",
   "metadata": {},
   "outputs": [],
   "source": [
    "group_by_key = [\"user_id\", \"title_id\"]\n",
    "df_source = pl.read_csv(\"../kkdata/train_source_events.csv\")\n",
    "df_ = df_source[group_by_key+[\"played_duration\"]].sort(by='title_id').group_by([\"user_id\", \"title_id\"]).sum()\n",
    "df_ = df_.pivot(values=\"played_duration\", index=\"user_id\", columns=\"title_id\").fill_null(0)"
   ]
  },
  {
   "cell_type": "code",
   "execution_count": 71,
   "id": "fc2f444b",
   "metadata": {},
   "outputs": [
    {
     "data": {
      "text/html": [
       "<h4>NAIVE QUERY PLAN</h4><p>run <b>LazyFrame.show_graph()</b> to see the optimized version</p><?xml version=\"1.0\" encoding=\"UTF-8\" standalone=\"no\"?>\r\n",
       "<!DOCTYPE svg PUBLIC \"-//W3C//DTD SVG 1.1//EN\"\r\n",
       " \"http://www.w3.org/Graphics/SVG/1.1/DTD/svg11.dtd\">\r\n",
       "<!-- Generated by graphviz version 2.50.0 (0)\r\n",
       " -->\r\n",
       "<!-- Title: polars_query Pages: 1 -->\r\n",
       "<svg width=\"274pt\" height=\"294pt\"\r\n",
       " viewBox=\"0.00 0.00 274.00 294.00\" xmlns=\"http://www.w3.org/2000/svg\" xmlns:xlink=\"http://www.w3.org/1999/xlink\">\r\n",
       "<g id=\"graph0\" class=\"graph\" transform=\"scale(1 1) rotate(0) translate(4 290)\">\r\n",
       "<title>polars_query</title>\r\n",
       "<polygon fill=\"white\" stroke=\"transparent\" points=\"-4,4 -4,-290 270,-290 270,4 -4,4\"/>\r\n",
       "<!-- AGG [col(&quot;played_duration&quot;).sum()]\r\n",
       "BY\r\n",
       "[col(&quot;user_id&quot;),col(&quot;title_id&quot;)] [(0, 0)] [(0, 0)] -->\r\n",
       "<g id=\"node1\" class=\"node\">\r\n",
       "<title>AGG [col(&quot;played_duration&quot;).sum()]\r\n",
       "BY\r\n",
       "[col(&quot;user_id&quot;),col(&quot;title_id&quot;)] [(0, 0)] [(0, 0)]</title>\r\n",
       "<polygon fill=\"none\" stroke=\"black\" points=\"245.5,-286 20.5,-286 20.5,-233 245.5,-233 245.5,-286\"/>\r\n",
       "<text text-anchor=\"middle\" x=\"133\" y=\"-270.8\" font-family=\"Times New Roman,serif\" font-size=\"14.00\">AGG [col(&quot;played_duration&quot;).sum()]</text>\r\n",
       "<text text-anchor=\"middle\" x=\"133\" y=\"-255.8\" font-family=\"Times New Roman,serif\" font-size=\"14.00\">BY</text>\r\n",
       "<text text-anchor=\"middle\" x=\"133\" y=\"-240.8\" font-family=\"Times New Roman,serif\" font-size=\"14.00\">[col(&quot;user_id&quot;),col(&quot;title_id&quot;)] [(0, 0)]</text>\r\n",
       "</g>\r\n",
       "<!-- SORT BY [col(&quot;title_id&quot;)] [(0, 1)] -->\r\n",
       "<g id=\"node2\" class=\"node\">\r\n",
       "<title>SORT BY [col(&quot;title_id&quot;)] [(0, 1)]</title>\r\n",
       "<polygon fill=\"none\" stroke=\"black\" points=\"213.5,-197 52.5,-197 52.5,-161 213.5,-161 213.5,-197\"/>\r\n",
       "<text text-anchor=\"middle\" x=\"133\" y=\"-175.3\" font-family=\"Times New Roman,serif\" font-size=\"14.00\">SORT BY [col(&quot;title_id&quot;)]</text>\r\n",
       "</g>\r\n",
       "<!-- AGG [col(&quot;played_duration&quot;).sum()]\r\n",
       "BY\r\n",
       "[col(&quot;user_id&quot;),col(&quot;title_id&quot;)] [(0, 0)] [(0, 0)]&#45;&#45;SORT BY [col(&quot;title_id&quot;)] [(0, 1)] -->\r\n",
       "<g id=\"edge1\" class=\"edge\">\r\n",
       "<title>AGG [col(&quot;played_duration&quot;).sum()]\r\n",
       "BY\r\n",
       "[col(&quot;user_id&quot;),col(&quot;title_id&quot;)] [(0, 0)] [(0, 0)]&#45;&#45;SORT BY [col(&quot;title_id&quot;)] [(0, 1)]</title>\r\n",
       "<path fill=\"none\" stroke=\"black\" d=\"M133,-232.8C133,-221.17 133,-207.74 133,-197.33\"/>\r\n",
       "</g>\r\n",
       "<!-- π 3/10 [(0, 2)] -->\r\n",
       "<g id=\"node3\" class=\"node\">\r\n",
       "<title>π 3/10 [(0, 2)]</title>\r\n",
       "<polygon fill=\"none\" stroke=\"black\" points=\"160,-125 106,-125 106,-89 160,-89 160,-125\"/>\r\n",
       "<text text-anchor=\"middle\" x=\"133\" y=\"-103.3\" font-family=\"Times New Roman,serif\" font-size=\"14.00\">π 3/10</text>\r\n",
       "</g>\r\n",
       "<!-- SORT BY [col(&quot;title_id&quot;)] [(0, 1)]&#45;&#45;π 3/10 [(0, 2)] -->\r\n",
       "<g id=\"edge2\" class=\"edge\">\r\n",
       "<title>SORT BY [col(&quot;title_id&quot;)] [(0, 1)]&#45;&#45;π 3/10 [(0, 2)]</title>\r\n",
       "<path fill=\"none\" stroke=\"black\" d=\"M133,-160.7C133,-149.85 133,-135.92 133,-125.1\"/>\r\n",
       "</g>\r\n",
       "<!-- Csv SCAN ../kkdata/train_source_events.csv;\r\n",
       "π */10;\r\n",
       "σ &#45; [(0, 3)] -->\r\n",
       "<g id=\"node4\" class=\"node\">\r\n",
       "<title>Csv SCAN ../kkdata/train_source_events.csv;\r\n",
       "π */10;\r\n",
       "σ &#45; [(0, 3)]</title>\r\n",
       "<polygon fill=\"none\" stroke=\"black\" points=\"266,-53 0,-53 0,0 266,0 266,-53\"/>\r\n",
       "<text text-anchor=\"middle\" x=\"133\" y=\"-37.8\" font-family=\"Times New Roman,serif\" font-size=\"14.00\">Csv SCAN ../kkdata/train_source_events.csv;</text>\r\n",
       "<text text-anchor=\"middle\" x=\"133\" y=\"-22.8\" font-family=\"Times New Roman,serif\" font-size=\"14.00\">π */10;</text>\r\n",
       "<text text-anchor=\"middle\" x=\"133\" y=\"-7.8\" font-family=\"Times New Roman,serif\" font-size=\"14.00\">σ &#45;</text>\r\n",
       "</g>\r\n",
       "<!-- π 3/10 [(0, 2)]&#45;&#45;Csv SCAN ../kkdata/train_source_events.csv;\r\n",
       "π */10;\r\n",
       "σ &#45; [(0, 3)] -->\r\n",
       "<g id=\"edge3\" class=\"edge\">\r\n",
       "<title>π 3/10 [(0, 2)]&#45;&#45;Csv SCAN ../kkdata/train_source_events.csv;\r\n",
       "π */10;\r\n",
       "σ &#45; [(0, 3)]</title>\r\n",
       "<path fill=\"none\" stroke=\"black\" d=\"M133,-88.97C133,-78.51 133,-64.9 133,-53.16\"/>\r\n",
       "</g>\r\n",
       "</g>\r\n",
       "</svg>\r\n"
      ],
      "text/plain": [
       "<LazyFrame [3 cols, {\"user_id\": Int64 … \"played_duration\": Int64}] at 0x1DAE0AD6750>"
      ]
     },
     "execution_count": 71,
     "metadata": {},
     "output_type": "execute_result"
    }
   ],
   "source": [
    "\n",
    "group_by_key = [\"user_id\", \"title_id\"]\n",
    "query_plan = (pl\n",
    "    .scan_csv(\"../kkdata/train_source_events.csv\")\n",
    "    .select(group_by_key+[\"played_duration\"])\n",
    "    .sort(by='title_id')\n",
    "    .group_by([\"user_id\", \"title_id\"])\n",
    "    .sum()\n",
    ")\n",
    "query_plan"
   ]
  },
  {
   "cell_type": "code",
   "execution_count": 72,
   "id": "18d845e3",
   "metadata": {},
   "outputs": [
    {
     "data": {
      "text/html": [
       "<div><style>\n",
       ".dataframe > thead > tr > th,\n",
       ".dataframe > tbody > tr > td {\n",
       "  text-align: right;\n",
       "  white-space: pre-wrap;\n",
       "}\n",
       "</style>\n",
       "<small>shape: (30_460, 6_033)</small><table border=\"1\" class=\"dataframe\"><thead><tr><th>user_id</th><th>0</th><th>1</th><th>2</th><th>3</th><th>4</th><th>5</th><th>6</th><th>7</th><th>8</th><th>9</th><th>10</th><th>11</th><th>12</th><th>13</th><th>14</th><th>15</th><th>16</th><th>17</th><th>18</th><th>19</th><th>20</th><th>21</th><th>22</th><th>23</th><th>24</th><th>25</th><th>26</th><th>27</th><th>28</th><th>29</th><th>30</th><th>31</th><th>32</th><th>33</th><th>34</th><th>35</th><th>&hellip;</th><th>5082</th><th>5336</th><th>5356</th><th>5418</th><th>5459</th><th>5534</th><th>5538</th><th>5608</th><th>5637</th><th>5666</th><th>5769</th><th>5824</th><th>5870</th><th>5873</th><th>5894</th><th>5897</th><th>5960</th><th>5997</th><th>6052</th><th>6080</th><th>2245</th><th>2521</th><th>3282</th><th>4832</th><th>4940</th><th>5002</th><th>5120</th><th>5169</th><th>5540</th><th>5660</th><th>5664</th><th>5670</th><th>5675</th><th>6034</th><th>6050</th><th>6063</th><th>6094</th></tr><tr><td>i64</td><td>i64</td><td>i64</td><td>i64</td><td>i64</td><td>i64</td><td>i64</td><td>i64</td><td>i64</td><td>i64</td><td>i64</td><td>i64</td><td>i64</td><td>i64</td><td>i64</td><td>i64</td><td>i64</td><td>i64</td><td>i64</td><td>i64</td><td>i64</td><td>i64</td><td>i64</td><td>i64</td><td>i64</td><td>i64</td><td>i64</td><td>i64</td><td>i64</td><td>i64</td><td>i64</td><td>i64</td><td>i64</td><td>i64</td><td>i64</td><td>i64</td><td>i64</td><td>&hellip;</td><td>i64</td><td>i64</td><td>i64</td><td>i64</td><td>i64</td><td>i64</td><td>i64</td><td>i64</td><td>i64</td><td>i64</td><td>i64</td><td>i64</td><td>i64</td><td>i64</td><td>i64</td><td>i64</td><td>i64</td><td>i64</td><td>i64</td><td>i64</td><td>i64</td><td>i64</td><td>i64</td><td>i64</td><td>i64</td><td>i64</td><td>i64</td><td>i64</td><td>i64</td><td>i64</td><td>i64</td><td>i64</td><td>i64</td><td>i64</td><td>i64</td><td>i64</td><td>i64</td></tr></thead><tbody><tr><td>0</td><td>30201</td><td>0</td><td>0</td><td>0</td><td>56004</td><td>24669</td><td>2811</td><td>503</td><td>0</td><td>0</td><td>0</td><td>6921</td><td>2645</td><td>0</td><td>12280</td><td>0</td><td>5001</td><td>0</td><td>0</td><td>0</td><td>0</td><td>25072</td><td>0</td><td>0</td><td>0</td><td>0</td><td>0</td><td>70296</td><td>49567</td><td>60</td><td>0</td><td>0</td><td>0</td><td>0</td><td>0</td><td>0</td><td>&hellip;</td><td>0</td><td>0</td><td>0</td><td>0</td><td>0</td><td>0</td><td>0</td><td>0</td><td>0</td><td>0</td><td>0</td><td>0</td><td>0</td><td>0</td><td>0</td><td>0</td><td>0</td><td>0</td><td>0</td><td>0</td><td>0</td><td>0</td><td>0</td><td>0</td><td>0</td><td>0</td><td>0</td><td>0</td><td>0</td><td>0</td><td>0</td><td>0</td><td>0</td><td>0</td><td>0</td><td>0</td><td>0</td></tr><tr><td>745</td><td>37747</td><td>0</td><td>5268</td><td>0</td><td>0</td><td>0</td><td>0</td><td>0</td><td>0</td><td>0</td><td>0</td><td>0</td><td>0</td><td>0</td><td>0</td><td>0</td><td>7180</td><td>0</td><td>0</td><td>0</td><td>0</td><td>0</td><td>0</td><td>4159</td><td>0</td><td>0</td><td>0</td><td>36711</td><td>0</td><td>0</td><td>0</td><td>0</td><td>0</td><td>0</td><td>0</td><td>0</td><td>&hellip;</td><td>0</td><td>0</td><td>0</td><td>0</td><td>0</td><td>0</td><td>0</td><td>0</td><td>0</td><td>0</td><td>0</td><td>0</td><td>0</td><td>0</td><td>0</td><td>0</td><td>0</td><td>0</td><td>0</td><td>0</td><td>0</td><td>0</td><td>0</td><td>0</td><td>0</td><td>0</td><td>0</td><td>0</td><td>0</td><td>0</td><td>0</td><td>0</td><td>0</td><td>0</td><td>0</td><td>0</td><td>0</td></tr><tr><td>934</td><td>27006</td><td>0</td><td>0</td><td>34781</td><td>0</td><td>0</td><td>28814</td><td>15611</td><td>0</td><td>0</td><td>17</td><td>3623</td><td>0</td><td>0</td><td>0</td><td>0</td><td>0</td><td>0</td><td>0</td><td>0</td><td>0</td><td>0</td><td>3310</td><td>0</td><td>0</td><td>0</td><td>0</td><td>0</td><td>40814</td><td>7029</td><td>0</td><td>0</td><td>35675</td><td>0</td><td>0</td><td>0</td><td>&hellip;</td><td>0</td><td>0</td><td>0</td><td>0</td><td>0</td><td>0</td><td>0</td><td>0</td><td>0</td><td>0</td><td>0</td><td>0</td><td>0</td><td>0</td><td>0</td><td>0</td><td>0</td><td>0</td><td>0</td><td>0</td><td>0</td><td>0</td><td>0</td><td>0</td><td>0</td><td>0</td><td>0</td><td>0</td><td>0</td><td>0</td><td>0</td><td>0</td><td>0</td><td>0</td><td>0</td><td>0</td><td>0</td></tr><tr><td>1231</td><td>27292</td><td>0</td><td>0</td><td>17184</td><td>0</td><td>20739</td><td>0</td><td>24677</td><td>623</td><td>69756</td><td>0</td><td>0</td><td>0</td><td>0</td><td>21249</td><td>0</td><td>0</td><td>0</td><td>0</td><td>0</td><td>0</td><td>0</td><td>0</td><td>3695</td><td>916</td><td>0</td><td>0</td><td>37247</td><td>0</td><td>0</td><td>0</td><td>0</td><td>0</td><td>0</td><td>0</td><td>0</td><td>&hellip;</td><td>0</td><td>0</td><td>0</td><td>0</td><td>0</td><td>0</td><td>0</td><td>0</td><td>0</td><td>0</td><td>0</td><td>0</td><td>0</td><td>0</td><td>0</td><td>0</td><td>0</td><td>0</td><td>0</td><td>0</td><td>0</td><td>0</td><td>0</td><td>0</td><td>0</td><td>0</td><td>0</td><td>0</td><td>0</td><td>0</td><td>0</td><td>0</td><td>0</td><td>0</td><td>0</td><td>0</td><td>0</td></tr><tr><td>1246</td><td>10835</td><td>0</td><td>0</td><td>2955</td><td>0</td><td>0</td><td>0</td><td>0</td><td>0</td><td>0</td><td>0</td><td>0</td><td>0</td><td>0</td><td>0</td><td>0</td><td>0</td><td>0</td><td>0</td><td>19</td><td>0</td><td>0</td><td>0</td><td>0</td><td>0</td><td>0</td><td>0</td><td>0</td><td>0</td><td>0</td><td>0</td><td>0</td><td>0</td><td>0</td><td>0</td><td>0</td><td>&hellip;</td><td>0</td><td>0</td><td>0</td><td>0</td><td>0</td><td>0</td><td>0</td><td>0</td><td>0</td><td>0</td><td>0</td><td>0</td><td>0</td><td>0</td><td>0</td><td>0</td><td>0</td><td>0</td><td>0</td><td>0</td><td>0</td><td>0</td><td>0</td><td>0</td><td>0</td><td>0</td><td>0</td><td>0</td><td>0</td><td>0</td><td>0</td><td>0</td><td>0</td><td>0</td><td>0</td><td>0</td><td>0</td></tr><tr><td>1543</td><td>25840</td><td>1346</td><td>22722</td><td>0</td><td>0</td><td>0</td><td>0</td><td>0</td><td>0</td><td>0</td><td>0</td><td>0</td><td>0</td><td>0</td><td>0</td><td>0</td><td>1525</td><td>0</td><td>0</td><td>0</td><td>0</td><td>0</td><td>182</td><td>0</td><td>0</td><td>0</td><td>0</td><td>0</td><td>0</td><td>0</td><td>0</td><td>0</td><td>0</td><td>0</td><td>0</td><td>421</td><td>&hellip;</td><td>0</td><td>0</td><td>0</td><td>0</td><td>0</td><td>0</td><td>0</td><td>0</td><td>0</td><td>0</td><td>0</td><td>0</td><td>0</td><td>0</td><td>0</td><td>0</td><td>0</td><td>0</td><td>0</td><td>0</td><td>0</td><td>0</td><td>0</td><td>0</td><td>0</td><td>0</td><td>0</td><td>0</td><td>0</td><td>0</td><td>0</td><td>0</td><td>0</td><td>0</td><td>0</td><td>0</td><td>0</td></tr><tr><td>1655</td><td>24051</td><td>0</td><td>0</td><td>0</td><td>0</td><td>0</td><td>0</td><td>0</td><td>0</td><td>0</td><td>0</td><td>0</td><td>0</td><td>0</td><td>0</td><td>0</td><td>0</td><td>0</td><td>0</td><td>0</td><td>0</td><td>0</td><td>0</td><td>0</td><td>0</td><td>0</td><td>0</td><td>0</td><td>0</td><td>0</td><td>0</td><td>0</td><td>0</td><td>0</td><td>0</td><td>0</td><td>&hellip;</td><td>0</td><td>0</td><td>0</td><td>0</td><td>0</td><td>0</td><td>0</td><td>0</td><td>0</td><td>0</td><td>0</td><td>0</td><td>0</td><td>0</td><td>0</td><td>0</td><td>0</td><td>0</td><td>0</td><td>0</td><td>0</td><td>0</td><td>0</td><td>0</td><td>0</td><td>0</td><td>0</td><td>0</td><td>0</td><td>0</td><td>0</td><td>0</td><td>0</td><td>0</td><td>0</td><td>0</td><td>0</td></tr><tr><td>1845</td><td>19852</td><td>0</td><td>166</td><td>19621</td><td>8812</td><td>6529</td><td>0</td><td>15393</td><td>0</td><td>0</td><td>0</td><td>14827</td><td>0</td><td>0</td><td>13956</td><td>0</td><td>0</td><td>11097</td><td>0</td><td>0</td><td>0</td><td>0</td><td>0</td><td>12465</td><td>179</td><td>35</td><td>32</td><td>0</td><td>0</td><td>0</td><td>0</td><td>0</td><td>0</td><td>0</td><td>0</td><td>0</td><td>&hellip;</td><td>0</td><td>0</td><td>0</td><td>0</td><td>0</td><td>0</td><td>0</td><td>0</td><td>0</td><td>0</td><td>0</td><td>0</td><td>0</td><td>0</td><td>0</td><td>0</td><td>0</td><td>0</td><td>0</td><td>0</td><td>0</td><td>0</td><td>0</td><td>0</td><td>0</td><td>0</td><td>0</td><td>0</td><td>0</td><td>0</td><td>0</td><td>0</td><td>0</td><td>0</td><td>0</td><td>0</td><td>0</td></tr><tr><td>2144</td><td>10207</td><td>2480</td><td>0</td><td>0</td><td>0</td><td>0</td><td>0</td><td>0</td><td>0</td><td>0</td><td>0</td><td>0</td><td>0</td><td>0</td><td>0</td><td>0</td><td>5338</td><td>0</td><td>0</td><td>0</td><td>0</td><td>0</td><td>12</td><td>0</td><td>0</td><td>0</td><td>0</td><td>0</td><td>1002</td><td>0</td><td>0</td><td>0</td><td>0</td><td>21840</td><td>0</td><td>0</td><td>&hellip;</td><td>0</td><td>0</td><td>0</td><td>0</td><td>0</td><td>0</td><td>0</td><td>0</td><td>0</td><td>0</td><td>0</td><td>0</td><td>0</td><td>0</td><td>0</td><td>0</td><td>0</td><td>0</td><td>0</td><td>0</td><td>0</td><td>0</td><td>0</td><td>0</td><td>0</td><td>0</td><td>0</td><td>0</td><td>0</td><td>0</td><td>0</td><td>0</td><td>0</td><td>0</td><td>0</td><td>0</td><td>0</td></tr><tr><td>2249</td><td>23391</td><td>0</td><td>27302</td><td>0</td><td>0</td><td>13418</td><td>26</td><td>0</td><td>0</td><td>78847</td><td>0</td><td>19510</td><td>0</td><td>0</td><td>0</td><td>0</td><td>0</td><td>0</td><td>0</td><td>0</td><td>0</td><td>0</td><td>2</td><td>0</td><td>0</td><td>0</td><td>0</td><td>0</td><td>0</td><td>0</td><td>0</td><td>0</td><td>0</td><td>0</td><td>0</td><td>0</td><td>&hellip;</td><td>0</td><td>0</td><td>0</td><td>0</td><td>0</td><td>0</td><td>0</td><td>0</td><td>0</td><td>0</td><td>0</td><td>0</td><td>0</td><td>0</td><td>0</td><td>0</td><td>0</td><td>0</td><td>0</td><td>0</td><td>0</td><td>0</td><td>0</td><td>0</td><td>0</td><td>0</td><td>0</td><td>0</td><td>0</td><td>0</td><td>0</td><td>0</td><td>0</td><td>0</td><td>0</td><td>0</td><td>0</td></tr><tr><td>2565</td><td>3946</td><td>0</td><td>0</td><td>0</td><td>0</td><td>8574</td><td>0</td><td>0</td><td>5312</td><td>0</td><td>0</td><td>24581</td><td>0</td><td>0</td><td>25588</td><td>0</td><td>0</td><td>18993</td><td>0</td><td>0</td><td>0</td><td>0</td><td>0</td><td>0</td><td>0</td><td>0</td><td>0</td><td>0</td><td>0</td><td>0</td><td>0</td><td>0</td><td>0</td><td>0</td><td>0</td><td>0</td><td>&hellip;</td><td>0</td><td>0</td><td>0</td><td>0</td><td>0</td><td>0</td><td>0</td><td>0</td><td>0</td><td>0</td><td>0</td><td>0</td><td>0</td><td>0</td><td>0</td><td>0</td><td>0</td><td>0</td><td>0</td><td>0</td><td>0</td><td>0</td><td>0</td><td>0</td><td>0</td><td>0</td><td>0</td><td>0</td><td>0</td><td>0</td><td>0</td><td>0</td><td>0</td><td>0</td><td>0</td><td>0</td><td>0</td></tr><tr><td>3069</td><td>4076</td><td>0</td><td>0</td><td>0</td><td>6231</td><td>42461</td><td>6074</td><td>0</td><td>0</td><td>0</td><td>0</td><td>0</td><td>0</td><td>0</td><td>0</td><td>0</td><td>0</td><td>19931</td><td>0</td><td>0</td><td>0</td><td>0</td><td>0</td><td>0</td><td>0</td><td>0</td><td>0</td><td>8119</td><td>24369</td><td>0</td><td>0</td><td>0</td><td>0</td><td>0</td><td>0</td><td>0</td><td>&hellip;</td><td>0</td><td>0</td><td>0</td><td>0</td><td>0</td><td>0</td><td>0</td><td>0</td><td>0</td><td>0</td><td>0</td><td>0</td><td>0</td><td>0</td><td>0</td><td>0</td><td>0</td><td>0</td><td>0</td><td>0</td><td>0</td><td>0</td><td>0</td><td>0</td><td>0</td><td>0</td><td>0</td><td>0</td><td>0</td><td>0</td><td>0</td><td>0</td><td>0</td><td>0</td><td>0</td><td>0</td><td>0</td></tr><tr><td>&hellip;</td><td>&hellip;</td><td>&hellip;</td><td>&hellip;</td><td>&hellip;</td><td>&hellip;</td><td>&hellip;</td><td>&hellip;</td><td>&hellip;</td><td>&hellip;</td><td>&hellip;</td><td>&hellip;</td><td>&hellip;</td><td>&hellip;</td><td>&hellip;</td><td>&hellip;</td><td>&hellip;</td><td>&hellip;</td><td>&hellip;</td><td>&hellip;</td><td>&hellip;</td><td>&hellip;</td><td>&hellip;</td><td>&hellip;</td><td>&hellip;</td><td>&hellip;</td><td>&hellip;</td><td>&hellip;</td><td>&hellip;</td><td>&hellip;</td><td>&hellip;</td><td>&hellip;</td><td>&hellip;</td><td>&hellip;</td><td>&hellip;</td><td>&hellip;</td><td>&hellip;</td><td>&hellip;</td><td>&hellip;</td><td>&hellip;</td><td>&hellip;</td><td>&hellip;</td><td>&hellip;</td><td>&hellip;</td><td>&hellip;</td><td>&hellip;</td><td>&hellip;</td><td>&hellip;</td><td>&hellip;</td><td>&hellip;</td><td>&hellip;</td><td>&hellip;</td><td>&hellip;</td><td>&hellip;</td><td>&hellip;</td><td>&hellip;</td><td>&hellip;</td><td>&hellip;</td><td>&hellip;</td><td>&hellip;</td><td>&hellip;</td><td>&hellip;</td><td>&hellip;</td><td>&hellip;</td><td>&hellip;</td><td>&hellip;</td><td>&hellip;</td><td>&hellip;</td><td>&hellip;</td><td>&hellip;</td><td>&hellip;</td><td>&hellip;</td><td>&hellip;</td><td>&hellip;</td><td>&hellip;</td></tr><tr><td>15715</td><td>0</td><td>0</td><td>0</td><td>0</td><td>0</td><td>0</td><td>0</td><td>0</td><td>0</td><td>0</td><td>0</td><td>0</td><td>0</td><td>0</td><td>0</td><td>0</td><td>0</td><td>0</td><td>0</td><td>0</td><td>0</td><td>0</td><td>0</td><td>0</td><td>0</td><td>0</td><td>0</td><td>0</td><td>0</td><td>0</td><td>0</td><td>0</td><td>0</td><td>0</td><td>0</td><td>0</td><td>&hellip;</td><td>0</td><td>0</td><td>0</td><td>0</td><td>0</td><td>0</td><td>0</td><td>0</td><td>0</td><td>0</td><td>0</td><td>0</td><td>0</td><td>0</td><td>0</td><td>0</td><td>0</td><td>0</td><td>0</td><td>0</td><td>0</td><td>0</td><td>0</td><td>0</td><td>0</td><td>0</td><td>0</td><td>0</td><td>0</td><td>0</td><td>0</td><td>0</td><td>0</td><td>0</td><td>0</td><td>0</td><td>0</td></tr><tr><td>3182</td><td>0</td><td>0</td><td>0</td><td>0</td><td>0</td><td>0</td><td>0</td><td>0</td><td>0</td><td>0</td><td>0</td><td>0</td><td>0</td><td>0</td><td>0</td><td>0</td><td>0</td><td>0</td><td>0</td><td>0</td><td>0</td><td>0</td><td>0</td><td>0</td><td>0</td><td>0</td><td>0</td><td>0</td><td>0</td><td>0</td><td>0</td><td>0</td><td>0</td><td>0</td><td>0</td><td>0</td><td>&hellip;</td><td>0</td><td>0</td><td>0</td><td>0</td><td>0</td><td>0</td><td>0</td><td>0</td><td>0</td><td>0</td><td>0</td><td>0</td><td>0</td><td>0</td><td>0</td><td>0</td><td>0</td><td>0</td><td>0</td><td>0</td><td>0</td><td>0</td><td>0</td><td>0</td><td>0</td><td>0</td><td>0</td><td>0</td><td>0</td><td>0</td><td>0</td><td>0</td><td>0</td><td>0</td><td>0</td><td>0</td><td>0</td></tr><tr><td>1093</td><td>0</td><td>0</td><td>0</td><td>0</td><td>0</td><td>0</td><td>0</td><td>0</td><td>0</td><td>0</td><td>0</td><td>0</td><td>0</td><td>0</td><td>0</td><td>0</td><td>0</td><td>0</td><td>0</td><td>0</td><td>0</td><td>0</td><td>0</td><td>0</td><td>0</td><td>0</td><td>0</td><td>0</td><td>0</td><td>0</td><td>0</td><td>0</td><td>0</td><td>0</td><td>0</td><td>0</td><td>&hellip;</td><td>0</td><td>0</td><td>0</td><td>0</td><td>0</td><td>0</td><td>0</td><td>0</td><td>0</td><td>0</td><td>0</td><td>0</td><td>0</td><td>0</td><td>0</td><td>0</td><td>0</td><td>0</td><td>0</td><td>0</td><td>0</td><td>0</td><td>0</td><td>0</td><td>0</td><td>0</td><td>0</td><td>0</td><td>0</td><td>0</td><td>0</td><td>0</td><td>0</td><td>0</td><td>0</td><td>0</td><td>0</td></tr><tr><td>11002</td><td>0</td><td>0</td><td>0</td><td>0</td><td>0</td><td>0</td><td>0</td><td>0</td><td>0</td><td>0</td><td>0</td><td>0</td><td>0</td><td>0</td><td>0</td><td>0</td><td>0</td><td>0</td><td>0</td><td>0</td><td>0</td><td>0</td><td>0</td><td>0</td><td>0</td><td>0</td><td>0</td><td>0</td><td>0</td><td>0</td><td>0</td><td>0</td><td>0</td><td>0</td><td>0</td><td>0</td><td>&hellip;</td><td>0</td><td>0</td><td>0</td><td>0</td><td>0</td><td>0</td><td>0</td><td>0</td><td>0</td><td>0</td><td>0</td><td>0</td><td>0</td><td>0</td><td>0</td><td>0</td><td>0</td><td>0</td><td>0</td><td>0</td><td>0</td><td>0</td><td>0</td><td>0</td><td>0</td><td>0</td><td>0</td><td>0</td><td>0</td><td>0</td><td>0</td><td>0</td><td>0</td><td>0</td><td>0</td><td>0</td><td>0</td></tr><tr><td>4362</td><td>0</td><td>0</td><td>0</td><td>0</td><td>0</td><td>0</td><td>0</td><td>0</td><td>0</td><td>0</td><td>0</td><td>0</td><td>0</td><td>0</td><td>0</td><td>0</td><td>0</td><td>0</td><td>0</td><td>0</td><td>0</td><td>0</td><td>0</td><td>0</td><td>0</td><td>0</td><td>0</td><td>0</td><td>0</td><td>0</td><td>0</td><td>0</td><td>0</td><td>0</td><td>0</td><td>0</td><td>&hellip;</td><td>0</td><td>0</td><td>0</td><td>0</td><td>0</td><td>0</td><td>0</td><td>0</td><td>0</td><td>0</td><td>0</td><td>0</td><td>0</td><td>0</td><td>0</td><td>0</td><td>0</td><td>0</td><td>0</td><td>0</td><td>0</td><td>0</td><td>0</td><td>0</td><td>0</td><td>0</td><td>0</td><td>0</td><td>0</td><td>0</td><td>0</td><td>0</td><td>0</td><td>0</td><td>0</td><td>0</td><td>0</td></tr><tr><td>8701</td><td>0</td><td>0</td><td>0</td><td>0</td><td>0</td><td>0</td><td>0</td><td>0</td><td>0</td><td>0</td><td>0</td><td>0</td><td>0</td><td>0</td><td>0</td><td>0</td><td>0</td><td>0</td><td>0</td><td>0</td><td>0</td><td>0</td><td>0</td><td>0</td><td>0</td><td>0</td><td>0</td><td>0</td><td>0</td><td>0</td><td>0</td><td>0</td><td>0</td><td>0</td><td>0</td><td>0</td><td>&hellip;</td><td>0</td><td>0</td><td>0</td><td>0</td><td>0</td><td>0</td><td>0</td><td>0</td><td>0</td><td>0</td><td>0</td><td>0</td><td>0</td><td>0</td><td>0</td><td>0</td><td>0</td><td>0</td><td>0</td><td>0</td><td>0</td><td>0</td><td>0</td><td>0</td><td>0</td><td>0</td><td>0</td><td>0</td><td>0</td><td>0</td><td>0</td><td>0</td><td>0</td><td>0</td><td>0</td><td>0</td><td>0</td></tr><tr><td>15712</td><td>0</td><td>0</td><td>0</td><td>0</td><td>0</td><td>0</td><td>0</td><td>0</td><td>0</td><td>0</td><td>0</td><td>0</td><td>0</td><td>0</td><td>0</td><td>0</td><td>0</td><td>0</td><td>0</td><td>0</td><td>0</td><td>0</td><td>0</td><td>0</td><td>0</td><td>0</td><td>0</td><td>0</td><td>0</td><td>0</td><td>0</td><td>0</td><td>0</td><td>0</td><td>0</td><td>0</td><td>&hellip;</td><td>0</td><td>0</td><td>0</td><td>0</td><td>0</td><td>0</td><td>0</td><td>0</td><td>0</td><td>0</td><td>0</td><td>0</td><td>0</td><td>0</td><td>0</td><td>0</td><td>0</td><td>0</td><td>0</td><td>0</td><td>0</td><td>0</td><td>0</td><td>0</td><td>0</td><td>0</td><td>0</td><td>0</td><td>0</td><td>0</td><td>0</td><td>0</td><td>0</td><td>0</td><td>0</td><td>0</td><td>0</td></tr><tr><td>21660</td><td>0</td><td>0</td><td>0</td><td>0</td><td>0</td><td>0</td><td>0</td><td>0</td><td>0</td><td>0</td><td>0</td><td>0</td><td>0</td><td>0</td><td>0</td><td>0</td><td>0</td><td>0</td><td>0</td><td>0</td><td>0</td><td>0</td><td>0</td><td>0</td><td>0</td><td>0</td><td>0</td><td>0</td><td>0</td><td>0</td><td>0</td><td>0</td><td>0</td><td>0</td><td>0</td><td>0</td><td>&hellip;</td><td>0</td><td>0</td><td>0</td><td>0</td><td>0</td><td>0</td><td>0</td><td>0</td><td>0</td><td>0</td><td>0</td><td>0</td><td>0</td><td>0</td><td>0</td><td>0</td><td>0</td><td>0</td><td>0</td><td>0</td><td>0</td><td>0</td><td>0</td><td>0</td><td>0</td><td>0</td><td>0</td><td>0</td><td>0</td><td>0</td><td>0</td><td>0</td><td>0</td><td>0</td><td>0</td><td>0</td><td>0</td></tr><tr><td>2337</td><td>0</td><td>0</td><td>0</td><td>0</td><td>0</td><td>0</td><td>0</td><td>0</td><td>0</td><td>0</td><td>0</td><td>0</td><td>0</td><td>0</td><td>0</td><td>0</td><td>0</td><td>0</td><td>0</td><td>0</td><td>0</td><td>0</td><td>0</td><td>0</td><td>0</td><td>0</td><td>0</td><td>0</td><td>0</td><td>0</td><td>0</td><td>0</td><td>0</td><td>0</td><td>0</td><td>0</td><td>&hellip;</td><td>0</td><td>0</td><td>0</td><td>0</td><td>0</td><td>0</td><td>0</td><td>0</td><td>0</td><td>0</td><td>0</td><td>0</td><td>0</td><td>0</td><td>0</td><td>0</td><td>0</td><td>0</td><td>0</td><td>0</td><td>0</td><td>0</td><td>0</td><td>0</td><td>0</td><td>0</td><td>0</td><td>0</td><td>0</td><td>0</td><td>0</td><td>0</td><td>0</td><td>0</td><td>0</td><td>0</td><td>0</td></tr><tr><td>9422</td><td>0</td><td>0</td><td>0</td><td>0</td><td>0</td><td>0</td><td>0</td><td>0</td><td>0</td><td>0</td><td>0</td><td>0</td><td>0</td><td>0</td><td>0</td><td>0</td><td>0</td><td>0</td><td>0</td><td>0</td><td>0</td><td>0</td><td>0</td><td>0</td><td>0</td><td>0</td><td>0</td><td>0</td><td>0</td><td>0</td><td>0</td><td>0</td><td>0</td><td>0</td><td>0</td><td>0</td><td>&hellip;</td><td>0</td><td>0</td><td>0</td><td>0</td><td>0</td><td>0</td><td>0</td><td>0</td><td>0</td><td>0</td><td>0</td><td>0</td><td>0</td><td>0</td><td>0</td><td>0</td><td>0</td><td>0</td><td>0</td><td>0</td><td>0</td><td>0</td><td>0</td><td>0</td><td>0</td><td>0</td><td>0</td><td>0</td><td>0</td><td>0</td><td>0</td><td>0</td><td>0</td><td>0</td><td>0</td><td>0</td><td>0</td></tr><tr><td>29618</td><td>0</td><td>0</td><td>0</td><td>0</td><td>0</td><td>0</td><td>0</td><td>0</td><td>0</td><td>0</td><td>0</td><td>0</td><td>0</td><td>0</td><td>0</td><td>0</td><td>0</td><td>0</td><td>0</td><td>0</td><td>0</td><td>0</td><td>0</td><td>0</td><td>0</td><td>0</td><td>0</td><td>0</td><td>0</td><td>0</td><td>0</td><td>0</td><td>0</td><td>0</td><td>0</td><td>0</td><td>&hellip;</td><td>0</td><td>0</td><td>0</td><td>0</td><td>0</td><td>0</td><td>0</td><td>0</td><td>0</td><td>0</td><td>0</td><td>0</td><td>0</td><td>0</td><td>0</td><td>0</td><td>0</td><td>0</td><td>0</td><td>0</td><td>0</td><td>0</td><td>0</td><td>0</td><td>0</td><td>0</td><td>0</td><td>0</td><td>0</td><td>0</td><td>0</td><td>0</td><td>0</td><td>0</td><td>0</td><td>0</td><td>0</td></tr><tr><td>20477</td><td>0</td><td>0</td><td>0</td><td>0</td><td>0</td><td>0</td><td>0</td><td>0</td><td>0</td><td>0</td><td>0</td><td>0</td><td>0</td><td>0</td><td>0</td><td>0</td><td>0</td><td>0</td><td>0</td><td>0</td><td>0</td><td>0</td><td>0</td><td>0</td><td>0</td><td>0</td><td>0</td><td>0</td><td>0</td><td>0</td><td>0</td><td>0</td><td>0</td><td>0</td><td>0</td><td>0</td><td>&hellip;</td><td>0</td><td>0</td><td>0</td><td>0</td><td>0</td><td>0</td><td>0</td><td>0</td><td>0</td><td>0</td><td>0</td><td>0</td><td>0</td><td>0</td><td>0</td><td>0</td><td>0</td><td>0</td><td>0</td><td>0</td><td>0</td><td>0</td><td>0</td><td>0</td><td>0</td><td>0</td><td>0</td><td>0</td><td>0</td><td>0</td><td>0</td><td>0</td><td>0</td><td>0</td><td>0</td><td>0</td><td>0</td></tr></tbody></table></div>"
      ],
      "text/plain": [
       "shape: (30_460, 6_033)\n",
       "┌─────────┬───────┬─────┬──────┬───┬──────┬──────┬──────┬──────┐\n",
       "│ user_id ┆ 0     ┆ 1   ┆ 2    ┆ … ┆ 6034 ┆ 6050 ┆ 6063 ┆ 6094 │\n",
       "│ ---     ┆ ---   ┆ --- ┆ ---  ┆   ┆ ---  ┆ ---  ┆ ---  ┆ ---  │\n",
       "│ i64     ┆ i64   ┆ i64 ┆ i64  ┆   ┆ i64  ┆ i64  ┆ i64  ┆ i64  │\n",
       "╞═════════╪═══════╪═════╪══════╪═══╪══════╪══════╪══════╪══════╡\n",
       "│ 0       ┆ 30201 ┆ 0   ┆ 0    ┆ … ┆ 0    ┆ 0    ┆ 0    ┆ 0    │\n",
       "│ 745     ┆ 37747 ┆ 0   ┆ 5268 ┆ … ┆ 0    ┆ 0    ┆ 0    ┆ 0    │\n",
       "│ 934     ┆ 27006 ┆ 0   ┆ 0    ┆ … ┆ 0    ┆ 0    ┆ 0    ┆ 0    │\n",
       "│ 1231    ┆ 27292 ┆ 0   ┆ 0    ┆ … ┆ 0    ┆ 0    ┆ 0    ┆ 0    │\n",
       "│ …       ┆ …     ┆ …   ┆ …    ┆ … ┆ …    ┆ …    ┆ …    ┆ …    │\n",
       "│ 2337    ┆ 0     ┆ 0   ┆ 0    ┆ … ┆ 0    ┆ 0    ┆ 0    ┆ 0    │\n",
       "│ 9422    ┆ 0     ┆ 0   ┆ 0    ┆ … ┆ 0    ┆ 0    ┆ 0    ┆ 0    │\n",
       "│ 29618   ┆ 0     ┆ 0   ┆ 0    ┆ … ┆ 0    ┆ 0    ┆ 0    ┆ 0    │\n",
       "│ 20477   ┆ 0     ┆ 0   ┆ 0    ┆ … ┆ 0    ┆ 0    ┆ 0    ┆ 0    │\n",
       "└─────────┴───────┴─────┴──────┴───┴──────┴──────┴──────┴──────┘"
      ]
     },
     "execution_count": 72,
     "metadata": {},
     "output_type": "execute_result"
    }
   ],
   "source": [
    "(query_plan\n",
    " .collect()\n",
    " .pivot(values=\"played_duration\", index=\"user_id\", columns=\"title_id\")\n",
    " .fill_null(0)\n",
    ")"
   ]
  },
  {
   "cell_type": "code",
   "execution_count": null,
   "id": "17948860",
   "metadata": {},
   "outputs": [],
   "source": []
  }
 ],
 "metadata": {
  "kernelspec": {
   "display_name": "Python 3 (ipykernel)",
   "language": "python",
   "name": "python3"
  },
  "language_info": {
   "codemirror_mode": {
    "name": "ipython",
    "version": 3
   },
   "file_extension": ".py",
   "mimetype": "text/x-python",
   "name": "python",
   "nbconvert_exporter": "python",
   "pygments_lexer": "ipython3",
   "version": "3.11.5"
  }
 },
 "nbformat": 4,
 "nbformat_minor": 5
}
