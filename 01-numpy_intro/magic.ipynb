{
 "cells": [
  {
   "cell_type": "code",
   "execution_count": null,
   "metadata": {
    "collapsed": true,
    "deletable": true,
    "editable": true
   },
   "outputs": [],
   "source": [
    "import numpy as np\n",
    "from fractions import Fraction as frac\n",
    "\n",
    "def Matrix(*a):\n",
    "    if len(a)==1 and isinstance(a[0], np.ndarray):\n",
    "        a = a[0]\n",
    "    return np.array([[frac(x) for x in r] for r in a])\n",
    "\n",
    "def Vector(*a):\n",
    "    if len(a)==1 and isinstance(a[0], np.ndarray):\n",
    "        a = a[0]\n",
    "    return np.array([frac(x) for x in a]).reshape(-1,1)"
   ]
  },
  {
   "cell_type": "code",
   "execution_count": null,
   "metadata": {
    "collapsed": true,
    "deletable": true,
    "editable": true
   },
   "outputs": [],
   "source": [
    "# Black magic\n",
    "from IPython.display import Latex, SVG, display\n",
    "from IPython.core.interactiveshell import InteractiveShell\n",
    "def frac_to_latex(self):\n",
    "    if self._denominator == 1:\n",
    "        return str(self._numerator)\n",
    "    return \"\\\\frac{{{}}}{{{}}}\".format(self._numerator, self._denominator)\n",
    "frac.__str__= frac_to_latex\n",
    "frac._repr_latex_ = lambda x:\"$\"+frac_to_latex(x)+\"$\"\n",
    "def ndarray_to_latex(arr): \n",
    "    if len(arr.shape)==1: \n",
    "        arr=arr.reshape(1,-1)\n",
    "    if len(arr.shape) != 2:\n",
    "        return None\n",
    "    str_arr = np.vectorize(str)(arr)\n",
    "    return r'\\begin{{pmatrix}}{}\\end{{pmatrix}}'.format(r'\\\\ '.join(map('&'.join, str_arr))) \n",
    "sh = InteractiveShell.instance()\n",
    "sh.display_formatter.formatters['text/latex'].type_printers[np.ndarray]=ndarray_to_latex\n",
    "\n",
    "def matrix_dot(A,B):\n",
    "    if isinstance(A, np.ndarray):\n",
    "        assert len(A.shape)==2==len(B.shape)\n",
    "        return np.array([(A * x).sum(axis=1) for x in B.T]).T\n",
    "    assert callable(A)\n",
    "    if isinstance(B, np.ndarray):\n",
    "        return A(B)\n",
    "    assert callable(B)\n",
    "    return lambda x:A(B(x))\n",
    "\n",
    "import ast\n",
    "def int_to_frac(x):\n",
    "    if isinstance(x, int):\n",
    "        return frac(x)\n",
    "    return x\n",
    "class NumberWrapper(ast.NodeTransformer):\n",
    "    def visit_BinOp(self, node):\n",
    "        node = self.generic_visit(node)\n",
    "        left = node.left\n",
    "        right = node.right\n",
    "        if isinstance(node.op, ast.MatMult):\n",
    "            return ast.Call(func=ast.Name(id='matrix_dot', ctx=ast.Load()),\n",
    "                            args=[left, right], keywords=[])\n",
    "        elif isinstance(node.op, ast.Div):\n",
    "            right = ast.Call(func=ast.Name(id='int_to_frac', ctx=ast.Load()),\n",
    "                            args=[right], keywords=[])\n",
    "        return ast.BinOp(left, node.op, right)\n",
    "\n",
    "    def visit_Num(self, node):\n",
    "        if isinstance(node.n, float):\n",
    "            print(\"convert\",repr(node.n), )\n",
    "            return ast.Call(func=ast.Name(id='frac', ctx=ast.Load()),\n",
    "                            args=[ast.Str(str(node.n))], keywords=[])\n",
    "        return node\n",
    "sh.ast_transformers.append(NumberWrapper())\n",
    "smiley=SVG('<svg xmlns=\"http://www.w3.org/2000/svg\" width=\"300\" height=\"300\" viewBox=\"0 0 5.8208332 5.8208335\"><defs><linearGradient id=\"0\" x1=\"488.2\" y1=\"547.74\" x2=\"488.11\" y2=\"537.68\" gradientUnits=\"userSpaceOnUse\"><stop stop-color=\"#ffeb96\"/><stop offset=\"1\" stop-color=\"#fff1b7\"/></linearGradient></defs><g transform=\"translate(0-291.18)\"><g transform=\"matrix(.43294 0 0 .43294-209.18 68.12)\"><circle cx=\"488.27\" cy=\"542.35\" r=\"5.5\" fill=\"url(#0)\" transform=\"translate(1.612-20.413)\"/><g transform=\"translate(-6.818-.4)\"><path d=\"m499.05 523.96c0 .07.783.139.779.207-.11 1.575-1.461 2.821-3.116 2.827-1.648.006-3.01-1.222-3.135-2.788-.006-.074.305-.15.304-.225l2.82-.022z\" fill=\"#f7aa86\"/><path d=\"m493.66 523.64h6.077c.049 0 .088.039.088.088v.385c0 .049-.001.206-.001.206h-6.234c0 0-.001-.157-.001-.206v-.385c0-.049.039-.088.088-.088\" fill=\"#f3f3f3\"/></g></g><g transform=\"translate(-.017)\" fill=\"none\" fill-rule=\"evenodd\" stroke=\"#414141\" stroke-linejoin=\"round\" stroke-linecap=\"round\" stroke-width=\".146\"><path d=\"m1.177 294.07c.138-.384.719-.384.845 0\"/><path d=\"m3.834 294.07c.138-.384.719-.384.845 0\"/></g></g></svg>')\n",
    "def check_answer(result):\n",
    "    if not result.all():\n",
    "        print(\"Try again\")\n",
    "        return result\n",
    "    return smiley"
   ]
  },
  {
   "cell_type": "code",
   "execution_count": null,
   "metadata": {
    "collapsed": true,
    "deletable": true,
    "editable": true
   },
   "outputs": [],
   "source": [
    "def show_equations(S):\n",
    "    latex_head = r\"\\[\\left\\{ \\begin{array}{}\"\n",
    "    latex_end = r\"\\end{array}\\right.\\]\"\n",
    "    equations = []\n",
    "    for row in S:\n",
    "        line = []\n",
    "        first = True\n",
    "        for i, x in enumerate(row[:-1]):\n",
    "            if x!=0:\n",
    "                if first and x>0:\n",
    "                    line.append(\" \")\n",
    "                else:\n",
    "                    line.append(\"+\" if x >0 else \"-\")\n",
    "                line.append(\"{:} x_{}\".format(str(abs(x)),i))\n",
    "                first=False\n",
    "            else:\n",
    "                line.extend([\"\",\"\"])\n",
    "        equations.append(\"&\".join(line)+\"&=&\"+str(row[-1]))\n",
    "    return Latex(latex_head+\"\\\\\\\\ \\n\".join(equations)+latex_end)\n"
   ]
  }
 ],
 "metadata": {
  "kernelspec": {
   "display_name": "Python 3",
   "language": "python",
   "name": "python3"
  },
  "language_info": {
   "codemirror_mode": {
    "name": "ipython",
    "version": 3
   },
   "file_extension": ".py",
   "mimetype": "text/x-python",
   "name": "python",
   "nbconvert_exporter": "python",
   "pygments_lexer": "ipython3",
   "version": "3.5.3"
  }
 },
 "nbformat": 4,
 "nbformat_minor": 2
}
