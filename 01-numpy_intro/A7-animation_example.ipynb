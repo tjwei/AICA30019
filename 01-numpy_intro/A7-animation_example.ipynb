{
 "cells": [
  {
   "cell_type": "code",
   "execution_count": 1,
   "metadata": {
    "deletable": true,
    "editable": true,
    "tags": []
   },
   "outputs": [],
   "source": [
    "# 定義一個動畫的函數\n",
    "from IPython.display import display\n",
    "from ipywidgets import Image as Image_widget\n",
    "import time\n",
    "from io import BytesIO\n",
    "import numpy as np\n",
    "from PIL import Image\n",
    "def anim(func, time_length, interval=0.1, width=400):\n",
    "    img = Image_widget(width=width)\n",
    "    display(img)\n",
    "    start_time = time.time()\n",
    "    for t in np.arange(0, time_length, interval):\n",
    "        frame = Image.fromarray((func(t)*255).astype('uint8'))\n",
    "        img.value = frame._repr_png_()\n",
    "        now = time.time()\n",
    "        if now < start_time+t:\n",
    "            time.sleep(start_time+t-now)"
   ]
  },
  {
   "cell_type": "code",
   "execution_count": 4,
   "metadata": {
    "collapsed": false,
    "deletable": true,
    "editable": true,
    "jupyter": {
     "outputs_hidden": false
    }
   },
   "outputs": [
    {
     "data": {
      "application/vnd.jupyter.widget-view+json": {
       "model_id": "d666aa40847f4734b1587d83137e71b7",
       "version_major": 2,
       "version_minor": 0
      },
      "text/plain": [
       "Image(value=b'', width='400')"
      ]
     },
     "metadata": {},
     "output_type": "display_data"
    }
   ],
   "source": [
    "# 試試看\n",
    "from math import pi, sin\n",
    "def moving_cross(t):\n",
    "    a = np.zeros((400,400,3))\n",
    "    x = int(t*200)%400\n",
    "    y = int(200-150*sin(2*x*pi/400))\n",
    "    a[y:y+10,:]=[0,1,0]\n",
    "    a[:, x:x+10]=[1,0,0]\n",
    "    a[:, 390-x: 399-x]=[0,0,1]\n",
    "    a[390-y:399-y, :]=[1,0,1]\n",
    "    return a\n",
    "anim(moving_cross, time_length=20)\n",
    "    "
   ]
  },
  {
   "cell_type": "code",
   "execution_count": 5,
   "metadata": {
    "collapsed": false,
    "deletable": true,
    "editable": true,
    "jupyter": {
     "outputs_hidden": false
    }
   },
   "outputs": [
    {
     "data": {
      "application/vnd.jupyter.widget-view+json": {
       "model_id": "a658d90fb6f94915b6f5bf87b6944243",
       "version_major": 2,
       "version_minor": 0
      },
      "text/plain": [
       "Image(value=b'', width='600')"
      ]
     },
     "metadata": {},
     "output_type": "display_data"
    }
   ],
   "source": [
    "from math import pi, sin\n",
    "a = np.zeros((1080,1920,3))\n",
    "i_ = np.arange(1,64)\n",
    "c = np.random.uniform(size=(63,3))\n",
    "\n",
    "def color_arrows(t):\n",
    "    t_ = (i_*7.15+t)\n",
    "    x1 = (t_/3%1*1920).astype(np.int32)\n",
    "    y1 = (np.sin(t_)*500+500).astype(np.int32)\n",
    "    for i in range(63):\n",
    "        a[y1[i]:y1[i]+80, x1[i]:x1[i]+80] = c[i]\n",
    "    return a\n",
    "\n",
    "anim(color_arrows, time_length=1, interval=1/60, width=600)"
   ]
  },
  {
   "cell_type": "markdown",
   "metadata": {
    "deletable": true,
    "editable": true
   },
   "source": [
    "## Q\n",
    "自行創作，可以參考 https://www.dwitter.net/"
   ]
  }
 ],
 "metadata": {
  "kernelspec": {
   "display_name": "Python 3 (ipykernel)",
   "language": "python",
   "name": "python3"
  },
  "language_info": {
   "codemirror_mode": {
    "name": "ipython",
    "version": 3
   },
   "file_extension": ".py",
   "mimetype": "text/x-python",
   "name": "python",
   "nbconvert_exporter": "python",
   "pygments_lexer": "ipython3",
   "version": "3.10.0"
  },
  "widgets": {
   "state": {
    "3ba2048472d84bca8b4d191f3230f9b1": {
     "views": [
      {
       "cell_index": 1
      }
     ]
    },
    "b7eab8c591114aa8b0023d0ca17d73c6": {
     "views": [
      {
       "cell_index": 2
      }
     ]
    }
   },
   "version": "1.2.0"
  }
 },
 "nbformat": 4,
 "nbformat_minor": 4
}
