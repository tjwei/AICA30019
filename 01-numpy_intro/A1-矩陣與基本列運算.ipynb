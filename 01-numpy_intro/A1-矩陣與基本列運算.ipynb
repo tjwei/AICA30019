{
 "cells": [
  {
   "cell_type": "code",
   "execution_count": 1,
   "metadata": {
    "collapsed": false,
    "deletable": true,
    "editable": true,
    "jupyter": {
     "outputs_hidden": false
    }
   },
   "outputs": [
    {
     "name": "stdout",
     "output_type": "stream",
     "text": [
      "巫術準備完成\n"
     ]
    }
   ],
   "source": [
    "# 巫術\n",
    "%run magic.ipynb\n",
    "assert 'np' in locals()\n",
    "print(\"巫術準備完成\")"
   ]
  },
  {
   "cell_type": "code",
   "execution_count": 4,
   "metadata": {
    "collapsed": false,
    "deletable": true,
    "editable": true,
    "jupyter": {
     "outputs_hidden": false
    }
   },
   "outputs": [
    {
     "data": {
      "text/latex": [
       "\\begin{pmatrix}0&2&4\\\\ 2&4&2\\\\ 3&3&1\\end{pmatrix}"
      ],
      "text/plain": [
       "array([[Fraction(0, 1), Fraction(2, 1), Fraction(4, 1)],\n",
       "       [Fraction(2, 1), Fraction(4, 1), Fraction(2, 1)],\n",
       "       [Fraction(3, 1), Fraction(3, 1), Fraction(1, 1)]], dtype=object)"
      ]
     },
     "execution_count": 4,
     "metadata": {},
     "output_type": "execute_result"
    }
   ],
   "source": [
    "A=Matrix([0, 2, 4],[2, 4, 2],[3,3,1])\n",
    "A"
   ]
  },
  {
   "cell_type": "code",
   "execution_count": 8,
   "metadata": {
    "collapsed": false,
    "deletable": true,
    "editable": true,
    "jupyter": {
     "outputs_hidden": false
    }
   },
   "outputs": [
    {
     "data": {
      "text/latex": [
       "$3$"
      ],
      "text/plain": [
       "Fraction(3, 1)"
      ]
     },
     "execution_count": 8,
     "metadata": {},
     "output_type": "execute_result"
    }
   ],
   "source": [
    "A[2,0]"
   ]
  },
  {
   "cell_type": "code",
   "execution_count": 9,
   "metadata": {
    "collapsed": false,
    "deletable": true,
    "editable": true,
    "jupyter": {
     "outputs_hidden": false
    }
   },
   "outputs": [
    {
     "data": {
      "text/latex": [
       "\\begin{pmatrix}2\\\\ 3\\\\ 1\\end{pmatrix}"
      ],
      "text/plain": [
       "array([[Fraction(2, 1)],\n",
       "       [Fraction(3, 1)],\n",
       "       [Fraction(1, 1)]], dtype=object)"
      ]
     },
     "execution_count": 9,
     "metadata": {},
     "output_type": "execute_result"
    }
   ],
   "source": [
    "b = Vector(2,3,1)\n",
    "b"
   ]
  },
  {
   "cell_type": "markdown",
   "metadata": {
    "deletable": true,
    "editable": true
   },
   "source": [
    "## 擴增矩陣 $S = (A|b)$"
   ]
  },
  {
   "cell_type": "code",
   "execution_count": 10,
   "metadata": {
    "collapsed": false,
    "deletable": true,
    "editable": true,
    "jupyter": {
     "outputs_hidden": false
    }
   },
   "outputs": [
    {
     "data": {
      "text/latex": [
       "\\begin{pmatrix}0&2&4&2\\\\ 2&4&2&3\\\\ 3&3&1&1\\end{pmatrix}"
      ],
      "text/plain": [
       "array([[Fraction(0, 1), Fraction(2, 1), Fraction(4, 1), Fraction(2, 1)],\n",
       "       [Fraction(2, 1), Fraction(4, 1), Fraction(2, 1), Fraction(3, 1)],\n",
       "       [Fraction(3, 1), Fraction(3, 1), Fraction(1, 1), Fraction(1, 1)]], dtype=object)"
      ]
     },
     "execution_count": 10,
     "metadata": {},
     "output_type": "execute_result"
    }
   ],
   "source": [
    "S = np.hstack([A,b])\n",
    "S"
   ]
  },
  {
   "cell_type": "code",
   "execution_count": 17,
   "metadata": {
    "collapsed": false,
    "deletable": true,
    "editable": true,
    "jupyter": {
     "outputs_hidden": false
    }
   },
   "outputs": [
    {
     "data": {
      "text/latex": [
       "\\[\\left\\{ \\begin{array}{}&& &2 x_1&+&4 x_2&=&2\\\\ \n",
       " &2 x_0&+&4 x_1&+&2 x_2&=&3\\\\ \n",
       " &3 x_0&+&3 x_1&+&1 x_2&=&1\\end{array}\\right.\\]"
      ],
      "text/plain": [
       "<IPython.core.display.Latex object>"
      ]
     },
     "execution_count": 17,
     "metadata": {},
     "output_type": "execute_result"
    }
   ],
   "source": [
    "show_equations(S)"
   ]
  },
  {
   "cell_type": "markdown",
   "metadata": {
    "deletable": true,
    "editable": true
   },
   "source": [
    "## 三種基本列運算\n",
    "名稱參考 https://en.wikipedia.org/wiki/Elementary_matrix#Elementary_row_operations"
   ]
  },
  {
   "cell_type": "markdown",
   "metadata": {
    "deletable": true,
    "editable": true
   },
   "source": [
    "### $i$, $j$ 兩列交換"
   ]
  },
  {
   "cell_type": "code",
   "execution_count": 11,
   "metadata": {
    "collapsed": false,
    "deletable": true,
    "editable": true,
    "jupyter": {
     "outputs_hidden": false
    }
   },
   "outputs": [
    {
     "data": {
      "text/latex": [
       "\\begin{pmatrix}2&4&2&3\\\\ 0&2&4&2\\\\ 3&3&1&1\\end{pmatrix}"
      ],
      "text/plain": [
       "array([[Fraction(2, 1), Fraction(4, 1), Fraction(2, 1), Fraction(3, 1)],\n",
       "       [Fraction(0, 1), Fraction(2, 1), Fraction(4, 1), Fraction(2, 1)],\n",
       "       [Fraction(3, 1), Fraction(3, 1), Fraction(1, 1), Fraction(1, 1)]], dtype=object)"
      ]
     },
     "execution_count": 11,
     "metadata": {},
     "output_type": "execute_result"
    }
   ],
   "source": [
    "def T(i,j):\n",
    "    def op(M):\n",
    "        R = M.copy()\n",
    "        R[[i,j]]=R[[j,i]]\n",
    "        return R\n",
    "    return op\n",
    "T(0,1)(S)"
   ]
  },
  {
   "cell_type": "markdown",
   "metadata": {
    "deletable": true,
    "editable": true
   },
   "source": [
    "因為有巫術，可以寫成矩陣乘法 `@` 的形式\n",
    "不然括號太多不容易對齊"
   ]
  },
  {
   "cell_type": "code",
   "execution_count": 12,
   "metadata": {
    "collapsed": false,
    "deletable": true,
    "editable": true,
    "jupyter": {
     "outputs_hidden": false
    }
   },
   "outputs": [
    {
     "data": {
      "text/latex": [
       "\\begin{pmatrix}2&4&2&3\\\\ 0&2&4&2\\\\ 3&3&1&1\\end{pmatrix}"
      ],
      "text/plain": [
       "array([[Fraction(2, 1), Fraction(4, 1), Fraction(2, 1), Fraction(3, 1)],\n",
       "       [Fraction(0, 1), Fraction(2, 1), Fraction(4, 1), Fraction(2, 1)],\n",
       "       [Fraction(3, 1), Fraction(3, 1), Fraction(1, 1), Fraction(1, 1)]], dtype=object)"
      ]
     },
     "execution_count": 12,
     "metadata": {},
     "output_type": "execute_result"
    }
   ],
   "source": [
    "T(0,1) @ S"
   ]
  },
  {
   "cell_type": "markdown",
   "metadata": {
    "deletable": true,
    "editable": true
   },
   "source": [
    "### 把第 $i$ 列乘上 $m$ 倍"
   ]
  },
  {
   "cell_type": "code",
   "execution_count": 15,
   "metadata": {
    "collapsed": false,
    "deletable": true,
    "editable": true,
    "jupyter": {
     "outputs_hidden": false
    }
   },
   "outputs": [
    {
     "data": {
      "text/latex": [
       "\\begin{pmatrix}0&2&4&2\\\\ 2&4&2&3\\\\ \\frac{3}{5}&\\frac{3}{5}&\\frac{1}{5}&\\frac{1}{5}\\end{pmatrix}"
      ],
      "text/plain": [
       "array([[Fraction(0, 1), Fraction(2, 1), Fraction(4, 1), Fraction(2, 1)],\n",
       "       [Fraction(2, 1), Fraction(4, 1), Fraction(2, 1), Fraction(3, 1)],\n",
       "       [Fraction(3, 5), Fraction(3, 5), Fraction(1, 5), Fraction(1, 5)]], dtype=object)"
      ]
     },
     "execution_count": 15,
     "metadata": {},
     "output_type": "execute_result"
    }
   ],
   "source": [
    "def D(i, m):\n",
    "    assert m!=0\n",
    "    def op(M):\n",
    "        R= M.copy()\n",
    "        R[i] = m * R[i]\n",
    "        return R\n",
    "    return op\n",
    "D(2, 1/5)(S)"
   ]
  },
  {
   "cell_type": "markdown",
   "metadata": {
    "deletable": true,
    "editable": true
   },
   "source": [
    "### 把第 $j$ 列乘上 $m$ 倍，加入第 $i$ 列"
   ]
  },
  {
   "cell_type": "code",
   "execution_count": 16,
   "metadata": {
    "collapsed": false,
    "deletable": true,
    "editable": true,
    "jupyter": {
     "outputs_hidden": false
    }
   },
   "outputs": [
    {
     "data": {
      "text/latex": [
       "\\begin{pmatrix}2&6&6&5\\\\ 2&4&2&3\\\\ 3&3&1&1\\end{pmatrix}"
      ],
      "text/plain": [
       "array([[Fraction(2, 1), Fraction(6, 1), Fraction(6, 1), Fraction(5, 1)],\n",
       "       [Fraction(2, 1), Fraction(4, 1), Fraction(2, 1), Fraction(3, 1)],\n",
       "       [Fraction(3, 1), Fraction(3, 1), Fraction(1, 1), Fraction(1, 1)]], dtype=object)"
      ]
     },
     "execution_count": 16,
     "metadata": {},
     "output_type": "execute_result"
    }
   ],
   "source": [
    "def L(i, j, m):\n",
    "    def op(M):\n",
    "        R = M.copy()\n",
    "        R[i] = R[i] + m*R[j]\n",
    "        return R\n",
    "    return op\n",
    "L(0, 1, 1)(S)"
   ]
  },
  {
   "cell_type": "markdown",
   "metadata": {
    "deletable": true,
    "editable": true
   },
   "source": [
    "## 用基本列運算來化簡 $S$"
   ]
  },
  {
   "cell_type": "markdown",
   "metadata": {
    "deletable": true,
    "editable": true
   },
   "source": [
    "再看一下 $S$"
   ]
  },
  {
   "cell_type": "code",
   "execution_count": 18,
   "metadata": {
    "collapsed": false,
    "deletable": true,
    "editable": true,
    "jupyter": {
     "outputs_hidden": false
    }
   },
   "outputs": [
    {
     "data": {
      "text/latex": [
       "\\begin{pmatrix}0&2&4&2\\\\ 2&4&2&3\\\\ 3&3&1&1\\end{pmatrix}"
      ],
      "text/plain": [
       "array([[Fraction(0, 1), Fraction(2, 1), Fraction(4, 1), Fraction(2, 1)],\n",
       "       [Fraction(2, 1), Fraction(4, 1), Fraction(2, 1), Fraction(3, 1)],\n",
       "       [Fraction(3, 1), Fraction(3, 1), Fraction(1, 1), Fraction(1, 1)]], dtype=object)"
      ]
     },
     "execution_count": 18,
     "metadata": {},
     "output_type": "execute_result"
    }
   ],
   "source": [
    "S"
   ]
  },
  {
   "cell_type": "code",
   "execution_count": 19,
   "metadata": {
    "collapsed": false,
    "deletable": true,
    "editable": true,
    "jupyter": {
     "outputs_hidden": false
    }
   },
   "outputs": [
    {
     "data": {
      "text/latex": [
       "\\[\\left\\{ \\begin{array}{}&& &2 x_1&+&4 x_2&=&2\\\\ \n",
       " &2 x_0&+&4 x_1&+&2 x_2&=&3\\\\ \n",
       " &3 x_0&+&3 x_1&+&1 x_2&=&1\\end{array}\\right.\\]"
      ],
      "text/plain": [
       "<IPython.core.display.Latex object>"
      ]
     },
     "execution_count": 19,
     "metadata": {},
     "output_type": "execute_result"
    }
   ],
   "source": [
    "show_equations(S)"
   ]
  },
  {
   "cell_type": "markdown",
   "metadata": {
    "deletable": true,
    "editable": true
   },
   "source": [
    "先讓第二列首項變成 1"
   ]
  },
  {
   "cell_type": "code",
   "execution_count": 20,
   "metadata": {
    "collapsed": false,
    "deletable": true,
    "editable": true,
    "jupyter": {
     "outputs_hidden": false
    }
   },
   "outputs": [
    {
     "data": {
      "text/latex": [
       "\\begin{pmatrix}0&2&4&2\\\\ 1&2&1&\\frac{3}{2}\\\\ 3&3&1&1\\end{pmatrix}"
      ],
      "text/plain": [
       "array([[Fraction(0, 1), Fraction(2, 1), Fraction(4, 1), Fraction(2, 1)],\n",
       "       [Fraction(1, 1), Fraction(2, 1), Fraction(1, 1), Fraction(3, 2)],\n",
       "       [Fraction(3, 1), Fraction(3, 1), Fraction(1, 1), Fraction(1, 1)]], dtype=object)"
      ]
     },
     "execution_count": 20,
     "metadata": {},
     "output_type": "execute_result"
    }
   ],
   "source": [
    "D(1, 1/2) @ S"
   ]
  },
  {
   "cell_type": "markdown",
   "metadata": {
    "deletable": true,
    "editable": true
   },
   "source": [
    "然後消去第三列"
   ]
  },
  {
   "cell_type": "code",
   "execution_count": 21,
   "metadata": {
    "collapsed": false,
    "deletable": true,
    "editable": true,
    "jupyter": {
     "outputs_hidden": false
    }
   },
   "outputs": [
    {
     "data": {
      "text/latex": [
       "\\begin{pmatrix}0&2&4&2\\\\ 1&2&1&\\frac{3}{2}\\\\ 0&-3&-2&\\frac{-7}{2}\\end{pmatrix}"
      ],
      "text/plain": [
       "array([[Fraction(0, 1), Fraction(2, 1), Fraction(4, 1), Fraction(2, 1)],\n",
       "       [Fraction(1, 1), Fraction(2, 1), Fraction(1, 1), Fraction(3, 2)],\n",
       "       [Fraction(0, 1), Fraction(-3, 1), Fraction(-2, 1), Fraction(-7, 2)]], dtype=object)"
      ]
     },
     "execution_count": 21,
     "metadata": {},
     "output_type": "execute_result"
    }
   ],
   "source": [
    "L(2,1,-3) @ _"
   ]
  },
  {
   "cell_type": "markdown",
   "metadata": {
    "deletable": true,
    "editable": true
   },
   "source": [
    "最後再交換第二列和第一列，紀錄起來，叫做 S1"
   ]
  },
  {
   "cell_type": "code",
   "execution_count": 22,
   "metadata": {
    "collapsed": false,
    "deletable": true,
    "editable": true,
    "jupyter": {
     "outputs_hidden": false
    }
   },
   "outputs": [
    {
     "data": {
      "text/latex": [
       "\\begin{pmatrix}1&2&1&\\frac{3}{2}\\\\ 0&2&4&2\\\\ 0&-3&-2&\\frac{-7}{2}\\end{pmatrix}"
      ],
      "text/plain": [
       "array([[Fraction(1, 1), Fraction(2, 1), Fraction(1, 1), Fraction(3, 2)],\n",
       "       [Fraction(0, 1), Fraction(2, 1), Fraction(4, 1), Fraction(2, 1)],\n",
       "       [Fraction(0, 1), Fraction(-3, 1), Fraction(-2, 1), Fraction(-7, 2)]], dtype=object)"
      ]
     },
     "execution_count": 22,
     "metadata": {},
     "output_type": "execute_result"
    }
   ],
   "source": [
    "S1 = T(0,1) @ _\n",
    "S1"
   ]
  },
  {
   "cell_type": "code",
   "execution_count": 23,
   "metadata": {
    "collapsed": false,
    "deletable": true,
    "editable": true,
    "jupyter": {
     "outputs_hidden": false
    }
   },
   "outputs": [
    {
     "data": {
      "text/latex": [
       "\\[\\left\\{ \\begin{array}{} &1 x_0&+&2 x_1&+&1 x_2&=&\\frac{3}{2}\\\\ \n",
       "&& &2 x_1&+&4 x_2&=&2\\\\ \n",
       "&&-&3 x_1&-&2 x_2&=&\\frac{-7}{2}\\end{array}\\right.\\]"
      ],
      "text/plain": [
       "<IPython.core.display.Latex object>"
      ]
     },
     "execution_count": 23,
     "metadata": {},
     "output_type": "execute_result"
    }
   ],
   "source": [
    "show_equations(S1)"
   ]
  },
  {
   "cell_type": "markdown",
   "metadata": {
    "deletable": true,
    "editable": true
   },
   "source": [
    "再來處理第二行，一樣，把第二列的首項變成  $1$，然後去消第一列和第三列的第二行"
   ]
  },
  {
   "cell_type": "code",
   "execution_count": 24,
   "metadata": {
    "collapsed": false,
    "deletable": true,
    "editable": true,
    "jupyter": {
     "outputs_hidden": false
    }
   },
   "outputs": [
    {
     "data": {
      "text/latex": [
       "\\begin{pmatrix}1&2&1&\\frac{3}{2}\\\\ 0&1&2&1\\\\ 0&-3&-2&\\frac{-7}{2}\\end{pmatrix}"
      ],
      "text/plain": [
       "array([[Fraction(1, 1), Fraction(2, 1), Fraction(1, 1), Fraction(3, 2)],\n",
       "       [Fraction(0, 1), Fraction(1, 1), Fraction(2, 1), Fraction(1, 1)],\n",
       "       [Fraction(0, 1), Fraction(-3, 1), Fraction(-2, 1), Fraction(-7, 2)]], dtype=object)"
      ]
     },
     "execution_count": 24,
     "metadata": {},
     "output_type": "execute_result"
    }
   ],
   "source": [
    "D(1, 1/2) @ S1"
   ]
  },
  {
   "cell_type": "code",
   "execution_count": 25,
   "metadata": {
    "collapsed": false,
    "deletable": true,
    "editable": true,
    "jupyter": {
     "outputs_hidden": false
    }
   },
   "outputs": [
    {
     "data": {
      "text/latex": [
       "\\begin{pmatrix}1&2&1&\\frac{3}{2}\\\\ 0&1&2&1\\\\ 0&0&4&\\frac{-1}{2}\\end{pmatrix}"
      ],
      "text/plain": [
       "array([[Fraction(1, 1), Fraction(2, 1), Fraction(1, 1), Fraction(3, 2)],\n",
       "       [Fraction(0, 1), Fraction(1, 1), Fraction(2, 1), Fraction(1, 1)],\n",
       "       [Fraction(0, 1), Fraction(0, 1), Fraction(4, 1), Fraction(-1, 2)]], dtype=object)"
      ]
     },
     "execution_count": 25,
     "metadata": {},
     "output_type": "execute_result"
    }
   ],
   "source": [
    "L(2,1,3) @ _"
   ]
  },
  {
   "cell_type": "code",
   "execution_count": 26,
   "metadata": {
    "collapsed": false,
    "deletable": true,
    "editable": true,
    "jupyter": {
     "outputs_hidden": false
    }
   },
   "outputs": [
    {
     "data": {
      "text/latex": [
       "\\begin{pmatrix}1&0&-3&\\frac{-1}{2}\\\\ 0&1&2&1\\\\ 0&0&4&\\frac{-1}{2}\\end{pmatrix}"
      ],
      "text/plain": [
       "array([[Fraction(1, 1), Fraction(0, 1), Fraction(-3, 1), Fraction(-1, 2)],\n",
       "       [Fraction(0, 1), Fraction(1, 1), Fraction(2, 1), Fraction(1, 1)],\n",
       "       [Fraction(0, 1), Fraction(0, 1), Fraction(4, 1), Fraction(-1, 2)]], dtype=object)"
      ]
     },
     "execution_count": 26,
     "metadata": {},
     "output_type": "execute_result"
    }
   ],
   "source": [
    "L(0,1,-2) @ _"
   ]
  },
  {
   "cell_type": "code",
   "execution_count": 27,
   "metadata": {
    "collapsed": true,
    "deletable": true,
    "editable": true,
    "jupyter": {
     "outputs_hidden": true
    }
   },
   "outputs": [],
   "source": [
    "S2 = _ # 用 S2 紀錄第二步驟"
   ]
  },
  {
   "cell_type": "code",
   "execution_count": 28,
   "metadata": {
    "collapsed": false,
    "deletable": true,
    "editable": true,
    "jupyter": {
     "outputs_hidden": false
    }
   },
   "outputs": [
    {
     "data": {
      "text/latex": [
       "\\[\\left\\{ \\begin{array}{} &1 x_0&&&-&3 x_2&=&\\frac{-1}{2}\\\\ \n",
       "&& &1 x_1&+&2 x_2&=&1\\\\ \n",
       "&&&& &4 x_2&=&\\frac{-1}{2}\\end{array}\\right.\\]"
      ],
      "text/plain": [
       "<IPython.core.display.Latex object>"
      ]
     },
     "execution_count": 28,
     "metadata": {},
     "output_type": "execute_result"
    }
   ],
   "source": [
    "show_equations(S2)"
   ]
  },
  {
   "cell_type": "code",
   "execution_count": 29,
   "metadata": {
    "collapsed": false,
    "deletable": true,
    "editable": true,
    "jupyter": {
     "outputs_hidden": false
    }
   },
   "outputs": [
    {
     "data": {
      "text/latex": [
       "\\begin{pmatrix}1&0&-3&\\frac{-1}{2}\\\\ 0&1&2&1\\\\ 0&0&4&\\frac{-1}{2}\\end{pmatrix}"
      ],
      "text/plain": [
       "array([[Fraction(1, 1), Fraction(0, 1), Fraction(-3, 1), Fraction(-1, 2)],\n",
       "       [Fraction(0, 1), Fraction(1, 1), Fraction(2, 1), Fraction(1, 1)],\n",
       "       [Fraction(0, 1), Fraction(0, 1), Fraction(4, 1), Fraction(-1, 2)]], dtype=object)"
      ]
     },
     "execution_count": 29,
     "metadata": {},
     "output_type": "execute_result"
    }
   ],
   "source": [
    "S2"
   ]
  },
  {
   "cell_type": "markdown",
   "metadata": {
    "deletable": true,
    "editable": true
   },
   "source": [
    "最後處理第三行"
   ]
  },
  {
   "cell_type": "code",
   "execution_count": 30,
   "metadata": {
    "collapsed": false,
    "deletable": true,
    "editable": true,
    "jupyter": {
     "outputs_hidden": false
    }
   },
   "outputs": [
    {
     "data": {
      "text/latex": [
       "\\begin{pmatrix}1&0&-3&\\frac{-1}{2}\\\\ 0&1&2&1\\\\ 0&0&1&\\frac{-1}{8}\\end{pmatrix}"
      ],
      "text/plain": [
       "array([[Fraction(1, 1), Fraction(0, 1), Fraction(-3, 1), Fraction(-1, 2)],\n",
       "       [Fraction(0, 1), Fraction(1, 1), Fraction(2, 1), Fraction(1, 1)],\n",
       "       [Fraction(0, 1), Fraction(0, 1), Fraction(1, 1), Fraction(-1, 8)]], dtype=object)"
      ]
     },
     "execution_count": 30,
     "metadata": {},
     "output_type": "execute_result"
    }
   ],
   "source": [
    "D(2, 1/4) @ S2"
   ]
  },
  {
   "cell_type": "code",
   "execution_count": 31,
   "metadata": {
    "collapsed": false,
    "deletable": true,
    "editable": true,
    "jupyter": {
     "outputs_hidden": false
    }
   },
   "outputs": [
    {
     "data": {
      "text/latex": [
       "\\begin{pmatrix}1&0&-3&\\frac{-1}{2}\\\\ 0&1&0&\\frac{5}{4}\\\\ 0&0&1&\\frac{-1}{8}\\end{pmatrix}"
      ],
      "text/plain": [
       "array([[Fraction(1, 1), Fraction(0, 1), Fraction(-3, 1), Fraction(-1, 2)],\n",
       "       [Fraction(0, 1), Fraction(1, 1), Fraction(0, 1), Fraction(5, 4)],\n",
       "       [Fraction(0, 1), Fraction(0, 1), Fraction(1, 1), Fraction(-1, 8)]], dtype=object)"
      ]
     },
     "execution_count": 31,
     "metadata": {},
     "output_type": "execute_result"
    }
   ],
   "source": [
    "L(1,2, -2) @ _"
   ]
  },
  {
   "cell_type": "code",
   "execution_count": 32,
   "metadata": {
    "collapsed": false,
    "deletable": true,
    "editable": true,
    "jupyter": {
     "outputs_hidden": false
    }
   },
   "outputs": [
    {
     "data": {
      "text/latex": [
       "\\begin{pmatrix}1&0&0&\\frac{-7}{8}\\\\ 0&1&0&\\frac{5}{4}\\\\ 0&0&1&\\frac{-1}{8}\\end{pmatrix}"
      ],
      "text/plain": [
       "array([[Fraction(1, 1), Fraction(0, 1), Fraction(0, 1), Fraction(-7, 8)],\n",
       "       [Fraction(0, 1), Fraction(1, 1), Fraction(0, 1), Fraction(5, 4)],\n",
       "       [Fraction(0, 1), Fraction(0, 1), Fraction(1, 1), Fraction(-1, 8)]], dtype=object)"
      ]
     },
     "execution_count": 32,
     "metadata": {},
     "output_type": "execute_result"
    }
   ],
   "source": [
    "L(0,2,3) @ _"
   ]
  },
  {
   "cell_type": "code",
   "execution_count": 33,
   "metadata": {
    "collapsed": false,
    "deletable": true,
    "editable": true,
    "jupyter": {
     "outputs_hidden": false
    }
   },
   "outputs": [],
   "source": [
    "S3 = _  # 用 S3 紀錄第二步驟"
   ]
  },
  {
   "cell_type": "code",
   "execution_count": 34,
   "metadata": {
    "collapsed": false,
    "deletable": true,
    "editable": true,
    "jupyter": {
     "outputs_hidden": false
    }
   },
   "outputs": [
    {
     "data": {
      "text/latex": [
       "\\[\\left\\{ \\begin{array}{} &1 x_0&&&&&=&\\frac{-7}{8}\\\\ \n",
       "&& &1 x_1&&&=&\\frac{5}{4}\\\\ \n",
       "&&&& &1 x_2&=&\\frac{-1}{8}\\end{array}\\right.\\]"
      ],
      "text/plain": [
       "<IPython.core.display.Latex object>"
      ]
     },
     "execution_count": 34,
     "metadata": {},
     "output_type": "execute_result"
    }
   ],
   "source": [
    "show_equations(S3)"
   ]
  },
  {
   "cell_type": "markdown",
   "metadata": {
    "deletable": true,
    "editable": true
   },
   "source": [
    "### 把最後一行取出來當成解 $x$"
   ]
  },
  {
   "cell_type": "code",
   "execution_count": 37,
   "metadata": {
    "collapsed": false,
    "deletable": true,
    "editable": true,
    "jupyter": {
     "outputs_hidden": false
    }
   },
   "outputs": [
    {
     "data": {
      "text/latex": [
       "\\begin{pmatrix}1&0&0&\\frac{-7}{8}\\\\ 0&1&0&\\frac{5}{4}\\\\ 0&0&1&\\frac{-1}{8}\\end{pmatrix}"
      ],
      "text/plain": [
       "array([[Fraction(1, 1), Fraction(0, 1), Fraction(0, 1), Fraction(-7, 8)],\n",
       "       [Fraction(0, 1), Fraction(1, 1), Fraction(0, 1), Fraction(5, 4)],\n",
       "       [Fraction(0, 1), Fraction(0, 1), Fraction(1, 1), Fraction(-1, 8)]], dtype=object)"
      ]
     },
     "execution_count": 37,
     "metadata": {},
     "output_type": "execute_result"
    }
   ],
   "source": [
    "S3"
   ]
  },
  {
   "cell_type": "code",
   "execution_count": 46,
   "metadata": {
    "collapsed": false,
    "deletable": true,
    "editable": true,
    "jupyter": {
     "outputs_hidden": false
    }
   },
   "outputs": [
    {
     "data": {
      "text/latex": [
       "\\begin{pmatrix}\\frac{-7}{8}\\\\ \\frac{5}{4}\\\\ \\frac{-1}{8}\\end{pmatrix}"
      ],
      "text/plain": [
       "array([[Fraction(-7, 8)],\n",
       "       [Fraction(5, 4)],\n",
       "       [Fraction(-1, 8)]], dtype=object)"
      ]
     },
     "execution_count": 46,
     "metadata": {},
     "output_type": "execute_result"
    }
   ],
   "source": [
    "Vector(S3[:,-1])"
   ]
  },
  {
   "cell_type": "code",
   "execution_count": 47,
   "metadata": {
    "collapsed": false,
    "deletable": true,
    "editable": true,
    "jupyter": {
     "outputs_hidden": false
    }
   },
   "outputs": [
    {
     "data": {
      "text/latex": [
       "\\begin{pmatrix}\\frac{-7}{8}\\\\ \\frac{5}{4}\\\\ \\frac{-1}{8}\\end{pmatrix}"
      ],
      "text/plain": [
       "array([[Fraction(-7, 8)],\n",
       "       [Fraction(5, 4)],\n",
       "       [Fraction(-1, 8)]], dtype=object)"
      ]
     },
     "execution_count": 47,
     "metadata": {},
     "output_type": "execute_result"
    }
   ],
   "source": [
    "x  = Vector(S3[:, -1])\n",
    "x"
   ]
  },
  {
   "cell_type": "code",
   "execution_count": 48,
   "metadata": {
    "collapsed": false,
    "deletable": true,
    "editable": true,
    "jupyter": {
     "outputs_hidden": false
    }
   },
   "outputs": [
    {
     "data": {
      "text/latex": [
       "\\begin{pmatrix}\\frac{-7}{8}\\\\ \\frac{5}{4}\\\\ \\frac{-1}{8}\\end{pmatrix}"
      ],
      "text/plain": [
       "array([[Fraction(-7, 8)],\n",
       "       [Fraction(5, 4)],\n",
       "       [Fraction(-1, 8)]], dtype=object)"
      ]
     },
     "execution_count": 48,
     "metadata": {},
     "output_type": "execute_result"
    }
   ],
   "source": [
    "# 或者這樣也行\n",
    "x = S3[:, [-1]]\n",
    "x"
   ]
  },
  {
   "cell_type": "markdown",
   "metadata": {
    "deletable": true,
    "editable": true
   },
   "source": [
    "代入原來方程式"
   ]
  },
  {
   "cell_type": "code",
   "execution_count": 49,
   "metadata": {
    "collapsed": false,
    "deletable": true,
    "editable": true,
    "jupyter": {
     "outputs_hidden": false
    }
   },
   "outputs": [
    {
     "data": {
      "text/latex": [
       "\\begin{pmatrix}2\\\\ 3\\\\ 1\\end{pmatrix}"
      ],
      "text/plain": [
       "array([[Fraction(2, 1)],\n",
       "       [Fraction(3, 1)],\n",
       "       [Fraction(1, 1)]], dtype=object)"
      ]
     },
     "execution_count": 49,
     "metadata": {},
     "output_type": "execute_result"
    }
   ],
   "source": [
    "A @ x"
   ]
  },
  {
   "cell_type": "code",
   "execution_count": 50,
   "metadata": {
    "collapsed": false,
    "deletable": true,
    "editable": true,
    "jupyter": {
     "outputs_hidden": false
    }
   },
   "outputs": [
    {
     "data": {
      "text/latex": [
       "\\begin{pmatrix}2\\\\ 3\\\\ 1\\end{pmatrix}"
      ],
      "text/plain": [
       "array([[Fraction(2, 1)],\n",
       "       [Fraction(3, 1)],\n",
       "       [Fraction(1, 1)]], dtype=object)"
      ]
     },
     "execution_count": 50,
     "metadata": {},
     "output_type": "execute_result"
    }
   ],
   "source": [
    "b"
   ]
  },
  {
   "cell_type": "markdown",
   "metadata": {
    "deletable": true,
    "editable": true
   },
   "source": [
    "檢查是不是每一列都相等"
   ]
  },
  {
   "cell_type": "code",
   "execution_count": 51,
   "metadata": {
    "collapsed": false,
    "deletable": true,
    "editable": true,
    "jupyter": {
     "outputs_hidden": false
    }
   },
   "outputs": [
    {
     "data": {
      "text/latex": [
       "\\begin{pmatrix}True\\\\ True\\\\ True\\end{pmatrix}"
      ],
      "text/plain": [
       "array([[ True],\n",
       "       [ True],\n",
       "       [ True]], dtype=bool)"
      ]
     },
     "execution_count": 51,
     "metadata": {},
     "output_type": "execute_result"
    }
   ],
   "source": [
    "A @ x  == b"
   ]
  },
  {
   "cell_type": "code",
   "execution_count": 53,
   "metadata": {
    "collapsed": false,
    "deletable": true,
    "editable": true,
    "jupyter": {
     "outputs_hidden": false
    }
   },
   "outputs": [
    {
     "data": {
      "text/plain": [
       "True"
      ]
     },
     "execution_count": 53,
     "metadata": {},
     "output_type": "execute_result"
    }
   ],
   "source": [
    "np.all((A @ x  == b))"
   ]
  },
  {
   "cell_type": "code",
   "execution_count": 59,
   "metadata": {
    "collapsed": false,
    "deletable": true,
    "editable": true,
    "jupyter": {
     "outputs_hidden": false
    }
   },
   "outputs": [
    {
     "data": {
      "text/plain": [
       "False"
      ]
     },
     "execution_count": 59,
     "metadata": {},
     "output_type": "execute_result"
    }
   ],
   "source": [
    "np.any([False,False, False])"
   ]
  },
  {
   "cell_type": "markdown",
   "metadata": {
    "deletable": true,
    "editable": true
   },
   "source": [
    "## 練習\n",
    "隨機生成的練習，試試看"
   ]
  },
  {
   "cell_type": "code",
   "execution_count": 103,
   "metadata": {
    "collapsed": false,
    "deletable": true,
    "editable": true,
    "jupyter": {
     "outputs_hidden": false
    }
   },
   "outputs": [
    {
     "data": {
      "text/latex": [
       "$A=$"
      ],
      "text/plain": [
       "<IPython.core.display.Latex object>"
      ]
     },
     "metadata": {},
     "output_type": "display_data"
    },
    {
     "data": {
      "text/latex": [
       "\\begin{pmatrix}-1&-5&8&-9\\\\ -1&9&-7&8\\\\ 3&3&0&5\\\\ 7&-1&1&-10\\end{pmatrix}"
      ],
      "text/plain": [
       "array([[Fraction(-1, 1), Fraction(-5, 1), Fraction(8, 1), Fraction(-9, 1)],\n",
       "       [Fraction(-1, 1), Fraction(9, 1), Fraction(-7, 1), Fraction(8, 1)],\n",
       "       [Fraction(3, 1), Fraction(3, 1), Fraction(0, 1), Fraction(5, 1)],\n",
       "       [Fraction(7, 1), Fraction(-1, 1), Fraction(1, 1), Fraction(-10, 1)]], dtype=object)"
      ]
     },
     "metadata": {},
     "output_type": "display_data"
    },
    {
     "data": {
      "text/latex": [
       "$b=$"
      ],
      "text/plain": [
       "<IPython.core.display.Latex object>"
      ]
     },
     "metadata": {},
     "output_type": "display_data"
    },
    {
     "data": {
      "text/latex": [
       "\\begin{pmatrix}\\frac{185}{12}\\\\ \\frac{-181}{12}\\\\ \\frac{-21}{4}\\\\ \\frac{349}{12}\\end{pmatrix}"
      ],
      "text/plain": [
       "array([[Fraction(185, 12)],\n",
       "       [Fraction(-181, 12)],\n",
       "       [Fraction(-21, 4)],\n",
       "       [Fraction(349, 12)]], dtype=object)"
      ]
     },
     "metadata": {},
     "output_type": "display_data"
    },
    {
     "data": {
      "text/latex": [
       "\\[\\left\\{ \\begin{array}{}-&1 x_0&-&5 x_1&+&8 x_2&-&9 x_3&=&\\frac{185}{12}\\\\ \n",
       "-&1 x_0&+&9 x_1&-&7 x_2&+&8 x_3&=&\\frac{-181}{12}\\\\ \n",
       " &3 x_0&+&3 x_1&&&+&5 x_3&=&\\frac{-21}{4}\\\\ \n",
       " &7 x_0&-&1 x_1&+&1 x_2&-&10 x_3&=&\\frac{349}{12}\\end{array}\\right.\\]"
      ],
      "text/plain": [
       "<IPython.core.display.Latex object>"
      ]
     },
     "execution_count": 103,
     "metadata": {},
     "output_type": "execute_result"
    }
   ],
   "source": [
    "def generate_A_b(n=4):\n",
    "    while True:\n",
    "        A = Matrix(np.random.randint(-10, 10, size=(n,n)))\n",
    "        if True or np.linalg.matrix_rank(A)==n:\n",
    "            x = Vector(np.random.randint(-5,5, size=n))\n",
    "            x /= Vector(np.random.randint(1,5, size=n))\n",
    "            b = A@x\n",
    "            display(Latex(\"$A=$\"), A)\n",
    "            display(Latex(\"$b=$\"), b)\n",
    "            return A, b\n",
    "A, b = generate_A_b() \n",
    "S = np.hstack([A,b])\n",
    "show_equations(S)"
   ]
  },
  {
   "cell_type": "code",
   "execution_count": 104,
   "metadata": {
    "collapsed": false,
    "deletable": true,
    "editable": true,
    "jupyter": {
     "outputs_hidden": false
    }
   },
   "outputs": [
    {
     "data": {
      "text/latex": [
       "\\begin{pmatrix}-1&-5&8&-9&\\frac{185}{12}\\\\ -1&9&-7&8&\\frac{-181}{12}\\\\ 3&3&0&5&\\frac{-21}{4}\\\\ 7&-1&1&-10&\\frac{349}{12}\\end{pmatrix}"
      ],
      "text/plain": [
       "array([[Fraction(-1, 1), Fraction(-5, 1), Fraction(8, 1), Fraction(-9, 1),\n",
       "        Fraction(185, 12)],\n",
       "       [Fraction(-1, 1), Fraction(9, 1), Fraction(-7, 1), Fraction(8, 1),\n",
       "        Fraction(-181, 12)],\n",
       "       [Fraction(3, 1), Fraction(3, 1), Fraction(0, 1), Fraction(5, 1),\n",
       "        Fraction(-21, 4)],\n",
       "       [Fraction(7, 1), Fraction(-1, 1), Fraction(1, 1), Fraction(-10, 1),\n",
       "        Fraction(349, 12)]], dtype=object)"
      ]
     },
     "execution_count": 104,
     "metadata": {},
     "output_type": "execute_result"
    }
   ],
   "source": [
    "S"
   ]
  },
  {
   "cell_type": "code",
   "execution_count": 105,
   "metadata": {
    "collapsed": false,
    "deletable": true,
    "editable": true,
    "jupyter": {
     "outputs_hidden": false
    }
   },
   "outputs": [
    {
     "data": {
      "text/latex": [
       "\\begin{pmatrix}\\frac{1}{5}&1&\\frac{-8}{5}&\\frac{9}{5}&\\frac{-37}{12}\\\\ -1&9&-7&8&\\frac{-181}{12}\\\\ 3&3&0&5&\\frac{-21}{4}\\\\ 7&-1&1&-10&\\frac{349}{12}\\end{pmatrix}"
      ],
      "text/plain": [
       "array([[Fraction(1, 5), Fraction(1, 1), Fraction(-8, 5), Fraction(9, 5),\n",
       "        Fraction(-37, 12)],\n",
       "       [Fraction(-1, 1), Fraction(9, 1), Fraction(-7, 1), Fraction(8, 1),\n",
       "        Fraction(-181, 12)],\n",
       "       [Fraction(3, 1), Fraction(3, 1), Fraction(0, 1), Fraction(5, 1),\n",
       "        Fraction(-21, 4)],\n",
       "       [Fraction(7, 1), Fraction(-1, 1), Fraction(1, 1), Fraction(-10, 1),\n",
       "        Fraction(349, 12)]], dtype=object)"
      ]
     },
     "execution_count": 105,
     "metadata": {},
     "output_type": "execute_result"
    }
   ],
   "source": [
    "D(0, -1/5) @ S"
   ]
  },
  {
   "cell_type": "code",
   "execution_count": 106,
   "metadata": {
    "collapsed": false,
    "deletable": true,
    "editable": true,
    "jupyter": {
     "outputs_hidden": false
    }
   },
   "outputs": [
    {
     "data": {
      "text/latex": [
       "\\begin{pmatrix}\\frac{1}{5}&1&\\frac{-8}{5}&\\frac{9}{5}&\\frac{-37}{12}\\\\ \\frac{-6}{5}&8&\\frac{-27}{5}&\\frac{31}{5}&-12\\\\ 3&3&0&5&\\frac{-21}{4}\\\\ 7&-1&1&-10&\\frac{349}{12}\\end{pmatrix}"
      ],
      "text/plain": [
       "array([[Fraction(1, 5), Fraction(1, 1), Fraction(-8, 5), Fraction(9, 5),\n",
       "        Fraction(-37, 12)],\n",
       "       [Fraction(-6, 5), Fraction(8, 1), Fraction(-27, 5), Fraction(31, 5),\n",
       "        Fraction(-12, 1)],\n",
       "       [Fraction(3, 1), Fraction(3, 1), Fraction(0, 1), Fraction(5, 1),\n",
       "        Fraction(-21, 4)],\n",
       "       [Fraction(7, 1), Fraction(-1, 1), Fraction(1, 1), Fraction(-10, 1),\n",
       "        Fraction(349, 12)]], dtype=object)"
      ]
     },
     "execution_count": 106,
     "metadata": {},
     "output_type": "execute_result"
    }
   ],
   "source": [
    "L(1, 0, -1) @ _"
   ]
  },
  {
   "cell_type": "code",
   "execution_count": 107,
   "metadata": {
    "collapsed": false,
    "deletable": true,
    "editable": true,
    "jupyter": {
     "outputs_hidden": false
    }
   },
   "outputs": [
    {
     "data": {
      "text/latex": [
       "\\begin{pmatrix}\\frac{1}{5}&1&\\frac{-8}{5}&\\frac{9}{5}&\\frac{-37}{12}\\\\ \\frac{-6}{5}&8&\\frac{-27}{5}&\\frac{31}{5}&-12\\\\ \\frac{22}{5}&10&\\frac{-56}{5}&\\frac{88}{5}&\\frac{-161}{6}\\\\ 7&-1&1&-10&\\frac{349}{12}\\end{pmatrix}"
      ],
      "text/plain": [
       "array([[Fraction(1, 5), Fraction(1, 1), Fraction(-8, 5), Fraction(9, 5),\n",
       "        Fraction(-37, 12)],\n",
       "       [Fraction(-6, 5), Fraction(8, 1), Fraction(-27, 5), Fraction(31, 5),\n",
       "        Fraction(-12, 1)],\n",
       "       [Fraction(22, 5), Fraction(10, 1), Fraction(-56, 5),\n",
       "        Fraction(88, 5), Fraction(-161, 6)],\n",
       "       [Fraction(7, 1), Fraction(-1, 1), Fraction(1, 1), Fraction(-10, 1),\n",
       "        Fraction(349, 12)]], dtype=object)"
      ]
     },
     "execution_count": 107,
     "metadata": {},
     "output_type": "execute_result"
    }
   ],
   "source": [
    "L(2, 0, 7) @ _"
   ]
  },
  {
   "cell_type": "code",
   "execution_count": 108,
   "metadata": {
    "collapsed": false,
    "deletable": true,
    "editable": true,
    "jupyter": {
     "outputs_hidden": false
    }
   },
   "outputs": [
    {
     "data": {
      "text/latex": [
       "\\begin{pmatrix}\\frac{1}{5}&1&\\frac{-8}{5}&\\frac{9}{5}&\\frac{-37}{12}\\\\ \\frac{-6}{5}&8&\\frac{-27}{5}&\\frac{31}{5}&-12\\\\ \\frac{22}{5}&10&\\frac{-56}{5}&\\frac{88}{5}&\\frac{-161}{6}\\\\ \\frac{31}{5}&-5&\\frac{37}{5}&\\frac{-86}{5}&\\frac{497}{12}\\end{pmatrix}"
      ],
      "text/plain": [
       "array([[Fraction(1, 5), Fraction(1, 1), Fraction(-8, 5), Fraction(9, 5),\n",
       "        Fraction(-37, 12)],\n",
       "       [Fraction(-6, 5), Fraction(8, 1), Fraction(-27, 5), Fraction(31, 5),\n",
       "        Fraction(-12, 1)],\n",
       "       [Fraction(22, 5), Fraction(10, 1), Fraction(-56, 5),\n",
       "        Fraction(88, 5), Fraction(-161, 6)],\n",
       "       [Fraction(31, 5), Fraction(-5, 1), Fraction(37, 5),\n",
       "        Fraction(-86, 5), Fraction(497, 12)]], dtype=object)"
      ]
     },
     "execution_count": 108,
     "metadata": {},
     "output_type": "execute_result"
    }
   ],
   "source": [
    "L(3, 0, -4) @ _"
   ]
  },
  {
   "cell_type": "code",
   "execution_count": 109,
   "metadata": {
    "collapsed": false,
    "deletable": true,
    "editable": true,
    "jupyter": {
     "outputs_hidden": false
    }
   },
   "outputs": [
    {
     "data": {
      "text/latex": [
       "\\begin{pmatrix}\\frac{1}{5}&1&\\frac{-8}{5}&\\frac{9}{5}&\\frac{-37}{12}\\\\ \\frac{-6}{5}&8&\\frac{-27}{5}&\\frac{31}{5}&-12\\\\ \\frac{22}{5}&10&\\frac{-56}{5}&\\frac{88}{5}&\\frac{-161}{6}\\\\ \\frac{31}{5}&-5&\\frac{37}{5}&\\frac{-86}{5}&\\frac{497}{12}\\end{pmatrix}"
      ],
      "text/plain": [
       "array([[Fraction(1, 5), Fraction(1, 1), Fraction(-8, 5), Fraction(9, 5),\n",
       "        Fraction(-37, 12)],\n",
       "       [Fraction(-6, 5), Fraction(8, 1), Fraction(-27, 5), Fraction(31, 5),\n",
       "        Fraction(-12, 1)],\n",
       "       [Fraction(22, 5), Fraction(10, 1), Fraction(-56, 5),\n",
       "        Fraction(88, 5), Fraction(-161, 6)],\n",
       "       [Fraction(31, 5), Fraction(-5, 1), Fraction(37, 5),\n",
       "        Fraction(-86, 5), Fraction(497, 12)]], dtype=object)"
      ]
     },
     "execution_count": 109,
     "metadata": {},
     "output_type": "execute_result"
    }
   ],
   "source": [
    "S0 = _\n",
    "S0"
   ]
  },
  {
   "cell_type": "code",
   "execution_count": 110,
   "metadata": {
    "collapsed": false,
    "deletable": true,
    "editable": true,
    "jupyter": {
     "outputs_hidden": false
    }
   },
   "outputs": [
    {
     "data": {
      "text/latex": [
       "\\begin{pmatrix}\\frac{1}{59}&\\frac{131}{59}&\\frac{-143}{59}&\\frac{162}{59}&\\frac{-3479}{708}\\\\ \\frac{6}{59}&\\frac{-40}{59}&\\frac{27}{59}&\\frac{-31}{59}&\\frac{60}{59}\\\\ \\frac{154}{59}&\\frac{1294}{59}&\\frac{-1136}{59}&\\frac{1584}{59}&\\frac{-15835}{354}\\\\ \\frac{457}{59}&\\frac{-903}{59}&\\frac{847}{59}&\\frac{-1486}{59}&\\frac{40267}{708}\\end{pmatrix}"
      ],
      "text/plain": [
       "array([[Fraction(1, 59), Fraction(131, 59), Fraction(-143, 59),\n",
       "        Fraction(162, 59), Fraction(-3479, 708)],\n",
       "       [Fraction(6, 59), Fraction(-40, 59), Fraction(27, 59),\n",
       "        Fraction(-31, 59), Fraction(60, 59)],\n",
       "       [Fraction(154, 59), Fraction(1294, 59), Fraction(-1136, 59),\n",
       "        Fraction(1584, 59), Fraction(-15835, 354)],\n",
       "       [Fraction(457, 59), Fraction(-903, 59), Fraction(847, 59),\n",
       "        Fraction(-1486, 59), Fraction(40267, 708)]], dtype=object)"
      ]
     },
     "execution_count": 110,
     "metadata": {},
     "output_type": "execute_result"
    }
   ],
   "source": [
    "S1 = L(3,1, 76/5) @ L(2, 1, -88/5) @ L(0, 1, -9/5) @ D(1, -5/59) @ S0\n",
    "S1"
   ]
  },
  {
   "cell_type": "code",
   "execution_count": 111,
   "metadata": {
    "collapsed": false,
    "deletable": true,
    "editable": true,
    "jupyter": {
     "outputs_hidden": false
    }
   },
   "outputs": [
    {
     "data": {
      "text/latex": [
       "\\begin{pmatrix}\\frac{-5}{24}&\\frac{55}{168}&\\frac{-16}{21}&\\frac{3}{7}&\\frac{-2123}{2016}\\\\ \\frac{1}{8}&\\frac{-27}{56}&\\frac{2}{7}&\\frac{-2}{7}&\\frac{415}{672}\\\\ \\frac{-11}{96}&\\frac{-647}{672}&\\frac{71}{84}&\\frac{-33}{28}&\\frac{15835}{8064}\\\\ \\frac{223}{24}&\\frac{-389}{168}&\\frac{62}{21}&\\frac{-65}{7}&\\frac{61249}{2016}\\end{pmatrix}"
      ],
      "text/plain": [
       "array([[Fraction(-5, 24), Fraction(55, 168), Fraction(-16, 21),\n",
       "        Fraction(3, 7), Fraction(-2123, 2016)],\n",
       "       [Fraction(1, 8), Fraction(-27, 56), Fraction(2, 7), Fraction(-2, 7),\n",
       "        Fraction(415, 672)],\n",
       "       [Fraction(-11, 96), Fraction(-647, 672), Fraction(71, 84),\n",
       "        Fraction(-33, 28), Fraction(15835, 8064)],\n",
       "       [Fraction(223, 24), Fraction(-389, 168), Fraction(62, 21),\n",
       "        Fraction(-65, 7), Fraction(61249, 2016)]], dtype=object)"
      ]
     },
     "execution_count": 111,
     "metadata": {},
     "output_type": "execute_result"
    }
   ],
   "source": [
    "L(3, 2, -796/59) @ L(1, 2, -12/59) @ L(0, 2, 116/59) @ D(2, -59/1344) @ S1"
   ]
  },
  {
   "cell_type": "code",
   "execution_count": 112,
   "metadata": {
    "collapsed": false,
    "deletable": true,
    "editable": true,
    "jupyter": {
     "outputs_hidden": false
    }
   },
   "outputs": [
    {
     "data": {
      "text/latex": [
       "\\begin{pmatrix}\\frac{-5}{24}&\\frac{55}{168}&\\frac{-16}{21}&\\frac{3}{7}&\\frac{-2123}{2016}\\\\ \\frac{1}{8}&\\frac{-27}{56}&\\frac{2}{7}&\\frac{-2}{7}&\\frac{415}{672}\\\\ \\frac{-11}{96}&\\frac{-647}{672}&\\frac{71}{84}&\\frac{-33}{28}&\\frac{15835}{8064}\\\\ \\frac{223}{24}&\\frac{-389}{168}&\\frac{62}{21}&\\frac{-65}{7}&\\frac{61249}{2016}\\end{pmatrix}"
      ],
      "text/plain": [
       "array([[Fraction(-5, 24), Fraction(55, 168), Fraction(-16, 21),\n",
       "        Fraction(3, 7), Fraction(-2123, 2016)],\n",
       "       [Fraction(1, 8), Fraction(-27, 56), Fraction(2, 7), Fraction(-2, 7),\n",
       "        Fraction(415, 672)],\n",
       "       [Fraction(-11, 96), Fraction(-647, 672), Fraction(71, 84),\n",
       "        Fraction(-33, 28), Fraction(15835, 8064)],\n",
       "       [Fraction(223, 24), Fraction(-389, 168), Fraction(62, 21),\n",
       "        Fraction(-65, 7), Fraction(61249, 2016)]], dtype=object)"
      ]
     },
     "execution_count": 112,
     "metadata": {},
     "output_type": "execute_result"
    }
   ],
   "source": [
    "S2 = _\n",
    "S2"
   ]
  },
  {
   "cell_type": "code",
   "execution_count": 113,
   "metadata": {
    "collapsed": false,
    "deletable": true,
    "editable": true,
    "jupyter": {
     "outputs_hidden": false
    }
   },
   "outputs": [
    {
     "data": {
      "text/latex": [
       "\\begin{pmatrix}\\frac{997}{1726}&\\frac{227}{1726}&\\frac{-442}{863}&\\frac{-308}{863}&\\frac{31417}{20712}\\\\ \\frac{-366}{863}&\\frac{-298}{863}&\\frac{96}{863}&\\frac{227}{863}&\\frac{-2033}{1726}\\\\ \\frac{-2445}{6904}&\\frac{-6235}{6904}&\\frac{2655}{3452}&\\frac{-1621}{1726}&\\frac{32597}{27616}\\\\ \\frac{-1561}{1726}&\\frac{389}{1726}&\\frac{-248}{863}&\\frac{780}{863}&\\frac{-61249}{20712}\\end{pmatrix}"
      ],
      "text/plain": [
       "array([[Fraction(997, 1726), Fraction(227, 1726), Fraction(-442, 863),\n",
       "        Fraction(-308, 863), Fraction(31417, 20712)],\n",
       "       [Fraction(-366, 863), Fraction(-298, 863), Fraction(96, 863),\n",
       "        Fraction(227, 863), Fraction(-2033, 1726)],\n",
       "       [Fraction(-2445, 6904), Fraction(-6235, 6904), Fraction(2655, 3452),\n",
       "        Fraction(-1621, 1726), Fraction(32597, 27616)],\n",
       "       [Fraction(-1561, 1726), Fraction(389, 1726), Fraction(-248, 863),\n",
       "        Fraction(780, 863), Fraction(-61249, 20712)]], dtype=object)"
      ]
     },
     "execution_count": 113,
     "metadata": {},
     "output_type": "execute_result"
    }
   ],
   "source": [
    "S3 = L(2,3,89/336)@L(1,3,17/28)@L(0,3, -73/84) @ D(3, -84/863) @ S2\n",
    "S3"
   ]
  },
  {
   "cell_type": "code",
   "execution_count": 114,
   "metadata": {
    "collapsed": false,
    "deletable": true,
    "editable": true,
    "jupyter": {
     "outputs_hidden": false
    }
   },
   "outputs": [
    {
     "data": {
      "text/latex": [
       "\\[\\left\\{ \\begin{array}{} &\\frac{997}{1726} x_0&+&\\frac{227}{1726} x_1&-&\\frac{442}{863} x_2&-&\\frac{308}{863} x_3&=&\\frac{31417}{20712}\\\\ \n",
       "-&\\frac{366}{863} x_0&-&\\frac{298}{863} x_1&+&\\frac{96}{863} x_2&+&\\frac{227}{863} x_3&=&\\frac{-2033}{1726}\\\\ \n",
       "-&\\frac{2445}{6904} x_0&-&\\frac{6235}{6904} x_1&+&\\frac{2655}{3452} x_2&-&\\frac{1621}{1726} x_3&=&\\frac{32597}{27616}\\\\ \n",
       "-&\\frac{1561}{1726} x_0&+&\\frac{389}{1726} x_1&-&\\frac{248}{863} x_2&+&\\frac{780}{863} x_3&=&\\frac{-61249}{20712}\\end{array}\\right.\\]"
      ],
      "text/plain": [
       "<IPython.core.display.Latex object>"
      ]
     },
     "execution_count": 114,
     "metadata": {},
     "output_type": "execute_result"
    }
   ],
   "source": [
    "show_equations(S3)"
   ]
  },
  {
   "cell_type": "code",
   "execution_count": 115,
   "metadata": {
    "collapsed": false,
    "deletable": true,
    "editable": true,
    "jupyter": {
     "outputs_hidden": false
    }
   },
   "outputs": [
    {
     "data": {
      "text/latex": [
       "\\begin{pmatrix}\\frac{31417}{20712}\\\\ \\frac{-2033}{1726}\\\\ \\frac{32597}{27616}\\\\ \\frac{-61249}{20712}\\end{pmatrix}"
      ],
      "text/plain": [
       "array([[Fraction(31417, 20712)],\n",
       "       [Fraction(-2033, 1726)],\n",
       "       [Fraction(32597, 27616)],\n",
       "       [Fraction(-61249, 20712)]], dtype=object)"
      ]
     },
     "execution_count": 115,
     "metadata": {},
     "output_type": "execute_result"
    }
   ],
   "source": [
    "x = S3[:, [-1]]\n",
    "x"
   ]
  },
  {
   "cell_type": "code",
   "execution_count": 116,
   "metadata": {
    "collapsed": false,
    "deletable": true,
    "editable": true,
    "jupyter": {
     "outputs_hidden": false
    }
   },
   "outputs": [
    {
     "name": "stdout",
     "output_type": "stream",
     "text": [
      "Try again\n"
     ]
    },
    {
     "data": {
      "text/latex": [
       "\\begin{pmatrix}False\\\\ False\\\\ False\\\\ False\\end{pmatrix}"
      ],
      "text/plain": [
       "array([[False],\n",
       "       [False],\n",
       "       [False],\n",
       "       [False]], dtype=bool)"
      ]
     },
     "execution_count": 116,
     "metadata": {},
     "output_type": "execute_result"
    }
   ],
   "source": [
    "# 檢查答案\n",
    "check_answer(A @ x == b)"
   ]
  },
  {
   "cell_type": "code",
   "execution_count": null,
   "metadata": {
    "collapsed": true,
    "deletable": true,
    "editable": true,
    "jupyter": {
     "outputs_hidden": true
    }
   },
   "outputs": [],
   "source": []
  }
 ],
 "metadata": {
  "kernelspec": {
   "display_name": "Python 3 (ipykernel)",
   "language": "python",
   "name": "python3"
  },
  "language_info": {
   "codemirror_mode": {
    "name": "ipython",
    "version": 3
   },
   "file_extension": ".py",
   "mimetype": "text/x-python",
   "name": "python",
   "nbconvert_exporter": "python",
   "pygments_lexer": "ipython3",
   "version": "3.11.3"
  }
 },
 "nbformat": 4,
 "nbformat_minor": 4
}
