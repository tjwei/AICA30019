{
 "cells": [
  {
   "cell_type": "code",
   "execution_count": 1,
   "metadata": {},
   "outputs": [],
   "source": [
    "from numba import jit"
   ]
  },
  {
   "cell_type": "markdown",
   "metadata": {},
   "source": [
    "### Basic jit inline (compile via LLVM)"
   ]
  },
  {
   "cell_type": "code",
   "execution_count": 2,
   "metadata": {},
   "outputs": [
    {
     "data": {
      "text/plain": [
       "'0xffffffe0000001'"
      ]
     },
     "execution_count": 2,
     "metadata": {},
     "output_type": "execute_result"
    }
   ],
   "source": [
    "@jit\n",
    "def f(x, y):\n",
    "    return x*y\n",
    "hex(f(0xfffffff, 0xfffffff))"
   ]
  },
  {
   "cell_type": "markdown",
   "metadata": {},
   "source": [
    "### Signature specifications\n",
    "Explicit `@jit` signatures can use a number of types. Here are some common ones:\n",
    "\n",
    "* `void` is the return type of functions returning nothing (which actually return None when called from Python)\n",
    "* `intp` and `uintp` are pointer-sized integers (signed and unsigned, respectively)\n",
    "* `intc` and `uintc` are equivalent to C int and unsigned int integer types\n",
    "* `int8`, `uint8`, `int16`, `uint16`, `int32`, `uint32`, `int64`, `uint64` are fixed-width integers of the corresponding bit width (signed and unsigned)\n",
    "* `float32` and `float64` are single- and double-precision floating-point numbers, respectively\n",
    "* `complex64` and `complex128` are single- and double-precision complex numbers, respectively\n",
    "* array types can be specified by indexing any numeric type, e.g. `float32[:]` for a one-dimensional single-precision array or `int8[:,:]` for a two-dimensional array of 8-bit integers."
   ]
  },
  {
   "cell_type": "code",
   "execution_count": 3,
   "metadata": {},
   "outputs": [
    {
     "data": {
      "text/plain": [
       "'-0x1fffffff'"
      ]
     },
     "execution_count": 3,
     "metadata": {},
     "output_type": "execute_result"
    }
   ],
   "source": [
    "from numba import jit, int32, int64\n",
    "\n",
    "@jit(int32(int32, int32))\n",
    "def f(x, y):\n",
    "    # A somewhat trivial example\n",
    "    return x * y\n",
    "hex(f(0xfffffff, 0xfffffff))"
   ]
  },
  {
   "cell_type": "code",
   "execution_count": 4,
   "metadata": {},
   "outputs": [
    {
     "data": {
      "text/plain": [
       "'0xffffffe0000001'"
      ]
     },
     "execution_count": 4,
     "metadata": {},
     "output_type": "execute_result"
    }
   ],
   "source": [
    "@jit(int64(int32, int32))\n",
    "def f(x, y):\n",
    "    # A somewhat trivial example\n",
    "    return x * y\n",
    "hex(f(0xfffffff, 0xfffffff))"
   ]
  },
  {
   "cell_type": "markdown",
   "metadata": {},
   "source": [
    "### Can call or inline other jitted functions"
   ]
  },
  {
   "cell_type": "code",
   "execution_count": 5,
   "metadata": {},
   "outputs": [],
   "source": [
    "import math\n",
    "@jit\n",
    "def square(x):\n",
    "    return x ** 2\n",
    "\n",
    "@jit\n",
    "def hypot(x, y):\n",
    "    return math.sqrt(square(x) + square(y))"
   ]
  },
  {
   "cell_type": "code",
   "execution_count": 6,
   "metadata": {},
   "outputs": [
    {
     "data": {
      "text/plain": [
       "2.23606797749979"
      ]
     },
     "execution_count": 6,
     "metadata": {},
     "output_type": "execute_result"
    }
   ],
   "source": [
    "hypot(1,2)"
   ]
  },
  {
   "cell_type": "code",
   "execution_count": 7,
   "metadata": {},
   "outputs": [
    {
     "data": {
      "text/plain": [
       "2.23606797749979"
      ]
     },
     "execution_count": 7,
     "metadata": {},
     "output_type": "execute_result"
    }
   ],
   "source": [
    "def square(x):\n",
    "    return 0\n",
    "hypot(1,2)"
   ]
  },
  {
   "cell_type": "markdown",
   "metadata": {},
   "source": [
    "### Compilation options\n",
    "`nopython`\n",
    "\n",
    "A Numba compilation mode that generates code that does not access the Python C API. This compilation mode produces the highest performance code, but requires that the native types of all values in the function can be inferred. Unless otherwise instructed, the @jit decorator will automatically fall back to object mode if nopython mode cannot be used."
   ]
  },
  {
   "cell_type": "code",
   "execution_count": 8,
   "metadata": {},
   "outputs": [],
   "source": [
    "@jit(nopython=True)\n",
    "def f(x, y):\n",
    "    return x + y"
   ]
  },
  {
   "cell_type": "markdown",
   "metadata": {},
   "source": [
    "`nogil`\n",
    "\n",
    "Whenever Numba optimizes Python code to native code that only works on native types and variables (rather than Python objects), it is not necessary anymore to hold Python’s global interpreter lock (GIL). Numba will release the GIL when entering such a compiled function if you passed `nogil=True`."
   ]
  },
  {
   "cell_type": "code",
   "execution_count": 9,
   "metadata": {},
   "outputs": [],
   "source": [
    "@jit(nogil=True)\n",
    "def f(x, y):\n",
    "    return x + y"
   ]
  },
  {
   "cell_type": "markdown",
   "metadata": {},
   "source": [
    "`cache`\n",
    "\n",
    "To avoid compilation times each time you invoke a Python program, you can instruct Numba to write the result of function compilation into a file-based cache. "
   ]
  },
  {
   "cell_type": "code",
   "execution_count": 10,
   "metadata": {},
   "outputs": [],
   "source": [
    "@jit(cache=True)\n",
    "def f(x, y):\n",
    "    return x + y"
   ]
  },
  {
   "cell_type": "markdown",
   "metadata": {},
   "source": [
    "`parallel`\n",
    "\n",
    "Enables automatic parallelization (and related optimizations) for those operations in the function known to have parallel semantics. For a list of supported operations, see Automatic parallelization with @jit. This feature is enabled by passing `parallel=True` and must be used in conjunction with `nopython=True`:"
   ]
  },
  {
   "cell_type": "code",
   "execution_count": 11,
   "metadata": {},
   "outputs": [],
   "source": [
    "@jit(nopython=True, parallel=True)\n",
    "def f(x, y):\n",
    "    return x + y"
   ]
  },
  {
   "cell_type": "markdown",
   "metadata": {},
   "source": [
    "### Creating NumPy universal functions\n",
    "`@vectorize` takes python function with scalar input arguments to be used as numpy's ufuncs. \n",
    "\n",
    "The `@vectorize` decorator has two modes of operation:\n",
    "\n",
    "* Eager, or decoration-time, compilation: If you pass one or more type signatures to the decorator, you will be building a Numpy universal function (ufunc). The rest of this subsection describes building ufuncs using decoration-time compilation.\n",
    "* Lazy, or call-time, compilation: When not given any signatures, the decorator will give you a Numba dynamic universal function (DUFunc) that dynamically compiles a new kernel when called with a previously unsupported input type. A later subsection, “Dynamic universal functions”, describes this mode in more depth."
   ]
  },
  {
   "cell_type": "code",
   "execution_count": 12,
   "metadata": {},
   "outputs": [
    {
     "data": {
      "text/plain": [
       "array([ 0.,  2.,  4.,  6.,  8., 10., 12., 14., 16., 18.])"
      ]
     },
     "execution_count": 12,
     "metadata": {},
     "output_type": "execute_result"
    }
   ],
   "source": [
    "from numba import vectorize, float64\n",
    "import numpy as np\n",
    "\n",
    "@vectorize([float64(float64, float64)])\n",
    "def f(x, y):\n",
    "    return x + y\n",
    "\n",
    "f(np.arange(10, dtype=np.float64), np.arange(10, dtype=np.float64))"
   ]
  },
  {
   "cell_type": "code",
   "execution_count": 13,
   "metadata": {},
   "outputs": [
    {
     "data": {
      "text/plain": [
       "array([4., 4., 4.])"
      ]
     },
     "execution_count": 13,
     "metadata": {},
     "output_type": "execute_result"
    }
   ],
   "source": [
    "f([1,2,3], [3,2,1])"
   ]
  },
  {
   "cell_type": "markdown",
   "metadata": {},
   "source": [
    "If you pass several signatures, beware that you have to pass most specific signatures before least specific ones (e.g., single-precision floats before double-precision floats), otherwise type-based dispatching will not work as expected:"
   ]
  },
  {
   "cell_type": "code",
   "execution_count": 14,
   "metadata": {},
   "outputs": [
    {
     "data": {
      "text/plain": [
       "array([4, 4, 4])"
      ]
     },
     "execution_count": 14,
     "metadata": {},
     "output_type": "execute_result"
    }
   ],
   "source": [
    "from numba import vectorize, float64, float32, int32, int64\n",
    "@vectorize([int32(int32, int32),\n",
    "            int64(int64, int64),\n",
    "            float32(float32, float32),\n",
    "            float64(float64, float64)])\n",
    "def f(x, y):\n",
    "    return x + y\n",
    "f([1,2,3], [3,2,1])"
   ]
  },
  {
   "cell_type": "markdown",
   "metadata": {},
   "source": [
    "support broadcasting, reduction, accumulation"
   ]
  },
  {
   "cell_type": "code",
   "execution_count": 15,
   "metadata": {},
   "outputs": [
    {
     "name": "stdout",
     "output_type": "stream",
     "text": [
      "[[ 0  1  2  3]\n",
      " [ 4  5  6  7]\n",
      " [ 8  9 10 11]]\n"
     ]
    },
    {
     "data": {
      "text/plain": [
       "array([12, 15, 18, 21])"
      ]
     },
     "execution_count": 15,
     "metadata": {},
     "output_type": "execute_result"
    }
   ],
   "source": [
    "a = np.arange(12).reshape(3, 4)\n",
    "print(a)\n",
    "f.reduce(a)"
   ]
  },
  {
   "cell_type": "code",
   "execution_count": 16,
   "metadata": {},
   "outputs": [
    {
     "data": {
      "text/plain": [
       "array([ 6, 22, 38])"
      ]
     },
     "execution_count": 16,
     "metadata": {},
     "output_type": "execute_result"
    }
   ],
   "source": [
    "f.reduce(a, axis=1)"
   ]
  },
  {
   "cell_type": "code",
   "execution_count": 17,
   "metadata": {},
   "outputs": [
    {
     "data": {
      "text/plain": [
       "array([[ 0,  1,  2,  3],\n",
       "       [ 4,  6,  8, 10],\n",
       "       [12, 15, 18, 21]])"
      ]
     },
     "execution_count": 17,
     "metadata": {},
     "output_type": "execute_result"
    }
   ],
   "source": [
    "f.accumulate(a)"
   ]
  },
  {
   "cell_type": "code",
   "execution_count": 18,
   "metadata": {},
   "outputs": [
    {
     "data": {
      "text/plain": [
       "array([[ 0,  1,  2,  3,  4,  5,  6,  7,  8,  9],\n",
       "       [ 1,  2,  3,  4,  5,  6,  7,  8,  9, 10],\n",
       "       [ 2,  3,  4,  5,  6,  7,  8,  9, 10, 11],\n",
       "       [ 3,  4,  5,  6,  7,  8,  9, 10, 11, 12],\n",
       "       [ 4,  5,  6,  7,  8,  9, 10, 11, 12, 13],\n",
       "       [ 5,  6,  7,  8,  9, 10, 11, 12, 13, 14],\n",
       "       [ 6,  7,  8,  9, 10, 11, 12, 13, 14, 15],\n",
       "       [ 7,  8,  9, 10, 11, 12, 13, 14, 15, 16],\n",
       "       [ 8,  9, 10, 11, 12, 13, 14, 15, 16, 17],\n",
       "       [ 9, 10, 11, 12, 13, 14, 15, 16, 17, 18]])"
      ]
     },
     "execution_count": 18,
     "metadata": {},
     "output_type": "execute_result"
    }
   ],
   "source": [
    "f(np.arange(10)[:, None], np.arange(10)[None,:])"
   ]
  },
  {
   "cell_type": "code",
   "execution_count": 19,
   "metadata": {},
   "outputs": [
    {
     "data": {
      "text/plain": [
       "array([  0, 606,   0,   6,   8])"
      ]
     },
     "execution_count": 19,
     "metadata": {},
     "output_type": "execute_result"
    }
   ],
   "source": [
    "f(np.arange(5), np.arange(5), where=[True, False, False, True, True])"
   ]
  },
  {
   "cell_type": "markdown",
   "metadata": {},
   "source": [
    "`vectorize` supports multiple targets: `cpu`, `parallel`, `cuda`"
   ]
  },
  {
   "cell_type": "code",
   "execution_count": 21,
   "metadata": {},
   "outputs": [
    {
     "data": {
      "text/plain": [
       "array([    0,     2,     4, ..., 19994, 19996, 19998])"
      ]
     },
     "execution_count": 21,
     "metadata": {},
     "output_type": "execute_result"
    }
   ],
   "source": [
    "from numba import vectorize, float64, float32, int32, int64\n",
    "@vectorize([int32(int32, int32),\n",
    "            int64(int64, int64),\n",
    "            float32(float32, float32),\n",
    "            float64(float64, float64)], target='cuda')\n",
    "def f(x, y):\n",
    "    return x + y\n",
    "f(np.arange(10000), np.arange(10000))"
   ]
  },
  {
   "cell_type": "markdown",
   "metadata": {},
   "source": [
    "### The @guvectorize decorator\n",
    "the `guvectorize()` decorator takes the concept one step further and allows you to write ufuncs that will work on an arbitrary number of elements of input arrays, and take and return arrays of differing dimensions. The typical example is a running median or a convolution filter.\n",
    "\n",
    "`guvectorize()` functions don’t return their result value: they take it as an array argument, which must be filled in by the function. This is because the array is actually allocated by NumPy’s dispatch mechanism, which calls into the Numba-generated code."
   ]
  },
  {
   "cell_type": "code",
   "execution_count": 23,
   "metadata": {},
   "outputs": [],
   "source": [
    "from numba import guvectorize\n",
    "@guvectorize([(int64[:], int64, int64[:])], '(n),()->(n)')\n",
    "def g(x, y, res):\n",
    "    for i in range(x.shape[0]):\n",
    "        res[i] = x[i] + y"
   ]
  },
  {
   "cell_type": "code",
   "execution_count": 24,
   "metadata": {},
   "outputs": [
    {
     "data": {
      "text/plain": [
       "array([6, 7, 8], dtype=int64)"
      ]
     },
     "execution_count": 24,
     "metadata": {},
     "output_type": "execute_result"
    }
   ],
   "source": [
    "g([1,2,3], 5)"
   ]
  },
  {
   "cell_type": "markdown",
   "metadata": {},
   "source": [
    "### AOT "
   ]
  },
  {
   "cell_type": "code",
   "execution_count": 26,
   "metadata": {},
   "outputs": [
    {
     "name": "stdout",
     "output_type": "stream",
     "text": [
      "generating LLVM code for 'my_module' into C:\\Users\\tzerj\\AppData\\Local\\Temp\\pycc-build-my_module-qml2jywq\\my_module.cp37-win_amd64.o\n",
      "creating C:\\Users\\tzerj\\AppData\\Local\\Temp\\pycc-build-my_module-qml2jywq\\Users\n",
      "creating C:\\Users\\tzerj\\AppData\\Local\\Temp\\pycc-build-my_module-qml2jywq\\Users\\tzerj\n",
      "creating C:\\Users\\tzerj\\AppData\\Local\\Temp\\pycc-build-my_module-qml2jywq\\Users\\tzerj\\Anaconda3\n",
      "creating C:\\Users\\tzerj\\AppData\\Local\\Temp\\pycc-build-my_module-qml2jywq\\Users\\tzerj\\Anaconda3\\envs\n",
      "creating C:\\Users\\tzerj\\AppData\\Local\\Temp\\pycc-build-my_module-qml2jywq\\Users\\tzerj\\Anaconda3\\envs\\test\n",
      "creating C:\\Users\\tzerj\\AppData\\Local\\Temp\\pycc-build-my_module-qml2jywq\\Users\\tzerj\\Anaconda3\\envs\\test\\lib\n",
      "creating C:\\Users\\tzerj\\AppData\\Local\\Temp\\pycc-build-my_module-qml2jywq\\Users\\tzerj\\Anaconda3\\envs\\test\\lib\\site-packages\n",
      "creating C:\\Users\\tzerj\\AppData\\Local\\Temp\\pycc-build-my_module-qml2jywq\\Users\\tzerj\\Anaconda3\\envs\\test\\lib\\site-packages\\numba\n",
      "creating C:\\Users\\tzerj\\AppData\\Local\\Temp\\pycc-build-my_module-qml2jywq\\Users\\tzerj\\Anaconda3\\envs\\test\\lib\\site-packages\\numba\\pycc\n",
      "creating C:\\Users\\tzerj\\AppData\\Local\\Temp\\pycc-build-my_module-qml2jywq\\Users\\tzerj\\Anaconda3\\envs\\test\\lib\\site-packages\\numba\\runtime\n",
      "C:\\Program Files (x86)\\Microsoft Visual Studio\\2019\\Community\\VC\\Tools\\MSVC\\14.25.28610\\bin\\HostX86\\x64\\cl.exe /c /nologo /Ox /W3 /GL /DNDEBUG /MT -DPYCC_MODULE_NAME=my_module -DPYCC_USE_NRT=1 -IC:\\Users\\tzerj\\Anaconda3\\envs\\test\\include -IC:\\Users\\tzerj\\Anaconda3\\envs\\test\\include -IC:\\\\Users\\\\tzerj\\\\Anaconda3\\\\envs\\\\test\\\\lib\\\\site-packages\\\\numpy\\\\core\\\\include -IC:\\Program Files (x86)\\Microsoft Visual Studio\\2019\\Community\\VC\\Tools\\MSVC\\14.25.28610\\ATLMFC\\include -IC:\\Program Files (x86)\\Microsoft Visual Studio\\2019\\Community\\VC\\Tools\\MSVC\\14.25.28610\\include -IC:\\Program Files (x86)\\Windows Kits\\NETFXSDK\\4.8\\include\\um -IC:\\Program Files (x86)\\Windows Kits\\10\\include\\10.0.18362.0\\ucrt -IC:\\Program Files (x86)\\Windows Kits\\10\\include\\10.0.18362.0\\shared -IC:\\Program Files (x86)\\Windows Kits\\10\\include\\10.0.18362.0\\um -IC:\\Program Files (x86)\\Windows Kits\\10\\include\\10.0.18362.0\\winrt -IC:\\Program Files (x86)\\Windows Kits\\10\\include\\10.0.18362.0\\cppwinrt /TcC:\\Users\\tzerj\\Anaconda3\\envs\\test\\lib\\site-packages\\numba\\pycc\\modulemixin.c /FoC:\\Users\\tzerj\\AppData\\Local\\Temp\\pycc-build-my_module-qml2jywq\\Users\\tzerj\\Anaconda3\\envs\\test\\lib\\site-packages\\numba\\pycc\\modulemixin.obj\n",
      "C:\\Program Files (x86)\\Microsoft Visual Studio\\2019\\Community\\VC\\Tools\\MSVC\\14.25.28610\\bin\\HostX86\\x64\\cl.exe /c /nologo /Ox /W3 /GL /DNDEBUG /MT -DPYCC_MODULE_NAME=my_module -DPYCC_USE_NRT=1 -IC:\\Users\\tzerj\\Anaconda3\\envs\\test\\include -IC:\\Users\\tzerj\\Anaconda3\\envs\\test\\include -IC:\\\\Users\\\\tzerj\\\\Anaconda3\\\\envs\\\\test\\\\lib\\\\site-packages\\\\numpy\\\\core\\\\include -IC:\\Program Files (x86)\\Microsoft Visual Studio\\2019\\Community\\VC\\Tools\\MSVC\\14.25.28610\\ATLMFC\\include -IC:\\Program Files (x86)\\Microsoft Visual Studio\\2019\\Community\\VC\\Tools\\MSVC\\14.25.28610\\include -IC:\\Program Files (x86)\\Windows Kits\\NETFXSDK\\4.8\\include\\um -IC:\\Program Files (x86)\\Windows Kits\\10\\include\\10.0.18362.0\\ucrt -IC:\\Program Files (x86)\\Windows Kits\\10\\include\\10.0.18362.0\\shared -IC:\\Program Files (x86)\\Windows Kits\\10\\include\\10.0.18362.0\\um -IC:\\Program Files (x86)\\Windows Kits\\10\\include\\10.0.18362.0\\winrt -IC:\\Program Files (x86)\\Windows Kits\\10\\include\\10.0.18362.0\\cppwinrt /TcC:\\Users\\tzerj\\Anaconda3\\envs\\test\\lib\\site-packages\\numba\\pycc\\../_math_c99.c /FoC:\\Users\\tzerj\\AppData\\Local\\Temp\\pycc-build-my_module-qml2jywq\\Users\\tzerj\\Anaconda3\\envs\\test\\lib\\site-packages\\numba\\pycc\\../_math_c99.obj\n",
      "C:\\Program Files (x86)\\Microsoft Visual Studio\\2019\\Community\\VC\\Tools\\MSVC\\14.25.28610\\bin\\HostX86\\x64\\cl.exe /c /nologo /Ox /W3 /GL /DNDEBUG /MT -DPYCC_MODULE_NAME=my_module -DPYCC_USE_NRT=1 -IC:\\Users\\tzerj\\Anaconda3\\envs\\test\\include -IC:\\Users\\tzerj\\Anaconda3\\envs\\test\\include -IC:\\\\Users\\\\tzerj\\\\Anaconda3\\\\envs\\\\test\\\\lib\\\\site-packages\\\\numpy\\\\core\\\\include -IC:\\Program Files (x86)\\Microsoft Visual Studio\\2019\\Community\\VC\\Tools\\MSVC\\14.25.28610\\ATLMFC\\include -IC:\\Program Files (x86)\\Microsoft Visual Studio\\2019\\Community\\VC\\Tools\\MSVC\\14.25.28610\\include -IC:\\Program Files (x86)\\Windows Kits\\NETFXSDK\\4.8\\include\\um -IC:\\Program Files (x86)\\Windows Kits\\10\\include\\10.0.18362.0\\ucrt -IC:\\Program Files (x86)\\Windows Kits\\10\\include\\10.0.18362.0\\shared -IC:\\Program Files (x86)\\Windows Kits\\10\\include\\10.0.18362.0\\um -IC:\\Program Files (x86)\\Windows Kits\\10\\include\\10.0.18362.0\\winrt -IC:\\Program Files (x86)\\Windows Kits\\10\\include\\10.0.18362.0\\cppwinrt /TcC:\\Users\\tzerj\\Anaconda3\\envs\\test\\lib\\site-packages\\numba\\pycc\\../runtime/nrt.c /FoC:\\Users\\tzerj\\AppData\\Local\\Temp\\pycc-build-my_module-qml2jywq\\Users\\tzerj\\Anaconda3\\envs\\test\\lib\\site-packages\\numba\\pycc\\../runtime/nrt.obj\n",
      "C:\\Program Files (x86)\\Microsoft Visual Studio\\2019\\Community\\VC\\Tools\\MSVC\\14.25.28610\\bin\\HostX86\\x64\\link.exe /nologo /INCREMENTAL:NO /LTCG /nodefaultlib:libucrt.lib ucrt.lib /DLL /MANIFEST:EMBED,ID=2 /MANIFESTUAC:NO /LIBPATH:C:\\Users\\tzerj\\Anaconda3\\envs\\test\\libs /LIBPATH:C:\\Users\\tzerj\\Anaconda3\\envs\\test\\PCbuild\\amd64 /LIBPATH:C:\\\\Users\\\\tzerj\\\\Anaconda3\\\\envs\\\\test\\\\lib\\\\site-packages\\\\numpy\\\\core\\\\lib /LIBPATH:C:\\Program Files (x86)\\Microsoft Visual Studio\\2019\\Community\\VC\\Tools\\MSVC\\14.25.28610\\ATLMFC\\lib\\x64 /LIBPATH:C:\\Program Files (x86)\\Microsoft Visual Studio\\2019\\Community\\VC\\Tools\\MSVC\\14.25.28610\\lib\\x64 /LIBPATH:C:\\Program Files (x86)\\Windows Kits\\NETFXSDK\\4.8\\lib\\um\\x64 /LIBPATH:C:\\Program Files (x86)\\Windows Kits\\10\\lib\\10.0.18362.0\\ucrt\\x64 /LIBPATH:C:\\Program Files (x86)\\Windows Kits\\10\\lib\\10.0.18362.0\\um\\x64 python37.lib msvcrt.lib npymath.lib /EXPORT:PyInit_my_module C:\\Users\\tzerj\\AppData\\Local\\Temp\\pycc-build-my_module-qml2jywq\\my_module.cp37-win_amd64.o C:\\Users\\tzerj\\AppData\\Local\\Temp\\pycc-build-my_module-qml2jywq\\Users\\tzerj\\Anaconda3\\envs\\test\\lib\\site-packages\\numba\\pycc\\modulemixin.obj C:\\Users\\tzerj\\AppData\\Local\\Temp\\pycc-build-my_module-qml2jywq\\Users\\tzerj\\Anaconda3\\envs\\test\\lib\\site-packages\\numba\\pycc\\../_math_c99.obj C:\\Users\\tzerj\\AppData\\Local\\Temp\\pycc-build-my_module-qml2jywq\\Users\\tzerj\\Anaconda3\\envs\\test\\lib\\site-packages\\numba\\pycc\\../runtime/nrt.obj /OUT:my_module.cp37-win_amd64.pyd /IMPLIB:C:\\Users\\tzerj\\AppData\\Local\\Temp\\pycc-build-my_module-qml2jywq\\my_module.cp37-win_amd64.lib\n"
     ]
    }
   ],
   "source": [
    "from numba.pycc import CC\n",
    "\n",
    "cc = CC('my_module')\n",
    "cc.verbose = True\n",
    "\n",
    "@cc.export('multf', 'f8(f8, f8)')\n",
    "@cc.export('multi', 'i4(i4, i4)')\n",
    "def mult(a, b):\n",
    "    return a * b\n",
    "\n",
    "@cc.export('square', 'f8(f8)')\n",
    "def square(a):\n",
    "    return a ** 2\n",
    "cc.compile()"
   ]
  },
  {
   "cell_type": "code",
   "execution_count": 28,
   "metadata": {},
   "outputs": [
    {
     "name": "stdout",
     "output_type": "stream",
     "text": [
      "01-numba-intro.ipynb\n",
      "my_module.cp37-win_amd64.pyd\n"
     ]
    }
   ],
   "source": [
    "!ls"
   ]
  },
  {
   "cell_type": "code",
   "execution_count": 29,
   "metadata": {},
   "outputs": [
    {
     "data": {
      "text/plain": [
       "12"
      ]
     },
     "execution_count": 29,
     "metadata": {},
     "output_type": "execute_result"
    }
   ],
   "source": [
    "import my_module\n",
    "my_module.multi(3, 4)"
   ]
  },
  {
   "cell_type": "markdown",
   "metadata": {},
   "source": [
    "### Explicit Parallel Loops\n"
   ]
  },
  {
   "cell_type": "code",
   "execution_count": 30,
   "metadata": {},
   "outputs": [],
   "source": [
    "from numba import njit, prange\n",
    "\n",
    "@njit(parallel=True)\n",
    "def prange_test(A):\n",
    "    s = 0\n",
    "    # Without \"parallel=True\" in the jit-decorator\n",
    "    # the prange statement is equivalent to range\n",
    "    for i in prange(A.shape[0]):\n",
    "        s += A[i]\n",
    "    return s"
   ]
  },
  {
   "cell_type": "code",
   "execution_count": null,
   "metadata": {},
   "outputs": [],
   "source": []
  }
 ],
 "metadata": {
  "kernelspec": {
   "display_name": "Python 3",
   "language": "python",
   "name": "python3"
  },
  "language_info": {
   "codemirror_mode": {
    "name": "ipython",
    "version": 3
   },
   "file_extension": ".py",
   "mimetype": "text/x-python",
   "name": "python",
   "nbconvert_exporter": "python",
   "pygments_lexer": "ipython3",
   "version": "3.7.3"
  }
 },
 "nbformat": 4,
 "nbformat_minor": 4
}
