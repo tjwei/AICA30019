{
 "cells": [
  {
   "cell_type": "markdown",
   "metadata": {},
   "source": [
    "# Decision Trees"
   ]
  },
  {
   "cell_type": "code",
   "execution_count": 2,
   "metadata": {
    "tags": []
   },
   "outputs": [],
   "source": [
    "from PIL import Image\n",
    "import numpy as np\n",
    "%matplotlib inline\n",
    "import matplotlib\n",
    "import matplotlib.pyplot as plt\n",
    "from sklearn import datasets, tree\n",
    "matplotlib.style.use('bmh')\n",
    "matplotlib.rcParams['figure.figsize']=(10,7)"
   ]
  },
  {
   "cell_type": "markdown",
   "metadata": {},
   "source": [
    "Experiment on decision tree\n",
    "\n",
    "Use Iris dataset https://en.wikipedia.org/wiki/Iris_flower_data_set\n"
   ]
  },
  {
   "cell_type": "code",
   "execution_count": 3,
   "metadata": {
    "collapsed": false,
    "jupyter": {
     "outputs_hidden": false
    }
   },
   "outputs": [],
   "source": [
    " # windows only hack for graphviz path \n",
    "import os\n",
    "for path in os.environ['PATH'].split(os.pathsep):\n",
    "    if path.endswith(\"Library\\\\bin\"):\n",
    "        os.environ['PATH']+=os.pathsep+os.path.join(path, 'graphviz')"
   ]
  },
  {
   "cell_type": "code",
   "execution_count": 4,
   "metadata": {
    "collapsed": false,
    "jupyter": {
     "outputs_hidden": false
    },
    "tags": []
   },
   "outputs": [
    {
     "data": {
      "text/html": [
       "<style>#sk-container-id-1 {color: black;background-color: white;}#sk-container-id-1 pre{padding: 0;}#sk-container-id-1 div.sk-toggleable {background-color: white;}#sk-container-id-1 label.sk-toggleable__label {cursor: pointer;display: block;width: 100%;margin-bottom: 0;padding: 0.3em;box-sizing: border-box;text-align: center;}#sk-container-id-1 label.sk-toggleable__label-arrow:before {content: \"▸\";float: left;margin-right: 0.25em;color: #696969;}#sk-container-id-1 label.sk-toggleable__label-arrow:hover:before {color: black;}#sk-container-id-1 div.sk-estimator:hover label.sk-toggleable__label-arrow:before {color: black;}#sk-container-id-1 div.sk-toggleable__content {max-height: 0;max-width: 0;overflow: hidden;text-align: left;background-color: #f0f8ff;}#sk-container-id-1 div.sk-toggleable__content pre {margin: 0.2em;color: black;border-radius: 0.25em;background-color: #f0f8ff;}#sk-container-id-1 input.sk-toggleable__control:checked~div.sk-toggleable__content {max-height: 200px;max-width: 100%;overflow: auto;}#sk-container-id-1 input.sk-toggleable__control:checked~label.sk-toggleable__label-arrow:before {content: \"▾\";}#sk-container-id-1 div.sk-estimator input.sk-toggleable__control:checked~label.sk-toggleable__label {background-color: #d4ebff;}#sk-container-id-1 div.sk-label input.sk-toggleable__control:checked~label.sk-toggleable__label {background-color: #d4ebff;}#sk-container-id-1 input.sk-hidden--visually {border: 0;clip: rect(1px 1px 1px 1px);clip: rect(1px, 1px, 1px, 1px);height: 1px;margin: -1px;overflow: hidden;padding: 0;position: absolute;width: 1px;}#sk-container-id-1 div.sk-estimator {font-family: monospace;background-color: #f0f8ff;border: 1px dotted black;border-radius: 0.25em;box-sizing: border-box;margin-bottom: 0.5em;}#sk-container-id-1 div.sk-estimator:hover {background-color: #d4ebff;}#sk-container-id-1 div.sk-parallel-item::after {content: \"\";width: 100%;border-bottom: 1px solid gray;flex-grow: 1;}#sk-container-id-1 div.sk-label:hover label.sk-toggleable__label {background-color: #d4ebff;}#sk-container-id-1 div.sk-serial::before {content: \"\";position: absolute;border-left: 1px solid gray;box-sizing: border-box;top: 0;bottom: 0;left: 50%;z-index: 0;}#sk-container-id-1 div.sk-serial {display: flex;flex-direction: column;align-items: center;background-color: white;padding-right: 0.2em;padding-left: 0.2em;position: relative;}#sk-container-id-1 div.sk-item {position: relative;z-index: 1;}#sk-container-id-1 div.sk-parallel {display: flex;align-items: stretch;justify-content: center;background-color: white;position: relative;}#sk-container-id-1 div.sk-item::before, #sk-container-id-1 div.sk-parallel-item::before {content: \"\";position: absolute;border-left: 1px solid gray;box-sizing: border-box;top: 0;bottom: 0;left: 50%;z-index: -1;}#sk-container-id-1 div.sk-parallel-item {display: flex;flex-direction: column;z-index: 1;position: relative;background-color: white;}#sk-container-id-1 div.sk-parallel-item:first-child::after {align-self: flex-end;width: 50%;}#sk-container-id-1 div.sk-parallel-item:last-child::after {align-self: flex-start;width: 50%;}#sk-container-id-1 div.sk-parallel-item:only-child::after {width: 0;}#sk-container-id-1 div.sk-dashed-wrapped {border: 1px dashed gray;margin: 0 0.4em 0.5em 0.4em;box-sizing: border-box;padding-bottom: 0.4em;background-color: white;}#sk-container-id-1 div.sk-label label {font-family: monospace;font-weight: bold;display: inline-block;line-height: 1.2em;}#sk-container-id-1 div.sk-label-container {text-align: center;}#sk-container-id-1 div.sk-container {/* jupyter's `normalize.less` sets `[hidden] { display: none; }` but bootstrap.min.css set `[hidden] { display: none !important; }` so we also need the `!important` here to be able to override the default hidden behavior on the sphinx rendered scikit-learn.org. See: https://github.com/scikit-learn/scikit-learn/issues/21755 */display: inline-block !important;position: relative;}#sk-container-id-1 div.sk-text-repr-fallback {display: none;}</style><div id=\"sk-container-id-1\" class=\"sk-top-container\"><div class=\"sk-text-repr-fallback\"><pre>DecisionTreeClassifier()</pre><b>In a Jupyter environment, please rerun this cell to show the HTML representation or trust the notebook. <br />On GitHub, the HTML representation is unable to render, please try loading this page with nbviewer.org.</b></div><div class=\"sk-container\" hidden><div class=\"sk-item\"><div class=\"sk-estimator sk-toggleable\"><input class=\"sk-toggleable__control sk-hidden--visually\" id=\"sk-estimator-id-1\" type=\"checkbox\" checked><label for=\"sk-estimator-id-1\" class=\"sk-toggleable__label sk-toggleable__label-arrow\">DecisionTreeClassifier</label><div class=\"sk-toggleable__content\"><pre>DecisionTreeClassifier()</pre></div></div></div></div></div>"
      ],
      "text/plain": [
       "DecisionTreeClassifier()"
      ]
     },
     "execution_count": 4,
     "metadata": {},
     "output_type": "execute_result"
    }
   ],
   "source": [
    "# Iris dataset\n",
    "iris  = datasets.load_iris()\n",
    "X, y = iris.data, iris.target\n",
    "clf=tree.DecisionTreeClassifier()\n",
    "clf.fit(X, y)\n"
   ]
  },
  {
   "cell_type": "code",
   "execution_count": 5,
   "metadata": {
    "collapsed": false,
    "jupyter": {
     "outputs_hidden": false
    },
    "tags": []
   },
   "outputs": [],
   "source": [
    "#iris_feature_names = [\"花萼長度\", \"花萼寬度\", \"花瓣長度\",\"花瓣寬度\"]\n",
    "#iris_target_names = [\"山鳶尾\", \"變色鳶尾\", \"維吉尼亞鳶尾\"]\n",
    "\n",
    "dot_data = tree.export_graphviz(clf, out_file=None, \n",
    "                        #feature_names=iris_feature_names,  \n",
    "                         #class_names=iris_target_names,  \n",
    "                         filled=True, rounded=True,  \n",
    "                         special_characters=True)"
   ]
  },
  {
   "cell_type": "code",
   "execution_count": 7,
   "metadata": {
    "collapsed": false,
    "jupyter": {
     "outputs_hidden": false
    },
    "tags": []
   },
   "outputs": [
    {
     "data": {
      "image/svg+xml": [
       "<svg xmlns=\"http://www.w3.org/2000/svg\" xmlns:xlink=\"http://www.w3.org/1999/xlink\" width=\"773pt\" height=\"561pt\" viewBox=\"0.00 0.00 773.00 561.00\">\n",
       "<g id=\"graph0\" class=\"graph\" transform=\"scale(1 1) rotate(0) translate(4 557)\">\n",
       "<title>Tree</title>\n",
       "<polygon fill=\"white\" stroke=\"transparent\" points=\"-4,4 -4,-557 769,-557 769,4 -4,4\"/>\n",
       "<!-- 0 -->\n",
       "<g id=\"node1\" class=\"node\">\n",
       "<title>0</title>\n",
       "<path fill=\"#ffffff\" stroke=\"black\" d=\"M461.5,-553C461.5,-553 353.5,-553 353.5,-553 347.5,-553 341.5,-547 341.5,-541 341.5,-541 341.5,-501 341.5,-501 341.5,-495 347.5,-489 353.5,-489 353.5,-489 461.5,-489 461.5,-489 467.5,-489 473.5,-495 473.5,-501 473.5,-501 473.5,-541 473.5,-541 473.5,-547 467.5,-553 461.5,-553\"/>\n",
       "<text text-anchor=\"start\" x=\"383.5\" y=\"-538.8\" font-family=\"Helvetica,sans-Serif\" font-size=\"14.00\">x</text>\n",
       "<text text-anchor=\"start\" x=\"390.5\" y=\"-538.8\" font-family=\"Helvetica,sans-Serif\" baseline-shift=\"sub\" font-size=\"14.00\">3</text>\n",
       "<text text-anchor=\"start\" x=\"397.5\" y=\"-538.8\" font-family=\"Helvetica,sans-Serif\" font-size=\"14.00\"> ≤ 0.8</text>\n",
       "<text text-anchor=\"start\" x=\"372\" y=\"-524.8\" font-family=\"Helvetica,sans-Serif\" font-size=\"14.00\">gini = 0.667</text>\n",
       "<text text-anchor=\"start\" x=\"362.5\" y=\"-510.8\" font-family=\"Helvetica,sans-Serif\" font-size=\"14.00\">samples = 150</text>\n",
       "<text text-anchor=\"start\" x=\"349.5\" y=\"-496.8\" font-family=\"Helvetica,sans-Serif\" font-size=\"14.00\">value = [50, 50, 50]</text>\n",
       "</g>\n",
       "<!-- 1 -->\n",
       "<g id=\"node2\" class=\"node\">\n",
       "<title>1</title>\n",
       "<path fill=\"#e58139\" stroke=\"black\" d=\"M385,-447.5C385,-447.5 292,-447.5 292,-447.5 286,-447.5 280,-441.5 280,-435.5 280,-435.5 280,-406.5 280,-406.5 280,-400.5 286,-394.5 292,-394.5 292,-394.5 385,-394.5 385,-394.5 391,-394.5 397,-400.5 397,-406.5 397,-406.5 397,-435.5 397,-435.5 397,-441.5 391,-447.5 385,-447.5\"/>\n",
       "<text text-anchor=\"start\" x=\"310.5\" y=\"-432.3\" font-family=\"Helvetica,sans-Serif\" font-size=\"14.00\">gini = 0.0</text>\n",
       "<text text-anchor=\"start\" x=\"297.5\" y=\"-417.3\" font-family=\"Helvetica,sans-Serif\" font-size=\"14.00\">samples = 50</text>\n",
       "<text text-anchor=\"start\" x=\"288\" y=\"-402.3\" font-family=\"Helvetica,sans-Serif\" font-size=\"14.00\">value = [50, 0, 0]</text>\n",
       "</g>\n",
       "<!-- 0&#45;&gt;1 -->\n",
       "<g id=\"edge1\" class=\"edge\">\n",
       "<title>0-&gt;1</title>\n",
       "<path fill=\"none\" stroke=\"black\" d=\"M385.67,-488.99C378.25,-478.46 369.93,-466.64 362.37,-455.9\"/>\n",
       "<polygon fill=\"black\" stroke=\"black\" points=\"365.11,-453.72 356.49,-447.56 359.39,-457.75 365.11,-453.72\"/>\n",
       "<text text-anchor=\"middle\" x=\"352.22\" y=\"-468.49\" font-family=\"Helvetica,sans-Serif\" font-size=\"14.00\">True</text>\n",
       "</g>\n",
       "<!-- 2 -->\n",
       "<g id=\"node3\" class=\"node\">\n",
       "<title>2</title>\n",
       "<path fill=\"#ffffff\" stroke=\"black\" d=\"M528,-453C528,-453 427,-453 427,-453 421,-453 415,-447 415,-441 415,-441 415,-401 415,-401 415,-395 421,-389 427,-389 427,-389 528,-389 528,-389 534,-389 540,-395 540,-401 540,-401 540,-441 540,-441 540,-447 534,-453 528,-453\"/>\n",
       "<text text-anchor=\"start\" x=\"449.5\" y=\"-438.8\" font-family=\"Helvetica,sans-Serif\" font-size=\"14.00\">x</text>\n",
       "<text text-anchor=\"start\" x=\"456.5\" y=\"-438.8\" font-family=\"Helvetica,sans-Serif\" baseline-shift=\"sub\" font-size=\"14.00\">3</text>\n",
       "<text text-anchor=\"start\" x=\"463.5\" y=\"-438.8\" font-family=\"Helvetica,sans-Serif\" font-size=\"14.00\"> ≤ 1.75</text>\n",
       "<text text-anchor=\"start\" x=\"449.5\" y=\"-424.8\" font-family=\"Helvetica,sans-Serif\" font-size=\"14.00\">gini = 0.5</text>\n",
       "<text text-anchor=\"start\" x=\"432.5\" y=\"-410.8\" font-family=\"Helvetica,sans-Serif\" font-size=\"14.00\">samples = 100</text>\n",
       "<text text-anchor=\"start\" x=\"423\" y=\"-396.8\" font-family=\"Helvetica,sans-Serif\" font-size=\"14.00\">value = [0, 50, 50]</text>\n",
       "</g>\n",
       "<!-- 0&#45;&gt;2 -->\n",
       "<g id=\"edge2\" class=\"edge\">\n",
       "<title>0-&gt;2</title>\n",
       "<path fill=\"none\" stroke=\"black\" d=\"M429.65,-488.99C435.9,-480.23 442.8,-470.58 449.35,-461.4\"/>\n",
       "<polygon fill=\"black\" stroke=\"black\" points=\"452.29,-463.31 455.26,-453.14 446.59,-459.25 452.29,-463.31\"/>\n",
       "<text text-anchor=\"middle\" x=\"459.37\" y=\"-474.1\" font-family=\"Helvetica,sans-Serif\" font-size=\"14.00\">False</text>\n",
       "</g>\n",
       "<!-- 3 -->\n",
       "<g id=\"node4\" class=\"node\">\n",
       "<title>3</title>\n",
       "<path fill=\"#4de88e\" stroke=\"black\" d=\"M427,-353C427,-353 334,-353 334,-353 328,-353 322,-347 322,-341 322,-341 322,-301 322,-301 322,-295 328,-289 334,-289 334,-289 427,-289 427,-289 433,-289 439,-295 439,-301 439,-301 439,-341 439,-341 439,-347 433,-353 427,-353\"/>\n",
       "<text text-anchor=\"start\" x=\"352.5\" y=\"-338.8\" font-family=\"Helvetica,sans-Serif\" font-size=\"14.00\">x</text>\n",
       "<text text-anchor=\"start\" x=\"359.5\" y=\"-338.8\" font-family=\"Helvetica,sans-Serif\" baseline-shift=\"sub\" font-size=\"14.00\">2</text>\n",
       "<text text-anchor=\"start\" x=\"366.5\" y=\"-338.8\" font-family=\"Helvetica,sans-Serif\" font-size=\"14.00\"> ≤ 4.95</text>\n",
       "<text text-anchor=\"start\" x=\"345\" y=\"-324.8\" font-family=\"Helvetica,sans-Serif\" font-size=\"14.00\">gini = 0.168</text>\n",
       "<text text-anchor=\"start\" x=\"339.5\" y=\"-310.8\" font-family=\"Helvetica,sans-Serif\" font-size=\"14.00\">samples = 54</text>\n",
       "<text text-anchor=\"start\" x=\"330\" y=\"-296.8\" font-family=\"Helvetica,sans-Serif\" font-size=\"14.00\">value = [0, 49, 5]</text>\n",
       "</g>\n",
       "<!-- 2&#45;&gt;3 -->\n",
       "<g id=\"edge3\" class=\"edge\">\n",
       "<title>2-&gt;3</title>\n",
       "<path fill=\"none\" stroke=\"black\" d=\"M446.81,-388.99C437.79,-379.88 427.81,-369.8 418.39,-360.28\"/>\n",
       "<polygon fill=\"black\" stroke=\"black\" points=\"420.85,-357.79 411.32,-353.14 415.87,-362.71 420.85,-357.79\"/>\n",
       "</g>\n",
       "<!-- 12 -->\n",
       "<g id=\"node13\" class=\"node\">\n",
       "<title>12</title>\n",
       "<path fill=\"#843de6\" stroke=\"black\" d=\"M621,-353C621,-353 528,-353 528,-353 522,-353 516,-347 516,-341 516,-341 516,-301 516,-301 516,-295 522,-289 528,-289 528,-289 621,-289 621,-289 627,-289 633,-295 633,-301 633,-301 633,-341 633,-341 633,-347 627,-353 621,-353\"/>\n",
       "<text text-anchor=\"start\" x=\"546.5\" y=\"-338.8\" font-family=\"Helvetica,sans-Serif\" font-size=\"14.00\">x</text>\n",
       "<text text-anchor=\"start\" x=\"553.5\" y=\"-338.8\" font-family=\"Helvetica,sans-Serif\" baseline-shift=\"sub\" font-size=\"14.00\">2</text>\n",
       "<text text-anchor=\"start\" x=\"560.5\" y=\"-338.8\" font-family=\"Helvetica,sans-Serif\" font-size=\"14.00\"> ≤ 4.85</text>\n",
       "<text text-anchor=\"start\" x=\"539\" y=\"-324.8\" font-family=\"Helvetica,sans-Serif\" font-size=\"14.00\">gini = 0.043</text>\n",
       "<text text-anchor=\"start\" x=\"533.5\" y=\"-310.8\" font-family=\"Helvetica,sans-Serif\" font-size=\"14.00\">samples = 46</text>\n",
       "<text text-anchor=\"start\" x=\"524\" y=\"-296.8\" font-family=\"Helvetica,sans-Serif\" font-size=\"14.00\">value = [0, 1, 45]</text>\n",
       "</g>\n",
       "<!-- 2&#45;&gt;12 -->\n",
       "<g id=\"edge12\" class=\"edge\">\n",
       "<title>2-&gt;12</title>\n",
       "<path fill=\"none\" stroke=\"black\" d=\"M508.19,-388.99C517.21,-379.88 527.19,-369.8 536.61,-360.28\"/>\n",
       "<polygon fill=\"black\" stroke=\"black\" points=\"539.13,-362.71 543.68,-353.14 534.15,-357.79 539.13,-362.71\"/>\n",
       "</g>\n",
       "<!-- 4 -->\n",
       "<g id=\"node5\" class=\"node\">\n",
       "<title>4</title>\n",
       "<path fill=\"#3de684\" stroke=\"black\" d=\"M237,-253C237,-253 144,-253 144,-253 138,-253 132,-247 132,-241 132,-241 132,-201 132,-201 132,-195 138,-189 144,-189 144,-189 237,-189 237,-189 243,-189 249,-195 249,-201 249,-201 249,-241 249,-241 249,-247 243,-253 237,-253\"/>\n",
       "<text text-anchor=\"start\" x=\"162.5\" y=\"-238.8\" font-family=\"Helvetica,sans-Serif\" font-size=\"14.00\">x</text>\n",
       "<text text-anchor=\"start\" x=\"169.5\" y=\"-238.8\" font-family=\"Helvetica,sans-Serif\" baseline-shift=\"sub\" font-size=\"14.00\">3</text>\n",
       "<text text-anchor=\"start\" x=\"176.5\" y=\"-238.8\" font-family=\"Helvetica,sans-Serif\" font-size=\"14.00\"> ≤ 1.65</text>\n",
       "<text text-anchor=\"start\" x=\"155\" y=\"-224.8\" font-family=\"Helvetica,sans-Serif\" font-size=\"14.00\">gini = 0.041</text>\n",
       "<text text-anchor=\"start\" x=\"149.5\" y=\"-210.8\" font-family=\"Helvetica,sans-Serif\" font-size=\"14.00\">samples = 48</text>\n",
       "<text text-anchor=\"start\" x=\"140\" y=\"-196.8\" font-family=\"Helvetica,sans-Serif\" font-size=\"14.00\">value = [0, 47, 1]</text>\n",
       "</g>\n",
       "<!-- 3&#45;&gt;4 -->\n",
       "<g id=\"edge4\" class=\"edge\">\n",
       "<title>3-&gt;4</title>\n",
       "<path fill=\"none\" stroke=\"black\" d=\"M321.94,-289.8C301.81,-279.41 279.1,-267.7 258.29,-256.96\"/>\n",
       "<polygon fill=\"black\" stroke=\"black\" points=\"259.68,-253.75 249.19,-252.27 256.47,-259.97 259.68,-253.75\"/>\n",
       "</g>\n",
       "<!-- 7 -->\n",
       "<g id=\"node8\" class=\"node\">\n",
       "<title>7</title>\n",
       "<path fill=\"#c09cf2\" stroke=\"black\" d=\"M423.5,-253C423.5,-253 337.5,-253 337.5,-253 331.5,-253 325.5,-247 325.5,-241 325.5,-241 325.5,-201 325.5,-201 325.5,-195 331.5,-189 337.5,-189 337.5,-189 423.5,-189 423.5,-189 429.5,-189 435.5,-195 435.5,-201 435.5,-201 435.5,-241 435.5,-241 435.5,-247 429.5,-253 423.5,-253\"/>\n",
       "<text text-anchor=\"start\" x=\"352.5\" y=\"-238.8\" font-family=\"Helvetica,sans-Serif\" font-size=\"14.00\">x</text>\n",
       "<text text-anchor=\"start\" x=\"359.5\" y=\"-238.8\" font-family=\"Helvetica,sans-Serif\" baseline-shift=\"sub\" font-size=\"14.00\">3</text>\n",
       "<text text-anchor=\"start\" x=\"366.5\" y=\"-238.8\" font-family=\"Helvetica,sans-Serif\" font-size=\"14.00\"> ≤ 1.55</text>\n",
       "<text text-anchor=\"start\" x=\"345\" y=\"-224.8\" font-family=\"Helvetica,sans-Serif\" font-size=\"14.00\">gini = 0.444</text>\n",
       "<text text-anchor=\"start\" x=\"343\" y=\"-210.8\" font-family=\"Helvetica,sans-Serif\" font-size=\"14.00\">samples = 6</text>\n",
       "<text text-anchor=\"start\" x=\"333.5\" y=\"-196.8\" font-family=\"Helvetica,sans-Serif\" font-size=\"14.00\">value = [0, 2, 4]</text>\n",
       "</g>\n",
       "<!-- 3&#45;&gt;7 -->\n",
       "<g id=\"edge7\" class=\"edge\">\n",
       "<title>3-&gt;7</title>\n",
       "<path fill=\"none\" stroke=\"black\" d=\"M380.5,-288.99C380.5,-280.86 380.5,-271.96 380.5,-263.38\"/>\n",
       "<polygon fill=\"black\" stroke=\"black\" points=\"384,-263.14 380.5,-253.14 377,-263.14 384,-263.14\"/>\n",
       "</g>\n",
       "<!-- 5 -->\n",
       "<g id=\"node6\" class=\"node\">\n",
       "<title>5</title>\n",
       "<path fill=\"#39e581\" stroke=\"black\" d=\"M105,-147.5C105,-147.5 12,-147.5 12,-147.5 6,-147.5 0,-141.5 0,-135.5 0,-135.5 0,-106.5 0,-106.5 0,-100.5 6,-94.5 12,-94.5 12,-94.5 105,-94.5 105,-94.5 111,-94.5 117,-100.5 117,-106.5 117,-106.5 117,-135.5 117,-135.5 117,-141.5 111,-147.5 105,-147.5\"/>\n",
       "<text text-anchor=\"start\" x=\"30.5\" y=\"-132.3\" font-family=\"Helvetica,sans-Serif\" font-size=\"14.00\">gini = 0.0</text>\n",
       "<text text-anchor=\"start\" x=\"17.5\" y=\"-117.3\" font-family=\"Helvetica,sans-Serif\" font-size=\"14.00\">samples = 47</text>\n",
       "<text text-anchor=\"start\" x=\"8\" y=\"-102.3\" font-family=\"Helvetica,sans-Serif\" font-size=\"14.00\">value = [0, 47, 0]</text>\n",
       "</g>\n",
       "<!-- 4&#45;&gt;5 -->\n",
       "<g id=\"edge5\" class=\"edge\">\n",
       "<title>4-&gt;5</title>\n",
       "<path fill=\"none\" stroke=\"black\" d=\"M148.73,-188.99C133.57,-177.73 116.42,-165 101.17,-153.68\"/>\n",
       "<polygon fill=\"black\" stroke=\"black\" points=\"103.04,-150.71 92.92,-147.56 98.87,-156.33 103.04,-150.71\"/>\n",
       "</g>\n",
       "<!-- 6 -->\n",
       "<g id=\"node7\" class=\"node\">\n",
       "<title>6</title>\n",
       "<path fill=\"#8139e5\" stroke=\"black\" d=\"M233.5,-147.5C233.5,-147.5 147.5,-147.5 147.5,-147.5 141.5,-147.5 135.5,-141.5 135.5,-135.5 135.5,-135.5 135.5,-106.5 135.5,-106.5 135.5,-100.5 141.5,-94.5 147.5,-94.5 147.5,-94.5 233.5,-94.5 233.5,-94.5 239.5,-94.5 245.5,-100.5 245.5,-106.5 245.5,-106.5 245.5,-135.5 245.5,-135.5 245.5,-141.5 239.5,-147.5 233.5,-147.5\"/>\n",
       "<text text-anchor=\"start\" x=\"162.5\" y=\"-132.3\" font-family=\"Helvetica,sans-Serif\" font-size=\"14.00\">gini = 0.0</text>\n",
       "<text text-anchor=\"start\" x=\"153\" y=\"-117.3\" font-family=\"Helvetica,sans-Serif\" font-size=\"14.00\">samples = 1</text>\n",
       "<text text-anchor=\"start\" x=\"143.5\" y=\"-102.3\" font-family=\"Helvetica,sans-Serif\" font-size=\"14.00\">value = [0, 0, 1]</text>\n",
       "</g>\n",
       "<!-- 4&#45;&gt;6 -->\n",
       "<g id=\"edge6\" class=\"edge\">\n",
       "<title>4-&gt;6</title>\n",
       "<path fill=\"none\" stroke=\"black\" d=\"M190.5,-188.99C190.5,-179.09 190.5,-168.04 190.5,-157.82\"/>\n",
       "<polygon fill=\"black\" stroke=\"black\" points=\"194,-157.56 190.5,-147.56 187,-157.56 194,-157.56\"/>\n",
       "</g>\n",
       "<!-- 8 -->\n",
       "<g id=\"node9\" class=\"node\">\n",
       "<title>8</title>\n",
       "<path fill=\"#8139e5\" stroke=\"black\" d=\"M361.5,-147.5C361.5,-147.5 275.5,-147.5 275.5,-147.5 269.5,-147.5 263.5,-141.5 263.5,-135.5 263.5,-135.5 263.5,-106.5 263.5,-106.5 263.5,-100.5 269.5,-94.5 275.5,-94.5 275.5,-94.5 361.5,-94.5 361.5,-94.5 367.5,-94.5 373.5,-100.5 373.5,-106.5 373.5,-106.5 373.5,-135.5 373.5,-135.5 373.5,-141.5 367.5,-147.5 361.5,-147.5\"/>\n",
       "<text text-anchor=\"start\" x=\"290.5\" y=\"-132.3\" font-family=\"Helvetica,sans-Serif\" font-size=\"14.00\">gini = 0.0</text>\n",
       "<text text-anchor=\"start\" x=\"281\" y=\"-117.3\" font-family=\"Helvetica,sans-Serif\" font-size=\"14.00\">samples = 3</text>\n",
       "<text text-anchor=\"start\" x=\"271.5\" y=\"-102.3\" font-family=\"Helvetica,sans-Serif\" font-size=\"14.00\">value = [0, 0, 3]</text>\n",
       "</g>\n",
       "<!-- 7&#45;&gt;8 -->\n",
       "<g id=\"edge8\" class=\"edge\">\n",
       "<title>7-&gt;8</title>\n",
       "<path fill=\"none\" stroke=\"black\" d=\"M360.88,-188.99C354.29,-178.57 346.89,-166.88 340.15,-156.22\"/>\n",
       "<polygon fill=\"black\" stroke=\"black\" points=\"342.97,-154.14 334.67,-147.56 337.06,-157.88 342.97,-154.14\"/>\n",
       "</g>\n",
       "<!-- 9 -->\n",
       "<g id=\"node10\" class=\"node\">\n",
       "<title>9</title>\n",
       "<path fill=\"#9cf2c0\" stroke=\"black\" d=\"M489.5,-153C489.5,-153 403.5,-153 403.5,-153 397.5,-153 391.5,-147 391.5,-141 391.5,-141 391.5,-101 391.5,-101 391.5,-95 397.5,-89 403.5,-89 403.5,-89 489.5,-89 489.5,-89 495.5,-89 501.5,-95 501.5,-101 501.5,-101 501.5,-141 501.5,-141 501.5,-147 495.5,-153 489.5,-153\"/>\n",
       "<text text-anchor=\"start\" x=\"418.5\" y=\"-138.8\" font-family=\"Helvetica,sans-Serif\" font-size=\"14.00\">x</text>\n",
       "<text text-anchor=\"start\" x=\"425.5\" y=\"-138.8\" font-family=\"Helvetica,sans-Serif\" baseline-shift=\"sub\" font-size=\"14.00\">0</text>\n",
       "<text text-anchor=\"start\" x=\"432.5\" y=\"-138.8\" font-family=\"Helvetica,sans-Serif\" font-size=\"14.00\"> ≤ 6.95</text>\n",
       "<text text-anchor=\"start\" x=\"411\" y=\"-124.8\" font-family=\"Helvetica,sans-Serif\" font-size=\"14.00\">gini = 0.444</text>\n",
       "<text text-anchor=\"start\" x=\"409\" y=\"-110.8\" font-family=\"Helvetica,sans-Serif\" font-size=\"14.00\">samples = 3</text>\n",
       "<text text-anchor=\"start\" x=\"399.5\" y=\"-96.8\" font-family=\"Helvetica,sans-Serif\" font-size=\"14.00\">value = [0, 2, 1]</text>\n",
       "</g>\n",
       "<!-- 7&#45;&gt;9 -->\n",
       "<g id=\"edge9\" class=\"edge\">\n",
       "<title>7-&gt;9</title>\n",
       "<path fill=\"none\" stroke=\"black\" d=\"M401.38,-188.99C407.22,-180.32 413.65,-170.78 419.77,-161.68\"/>\n",
       "<polygon fill=\"black\" stroke=\"black\" points=\"422.84,-163.39 425.53,-153.14 417.04,-159.48 422.84,-163.39\"/>\n",
       "</g>\n",
       "<!-- 10 -->\n",
       "<g id=\"node11\" class=\"node\">\n",
       "<title>10</title>\n",
       "<path fill=\"#39e581\" stroke=\"black\" d=\"M425.5,-53C425.5,-53 339.5,-53 339.5,-53 333.5,-53 327.5,-47 327.5,-41 327.5,-41 327.5,-12 327.5,-12 327.5,-6 333.5,0 339.5,0 339.5,0 425.5,0 425.5,0 431.5,0 437.5,-6 437.5,-12 437.5,-12 437.5,-41 437.5,-41 437.5,-47 431.5,-53 425.5,-53\"/>\n",
       "<text text-anchor=\"start\" x=\"354.5\" y=\"-37.8\" font-family=\"Helvetica,sans-Serif\" font-size=\"14.00\">gini = 0.0</text>\n",
       "<text text-anchor=\"start\" x=\"345\" y=\"-22.8\" font-family=\"Helvetica,sans-Serif\" font-size=\"14.00\">samples = 2</text>\n",
       "<text text-anchor=\"start\" x=\"335.5\" y=\"-7.8\" font-family=\"Helvetica,sans-Serif\" font-size=\"14.00\">value = [0, 2, 0]</text>\n",
       "</g>\n",
       "<!-- 9&#45;&gt;10 -->\n",
       "<g id=\"edge10\" class=\"edge\">\n",
       "<title>9-&gt;10</title>\n",
       "<path fill=\"none\" stroke=\"black\" d=\"M425.01,-88.94C418.9,-80.11 412.22,-70.45 406,-61.46\"/>\n",
       "<polygon fill=\"black\" stroke=\"black\" points=\"408.77,-59.32 400.21,-53.09 403.02,-63.31 408.77,-59.32\"/>\n",
       "</g>\n",
       "<!-- 11 -->\n",
       "<g id=\"node12\" class=\"node\">\n",
       "<title>11</title>\n",
       "<path fill=\"#8139e5\" stroke=\"black\" d=\"M553.5,-53C553.5,-53 467.5,-53 467.5,-53 461.5,-53 455.5,-47 455.5,-41 455.5,-41 455.5,-12 455.5,-12 455.5,-6 461.5,0 467.5,0 467.5,0 553.5,0 553.5,0 559.5,0 565.5,-6 565.5,-12 565.5,-12 565.5,-41 565.5,-41 565.5,-47 559.5,-53 553.5,-53\"/>\n",
       "<text text-anchor=\"start\" x=\"482.5\" y=\"-37.8\" font-family=\"Helvetica,sans-Serif\" font-size=\"14.00\">gini = 0.0</text>\n",
       "<text text-anchor=\"start\" x=\"473\" y=\"-22.8\" font-family=\"Helvetica,sans-Serif\" font-size=\"14.00\">samples = 1</text>\n",
       "<text text-anchor=\"start\" x=\"463.5\" y=\"-7.8\" font-family=\"Helvetica,sans-Serif\" font-size=\"14.00\">value = [0, 0, 1]</text>\n",
       "</g>\n",
       "<!-- 9&#45;&gt;11 -->\n",
       "<g id=\"edge11\" class=\"edge\">\n",
       "<title>9-&gt;11</title>\n",
       "<path fill=\"none\" stroke=\"black\" d=\"M467.99,-88.94C474.1,-80.11 480.78,-70.45 487,-61.46\"/>\n",
       "<polygon fill=\"black\" stroke=\"black\" points=\"489.98,-63.31 492.79,-53.09 484.23,-59.32 489.98,-63.31\"/>\n",
       "</g>\n",
       "<!-- 13 -->\n",
       "<g id=\"node14\" class=\"node\">\n",
       "<title>13</title>\n",
       "<path fill=\"#c09cf2\" stroke=\"black\" d=\"M617.5,-253C617.5,-253 531.5,-253 531.5,-253 525.5,-253 519.5,-247 519.5,-241 519.5,-241 519.5,-201 519.5,-201 519.5,-195 525.5,-189 531.5,-189 531.5,-189 617.5,-189 617.5,-189 623.5,-189 629.5,-195 629.5,-201 629.5,-201 629.5,-241 629.5,-241 629.5,-247 623.5,-253 617.5,-253\"/>\n",
       "<text text-anchor=\"start\" x=\"550.5\" y=\"-238.8\" font-family=\"Helvetica,sans-Serif\" font-size=\"14.00\">x</text>\n",
       "<text text-anchor=\"start\" x=\"557.5\" y=\"-238.8\" font-family=\"Helvetica,sans-Serif\" baseline-shift=\"sub\" font-size=\"14.00\">1</text>\n",
       "<text text-anchor=\"start\" x=\"564.5\" y=\"-238.8\" font-family=\"Helvetica,sans-Serif\" font-size=\"14.00\"> ≤ 3.1</text>\n",
       "<text text-anchor=\"start\" x=\"539\" y=\"-224.8\" font-family=\"Helvetica,sans-Serif\" font-size=\"14.00\">gini = 0.444</text>\n",
       "<text text-anchor=\"start\" x=\"537\" y=\"-210.8\" font-family=\"Helvetica,sans-Serif\" font-size=\"14.00\">samples = 3</text>\n",
       "<text text-anchor=\"start\" x=\"527.5\" y=\"-196.8\" font-family=\"Helvetica,sans-Serif\" font-size=\"14.00\">value = [0, 1, 2]</text>\n",
       "</g>\n",
       "<!-- 12&#45;&gt;13 -->\n",
       "<g id=\"edge13\" class=\"edge\">\n",
       "<title>12-&gt;13</title>\n",
       "<path fill=\"none\" stroke=\"black\" d=\"M574.5,-288.99C574.5,-280.86 574.5,-271.96 574.5,-263.38\"/>\n",
       "<polygon fill=\"black\" stroke=\"black\" points=\"578,-263.14 574.5,-253.14 571,-263.14 578,-263.14\"/>\n",
       "</g>\n",
       "<!-- 16 -->\n",
       "<g id=\"node17\" class=\"node\">\n",
       "<title>16</title>\n",
       "<path fill=\"#8139e5\" stroke=\"black\" d=\"M753,-247.5C753,-247.5 660,-247.5 660,-247.5 654,-247.5 648,-241.5 648,-235.5 648,-235.5 648,-206.5 648,-206.5 648,-200.5 654,-194.5 660,-194.5 660,-194.5 753,-194.5 753,-194.5 759,-194.5 765,-200.5 765,-206.5 765,-206.5 765,-235.5 765,-235.5 765,-241.5 759,-247.5 753,-247.5\"/>\n",
       "<text text-anchor=\"start\" x=\"678.5\" y=\"-232.3\" font-family=\"Helvetica,sans-Serif\" font-size=\"14.00\">gini = 0.0</text>\n",
       "<text text-anchor=\"start\" x=\"665.5\" y=\"-217.3\" font-family=\"Helvetica,sans-Serif\" font-size=\"14.00\">samples = 43</text>\n",
       "<text text-anchor=\"start\" x=\"656\" y=\"-202.3\" font-family=\"Helvetica,sans-Serif\" font-size=\"14.00\">value = [0, 0, 43]</text>\n",
       "</g>\n",
       "<!-- 12&#45;&gt;16 -->\n",
       "<g id=\"edge16\" class=\"edge\">\n",
       "<title>12-&gt;16</title>\n",
       "<path fill=\"none\" stroke=\"black\" d=\"M616.27,-288.99C631.43,-277.73 648.58,-265 663.83,-253.68\"/>\n",
       "<polygon fill=\"black\" stroke=\"black\" points=\"666.13,-256.33 672.08,-247.56 661.96,-250.71 666.13,-256.33\"/>\n",
       "</g>\n",
       "<!-- 14 -->\n",
       "<g id=\"node15\" class=\"node\">\n",
       "<title>14</title>\n",
       "<path fill=\"#8139e5\" stroke=\"black\" d=\"M617.5,-147.5C617.5,-147.5 531.5,-147.5 531.5,-147.5 525.5,-147.5 519.5,-141.5 519.5,-135.5 519.5,-135.5 519.5,-106.5 519.5,-106.5 519.5,-100.5 525.5,-94.5 531.5,-94.5 531.5,-94.5 617.5,-94.5 617.5,-94.5 623.5,-94.5 629.5,-100.5 629.5,-106.5 629.5,-106.5 629.5,-135.5 629.5,-135.5 629.5,-141.5 623.5,-147.5 617.5,-147.5\"/>\n",
       "<text text-anchor=\"start\" x=\"546.5\" y=\"-132.3\" font-family=\"Helvetica,sans-Serif\" font-size=\"14.00\">gini = 0.0</text>\n",
       "<text text-anchor=\"start\" x=\"537\" y=\"-117.3\" font-family=\"Helvetica,sans-Serif\" font-size=\"14.00\">samples = 2</text>\n",
       "<text text-anchor=\"start\" x=\"527.5\" y=\"-102.3\" font-family=\"Helvetica,sans-Serif\" font-size=\"14.00\">value = [0, 0, 2]</text>\n",
       "</g>\n",
       "<!-- 13&#45;&gt;14 -->\n",
       "<g id=\"edge14\" class=\"edge\">\n",
       "<title>13-&gt;14</title>\n",
       "<path fill=\"none\" stroke=\"black\" d=\"M574.5,-188.99C574.5,-179.09 574.5,-168.04 574.5,-157.82\"/>\n",
       "<polygon fill=\"black\" stroke=\"black\" points=\"578,-157.56 574.5,-147.56 571,-157.56 578,-157.56\"/>\n",
       "</g>\n",
       "<!-- 15 -->\n",
       "<g id=\"node16\" class=\"node\">\n",
       "<title>15</title>\n",
       "<path fill=\"#39e581\" stroke=\"black\" d=\"M745.5,-147.5C745.5,-147.5 659.5,-147.5 659.5,-147.5 653.5,-147.5 647.5,-141.5 647.5,-135.5 647.5,-135.5 647.5,-106.5 647.5,-106.5 647.5,-100.5 653.5,-94.5 659.5,-94.5 659.5,-94.5 745.5,-94.5 745.5,-94.5 751.5,-94.5 757.5,-100.5 757.5,-106.5 757.5,-106.5 757.5,-135.5 757.5,-135.5 757.5,-141.5 751.5,-147.5 745.5,-147.5\"/>\n",
       "<text text-anchor=\"start\" x=\"674.5\" y=\"-132.3\" font-family=\"Helvetica,sans-Serif\" font-size=\"14.00\">gini = 0.0</text>\n",
       "<text text-anchor=\"start\" x=\"665\" y=\"-117.3\" font-family=\"Helvetica,sans-Serif\" font-size=\"14.00\">samples = 1</text>\n",
       "<text text-anchor=\"start\" x=\"655.5\" y=\"-102.3\" font-family=\"Helvetica,sans-Serif\" font-size=\"14.00\">value = [0, 1, 0]</text>\n",
       "</g>\n",
       "<!-- 13&#45;&gt;15 -->\n",
       "<g id=\"edge15\" class=\"edge\">\n",
       "<title>13-&gt;15</title>\n",
       "<path fill=\"none\" stroke=\"black\" d=\"M615,-188.99C629.71,-177.73 646.34,-165 661.12,-153.68\"/>\n",
       "<polygon fill=\"black\" stroke=\"black\" points=\"663.31,-156.41 669.12,-147.56 659.05,-150.86 663.31,-156.41\"/>\n",
       "</g>\n",
       "<!-- \\n -->\n",
       "<g id=\"node18\" class=\"node\">\n",
       "<title>\\n</title>\n",
       "<path fill=\"black\" stroke=\"black\" d=\"M533.5,-539C533.5,-539 503.5,-539 503.5,-539 497.5,-539 491.5,-533 491.5,-527 491.5,-527 491.5,-515 491.5,-515 491.5,-509 497.5,-503 503.5,-503 503.5,-503 533.5,-503 533.5,-503 539.5,-503 545.5,-509 545.5,-515 545.5,-515 545.5,-527 545.5,-527 545.5,-533 539.5,-539 533.5,-539\"/>\n",
       "</g>\n",
       "</g>\n",
       "</svg>"
      ],
      "text/plain": [
       "<IPython.core.display.SVG object>"
      ]
     },
     "execution_count": 7,
     "metadata": {},
     "output_type": "execute_result"
    }
   ],
   "source": [
    "import pydot_ng as pydot\n",
    "from IPython.display import SVG\n",
    "SVG(pydot.graph_from_dot_data(dot_data).create_svg())"
   ]
  },
  {
   "cell_type": "code",
   "execution_count": 8,
   "metadata": {
    "collapsed": false,
    "jupyter": {
     "outputs_hidden": false
    },
    "tags": []
   },
   "outputs": [
    {
     "data": {
      "image/png": "[encoded data removed]",
      "text/plain": [
       "<Figure size 1000x700 with 1 Axes>"
      ]
     },
     "metadata": {},
     "output_type": "display_data"
    }
   ],
   "source": [
    "# pick only two features\n",
    "X = iris.data[:, [0, 1]]\n",
    "\n",
    "clf.fit(X, y)\n",
    "\n",
    "# boundary\n",
    "x_min, y_min = X.min(axis=0)-1\n",
    "x_max, y_max = X.max(axis=0)+1\n",
    "\n",
    "# mesh grid\n",
    "grid  = np.mgrid[x_min:x_max:200j, y_min:y_max:200j]\n",
    "# grid.shape = (2, 200, 200)\n",
    "\n",
    "# compute  prediction on grid points\n",
    "Z = clf.predict(grid.reshape(2, -1).T)\n",
    "Z  = Z.reshape(grid.shape[1:])\n",
    "\n",
    "# plot color and boundary\n",
    "plt.pcolormesh(grid[0], grid[1], Z, cmap=plt.cm.rainbow, alpha=0.05)\n",
    "plt.contour(grid[0], grid[1], Z, colors=['k', 'k', 'k'], linestyles=['-', '-', '-'],\n",
    "                levels=[0, 1, 2])\n",
    "\n",
    "# lable the sample points\n",
    "plt.scatter(X[:,0], X[:, 1],  c=y, cmap=plt.cm.rainbow, zorder=10, s=50);"
   ]
  },
  {
   "cell_type": "markdown",
   "metadata": {},
   "source": [
    "## Q\n",
    "* Explore different setting of decision tree\n",
    "* Can the result be visualized differently?\n",
    "* see http://scikit-learn.org/stable/auto_examples/exercises/plot_iris_exercise.html#sphx-glr-auto-examples-exercises-plot-iris-exercise-py"
   ]
  },
  {
   "cell_type": "markdown",
   "metadata": {},
   "source": [
    "## MNIST"
   ]
  },
  {
   "cell_type": "code",
   "execution_count": 10,
   "metadata": {
    "collapsed": false,
    "jupyter": {
     "outputs_hidden": false
    }
   },
   "outputs": [],
   "source": [
    "import gzip\n",
    "import pickle\n",
    "with gzip.open('mnist.pkl.gz', 'rb') as f:\n",
    "    train_set, validation_set, test_set = pickle.load(f, encoding='latin1')\n",
    "    \n",
    "train_X, train_y = train_set\n",
    "test_X, test_y = test_set\n",
    "\n",
    "#PCA\n",
    "from sklearn.decomposition import PCA\n",
    "pca = PCA(n_components=60)\n",
    "train_X = pca.fit_transform(train_set[0])\n",
    "test_X = pca.transform(test_set[0])\n",
    "\n",
    "# use only first 10000 samples\n",
    "#idx = np.random.choice(np.arange(train_X.shape[0]), 30000, replace=False)\n",
    "#train_X = train_X[idx]\n",
    "#train_y = train_y[idx]"
   ]
  },
  {
   "cell_type": "code",
   "execution_count": 8,
   "metadata": {
    "collapsed": true,
    "jupyter": {
     "outputs_hidden": true
    }
   },
   "outputs": [],
   "source": [
    "clf = tree.DecisionTreeClassifier()"
   ]
  },
  {
   "cell_type": "code",
   "execution_count": 9,
   "metadata": {
    "collapsed": false,
    "jupyter": {
     "outputs_hidden": false
    }
   },
   "outputs": [
    {
     "name": "stdout",
     "output_type": "stream",
     "text": [
      "1 loop, best of 1: 8.21 s per loop\n"
     ]
    }
   ],
   "source": [
    "%%timeit -n 1 -r 1\n",
    "clf.fit(train_X, train_y)"
   ]
  },
  {
   "cell_type": "code",
   "execution_count": 10,
   "metadata": {
    "collapsed": false,
    "jupyter": {
     "outputs_hidden": false
    }
   },
   "outputs": [
    {
     "name": "stdout",
     "output_type": "stream",
     "text": [
      "1.0\n",
      "1 loop, best of 1: 22.6 ms per loop\n"
     ]
    }
   ],
   "source": [
    "%%timeit -n 1 -r 1\n",
    "print(np.mean(clf.predict(train_X) == train_y))"
   ]
  },
  {
   "cell_type": "code",
   "execution_count": 11,
   "metadata": {
    "collapsed": false,
    "jupyter": {
     "outputs_hidden": false
    }
   },
   "outputs": [
    {
     "name": "stdout",
     "output_type": "stream",
     "text": [
      "0.8343\n",
      "1 loop, best of 1: 4.54 ms per loop\n"
     ]
    }
   ],
   "source": [
    "%%timeit -n 1 -r 1\n",
    "print(np.mean(clf.predict(test_X) == test_y))"
   ]
  },
  {
   "cell_type": "markdown",
   "metadata": {},
   "source": [
    "## Q\n",
    "* Train the decision tree without PCA\n",
    "* resize the image?"
   ]
  },
  {
   "cell_type": "code",
   "execution_count": 12,
   "metadata": {
    "collapsed": false,
    "jupyter": {
     "outputs_hidden": false
    }
   },
   "outputs": [
    {
     "name": "stdout",
     "output_type": "stream",
     "text": [
      "train: 1.0\n",
      "test: 0.8822\n",
      "1 loop, best of 1: 6.92 s per loop\n"
     ]
    },
    {
     "data": {
      "text/plain": [
       "<matplotlib.figure.Figure at 0x1ca0eacd780>"
      ]
     },
     "metadata": {},
     "output_type": "display_data"
    }
   ],
   "source": [
    "%%timeit -n 1 -r 1\n",
    "%run -i q_dtree_halfsize.py"
   ]
  }
 ],
 "metadata": {
  "kernelspec": {
   "display_name": "Python 3 (ipykernel)",
   "language": "python",
   "name": "python3"
  },
  "language_info": {
   "codemirror_mode": {
    "name": "ipython",
    "version": 3
   },
   "file_extension": ".py",
   "mimetype": "text/x-python",
   "name": "python",
   "nbconvert_exporter": "python",
   "pygments_lexer": "ipython3",
   "version": "3.11.5"
  }
 },
 "nbformat": 4,
 "nbformat_minor": 4
}
