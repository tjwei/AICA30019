{
 "cells": [
  {
   "cell_type": "code",
   "execution_count": 2,
   "metadata": {},
   "outputs": [
    {
     "name": "stdout",
     "output_type": "stream",
     "text": [
      "..\\kkdata3\\label_test_source.parquet\n",
      "..\\kkdata3\\label_train_source.parquet\n",
      "..\\kkdata3\\label_train_target.parquet\n",
      "..\\kkdata3\\meta_song.parquet\n",
      "..\\kkdata3\\meta_song_composer.parquet\n",
      "..\\kkdata3\\meta_song_genre.parquet\n",
      "..\\kkdata3\\meta_song_lyricist.parquet\n",
      "..\\kkdata3\\meta_song_producer.parquet\n",
      "..\\kkdata3\\meta_song_titletext.parquet\n",
      "..\\kkdata3\\sample.csv\n"
     ]
    }
   ],
   "source": [
    "from pathlib import Path\n",
    "data_root = Path('../kkdata3')\n",
    "for x in data_root.glob('*'):\n",
    "    print(x)"
   ]
  },
  {
   "cell_type": "code",
   "execution_count": 3,
   "metadata": {},
   "outputs": [
    {
     "data": {
      "text/plain": [
       "session_id          int64\n",
       "song_id            object\n",
       "unix_played_at      int64\n",
       "play_status         int64\n",
       "login_type          int64\n",
       "listening_order     int64\n",
       "dtype: object"
      ]
     },
     "execution_count": 3,
     "metadata": {},
     "output_type": "execute_result"
    }
   ],
   "source": [
    "import pandas as pd\n",
    "train_source = pd.read_parquet(data_root / 'label_train_source.parquet')\n",
    "train_target = pd.read_parquet(data_root / 'label_train_target.parquet')\n",
    "test_source = pd.read_parquet(data_root / 'label_test_source.parquet')\n",
    "meta_song = pd.read_parquet(data_root / 'meta_song.parquet')\n",
    "meta_song_composer = pd.read_parquet(data_root / 'meta_song_composer.parquet')\n",
    "meta_song_genre = pd.read_parquet(data_root / 'meta_song_genre.parquet')\n",
    "meta_song_lyricist = pd.read_parquet(data_root / 'meta_song_lyricist.parquet')\n",
    "meta_song_producer = pd.read_parquet(data_root / 'meta_song_producer.parquet')\n",
    "meta_song_titletext = pd.read_parquet(data_root / 'meta_song_titletext.parquet')\n",
    "\n",
    "\n",
    "train_source.dtypes"
   ]
  },
  {
   "cell_type": "code",
   "execution_count": 4,
   "metadata": {},
   "outputs": [
    {
     "data": {
      "text/html": [
       "<div>\n",
       "<style scoped>\n",
       "    .dataframe tbody tr th:only-of-type {\n",
       "        vertical-align: middle;\n",
       "    }\n",
       "\n",
       "    .dataframe tbody tr th {\n",
       "        vertical-align: top;\n",
       "    }\n",
       "\n",
       "    .dataframe thead th {\n",
       "        text-align: right;\n",
       "    }\n",
       "</style>\n",
       "<table border=\"1\" class=\"dataframe\">\n",
       "  <thead>\n",
       "    <tr style=\"text-align: right;\">\n",
       "      <th></th>\n",
       "      <th>session_id</th>\n",
       "      <th>unix_played_at</th>\n",
       "      <th>play_status</th>\n",
       "      <th>login_type</th>\n",
       "      <th>listening_order</th>\n",
       "    </tr>\n",
       "  </thead>\n",
       "  <tbody>\n",
       "    <tr>\n",
       "      <th>count</th>\n",
       "      <td>2.861295e+06</td>\n",
       "      <td>2.861295e+06</td>\n",
       "      <td>2.861295e+06</td>\n",
       "      <td>2.861295e+06</td>\n",
       "      <td>2.861295e+06</td>\n",
       "    </tr>\n",
       "    <tr>\n",
       "      <th>mean</th>\n",
       "      <td>3.576616e+05</td>\n",
       "      <td>1.663106e+09</td>\n",
       "      <td>9.488878e-01</td>\n",
       "      <td>1.275440e+01</td>\n",
       "      <td>2.300000e+01</td>\n",
       "    </tr>\n",
       "    <tr>\n",
       "      <th>std</th>\n",
       "      <td>2.064962e+05</td>\n",
       "      <td>2.283671e+06</td>\n",
       "      <td>9.125107e-01</td>\n",
       "      <td>1.439823e+01</td>\n",
       "      <td>1.414214e+00</td>\n",
       "    </tr>\n",
       "    <tr>\n",
       "      <th>min</th>\n",
       "      <td>1.000000e+00</td>\n",
       "      <td>1.659226e+09</td>\n",
       "      <td>-1.000000e+00</td>\n",
       "      <td>0.000000e+00</td>\n",
       "      <td>2.100000e+01</td>\n",
       "    </tr>\n",
       "    <tr>\n",
       "      <th>25%</th>\n",
       "      <td>1.788310e+05</td>\n",
       "      <td>1.661099e+09</td>\n",
       "      <td>0.000000e+00</td>\n",
       "      <td>7.000000e+00</td>\n",
       "      <td>2.200000e+01</td>\n",
       "    </tr>\n",
       "    <tr>\n",
       "      <th>50%</th>\n",
       "      <td>3.576620e+05</td>\n",
       "      <td>1.663110e+09</td>\n",
       "      <td>1.000000e+00</td>\n",
       "      <td>7.000000e+00</td>\n",
       "      <td>2.300000e+01</td>\n",
       "    </tr>\n",
       "    <tr>\n",
       "      <th>75%</th>\n",
       "      <td>5.364930e+05</td>\n",
       "      <td>1.665071e+09</td>\n",
       "      <td>2.000000e+00</td>\n",
       "      <td>8.000000e+00</td>\n",
       "      <td>2.400000e+01</td>\n",
       "    </tr>\n",
       "    <tr>\n",
       "      <th>max</th>\n",
       "      <td>7.153230e+05</td>\n",
       "      <td>1.667145e+09</td>\n",
       "      <td>8.000000e+00</td>\n",
       "      <td>6.000000e+01</td>\n",
       "      <td>2.500000e+01</td>\n",
       "    </tr>\n",
       "  </tbody>\n",
       "</table>\n",
       "</div>"
      ],
      "text/plain": [
       "         session_id  unix_played_at   play_status    login_type  \\\n",
       "count  2.861295e+06    2.861295e+06  2.861295e+06  2.861295e+06   \n",
       "mean   3.576616e+05    1.663106e+09  9.488878e-01  1.275440e+01   \n",
       "std    2.064962e+05    2.283671e+06  9.125107e-01  1.439823e+01   \n",
       "min    1.000000e+00    1.659226e+09 -1.000000e+00  0.000000e+00   \n",
       "25%    1.788310e+05    1.661099e+09  0.000000e+00  7.000000e+00   \n",
       "50%    3.576620e+05    1.663110e+09  1.000000e+00  7.000000e+00   \n",
       "75%    5.364930e+05    1.665071e+09  2.000000e+00  8.000000e+00   \n",
       "max    7.153230e+05    1.667145e+09  8.000000e+00  6.000000e+01   \n",
       "\n",
       "       listening_order  \n",
       "count     2.861295e+06  \n",
       "mean      2.300000e+01  \n",
       "std       1.414214e+00  \n",
       "min       2.100000e+01  \n",
       "25%       2.200000e+01  \n",
       "50%       2.300000e+01  \n",
       "75%       2.400000e+01  \n",
       "max       2.500000e+01  "
      ]
     },
     "execution_count": 4,
     "metadata": {},
     "output_type": "execute_result"
    }
   ],
   "source": [
    "train_target.describe()"
   ]
  },
  {
   "cell_type": "code",
   "execution_count": 5,
   "metadata": {},
   "outputs": [
    {
     "name": "stdout",
     "output_type": "stream",
     "text": [
      "train_source\n"
     ]
    },
    {
     "data": {
      "text/html": [
       "<pre style=\"white-space:pre;overflow-x:auto;line-height:normal;font-family:Menlo,'DejaVu Sans Mono',consolas,'Courier New',monospace\">session_id          int64\n",
       "song_id            object\n",
       "unix_played_at      int64\n",
       "play_status         int64\n",
       "login_type          int64\n",
       "listening_order     int64\n",
       "dtype: object\n",
       "</pre>\n"
      ],
      "text/plain": [
       "session_id          int64\n",
       "song_id            object\n",
       "unix_played_at      int64\n",
       "play_status         int64\n",
       "login_type          int64\n",
       "listening_order     int64\n",
       "dtype: object\n"
      ]
     },
     "metadata": {},
     "output_type": "display_data"
    },
    {
     "name": "stdout",
     "output_type": "stream",
     "text": [
      "train_target\n"
     ]
    },
    {
     "data": {
      "text/html": [
       "<pre style=\"white-space:pre;overflow-x:auto;line-height:normal;font-family:Menlo,'DejaVu Sans Mono',consolas,'Courier New',monospace\">session_id          int64\n",
       "song_id            object\n",
       "unix_played_at      int64\n",
       "play_status         int64\n",
       "login_type          int64\n",
       "listening_order     int64\n",
       "dtype: object\n",
       "</pre>\n"
      ],
      "text/plain": [
       "session_id          int64\n",
       "song_id            object\n",
       "unix_played_at      int64\n",
       "play_status         int64\n",
       "login_type          int64\n",
       "listening_order     int64\n",
       "dtype: object\n"
      ]
     },
     "metadata": {},
     "output_type": "display_data"
    },
    {
     "name": "stdout",
     "output_type": "stream",
     "text": [
      "test_source\n"
     ]
    },
    {
     "data": {
      "text/html": [
       "<pre style=\"white-space:pre;overflow-x:auto;line-height:normal;font-family:Menlo,'DejaVu Sans Mono',consolas,'Courier New',monospace\">session_id          int64\n",
       "song_id            object\n",
       "unix_played_at      int64\n",
       "play_status         int64\n",
       "login_type          int64\n",
       "listening_order     int64\n",
       "dtype: object\n",
       "</pre>\n"
      ],
      "text/plain": [
       "session_id          int64\n",
       "song_id            object\n",
       "unix_played_at      int64\n",
       "play_status         int64\n",
       "login_type          int64\n",
       "listening_order     int64\n",
       "dtype: object\n"
      ]
     },
     "metadata": {},
     "output_type": "display_data"
    },
    {
     "name": "stdout",
     "output_type": "stream",
     "text": [
      "meta_song\n"
     ]
    },
    {
     "data": {
      "text/html": [
       "<pre style=\"white-space:pre;overflow-x:auto;line-height:normal;font-family:Menlo,'DejaVu Sans Mono',consolas,'Courier New',monospace\">song_id         object\n",
       "artist_id      float64\n",
       "song_length    float64\n",
       "album_id       float64\n",
       "language_id    float64\n",
       "album_month     object\n",
       "dtype: object\n",
       "</pre>\n"
      ],
      "text/plain": [
       "song_id         object\n",
       "artist_id      float64\n",
       "song_length    float64\n",
       "album_id       float64\n",
       "language_id    float64\n",
       "album_month     object\n",
       "dtype: object\n"
      ]
     },
     "metadata": {},
     "output_type": "display_data"
    },
    {
     "name": "stdout",
     "output_type": "stream",
     "text": [
      "meta_song_composer\n"
     ]
    },
    {
     "data": {
      "text/html": [
       "<pre style=\"white-space:pre;overflow-x:auto;line-height:normal;font-family:Menlo,'DejaVu Sans Mono',consolas,'Courier New',monospace\">song_id        object\n",
       "composer_id    object\n",
       "dtype: object\n",
       "</pre>\n"
      ],
      "text/plain": [
       "song_id        object\n",
       "composer_id    object\n",
       "dtype: object\n"
      ]
     },
     "metadata": {},
     "output_type": "display_data"
    },
    {
     "name": "stdout",
     "output_type": "stream",
     "text": [
      "meta_song_genre\n"
     ]
    },
    {
     "data": {
      "text/html": [
       "<pre style=\"white-space:pre;overflow-x:auto;line-height:normal;font-family:Menlo,'DejaVu Sans Mono',consolas,'Courier New',monospace\">song_id     object\n",
       "genre_id    object\n",
       "dtype: object\n",
       "</pre>\n"
      ],
      "text/plain": [
       "song_id     object\n",
       "genre_id    object\n",
       "dtype: object\n"
      ]
     },
     "metadata": {},
     "output_type": "display_data"
    },
    {
     "name": "stdout",
     "output_type": "stream",
     "text": [
      "meta_song_lyricist\n"
     ]
    },
    {
     "data": {
      "text/html": [
       "<pre style=\"white-space:pre;overflow-x:auto;line-height:normal;font-family:Menlo,'DejaVu Sans Mono',consolas,'Courier New',monospace\">song_id        object\n",
       "lyricist_id    object\n",
       "dtype: object\n",
       "</pre>\n"
      ],
      "text/plain": [
       "song_id        object\n",
       "lyricist_id    object\n",
       "dtype: object\n"
      ]
     },
     "metadata": {},
     "output_type": "display_data"
    },
    {
     "name": "stdout",
     "output_type": "stream",
     "text": [
      "meta_song_producer\n"
     ]
    },
    {
     "data": {
      "text/html": [
       "<pre style=\"white-space:pre;overflow-x:auto;line-height:normal;font-family:Menlo,'DejaVu Sans Mono',consolas,'Courier New',monospace\">song_id        object\n",
       "producer_id    object\n",
       "dtype: object\n",
       "</pre>\n"
      ],
      "text/plain": [
       "song_id        object\n",
       "producer_id    object\n",
       "dtype: object\n"
      ]
     },
     "metadata": {},
     "output_type": "display_data"
    },
    {
     "name": "stdout",
     "output_type": "stream",
     "text": [
      "meta_song_titletext\n"
     ]
    }
   ],
   "source": [
    "import rich\n",
    "print(\"train_source\")\n",
    "rich.print(train_source.dtypes)\n",
    "print(\"train_target\")\n",
    "rich.print(train_target.dtypes)\n",
    "print(\"test_source\")\n",
    "rich.print(test_source.dtypes)\n",
    "print(\"meta_song\")\n",
    "rich.print(meta_song.dtypes)\n",
    "print(\"meta_song_composer\")\n",
    "rich.print(meta_song_composer.dtypes)\n",
    "print(\"meta_song_genre\")\n",
    "rich.print(meta_song_genre.dtypes)\n",
    "print(\"meta_song_lyricist\")\n",
    "rich.print(meta_song_lyricist.dtypes)\n",
    "print(\"meta_song_producer\")\n",
    "rich.print(meta_song_producer.dtypes)\n",
    "print(\"meta_song_titletext\")\n"
   ]
  },
  {
   "cell_type": "code",
   "execution_count": 6,
   "metadata": {},
   "outputs": [],
   "source": [
    "# convert timestamp to datetime\n",
    "train_source['dt'] = pd.to_datetime(train_source['unix_played_at'], unit='s')"
   ]
  },
  {
   "cell_type": "code",
   "execution_count": 7,
   "metadata": {},
   "outputs": [
    {
     "data": {
      "text/html": [
       "<div>\n",
       "<style scoped>\n",
       "    .dataframe tbody tr th:only-of-type {\n",
       "        vertical-align: middle;\n",
       "    }\n",
       "\n",
       "    .dataframe tbody tr th {\n",
       "        vertical-align: top;\n",
       "    }\n",
       "\n",
       "    .dataframe thead th {\n",
       "        text-align: right;\n",
       "    }\n",
       "</style>\n",
       "<table border=\"1\" class=\"dataframe\">\n",
       "  <thead>\n",
       "    <tr style=\"text-align: right;\">\n",
       "      <th></th>\n",
       "      <th>session_id</th>\n",
       "      <th>song_id</th>\n",
       "      <th>unix_played_at</th>\n",
       "      <th>play_status</th>\n",
       "      <th>login_type</th>\n",
       "      <th>listening_order</th>\n",
       "      <th>dt</th>\n",
       "    </tr>\n",
       "  </thead>\n",
       "  <tbody>\n",
       "    <tr>\n",
       "      <th>0</th>\n",
       "      <td>751</td>\n",
       "      <td>6027767fad949f3ca5e772df04924949</td>\n",
       "      <td>1659598909</td>\n",
       "      <td>1</td>\n",
       "      <td>7</td>\n",
       "      <td>1</td>\n",
       "      <td>2022-08-04 07:41:49</td>\n",
       "    </tr>\n",
       "    <tr>\n",
       "      <th>1</th>\n",
       "      <td>751</td>\n",
       "      <td>041547bddb0a3e730f32db84c65868ca</td>\n",
       "      <td>1659599182</td>\n",
       "      <td>1</td>\n",
       "      <td>7</td>\n",
       "      <td>2</td>\n",
       "      <td>2022-08-04 07:46:22</td>\n",
       "    </tr>\n",
       "    <tr>\n",
       "      <th>2</th>\n",
       "      <td>751</td>\n",
       "      <td>041547bddb0a3e730f32db84c65868ca</td>\n",
       "      <td>1659599184</td>\n",
       "      <td>0</td>\n",
       "      <td>7</td>\n",
       "      <td>3</td>\n",
       "      <td>2022-08-04 07:46:24</td>\n",
       "    </tr>\n",
       "    <tr>\n",
       "      <th>3</th>\n",
       "      <td>751</td>\n",
       "      <td>041547bddb0a3e730f32db84c65868ca</td>\n",
       "      <td>1659599185</td>\n",
       "      <td>0</td>\n",
       "      <td>7</td>\n",
       "      <td>4</td>\n",
       "      <td>2022-08-04 07:46:25</td>\n",
       "    </tr>\n",
       "    <tr>\n",
       "      <th>4</th>\n",
       "      <td>751</td>\n",
       "      <td>8b32f88104ecf859be934d9b45f30cd1</td>\n",
       "      <td>1659599218</td>\n",
       "      <td>1</td>\n",
       "      <td>7</td>\n",
       "      <td>5</td>\n",
       "      <td>2022-08-04 07:46:58</td>\n",
       "    </tr>\n",
       "    <tr>\n",
       "      <th>...</th>\n",
       "      <td>...</td>\n",
       "      <td>...</td>\n",
       "      <td>...</td>\n",
       "      <td>...</td>\n",
       "      <td>...</td>\n",
       "      <td>...</td>\n",
       "      <td>...</td>\n",
       "    </tr>\n",
       "    <tr>\n",
       "      <th>11445175</th>\n",
       "      <td>458622</td>\n",
       "      <td>3ba8c1e455e27172edec64deff3a8b15</td>\n",
       "      <td>1662339887</td>\n",
       "      <td>2</td>\n",
       "      <td>7</td>\n",
       "      <td>16</td>\n",
       "      <td>2022-09-05 01:04:47</td>\n",
       "    </tr>\n",
       "    <tr>\n",
       "      <th>11445176</th>\n",
       "      <td>458622</td>\n",
       "      <td>3ba8c1e455e27172edec64deff3a8b15</td>\n",
       "      <td>1662340090</td>\n",
       "      <td>2</td>\n",
       "      <td>7</td>\n",
       "      <td>17</td>\n",
       "      <td>2022-09-05 01:08:10</td>\n",
       "    </tr>\n",
       "    <tr>\n",
       "      <th>11445177</th>\n",
       "      <td>458622</td>\n",
       "      <td>3ba8c1e455e27172edec64deff3a8b15</td>\n",
       "      <td>1662340294</td>\n",
       "      <td>2</td>\n",
       "      <td>7</td>\n",
       "      <td>18</td>\n",
       "      <td>2022-09-05 01:11:34</td>\n",
       "    </tr>\n",
       "    <tr>\n",
       "      <th>11445178</th>\n",
       "      <td>458622</td>\n",
       "      <td>3ba8c1e455e27172edec64deff3a8b15</td>\n",
       "      <td>1662340497</td>\n",
       "      <td>2</td>\n",
       "      <td>7</td>\n",
       "      <td>19</td>\n",
       "      <td>2022-09-05 01:14:57</td>\n",
       "    </tr>\n",
       "    <tr>\n",
       "      <th>11445179</th>\n",
       "      <td>458622</td>\n",
       "      <td>3ba8c1e455e27172edec64deff3a8b15</td>\n",
       "      <td>1662340701</td>\n",
       "      <td>2</td>\n",
       "      <td>7</td>\n",
       "      <td>20</td>\n",
       "      <td>2022-09-05 01:18:21</td>\n",
       "    </tr>\n",
       "  </tbody>\n",
       "</table>\n",
       "<p>11445180 rows × 7 columns</p>\n",
       "</div>"
      ],
      "text/plain": [
       "          session_id                           song_id  unix_played_at  \\\n",
       "0                751  6027767fad949f3ca5e772df04924949      1659598909   \n",
       "1                751  041547bddb0a3e730f32db84c65868ca      1659599182   \n",
       "2                751  041547bddb0a3e730f32db84c65868ca      1659599184   \n",
       "3                751  041547bddb0a3e730f32db84c65868ca      1659599185   \n",
       "4                751  8b32f88104ecf859be934d9b45f30cd1      1659599218   \n",
       "...              ...                               ...             ...   \n",
       "11445175      458622  3ba8c1e455e27172edec64deff3a8b15      1662339887   \n",
       "11445176      458622  3ba8c1e455e27172edec64deff3a8b15      1662340090   \n",
       "11445177      458622  3ba8c1e455e27172edec64deff3a8b15      1662340294   \n",
       "11445178      458622  3ba8c1e455e27172edec64deff3a8b15      1662340497   \n",
       "11445179      458622  3ba8c1e455e27172edec64deff3a8b15      1662340701   \n",
       "\n",
       "          play_status  login_type  listening_order                  dt  \n",
       "0                   1           7                1 2022-08-04 07:41:49  \n",
       "1                   1           7                2 2022-08-04 07:46:22  \n",
       "2                   0           7                3 2022-08-04 07:46:24  \n",
       "3                   0           7                4 2022-08-04 07:46:25  \n",
       "4                   1           7                5 2022-08-04 07:46:58  \n",
       "...               ...         ...              ...                 ...  \n",
       "11445175            2           7               16 2022-09-05 01:04:47  \n",
       "11445176            2           7               17 2022-09-05 01:08:10  \n",
       "11445177            2           7               18 2022-09-05 01:11:34  \n",
       "11445178            2           7               19 2022-09-05 01:14:57  \n",
       "11445179            2           7               20 2022-09-05 01:18:21  \n",
       "\n",
       "[11445180 rows x 7 columns]"
      ]
     },
     "execution_count": 7,
     "metadata": {},
     "output_type": "execute_result"
    }
   ],
   "source": [
    "train_source"
   ]
  },
  {
   "cell_type": "code",
   "execution_count": 8,
   "metadata": {},
   "outputs": [
    {
     "data": {
      "image/png": "[encoded data removed]",
      "text/plain": [
       "<Figure size 640x480 with 1 Axes>"
      ]
     },
     "metadata": {},
     "output_type": "display_data"
    }
   ],
   "source": [
    "import matplotlib.pyplot as plt\n",
    "plt.hist(train_source['play_status'], bins=10);"
   ]
  },
  {
   "cell_type": "code",
   "execution_count": 9,
   "metadata": {},
   "outputs": [
    {
     "data": {
      "text/plain": [
       "play_status\n",
       " 0    4560772\n",
       " 1    3411409\n",
       " 2    3280395\n",
       " 4     181491\n",
       " 3       8496\n",
       " 8       1685\n",
       "-1        926\n",
       " 7          6\n",
       "Name: count, dtype: int64"
      ]
     },
     "execution_count": 9,
     "metadata": {},
     "output_type": "execute_result"
    }
   ],
   "source": [
    "train_source['play_status'].value_counts()"
   ]
  },
  {
   "cell_type": "code",
   "execution_count": null,
   "metadata": {},
   "outputs": [],
   "source": []
  },
  {
   "cell_type": "code",
   "execution_count": 10,
   "metadata": {},
   "outputs": [
    {
     "data": {
      "text/plain": [
       "(650872,)"
      ]
     },
     "execution_count": 10,
     "metadata": {},
     "output_type": "execute_result"
    }
   ],
   "source": [
    "train_source['song_id'].unique().shape"
   ]
  },
  {
   "cell_type": "code",
   "execution_count": 11,
   "metadata": {},
   "outputs": [
    {
     "data": {
      "text/plain": [
       "(339994,)"
      ]
     },
     "execution_count": 11,
     "metadata": {},
     "output_type": "execute_result"
    }
   ],
   "source": [
    "\n",
    "test_source['song_id'].unique().shape"
   ]
  },
  {
   "cell_type": "code",
   "execution_count": 12,
   "metadata": {},
   "outputs": [],
   "source": [
    "train_Y = train_target.pivot_table(index='session_id', columns='listening_order', values='song_id', aggfunc='first', fill_value=0)"
   ]
  },
  {
   "cell_type": "code",
   "execution_count": 13,
   "metadata": {},
   "outputs": [
    {
     "data": {
      "text/plain": [
       "(2861295, 2)"
      ]
     },
     "execution_count": 13,
     "metadata": {},
     "output_type": "execute_result"
    }
   ],
   "source": [
    "train_target[['session_id', 'listening_order']].drop_duplicates().shape"
   ]
  },
  {
   "cell_type": "code",
   "execution_count": 14,
   "metadata": {},
   "outputs": [
    {
     "data": {
      "text/plain": [
       "Index(['c75e75a6baf65a3c26dbe641422d4e72', '18a62aea3e0e67e21ea56c125c29c474',\n",
       "       'd0f29a768191d3f75a4722789793db64', '1d684646c631273827eed57fbd2829a6',\n",
       "       'ef71212934e35b400232a0cd8e7e67a2'],\n",
       "      dtype='object', name='song_id')"
      ]
     },
     "execution_count": 14,
     "metadata": {},
     "output_type": "execute_result"
    }
   ],
   "source": [
    "train_target['song_id'].value_counts()[:5].keys()"
   ]
  },
  {
   "cell_type": "code",
   "execution_count": 15,
   "metadata": {},
   "outputs": [],
   "source": [
    "top5 = ['c75e75a6baf65a3c26dbe641422d4e72', '18a62aea3e0e67e21ea56c125c29c474',\n",
    "       'd0f29a768191d3f75a4722789793db64', '1d684646c631273827eed57fbd2829a6',\n",
    "       'ef71212934e35b400232a0cd8e7e67a2']\n",
    "top4 = top5[:4]\n",
    "train_target['in_top5'] = train_target['song_id'].isin(top5)\n",
    "train_target['in_top4'] = train_target['song_id'].isin(top4)"
   ]
  },
  {
   "cell_type": "code",
   "execution_count": 16,
   "metadata": {},
   "outputs": [],
   "source": [
    "top5_result = train_target.pivot_table(index='session_id', columns='listening_order', values='in_top5', aggfunc='first', fill_value=0)\n",
    "top4_result = train_target.pivot_table(index='session_id', columns='listening_order', values='in_top4', aggfunc='first', fill_value=0)"
   ]
  },
  {
   "cell_type": "code",
   "execution_count": 17,
   "metadata": {},
   "outputs": [
    {
     "data": {
      "text/plain": [
       "0.018851761178067968"
      ]
     },
     "execution_count": 17,
     "metadata": {},
     "output_type": "execute_result"
    }
   ],
   "source": [
    "(top5_result @ [1.0, 0.63, 0.5, 0.43, 0.38]).mean()"
   ]
  },
  {
   "cell_type": "code",
   "execution_count": 18,
   "metadata": {},
   "outputs": [
    {
     "data": {
      "text/plain": [
       "0.01598358435603459"
      ]
     },
     "execution_count": 18,
     "metadata": {},
     "output_type": "execute_result"
    }
   ],
   "source": [
    "(top4_result @ [1.0, 0.63, 0.5, 0.43, 0.38]).mean()"
   ]
  },
  {
   "cell_type": "code",
   "execution_count": 123,
   "metadata": {},
   "outputs": [
    {
     "data": {
      "text/plain": [
       "0.040547095366136904"
      ]
     },
     "execution_count": 123,
     "metadata": {},
     "output_type": "execute_result"
    }
   ],
   "source": [
    "test_source['session_id'].nunique()/meta_song.shape[0] *0.2 + (top4_result @ [1.0, 0.63, 0.5, 0.43, 0.38]).mean()*0.8"
   ]
  },
  {
   "cell_type": "code",
   "execution_count": 124,
   "metadata": {},
   "outputs": [
    {
     "data": {
      "text/plain": [
       "1663072416.5"
      ]
     },
     "execution_count": 124,
     "metadata": {},
     "output_type": "execute_result"
    }
   ],
   "source": [
    "train_source['unix_played_at'].median()"
   ]
  },
  {
   "cell_type": "code",
   "execution_count": 127,
   "metadata": {},
   "outputs": [
    {
     "name": "stdout",
     "output_type": "stream",
     "text": [
      "(11445180, 7)\n",
      "0.0066123031704175906\n"
     ]
    },
    {
     "data": {
      "text/plain": [
       "song_id\n",
       "c75e75a6baf65a3c26dbe641422d4e72    0.001765\n",
       "18a62aea3e0e67e21ea56c125c29c474    0.001320\n",
       "d0f29a768191d3f75a4722789793db64    0.001260\n",
       "3c3f1aa01b00e062a9a0534fab37cc45    0.001136\n",
       "ef71212934e35b400232a0cd8e7e67a2    0.001131\n",
       "1d684646c631273827eed57fbd2829a6    0.001129\n",
       "85422f927d88358292985cb319d216fa    0.001054\n",
       "bc58d186329eda8b23e510ba98b2c1ea    0.001008\n",
       "862b2073a95ae9758a8ff5ec74ae9b82    0.000971\n",
       "34e874027e8fe62f3dccf84c74891f3a    0.000908\n",
       "Name: count, dtype: float64"
      ]
     },
     "execution_count": 127,
     "metadata": {},
     "output_type": "execute_result"
    }
   ],
   "source": [
    "X = train_source\n",
    "print(X.shape)\n",
    "t = X['song_id'].value_counts()[:10]/X.shape[0]\n",
    "print(t[:5].sum())\n",
    "t"
   ]
  },
  {
   "cell_type": "code",
   "execution_count": 126,
   "metadata": {},
   "outputs": [
    {
     "name": "stdout",
     "output_type": "stream",
     "text": [
      "(1144517, 7)\n",
      "0.006991595581367511\n"
     ]
    }
   ],
   "source": [
    "T = train_source['unix_played_at'].quantile(0.1)\n",
    "X = train_source[train_source.unix_played_at < T]\n",
    "print(X.shape)\n",
    "t = X['song_id'].value_counts()[:10]/X.shape[0]\n",
    "print(t[:5].sum())"
   ]
  },
  {
   "cell_type": "code",
   "execution_count": 24,
   "metadata": {},
   "outputs": [],
   "source": [
    "x1 = train_source.sort_values(by='session_id').query('listening_order == 20')['song_id']\n",
    "x2 = train_target.sort_values(by='session_id').query('listening_order == 21')['song_id']"
   ]
  },
  {
   "cell_type": "code",
   "execution_count": 136,
   "metadata": {},
   "outputs": [
    {
     "data": {
      "text/plain": [
       "0              751\n",
       "1              751\n",
       "2              751\n",
       "3              751\n",
       "4              751\n",
       "             ...  \n",
       "11445175    458622\n",
       "11445176    458622\n",
       "11445177    458622\n",
       "11445178    458622\n",
       "11445179    458622\n",
       "Name: session_id, Length: 11445180, dtype: int64"
      ]
     },
     "execution_count": 136,
     "metadata": {},
     "output_type": "execute_result"
    }
   ],
   "source": [
    "train_source.session_id"
   ]
  },
  {
   "cell_type": "code",
   "execution_count": 129,
   "metadata": {},
   "outputs": [
    {
     "data": {
      "text/plain": [
       "0.057650469455264135"
      ]
     },
     "execution_count": 129,
     "metadata": {},
     "output_type": "execute_result"
    }
   ],
   "source": [
    "(x1.values == x2.values).mean()"
   ]
  },
  {
   "cell_type": "code",
   "execution_count": 26,
   "metadata": {},
   "outputs": [],
   "source": [
    "train_Y = train_target.pivot_table(index='session_id', columns='listening_order', values='song_id', aggfunc='first', fill_value=0)"
   ]
  },
  {
   "cell_type": "code",
   "execution_count": 27,
   "metadata": {},
   "outputs": [],
   "source": [
    "train_X = train_source.pivot_table(index='session_id', columns='listening_order', values='song_id', aggfunc='first', fill_value=0)"
   ]
  },
  {
   "cell_type": "code",
   "execution_count": 28,
   "metadata": {},
   "outputs": [
    {
     "data": {
      "text/html": [
       "<div>\n",
       "<style scoped>\n",
       "    .dataframe tbody tr th:only-of-type {\n",
       "        vertical-align: middle;\n",
       "    }\n",
       "\n",
       "    .dataframe tbody tr th {\n",
       "        vertical-align: top;\n",
       "    }\n",
       "\n",
       "    .dataframe thead th {\n",
       "        text-align: right;\n",
       "    }\n",
       "</style>\n",
       "<table border=\"1\" class=\"dataframe\">\n",
       "  <thead>\n",
       "    <tr style=\"text-align: right;\">\n",
       "      <th>listening_order</th>\n",
       "      <th>16</th>\n",
       "      <th>17</th>\n",
       "      <th>18</th>\n",
       "      <th>19</th>\n",
       "      <th>20</th>\n",
       "      <th>21</th>\n",
       "      <th>22</th>\n",
       "      <th>23</th>\n",
       "      <th>24</th>\n",
       "      <th>25</th>\n",
       "    </tr>\n",
       "    <tr>\n",
       "      <th>session_id</th>\n",
       "      <th></th>\n",
       "      <th></th>\n",
       "      <th></th>\n",
       "      <th></th>\n",
       "      <th></th>\n",
       "      <th></th>\n",
       "      <th></th>\n",
       "      <th></th>\n",
       "      <th></th>\n",
       "      <th></th>\n",
       "    </tr>\n",
       "  </thead>\n",
       "  <tbody>\n",
       "    <tr>\n",
       "      <th>1</th>\n",
       "      <td>43fdd8f154e5c522eef60f6edfb38896</td>\n",
       "      <td>8d1ee4d9df7226fd8af3c4466a48afdc</td>\n",
       "      <td>2ad3043e1a7e459ddb09c5ba27e475f8</td>\n",
       "      <td>7bb8fadfc8f2bf145f4b29a0325fe79a</td>\n",
       "      <td>824c159701c8553b0e38f0d36ddd6197</td>\n",
       "      <td>b186d853cb06ceba2bd56bcdc701b8aa</td>\n",
       "      <td>1071e128ee5f9e2a0f0be0aade025b39</td>\n",
       "      <td>0100af68f3477f6bf724664d0b303f29</td>\n",
       "      <td>22a696cede3609c20ba1bceb8de28032</td>\n",
       "      <td>d6476892c926c88c7f232fd800b75845</td>\n",
       "    </tr>\n",
       "    <tr>\n",
       "      <th>2</th>\n",
       "      <td>447b380f4fc4aba3602c0c34ae338c04</td>\n",
       "      <td>76de3dbf97c1fd332edf77c3b15de62a</td>\n",
       "      <td>ae75e2846669037aa91cac098e5009c3</td>\n",
       "      <td>3030938d53f52426ac30f213cf9915a1</td>\n",
       "      <td>6309716e08a58c64871c823f44749686</td>\n",
       "      <td>cd6dade76334f76d993b913d10bb2ac7</td>\n",
       "      <td>822486e25be33911a62b3f12e549d24d</td>\n",
       "      <td>ed37d73c29e3696f65817916316bf05d</td>\n",
       "      <td>197a95a09a55390eb435e35f7dab9f9f</td>\n",
       "      <td>59844ef9a5e469cd13b1208c4f1142d1</td>\n",
       "    </tr>\n",
       "    <tr>\n",
       "      <th>3</th>\n",
       "      <td>00adff9ffed0e635df711330cd977b61</td>\n",
       "      <td>6853db9b1b420754e4a687ec010de175</td>\n",
       "      <td>e57c39b5735364b56ed8f743fa948697</td>\n",
       "      <td>e904a955c0350ca5b1b6bb84174ee5be</td>\n",
       "      <td>3b050c1502af19554bb9ef8efc67c00d</td>\n",
       "      <td>a17aab4730e49f8e2972bf26227b890c</td>\n",
       "      <td>868bbeb92bd33a728dcf77d0073cd44d</td>\n",
       "      <td>c4d98c14bd48ec0495239c1a65a5178c</td>\n",
       "      <td>4ea79c3619515a39423851b5ceca965e</td>\n",
       "      <td>d76c868bfb392d89b3ef222907de69fc</td>\n",
       "    </tr>\n",
       "    <tr>\n",
       "      <th>4</th>\n",
       "      <td>4977f7d766adae48b96beeebc1694688</td>\n",
       "      <td>c0dc74fda2a54c6182e76dfbb5336e2e</td>\n",
       "      <td>a288350a1332f6716cde4eedbbf8443f</td>\n",
       "      <td>6650e87fecc3e969c0d48f7f5e9b2c81</td>\n",
       "      <td>e29a8f57507d7e4a926a6bd3d51841d3</td>\n",
       "      <td>f6c0c5501b42f208e094de2414ca1167</td>\n",
       "      <td>e29a8f57507d7e4a926a6bd3d51841d3</td>\n",
       "      <td>f6c0c5501b42f208e094de2414ca1167</td>\n",
       "      <td>e29a8f57507d7e4a926a6bd3d51841d3</td>\n",
       "      <td>f6c0c5501b42f208e094de2414ca1167</td>\n",
       "    </tr>\n",
       "    <tr>\n",
       "      <th>5</th>\n",
       "      <td>d533b73d4d9ed22d700fa53677d22234</td>\n",
       "      <td>e4c1e53d7b940bc597b0509fea1eb86a</td>\n",
       "      <td>aaf15c1b9400651add7925c09b609461</td>\n",
       "      <td>c10efc962e6b703053c2b44b7d48e8da</td>\n",
       "      <td>fd96fd2df80abfae763c3693932f8b26</td>\n",
       "      <td>f5606954ce38e9948ed7099251d7e339</td>\n",
       "      <td>995e60ea01e4f371dabd785e76aa5e2f</td>\n",
       "      <td>f5606954ce38e9948ed7099251d7e339</td>\n",
       "      <td>995e60ea01e4f371dabd785e76aa5e2f</td>\n",
       "      <td>b3ac505ffec601de591ce2ce2e010d30</td>\n",
       "    </tr>\n",
       "    <tr>\n",
       "      <th>...</th>\n",
       "      <td>...</td>\n",
       "      <td>...</td>\n",
       "      <td>...</td>\n",
       "      <td>...</td>\n",
       "      <td>...</td>\n",
       "      <td>...</td>\n",
       "      <td>...</td>\n",
       "      <td>...</td>\n",
       "      <td>...</td>\n",
       "      <td>...</td>\n",
       "    </tr>\n",
       "    <tr>\n",
       "      <th>715317</th>\n",
       "      <td>8a18062e8de6175f92948ba7ac1a5def</td>\n",
       "      <td>d3d7d56735c632f74a1c75403cc32d37</td>\n",
       "      <td>78c792b3afc368829431ef50a3d871dd</td>\n",
       "      <td>0f59db4259ec62fcf00399b69786a3c0</td>\n",
       "      <td>cb6e848eff5f656c47a4541e6be72079</td>\n",
       "      <td>3c66c29e5c26efc705c261732b977950</td>\n",
       "      <td>a0c8441cbe902320c846da76329a38e6</td>\n",
       "      <td>5d043bbef0ca3cf5385432478f3d3751</td>\n",
       "      <td>3b48c6883b4d16ddc07cb64b7be38d1c</td>\n",
       "      <td>546da46c864f38bb193940a7b8704f44</td>\n",
       "    </tr>\n",
       "    <tr>\n",
       "      <th>715320</th>\n",
       "      <td>0f9462bfa05d2d6926e03b2febf79eec</td>\n",
       "      <td>1094d74090426c7540c1c234f3d4221e</td>\n",
       "      <td>9702af9ea15361bf6b178e073514660d</td>\n",
       "      <td>477ecc7fb10644c0d31408030cd464c6</td>\n",
       "      <td>aa7ce52650c7e4f7979e087cedb89020</td>\n",
       "      <td>b4b1c6c0e7395c50f2cf0702dd1f85d6</td>\n",
       "      <td>dd45bfa90e9186681877c15eb0166a35</td>\n",
       "      <td>c366d245501f007629813a28c9267d11</td>\n",
       "      <td>f4aabaca763955330cdf57f763d2a72c</td>\n",
       "      <td>f4aabaca763955330cdf57f763d2a72c</td>\n",
       "    </tr>\n",
       "    <tr>\n",
       "      <th>715321</th>\n",
       "      <td>f3dfc9b03cd7274cf55bacf080619a40</td>\n",
       "      <td>f3dfc9b03cd7274cf55bacf080619a40</td>\n",
       "      <td>b784c2c425ed31d70f7007e949f6b177</td>\n",
       "      <td>9e65aa27a1c3060b5909dda36859f39f</td>\n",
       "      <td>fba1bc1cf12692b1dd65c98e79985e52</td>\n",
       "      <td>261bceb1e3440067b85f5c54444d91be</td>\n",
       "      <td>65961a80125282df5c95b4c0a3606cc5</td>\n",
       "      <td>a91ec5b2b51524c53ce866f621208087</td>\n",
       "      <td>ab8683d279c095064693c282b8353b98</td>\n",
       "      <td>01c48d6a895a6efed0d5afba83b87902</td>\n",
       "    </tr>\n",
       "    <tr>\n",
       "      <th>715322</th>\n",
       "      <td>15ceebf52aa60d0d668cf628674bc291</td>\n",
       "      <td>de0705ecf72363e240e535dc8e9cc873</td>\n",
       "      <td>826cf1a6e383fdbd900c3865d2edb010</td>\n",
       "      <td>940ed872f8ae21d392495623c29df127</td>\n",
       "      <td>ceee2a16d7fb7531cdc633ac478fe46a</td>\n",
       "      <td>c31a95cdd5635c6edfbde9143286b9b7</td>\n",
       "      <td>aa41008b812435306a6fe831f40b0c11</td>\n",
       "      <td>d1492ba4a2fdf555510934e9740ea8c3</td>\n",
       "      <td>f1bc21ff88fe47bac896fbe591fa2f5f</td>\n",
       "      <td>d1492ba4a2fdf555510934e9740ea8c3</td>\n",
       "    </tr>\n",
       "    <tr>\n",
       "      <th>715323</th>\n",
       "      <td>65a4fa6c28e6c640c30bb9567ec07358</td>\n",
       "      <td>4c8a29c6fb363a1531a944fb978c4a0b</td>\n",
       "      <td>88c2975000726c4c9f21fba913dab088</td>\n",
       "      <td>9c6ce0c23159646a6acf5dd8e9f39a19</td>\n",
       "      <td>39415742a9ed09a9f85ea755c676be9a</td>\n",
       "      <td>d7031cd298948b2ca63565965eb77111</td>\n",
       "      <td>4dc776fa7a8db1bbe647e580e69dca9d</td>\n",
       "      <td>657cb54ed943148dc64f31b6de635591</td>\n",
       "      <td>0a696d765856a7b48bae85715cca06b2</td>\n",
       "      <td>5aba5f02d054be2c82483cd905eb79d2</td>\n",
       "    </tr>\n",
       "  </tbody>\n",
       "</table>\n",
       "<p>572259 rows × 10 columns</p>\n",
       "</div>"
      ],
      "text/plain": [
       "listening_order                                16  \\\n",
       "session_id                                          \n",
       "1                43fdd8f154e5c522eef60f6edfb38896   \n",
       "2                447b380f4fc4aba3602c0c34ae338c04   \n",
       "3                00adff9ffed0e635df711330cd977b61   \n",
       "4                4977f7d766adae48b96beeebc1694688   \n",
       "5                d533b73d4d9ed22d700fa53677d22234   \n",
       "...                                           ...   \n",
       "715317           8a18062e8de6175f92948ba7ac1a5def   \n",
       "715320           0f9462bfa05d2d6926e03b2febf79eec   \n",
       "715321           f3dfc9b03cd7274cf55bacf080619a40   \n",
       "715322           15ceebf52aa60d0d668cf628674bc291   \n",
       "715323           65a4fa6c28e6c640c30bb9567ec07358   \n",
       "\n",
       "listening_order                                17  \\\n",
       "session_id                                          \n",
       "1                8d1ee4d9df7226fd8af3c4466a48afdc   \n",
       "2                76de3dbf97c1fd332edf77c3b15de62a   \n",
       "3                6853db9b1b420754e4a687ec010de175   \n",
       "4                c0dc74fda2a54c6182e76dfbb5336e2e   \n",
       "5                e4c1e53d7b940bc597b0509fea1eb86a   \n",
       "...                                           ...   \n",
       "715317           d3d7d56735c632f74a1c75403cc32d37   \n",
       "715320           1094d74090426c7540c1c234f3d4221e   \n",
       "715321           f3dfc9b03cd7274cf55bacf080619a40   \n",
       "715322           de0705ecf72363e240e535dc8e9cc873   \n",
       "715323           4c8a29c6fb363a1531a944fb978c4a0b   \n",
       "\n",
       "listening_order                                18  \\\n",
       "session_id                                          \n",
       "1                2ad3043e1a7e459ddb09c5ba27e475f8   \n",
       "2                ae75e2846669037aa91cac098e5009c3   \n",
       "3                e57c39b5735364b56ed8f743fa948697   \n",
       "4                a288350a1332f6716cde4eedbbf8443f   \n",
       "5                aaf15c1b9400651add7925c09b609461   \n",
       "...                                           ...   \n",
       "715317           78c792b3afc368829431ef50a3d871dd   \n",
       "715320           9702af9ea15361bf6b178e073514660d   \n",
       "715321           b784c2c425ed31d70f7007e949f6b177   \n",
       "715322           826cf1a6e383fdbd900c3865d2edb010   \n",
       "715323           88c2975000726c4c9f21fba913dab088   \n",
       "\n",
       "listening_order                                19  \\\n",
       "session_id                                          \n",
       "1                7bb8fadfc8f2bf145f4b29a0325fe79a   \n",
       "2                3030938d53f52426ac30f213cf9915a1   \n",
       "3                e904a955c0350ca5b1b6bb84174ee5be   \n",
       "4                6650e87fecc3e969c0d48f7f5e9b2c81   \n",
       "5                c10efc962e6b703053c2b44b7d48e8da   \n",
       "...                                           ...   \n",
       "715317           0f59db4259ec62fcf00399b69786a3c0   \n",
       "715320           477ecc7fb10644c0d31408030cd464c6   \n",
       "715321           9e65aa27a1c3060b5909dda36859f39f   \n",
       "715322           940ed872f8ae21d392495623c29df127   \n",
       "715323           9c6ce0c23159646a6acf5dd8e9f39a19   \n",
       "\n",
       "listening_order                                20  \\\n",
       "session_id                                          \n",
       "1                824c159701c8553b0e38f0d36ddd6197   \n",
       "2                6309716e08a58c64871c823f44749686   \n",
       "3                3b050c1502af19554bb9ef8efc67c00d   \n",
       "4                e29a8f57507d7e4a926a6bd3d51841d3   \n",
       "5                fd96fd2df80abfae763c3693932f8b26   \n",
       "...                                           ...   \n",
       "715317           cb6e848eff5f656c47a4541e6be72079   \n",
       "715320           aa7ce52650c7e4f7979e087cedb89020   \n",
       "715321           fba1bc1cf12692b1dd65c98e79985e52   \n",
       "715322           ceee2a16d7fb7531cdc633ac478fe46a   \n",
       "715323           39415742a9ed09a9f85ea755c676be9a   \n",
       "\n",
       "listening_order                                21  \\\n",
       "session_id                                          \n",
       "1                b186d853cb06ceba2bd56bcdc701b8aa   \n",
       "2                cd6dade76334f76d993b913d10bb2ac7   \n",
       "3                a17aab4730e49f8e2972bf26227b890c   \n",
       "4                f6c0c5501b42f208e094de2414ca1167   \n",
       "5                f5606954ce38e9948ed7099251d7e339   \n",
       "...                                           ...   \n",
       "715317           3c66c29e5c26efc705c261732b977950   \n",
       "715320           b4b1c6c0e7395c50f2cf0702dd1f85d6   \n",
       "715321           261bceb1e3440067b85f5c54444d91be   \n",
       "715322           c31a95cdd5635c6edfbde9143286b9b7   \n",
       "715323           d7031cd298948b2ca63565965eb77111   \n",
       "\n",
       "listening_order                                22  \\\n",
       "session_id                                          \n",
       "1                1071e128ee5f9e2a0f0be0aade025b39   \n",
       "2                822486e25be33911a62b3f12e549d24d   \n",
       "3                868bbeb92bd33a728dcf77d0073cd44d   \n",
       "4                e29a8f57507d7e4a926a6bd3d51841d3   \n",
       "5                995e60ea01e4f371dabd785e76aa5e2f   \n",
       "...                                           ...   \n",
       "715317           a0c8441cbe902320c846da76329a38e6   \n",
       "715320           dd45bfa90e9186681877c15eb0166a35   \n",
       "715321           65961a80125282df5c95b4c0a3606cc5   \n",
       "715322           aa41008b812435306a6fe831f40b0c11   \n",
       "715323           4dc776fa7a8db1bbe647e580e69dca9d   \n",
       "\n",
       "listening_order                                23  \\\n",
       "session_id                                          \n",
       "1                0100af68f3477f6bf724664d0b303f29   \n",
       "2                ed37d73c29e3696f65817916316bf05d   \n",
       "3                c4d98c14bd48ec0495239c1a65a5178c   \n",
       "4                f6c0c5501b42f208e094de2414ca1167   \n",
       "5                f5606954ce38e9948ed7099251d7e339   \n",
       "...                                           ...   \n",
       "715317           5d043bbef0ca3cf5385432478f3d3751   \n",
       "715320           c366d245501f007629813a28c9267d11   \n",
       "715321           a91ec5b2b51524c53ce866f621208087   \n",
       "715322           d1492ba4a2fdf555510934e9740ea8c3   \n",
       "715323           657cb54ed943148dc64f31b6de635591   \n",
       "\n",
       "listening_order                                24  \\\n",
       "session_id                                          \n",
       "1                22a696cede3609c20ba1bceb8de28032   \n",
       "2                197a95a09a55390eb435e35f7dab9f9f   \n",
       "3                4ea79c3619515a39423851b5ceca965e   \n",
       "4                e29a8f57507d7e4a926a6bd3d51841d3   \n",
       "5                995e60ea01e4f371dabd785e76aa5e2f   \n",
       "...                                           ...   \n",
       "715317           3b48c6883b4d16ddc07cb64b7be38d1c   \n",
       "715320           f4aabaca763955330cdf57f763d2a72c   \n",
       "715321           ab8683d279c095064693c282b8353b98   \n",
       "715322           f1bc21ff88fe47bac896fbe591fa2f5f   \n",
       "715323           0a696d765856a7b48bae85715cca06b2   \n",
       "\n",
       "listening_order                                25  \n",
       "session_id                                         \n",
       "1                d6476892c926c88c7f232fd800b75845  \n",
       "2                59844ef9a5e469cd13b1208c4f1142d1  \n",
       "3                d76c868bfb392d89b3ef222907de69fc  \n",
       "4                f6c0c5501b42f208e094de2414ca1167  \n",
       "5                b3ac505ffec601de591ce2ce2e010d30  \n",
       "...                                           ...  \n",
       "715317           546da46c864f38bb193940a7b8704f44  \n",
       "715320           f4aabaca763955330cdf57f763d2a72c  \n",
       "715321           01c48d6a895a6efed0d5afba83b87902  \n",
       "715322           d1492ba4a2fdf555510934e9740ea8c3  \n",
       "715323           5aba5f02d054be2c82483cd905eb79d2  \n",
       "\n",
       "[572259 rows x 10 columns]"
      ]
     },
     "execution_count": 28,
     "metadata": {},
     "output_type": "execute_result"
    }
   ],
   "source": [
    "df = pd.concat([train_X[[16,17,18,19,20]], train_Y], axis=1)\n",
    "df"
   ]
  },
  {
   "cell_type": "code",
   "execution_count": 29,
   "metadata": {},
   "outputs": [
    {
     "data": {
      "text/html": [
       "<div>\n",
       "<style scoped>\n",
       "    .dataframe tbody tr th:only-of-type {\n",
       "        vertical-align: middle;\n",
       "    }\n",
       "\n",
       "    .dataframe tbody tr th {\n",
       "        vertical-align: top;\n",
       "    }\n",
       "\n",
       "    .dataframe thead th {\n",
       "        text-align: right;\n",
       "    }\n",
       "</style>\n",
       "<table border=\"1\" class=\"dataframe\">\n",
       "  <thead>\n",
       "    <tr style=\"text-align: right;\">\n",
       "      <th>listening_order</th>\n",
       "      <th>16</th>\n",
       "      <th>17</th>\n",
       "      <th>18</th>\n",
       "      <th>19</th>\n",
       "      <th>20</th>\n",
       "      <th>21</th>\n",
       "      <th>22</th>\n",
       "      <th>23</th>\n",
       "      <th>24</th>\n",
       "      <th>25</th>\n",
       "      <th>score</th>\n",
       "    </tr>\n",
       "    <tr>\n",
       "      <th>session_id</th>\n",
       "      <th></th>\n",
       "      <th></th>\n",
       "      <th></th>\n",
       "      <th></th>\n",
       "      <th></th>\n",
       "      <th></th>\n",
       "      <th></th>\n",
       "      <th></th>\n",
       "      <th></th>\n",
       "      <th></th>\n",
       "      <th></th>\n",
       "    </tr>\n",
       "  </thead>\n",
       "  <tbody>\n",
       "    <tr>\n",
       "      <th>1</th>\n",
       "      <td>43fdd8f154e5c522eef60f6edfb38896</td>\n",
       "      <td>8d1ee4d9df7226fd8af3c4466a48afdc</td>\n",
       "      <td>2ad3043e1a7e459ddb09c5ba27e475f8</td>\n",
       "      <td>7bb8fadfc8f2bf145f4b29a0325fe79a</td>\n",
       "      <td>824c159701c8553b0e38f0d36ddd6197</td>\n",
       "      <td>b186d853cb06ceba2bd56bcdc701b8aa</td>\n",
       "      <td>1071e128ee5f9e2a0f0be0aade025b39</td>\n",
       "      <td>0100af68f3477f6bf724664d0b303f29</td>\n",
       "      <td>22a696cede3609c20ba1bceb8de28032</td>\n",
       "      <td>d6476892c926c88c7f232fd800b75845</td>\n",
       "      <td>0</td>\n",
       "    </tr>\n",
       "    <tr>\n",
       "      <th>2</th>\n",
       "      <td>447b380f4fc4aba3602c0c34ae338c04</td>\n",
       "      <td>76de3dbf97c1fd332edf77c3b15de62a</td>\n",
       "      <td>ae75e2846669037aa91cac098e5009c3</td>\n",
       "      <td>3030938d53f52426ac30f213cf9915a1</td>\n",
       "      <td>6309716e08a58c64871c823f44749686</td>\n",
       "      <td>cd6dade76334f76d993b913d10bb2ac7</td>\n",
       "      <td>822486e25be33911a62b3f12e549d24d</td>\n",
       "      <td>ed37d73c29e3696f65817916316bf05d</td>\n",
       "      <td>197a95a09a55390eb435e35f7dab9f9f</td>\n",
       "      <td>59844ef9a5e469cd13b1208c4f1142d1</td>\n",
       "      <td>0</td>\n",
       "    </tr>\n",
       "    <tr>\n",
       "      <th>3</th>\n",
       "      <td>00adff9ffed0e635df711330cd977b61</td>\n",
       "      <td>6853db9b1b420754e4a687ec010de175</td>\n",
       "      <td>e57c39b5735364b56ed8f743fa948697</td>\n",
       "      <td>e904a955c0350ca5b1b6bb84174ee5be</td>\n",
       "      <td>3b050c1502af19554bb9ef8efc67c00d</td>\n",
       "      <td>a17aab4730e49f8e2972bf26227b890c</td>\n",
       "      <td>868bbeb92bd33a728dcf77d0073cd44d</td>\n",
       "      <td>c4d98c14bd48ec0495239c1a65a5178c</td>\n",
       "      <td>4ea79c3619515a39423851b5ceca965e</td>\n",
       "      <td>d76c868bfb392d89b3ef222907de69fc</td>\n",
       "      <td>0</td>\n",
       "    </tr>\n",
       "    <tr>\n",
       "      <th>4</th>\n",
       "      <td>4977f7d766adae48b96beeebc1694688</td>\n",
       "      <td>c0dc74fda2a54c6182e76dfbb5336e2e</td>\n",
       "      <td>a288350a1332f6716cde4eedbbf8443f</td>\n",
       "      <td>6650e87fecc3e969c0d48f7f5e9b2c81</td>\n",
       "      <td>e29a8f57507d7e4a926a6bd3d51841d3</td>\n",
       "      <td>f6c0c5501b42f208e094de2414ca1167</td>\n",
       "      <td>e29a8f57507d7e4a926a6bd3d51841d3</td>\n",
       "      <td>f6c0c5501b42f208e094de2414ca1167</td>\n",
       "      <td>e29a8f57507d7e4a926a6bd3d51841d3</td>\n",
       "      <td>f6c0c5501b42f208e094de2414ca1167</td>\n",
       "      <td>0</td>\n",
       "    </tr>\n",
       "    <tr>\n",
       "      <th>5</th>\n",
       "      <td>d533b73d4d9ed22d700fa53677d22234</td>\n",
       "      <td>e4c1e53d7b940bc597b0509fea1eb86a</td>\n",
       "      <td>aaf15c1b9400651add7925c09b609461</td>\n",
       "      <td>c10efc962e6b703053c2b44b7d48e8da</td>\n",
       "      <td>fd96fd2df80abfae763c3693932f8b26</td>\n",
       "      <td>f5606954ce38e9948ed7099251d7e339</td>\n",
       "      <td>995e60ea01e4f371dabd785e76aa5e2f</td>\n",
       "      <td>f5606954ce38e9948ed7099251d7e339</td>\n",
       "      <td>995e60ea01e4f371dabd785e76aa5e2f</td>\n",
       "      <td>b3ac505ffec601de591ce2ce2e010d30</td>\n",
       "      <td>0</td>\n",
       "    </tr>\n",
       "    <tr>\n",
       "      <th>...</th>\n",
       "      <td>...</td>\n",
       "      <td>...</td>\n",
       "      <td>...</td>\n",
       "      <td>...</td>\n",
       "      <td>...</td>\n",
       "      <td>...</td>\n",
       "      <td>...</td>\n",
       "      <td>...</td>\n",
       "      <td>...</td>\n",
       "      <td>...</td>\n",
       "      <td>...</td>\n",
       "    </tr>\n",
       "    <tr>\n",
       "      <th>715317</th>\n",
       "      <td>8a18062e8de6175f92948ba7ac1a5def</td>\n",
       "      <td>d3d7d56735c632f74a1c75403cc32d37</td>\n",
       "      <td>78c792b3afc368829431ef50a3d871dd</td>\n",
       "      <td>0f59db4259ec62fcf00399b69786a3c0</td>\n",
       "      <td>cb6e848eff5f656c47a4541e6be72079</td>\n",
       "      <td>3c66c29e5c26efc705c261732b977950</td>\n",
       "      <td>a0c8441cbe902320c846da76329a38e6</td>\n",
       "      <td>5d043bbef0ca3cf5385432478f3d3751</td>\n",
       "      <td>3b48c6883b4d16ddc07cb64b7be38d1c</td>\n",
       "      <td>546da46c864f38bb193940a7b8704f44</td>\n",
       "      <td>0</td>\n",
       "    </tr>\n",
       "    <tr>\n",
       "      <th>715320</th>\n",
       "      <td>0f9462bfa05d2d6926e03b2febf79eec</td>\n",
       "      <td>1094d74090426c7540c1c234f3d4221e</td>\n",
       "      <td>9702af9ea15361bf6b178e073514660d</td>\n",
       "      <td>477ecc7fb10644c0d31408030cd464c6</td>\n",
       "      <td>aa7ce52650c7e4f7979e087cedb89020</td>\n",
       "      <td>b4b1c6c0e7395c50f2cf0702dd1f85d6</td>\n",
       "      <td>dd45bfa90e9186681877c15eb0166a35</td>\n",
       "      <td>c366d245501f007629813a28c9267d11</td>\n",
       "      <td>f4aabaca763955330cdf57f763d2a72c</td>\n",
       "      <td>f4aabaca763955330cdf57f763d2a72c</td>\n",
       "      <td>0</td>\n",
       "    </tr>\n",
       "    <tr>\n",
       "      <th>715321</th>\n",
       "      <td>f3dfc9b03cd7274cf55bacf080619a40</td>\n",
       "      <td>f3dfc9b03cd7274cf55bacf080619a40</td>\n",
       "      <td>b784c2c425ed31d70f7007e949f6b177</td>\n",
       "      <td>9e65aa27a1c3060b5909dda36859f39f</td>\n",
       "      <td>fba1bc1cf12692b1dd65c98e79985e52</td>\n",
       "      <td>261bceb1e3440067b85f5c54444d91be</td>\n",
       "      <td>65961a80125282df5c95b4c0a3606cc5</td>\n",
       "      <td>a91ec5b2b51524c53ce866f621208087</td>\n",
       "      <td>ab8683d279c095064693c282b8353b98</td>\n",
       "      <td>01c48d6a895a6efed0d5afba83b87902</td>\n",
       "      <td>0</td>\n",
       "    </tr>\n",
       "    <tr>\n",
       "      <th>715322</th>\n",
       "      <td>15ceebf52aa60d0d668cf628674bc291</td>\n",
       "      <td>de0705ecf72363e240e535dc8e9cc873</td>\n",
       "      <td>826cf1a6e383fdbd900c3865d2edb010</td>\n",
       "      <td>940ed872f8ae21d392495623c29df127</td>\n",
       "      <td>ceee2a16d7fb7531cdc633ac478fe46a</td>\n",
       "      <td>c31a95cdd5635c6edfbde9143286b9b7</td>\n",
       "      <td>aa41008b812435306a6fe831f40b0c11</td>\n",
       "      <td>d1492ba4a2fdf555510934e9740ea8c3</td>\n",
       "      <td>f1bc21ff88fe47bac896fbe591fa2f5f</td>\n",
       "      <td>d1492ba4a2fdf555510934e9740ea8c3</td>\n",
       "      <td>0</td>\n",
       "    </tr>\n",
       "    <tr>\n",
       "      <th>715323</th>\n",
       "      <td>65a4fa6c28e6c640c30bb9567ec07358</td>\n",
       "      <td>4c8a29c6fb363a1531a944fb978c4a0b</td>\n",
       "      <td>88c2975000726c4c9f21fba913dab088</td>\n",
       "      <td>9c6ce0c23159646a6acf5dd8e9f39a19</td>\n",
       "      <td>39415742a9ed09a9f85ea755c676be9a</td>\n",
       "      <td>d7031cd298948b2ca63565965eb77111</td>\n",
       "      <td>4dc776fa7a8db1bbe647e580e69dca9d</td>\n",
       "      <td>657cb54ed943148dc64f31b6de635591</td>\n",
       "      <td>0a696d765856a7b48bae85715cca06b2</td>\n",
       "      <td>5aba5f02d054be2c82483cd905eb79d2</td>\n",
       "      <td>0</td>\n",
       "    </tr>\n",
       "  </tbody>\n",
       "</table>\n",
       "<p>572259 rows × 11 columns</p>\n",
       "</div>"
      ],
      "text/plain": [
       "listening_order                                16  \\\n",
       "session_id                                          \n",
       "1                43fdd8f154e5c522eef60f6edfb38896   \n",
       "2                447b380f4fc4aba3602c0c34ae338c04   \n",
       "3                00adff9ffed0e635df711330cd977b61   \n",
       "4                4977f7d766adae48b96beeebc1694688   \n",
       "5                d533b73d4d9ed22d700fa53677d22234   \n",
       "...                                           ...   \n",
       "715317           8a18062e8de6175f92948ba7ac1a5def   \n",
       "715320           0f9462bfa05d2d6926e03b2febf79eec   \n",
       "715321           f3dfc9b03cd7274cf55bacf080619a40   \n",
       "715322           15ceebf52aa60d0d668cf628674bc291   \n",
       "715323           65a4fa6c28e6c640c30bb9567ec07358   \n",
       "\n",
       "listening_order                                17  \\\n",
       "session_id                                          \n",
       "1                8d1ee4d9df7226fd8af3c4466a48afdc   \n",
       "2                76de3dbf97c1fd332edf77c3b15de62a   \n",
       "3                6853db9b1b420754e4a687ec010de175   \n",
       "4                c0dc74fda2a54c6182e76dfbb5336e2e   \n",
       "5                e4c1e53d7b940bc597b0509fea1eb86a   \n",
       "...                                           ...   \n",
       "715317           d3d7d56735c632f74a1c75403cc32d37   \n",
       "715320           1094d74090426c7540c1c234f3d4221e   \n",
       "715321           f3dfc9b03cd7274cf55bacf080619a40   \n",
       "715322           de0705ecf72363e240e535dc8e9cc873   \n",
       "715323           4c8a29c6fb363a1531a944fb978c4a0b   \n",
       "\n",
       "listening_order                                18  \\\n",
       "session_id                                          \n",
       "1                2ad3043e1a7e459ddb09c5ba27e475f8   \n",
       "2                ae75e2846669037aa91cac098e5009c3   \n",
       "3                e57c39b5735364b56ed8f743fa948697   \n",
       "4                a288350a1332f6716cde4eedbbf8443f   \n",
       "5                aaf15c1b9400651add7925c09b609461   \n",
       "...                                           ...   \n",
       "715317           78c792b3afc368829431ef50a3d871dd   \n",
       "715320           9702af9ea15361bf6b178e073514660d   \n",
       "715321           b784c2c425ed31d70f7007e949f6b177   \n",
       "715322           826cf1a6e383fdbd900c3865d2edb010   \n",
       "715323           88c2975000726c4c9f21fba913dab088   \n",
       "\n",
       "listening_order                                19  \\\n",
       "session_id                                          \n",
       "1                7bb8fadfc8f2bf145f4b29a0325fe79a   \n",
       "2                3030938d53f52426ac30f213cf9915a1   \n",
       "3                e904a955c0350ca5b1b6bb84174ee5be   \n",
       "4                6650e87fecc3e969c0d48f7f5e9b2c81   \n",
       "5                c10efc962e6b703053c2b44b7d48e8da   \n",
       "...                                           ...   \n",
       "715317           0f59db4259ec62fcf00399b69786a3c0   \n",
       "715320           477ecc7fb10644c0d31408030cd464c6   \n",
       "715321           9e65aa27a1c3060b5909dda36859f39f   \n",
       "715322           940ed872f8ae21d392495623c29df127   \n",
       "715323           9c6ce0c23159646a6acf5dd8e9f39a19   \n",
       "\n",
       "listening_order                                20  \\\n",
       "session_id                                          \n",
       "1                824c159701c8553b0e38f0d36ddd6197   \n",
       "2                6309716e08a58c64871c823f44749686   \n",
       "3                3b050c1502af19554bb9ef8efc67c00d   \n",
       "4                e29a8f57507d7e4a926a6bd3d51841d3   \n",
       "5                fd96fd2df80abfae763c3693932f8b26   \n",
       "...                                           ...   \n",
       "715317           cb6e848eff5f656c47a4541e6be72079   \n",
       "715320           aa7ce52650c7e4f7979e087cedb89020   \n",
       "715321           fba1bc1cf12692b1dd65c98e79985e52   \n",
       "715322           ceee2a16d7fb7531cdc633ac478fe46a   \n",
       "715323           39415742a9ed09a9f85ea755c676be9a   \n",
       "\n",
       "listening_order                                21  \\\n",
       "session_id                                          \n",
       "1                b186d853cb06ceba2bd56bcdc701b8aa   \n",
       "2                cd6dade76334f76d993b913d10bb2ac7   \n",
       "3                a17aab4730e49f8e2972bf26227b890c   \n",
       "4                f6c0c5501b42f208e094de2414ca1167   \n",
       "5                f5606954ce38e9948ed7099251d7e339   \n",
       "...                                           ...   \n",
       "715317           3c66c29e5c26efc705c261732b977950   \n",
       "715320           b4b1c6c0e7395c50f2cf0702dd1f85d6   \n",
       "715321           261bceb1e3440067b85f5c54444d91be   \n",
       "715322           c31a95cdd5635c6edfbde9143286b9b7   \n",
       "715323           d7031cd298948b2ca63565965eb77111   \n",
       "\n",
       "listening_order                                22  \\\n",
       "session_id                                          \n",
       "1                1071e128ee5f9e2a0f0be0aade025b39   \n",
       "2                822486e25be33911a62b3f12e549d24d   \n",
       "3                868bbeb92bd33a728dcf77d0073cd44d   \n",
       "4                e29a8f57507d7e4a926a6bd3d51841d3   \n",
       "5                995e60ea01e4f371dabd785e76aa5e2f   \n",
       "...                                           ...   \n",
       "715317           a0c8441cbe902320c846da76329a38e6   \n",
       "715320           dd45bfa90e9186681877c15eb0166a35   \n",
       "715321           65961a80125282df5c95b4c0a3606cc5   \n",
       "715322           aa41008b812435306a6fe831f40b0c11   \n",
       "715323           4dc776fa7a8db1bbe647e580e69dca9d   \n",
       "\n",
       "listening_order                                23  \\\n",
       "session_id                                          \n",
       "1                0100af68f3477f6bf724664d0b303f29   \n",
       "2                ed37d73c29e3696f65817916316bf05d   \n",
       "3                c4d98c14bd48ec0495239c1a65a5178c   \n",
       "4                f6c0c5501b42f208e094de2414ca1167   \n",
       "5                f5606954ce38e9948ed7099251d7e339   \n",
       "...                                           ...   \n",
       "715317           5d043bbef0ca3cf5385432478f3d3751   \n",
       "715320           c366d245501f007629813a28c9267d11   \n",
       "715321           a91ec5b2b51524c53ce866f621208087   \n",
       "715322           d1492ba4a2fdf555510934e9740ea8c3   \n",
       "715323           657cb54ed943148dc64f31b6de635591   \n",
       "\n",
       "listening_order                                24  \\\n",
       "session_id                                          \n",
       "1                22a696cede3609c20ba1bceb8de28032   \n",
       "2                197a95a09a55390eb435e35f7dab9f9f   \n",
       "3                4ea79c3619515a39423851b5ceca965e   \n",
       "4                e29a8f57507d7e4a926a6bd3d51841d3   \n",
       "5                995e60ea01e4f371dabd785e76aa5e2f   \n",
       "...                                           ...   \n",
       "715317           3b48c6883b4d16ddc07cb64b7be38d1c   \n",
       "715320           f4aabaca763955330cdf57f763d2a72c   \n",
       "715321           ab8683d279c095064693c282b8353b98   \n",
       "715322           f1bc21ff88fe47bac896fbe591fa2f5f   \n",
       "715323           0a696d765856a7b48bae85715cca06b2   \n",
       "\n",
       "listening_order                                25  score  \n",
       "session_id                                                \n",
       "1                d6476892c926c88c7f232fd800b75845      0  \n",
       "2                59844ef9a5e469cd13b1208c4f1142d1      0  \n",
       "3                d76c868bfb392d89b3ef222907de69fc      0  \n",
       "4                f6c0c5501b42f208e094de2414ca1167      0  \n",
       "5                b3ac505ffec601de591ce2ce2e010d30      0  \n",
       "...                                           ...    ...  \n",
       "715317           546da46c864f38bb193940a7b8704f44      0  \n",
       "715320           f4aabaca763955330cdf57f763d2a72c      0  \n",
       "715321           01c48d6a895a6efed0d5afba83b87902      0  \n",
       "715322           d1492ba4a2fdf555510934e9740ea8c3      0  \n",
       "715323           5aba5f02d054be2c82483cd905eb79d2      0  \n",
       "\n",
       "[572259 rows x 11 columns]"
      ]
     },
     "execution_count": 29,
     "metadata": {},
     "output_type": "execute_result"
    }
   ],
   "source": [
    "df['score'] = 0\n",
    "df"
   ]
  },
  {
   "cell_type": "code",
   "execution_count": 31,
   "metadata": {},
   "outputs": [
    {
     "name": "stdout",
     "output_type": "stream",
     "text": [
      "17 0.05118311813357239\n",
      "18 0.047941578900462904\n",
      "19 0.06867694522934545\n",
      "20 0.057650469455264135\n"
     ]
    }
   ],
   "source": [
    "for i in range(17,21):\n",
    "    print(i, (df[i]==df[21]).mean())"
   ]
  },
  {
   "cell_type": "code",
   "execution_count": 144,
   "metadata": {},
   "outputs": [
    {
     "data": {
      "text/plain": [
       "0.16598246770871328"
      ]
     },
     "execution_count": 144,
     "metadata": {},
     "output_type": "execute_result"
    }
   ],
   "source": [
    "0.06867694522934545*0.8 + test_source['session_id'].nunique()*4/meta_song.shape[0] *0.2"
   ]
  },
  {
   "cell_type": "code",
   "execution_count": 160,
   "metadata": {},
   "outputs": [
    {
     "data": {
      "text/plain": [
       "0.5847578945896877"
      ]
     },
     "execution_count": 160,
     "metadata": {},
     "output_type": "execute_result"
    }
   ],
   "source": [
    "df['score'] = 0.\n",
    "w = [1.0, 0.5, ]\n",
    "w =  [1.0, 0.63, 0.5, 0.43, 0.38]\n",
    "for j in range(21, 26):\n",
    "    for i in range(16, 21):\n",
    "        df['score'] += (df[i] == df[j])*w[j-21]\n",
    "s5 = df['score'].mean()*0.8\n",
    "s5"
   ]
  },
  {
   "cell_type": "code",
   "execution_count": 161,
   "metadata": {},
   "outputs": [
    {
     "data": {
      "text/plain": [
       "0.4805951990270141"
      ]
     },
     "execution_count": 161,
     "metadata": {},
     "output_type": "execute_result"
    }
   ],
   "source": [
    "df['score'] = 0.\n",
    "w = [1.0, 0.5, ]\n",
    "w =  [1.0, 0.63, 0.5, 0.43, 0.38]\n",
    "for j in range(21, 26):\n",
    "    for i in range(17, 21):\n",
    "        df['score'] += (df[i] == df[j])*w[j-21]\n",
    "s4 = df['score'].mean()*0.8\n",
    "s4"
   ]
  },
  {
   "cell_type": "code",
   "execution_count": 143,
   "metadata": {},
   "outputs": [],
   "source": [
    "v = []\n",
    "for i, x in df.iloc[:10000].iterrows():\n",
    "    s1 = set(x[[16, 17,18,19,20]].values)\n",
    "    s2 = set(x[[21,22,23,24,25]].values)\n",
    "    n = len(s1.intersection(s2))\n",
    "    v.append(n)"
   ]
  },
  {
   "cell_type": "code",
   "execution_count": 142,
   "metadata": {},
   "outputs": [
    {
     "data": {
      "text/plain": [
       "0.2878"
      ]
     },
     "execution_count": 142,
     "metadata": {},
     "output_type": "execute_result"
    }
   ],
   "source": [
    "import numpy as np \n",
    "np.mean(v)"
   ]
  },
  {
   "cell_type": "code",
   "execution_count": 44,
   "metadata": {},
   "outputs": [
    {
     "data": {
      "text/plain": [
       "0.2878"
      ]
     },
     "execution_count": 44,
     "metadata": {},
     "output_type": "execute_result"
    }
   ],
   "source": [
    "def afunc(row):\n",
    "    s1 = set(row[[17,18,19,20]].values)\n",
    "    s2 = set(row[[21,22,23,24,25]].values)\n",
    "    n = len(s1.intersection(s2))\n",
    "    return n\n",
    "df.iloc[:10000].apply(afunc, axis=1).mean()"
   ]
  },
  {
   "cell_type": "code",
   "execution_count": 58,
   "metadata": {},
   "outputs": [
    {
     "data": {
      "text/plain": [
       "song_id\n",
       "5    482641\n",
       "4     41971\n",
       "1     21436\n",
       "3     19674\n",
       "2      6537\n",
       "Name: count, dtype: int64"
      ]
     },
     "execution_count": 58,
     "metadata": {},
     "output_type": "execute_result"
    }
   ],
   "source": [
    "train_source.query('listening_order >= 16').groupby('session_id')['song_id'].nunique().value_counts()"
   ]
  },
  {
   "cell_type": "code",
   "execution_count": 61,
   "metadata": {},
   "outputs": [
    {
     "data": {
      "text/plain": [
       "song_id\n",
       "5    0.842196\n",
       "4    0.074428\n",
       "1    0.037186\n",
       "3    0.035054\n",
       "2    0.011135\n",
       "Name: count, dtype: float64"
      ]
     },
     "execution_count": 61,
     "metadata": {},
     "output_type": "execute_result"
    }
   ],
   "source": [
    "c2 = test_source.query('listening_order >= 16').groupby('session_id')['song_id'].nunique().value_counts()\n",
    "c2/test_source['session_id'].nunique()"
   ]
  },
  {
   "cell_type": "code",
   "execution_count": 147,
   "metadata": {},
   "outputs": [
    {
     "data": {
      "text/plain": [
       "0.027760227881309232"
      ]
     },
     "execution_count": 147,
     "metadata": {},
     "output_type": "execute_result"
    }
   ],
   "source": [
    "a1 = test_source['session_id'].nunique()/meta_song.shape[0] *0.2\n",
    "a1"
   ]
  },
  {
   "cell_type": "code",
   "execution_count": 145,
   "metadata": {},
   "outputs": [
    {
     "data": {
      "text/plain": [
       "0.21284453368142753"
      ]
     },
     "execution_count": 145,
     "metadata": {},
     "output_type": "execute_result"
    }
   ],
   "source": [
    "df['score'] = 0.\n",
    "w = [1.0, 0.5, ]\n",
    "w =  [1.0, 0.63, 0.5, 0.43, 0.38]\n",
    "for j in range(21, 26):\n",
    "    df['score'] += (df[[j]].values == df[[16,17,18,19,20]]).any(axis=1)*w[j-21]\n",
    "s5 = df['score'].mean()*0.8\n",
    "s5"
   ]
  },
  {
   "cell_type": "code",
   "execution_count": 155,
   "metadata": {},
   "outputs": [
    {
     "data": {
      "text/plain": [
       "0.03186632153307616"
      ]
     },
     "execution_count": 155,
     "metadata": {},
     "output_type": "execute_result"
    }
   ],
   "source": [
    "# sample 25% rows from df\n",
    "df_ = df.sample(frac=0.25)\n",
    "songs_ = len(set(df_[[16, 17,18,19,20]].values.ravel()))\n",
    "songs_/meta_song.shape[0]*0.2"
   ]
  },
  {
   "cell_type": "code",
   "execution_count": 156,
   "metadata": {},
   "outputs": [
    {
     "data": {
      "text/plain": [
       "0.2447108552145037"
      ]
     },
     "execution_count": 156,
     "metadata": {},
     "output_type": "execute_result"
    }
   ],
   "source": [
    "s5 + songs_/meta_song.shape[0]*0.2"
   ]
  },
  {
   "cell_type": "code",
   "execution_count": 157,
   "metadata": {},
   "outputs": [
    {
     "data": {
      "text/plain": [
       "0.2544561665454239"
      ]
     },
     "execution_count": 157,
     "metadata": {},
     "output_type": "execute_result"
    }
   ],
   "source": [
    "df['score'] = 0.\n",
    "w =  [1.0, 0.63, 0.5, 0.43, 0.38]\n",
    "for j in range(21, 26):\n",
    "    df['score'] += (df[[j]].values == df[[17,18,19,20]]).any(axis=1)*w[j-21]\n",
    "s4 = df['score'].mean()*0.8\n",
    "songs_ = len(set(df_[[17,18,19,20]].values.ravel()))\n",
    "songs_/meta_song.shape[0]*0.2 + s4 + a1"
   ]
  },
  {
   "cell_type": "code",
   "execution_count": 159,
   "metadata": {},
   "outputs": [
    {
     "data": {
      "text/plain": [
       "0.26122080480461696"
      ]
     },
     "execution_count": 159,
     "metadata": {},
     "output_type": "execute_result"
    }
   ],
   "source": [
    "df['score'] = 0.\n",
    "w =  [1.0, 0.63, 0.5, 0.43, 0.38]\n",
    "for j in range(21, 26):\n",
    "    df['score'] += (df[[j]].values == df[[18,19,20]]).any(axis=1)*w[j-21]\n",
    "s3 = df['score'].mean()*0.8\n",
    "songs_ = len(set(df_[[18,19,20]].values.ravel()))\n",
    "songs_/meta_song.shape[0]*0.2 + s3 + a1*2"
   ]
  },
  {
   "cell_type": "code",
   "execution_count": 160,
   "metadata": {},
   "outputs": [
    {
     "data": {
      "text/plain": [
       "0.26717220663295216"
      ]
     },
     "execution_count": 160,
     "metadata": {},
     "output_type": "execute_result"
    }
   ],
   "source": [
    "df['score'] = 0.\n",
    "w =  [1.0, 0.63, 0.5, 0.43, 0.38]\n",
    "for j in range(21, 26):\n",
    "    df['score'] += (df[[j]].values == df[[19,20]]).any(axis=1)*w[j-21]\n",
    "s2 = df['score'].mean()*0.8\n",
    "songs_ = len(set(df_[[19,20]].values.ravel()))\n",
    "songs_/meta_song.shape[0]*0.2 + s2 + a1*3"
   ]
  },
  {
   "cell_type": "code",
   "execution_count": 176,
   "metadata": {},
   "outputs": [
    {
     "data": {
      "text/plain": [
       "0.2537449261585162"
      ]
     },
     "execution_count": 176,
     "metadata": {},
     "output_type": "execute_result"
    }
   ],
   "source": [
    "\n",
    "df['score'] = 0.\n",
    "w =  [1.0, 0.63, 0.5, 0.43, 0.38]\n",
    "for j in range(21, 26):\n",
    "    df['score'] += (df[[j]].values == df[[20]]).any(axis=1)*w[j-21]\n",
    "s1 = df['score'].mean()*0.8\n",
    "songs_ = len(set(df_[[20]].values.ravel()))\n",
    "songs_/meta_song.shape[0]*0.2 + s1 + a1*4"
   ]
  },
  {
   "cell_type": "code",
   "execution_count": 161,
   "metadata": {},
   "outputs": [],
   "source": [
    "df2 = train_source[['session_id', 'song_id']].drop_duplicates().groupby('session_id').tail(5)"
   ]
  },
  {
   "cell_type": "code",
   "execution_count": 162,
   "metadata": {},
   "outputs": [
    {
     "data": {
      "text/html": [
       "<div>\n",
       "<style scoped>\n",
       "    .dataframe tbody tr th:only-of-type {\n",
       "        vertical-align: middle;\n",
       "    }\n",
       "\n",
       "    .dataframe tbody tr th {\n",
       "        vertical-align: top;\n",
       "    }\n",
       "\n",
       "    .dataframe thead th {\n",
       "        text-align: right;\n",
       "    }\n",
       "</style>\n",
       "<table border=\"1\" class=\"dataframe\">\n",
       "  <thead>\n",
       "    <tr style=\"text-align: right;\">\n",
       "      <th></th>\n",
       "      <th>session_id</th>\n",
       "      <th>song_id</th>\n",
       "    </tr>\n",
       "  </thead>\n",
       "  <tbody>\n",
       "    <tr>\n",
       "      <th>5</th>\n",
       "      <td>751</td>\n",
       "      <td>e4a125e3163e4c1bd40060614c79bd53</td>\n",
       "    </tr>\n",
       "    <tr>\n",
       "      <th>7</th>\n",
       "      <td>751</td>\n",
       "      <td>5ef6718f4517d2d3c316fc45226f41dc</td>\n",
       "    </tr>\n",
       "    <tr>\n",
       "      <th>10</th>\n",
       "      <td>751</td>\n",
       "      <td>e7efab54028017e35a35d1b1637e210c</td>\n",
       "    </tr>\n",
       "    <tr>\n",
       "      <th>11</th>\n",
       "      <td>751</td>\n",
       "      <td>3f8e8cbe4b5d55f07ba4c7ddfab624b7</td>\n",
       "    </tr>\n",
       "    <tr>\n",
       "      <th>16</th>\n",
       "      <td>751</td>\n",
       "      <td>a97177f0f37a2bae91d8e67831949392</td>\n",
       "    </tr>\n",
       "    <tr>\n",
       "      <th>...</th>\n",
       "      <td>...</td>\n",
       "      <td>...</td>\n",
       "    </tr>\n",
       "    <tr>\n",
       "      <th>11445163</th>\n",
       "      <td>458622</td>\n",
       "      <td>b18df7488a09a70978646cb727fcb28d</td>\n",
       "    </tr>\n",
       "    <tr>\n",
       "      <th>11445164</th>\n",
       "      <td>458622</td>\n",
       "      <td>7b768eb1c0a3d7b2501f69c232c7e4e2</td>\n",
       "    </tr>\n",
       "    <tr>\n",
       "      <th>11445165</th>\n",
       "      <td>458622</td>\n",
       "      <td>f71784d0af7ce778fdfd97665f468e72</td>\n",
       "    </tr>\n",
       "    <tr>\n",
       "      <th>11445166</th>\n",
       "      <td>458622</td>\n",
       "      <td>3943334f70f85190cd787847c0662524</td>\n",
       "    </tr>\n",
       "    <tr>\n",
       "      <th>11445167</th>\n",
       "      <td>458622</td>\n",
       "      <td>36c9ecb1a51b05734c2733b318d00c2d</td>\n",
       "    </tr>\n",
       "  </tbody>\n",
       "</table>\n",
       "<p>2792515 rows × 2 columns</p>\n",
       "</div>"
      ],
      "text/plain": [
       "          session_id                           song_id\n",
       "5                751  e4a125e3163e4c1bd40060614c79bd53\n",
       "7                751  5ef6718f4517d2d3c316fc45226f41dc\n",
       "10               751  e7efab54028017e35a35d1b1637e210c\n",
       "11               751  3f8e8cbe4b5d55f07ba4c7ddfab624b7\n",
       "16               751  a97177f0f37a2bae91d8e67831949392\n",
       "...              ...                               ...\n",
       "11445163      458622  b18df7488a09a70978646cb727fcb28d\n",
       "11445164      458622  7b768eb1c0a3d7b2501f69c232c7e4e2\n",
       "11445165      458622  f71784d0af7ce778fdfd97665f468e72\n",
       "11445166      458622  3943334f70f85190cd787847c0662524\n",
       "11445167      458622  36c9ecb1a51b05734c2733b318d00c2d\n",
       "\n",
       "[2792515 rows x 2 columns]"
      ]
     },
     "execution_count": 162,
     "metadata": {},
     "output_type": "execute_result"
    }
   ],
   "source": [
    "df2"
   ]
  },
  {
   "cell_type": "code",
   "execution_count": 163,
   "metadata": {},
   "outputs": [
    {
     "data": {
      "text/html": [
       "<div>\n",
       "<style scoped>\n",
       "    .dataframe tbody tr th:only-of-type {\n",
       "        vertical-align: middle;\n",
       "    }\n",
       "\n",
       "    .dataframe tbody tr th {\n",
       "        vertical-align: top;\n",
       "    }\n",
       "\n",
       "    .dataframe thead th {\n",
       "        text-align: right;\n",
       "    }\n",
       "</style>\n",
       "<table border=\"1\" class=\"dataframe\">\n",
       "  <thead>\n",
       "    <tr style=\"text-align: right;\">\n",
       "      <th>song_order</th>\n",
       "      <th>0</th>\n",
       "      <th>1</th>\n",
       "      <th>2</th>\n",
       "      <th>3</th>\n",
       "      <th>4</th>\n",
       "    </tr>\n",
       "    <tr>\n",
       "      <th>session_id</th>\n",
       "      <th></th>\n",
       "      <th></th>\n",
       "      <th></th>\n",
       "      <th></th>\n",
       "      <th></th>\n",
       "    </tr>\n",
       "  </thead>\n",
       "  <tbody>\n",
       "    <tr>\n",
       "      <th>1</th>\n",
       "      <td>824c159701c8553b0e38f0d36ddd6197</td>\n",
       "      <td>7bb8fadfc8f2bf145f4b29a0325fe79a</td>\n",
       "      <td>2ad3043e1a7e459ddb09c5ba27e475f8</td>\n",
       "      <td>8d1ee4d9df7226fd8af3c4466a48afdc</td>\n",
       "      <td>43fdd8f154e5c522eef60f6edfb38896</td>\n",
       "    </tr>\n",
       "    <tr>\n",
       "      <th>2</th>\n",
       "      <td>6309716e08a58c64871c823f44749686</td>\n",
       "      <td>3030938d53f52426ac30f213cf9915a1</td>\n",
       "      <td>ae75e2846669037aa91cac098e5009c3</td>\n",
       "      <td>76de3dbf97c1fd332edf77c3b15de62a</td>\n",
       "      <td>447b380f4fc4aba3602c0c34ae338c04</td>\n",
       "    </tr>\n",
       "    <tr>\n",
       "      <th>3</th>\n",
       "      <td>3b050c1502af19554bb9ef8efc67c00d</td>\n",
       "      <td>e904a955c0350ca5b1b6bb84174ee5be</td>\n",
       "      <td>e57c39b5735364b56ed8f743fa948697</td>\n",
       "      <td>6853db9b1b420754e4a687ec010de175</td>\n",
       "      <td>00adff9ffed0e635df711330cd977b61</td>\n",
       "    </tr>\n",
       "    <tr>\n",
       "      <th>4</th>\n",
       "      <td>e29a8f57507d7e4a926a6bd3d51841d3</td>\n",
       "      <td>a288350a1332f6716cde4eedbbf8443f</td>\n",
       "      <td>c0dc74fda2a54c6182e76dfbb5336e2e</td>\n",
       "      <td>4977f7d766adae48b96beeebc1694688</td>\n",
       "      <td>6650e87fecc3e969c0d48f7f5e9b2c81</td>\n",
       "    </tr>\n",
       "    <tr>\n",
       "      <th>5</th>\n",
       "      <td>fd96fd2df80abfae763c3693932f8b26</td>\n",
       "      <td>c10efc962e6b703053c2b44b7d48e8da</td>\n",
       "      <td>aaf15c1b9400651add7925c09b609461</td>\n",
       "      <td>e4c1e53d7b940bc597b0509fea1eb86a</td>\n",
       "      <td>d533b73d4d9ed22d700fa53677d22234</td>\n",
       "    </tr>\n",
       "    <tr>\n",
       "      <th>...</th>\n",
       "      <td>...</td>\n",
       "      <td>...</td>\n",
       "      <td>...</td>\n",
       "      <td>...</td>\n",
       "      <td>...</td>\n",
       "    </tr>\n",
       "    <tr>\n",
       "      <th>715317</th>\n",
       "      <td>cb6e848eff5f656c47a4541e6be72079</td>\n",
       "      <td>0f59db4259ec62fcf00399b69786a3c0</td>\n",
       "      <td>78c792b3afc368829431ef50a3d871dd</td>\n",
       "      <td>d3d7d56735c632f74a1c75403cc32d37</td>\n",
       "      <td>8a18062e8de6175f92948ba7ac1a5def</td>\n",
       "    </tr>\n",
       "    <tr>\n",
       "      <th>715320</th>\n",
       "      <td>aa7ce52650c7e4f7979e087cedb89020</td>\n",
       "      <td>477ecc7fb10644c0d31408030cd464c6</td>\n",
       "      <td>9702af9ea15361bf6b178e073514660d</td>\n",
       "      <td>1094d74090426c7540c1c234f3d4221e</td>\n",
       "      <td>0f9462bfa05d2d6926e03b2febf79eec</td>\n",
       "    </tr>\n",
       "    <tr>\n",
       "      <th>715321</th>\n",
       "      <td>fba1bc1cf12692b1dd65c98e79985e52</td>\n",
       "      <td>9e65aa27a1c3060b5909dda36859f39f</td>\n",
       "      <td>b784c2c425ed31d70f7007e949f6b177</td>\n",
       "      <td>f3dfc9b03cd7274cf55bacf080619a40</td>\n",
       "      <td>7d8efe6656950a8c4a0164d1936370fe</td>\n",
       "    </tr>\n",
       "    <tr>\n",
       "      <th>715322</th>\n",
       "      <td>826cf1a6e383fdbd900c3865d2edb010</td>\n",
       "      <td>de0705ecf72363e240e535dc8e9cc873</td>\n",
       "      <td>15ceebf52aa60d0d668cf628674bc291</td>\n",
       "      <td>575ef44cbd49a60d1c5d4f2d72c25af1</td>\n",
       "      <td>c31a95cdd5635c6edfbde9143286b9b7</td>\n",
       "    </tr>\n",
       "    <tr>\n",
       "      <th>715323</th>\n",
       "      <td>39415742a9ed09a9f85ea755c676be9a</td>\n",
       "      <td>9c6ce0c23159646a6acf5dd8e9f39a19</td>\n",
       "      <td>88c2975000726c4c9f21fba913dab088</td>\n",
       "      <td>4c8a29c6fb363a1531a944fb978c4a0b</td>\n",
       "      <td>65a4fa6c28e6c640c30bb9567ec07358</td>\n",
       "    </tr>\n",
       "  </tbody>\n",
       "</table>\n",
       "<p>572259 rows × 5 columns</p>\n",
       "</div>"
      ],
      "text/plain": [
       "song_order                                 0  \\\n",
       "session_id                                     \n",
       "1           824c159701c8553b0e38f0d36ddd6197   \n",
       "2           6309716e08a58c64871c823f44749686   \n",
       "3           3b050c1502af19554bb9ef8efc67c00d   \n",
       "4           e29a8f57507d7e4a926a6bd3d51841d3   \n",
       "5           fd96fd2df80abfae763c3693932f8b26   \n",
       "...                                      ...   \n",
       "715317      cb6e848eff5f656c47a4541e6be72079   \n",
       "715320      aa7ce52650c7e4f7979e087cedb89020   \n",
       "715321      fba1bc1cf12692b1dd65c98e79985e52   \n",
       "715322      826cf1a6e383fdbd900c3865d2edb010   \n",
       "715323      39415742a9ed09a9f85ea755c676be9a   \n",
       "\n",
       "song_order                                 1  \\\n",
       "session_id                                     \n",
       "1           7bb8fadfc8f2bf145f4b29a0325fe79a   \n",
       "2           3030938d53f52426ac30f213cf9915a1   \n",
       "3           e904a955c0350ca5b1b6bb84174ee5be   \n",
       "4           a288350a1332f6716cde4eedbbf8443f   \n",
       "5           c10efc962e6b703053c2b44b7d48e8da   \n",
       "...                                      ...   \n",
       "715317      0f59db4259ec62fcf00399b69786a3c0   \n",
       "715320      477ecc7fb10644c0d31408030cd464c6   \n",
       "715321      9e65aa27a1c3060b5909dda36859f39f   \n",
       "715322      de0705ecf72363e240e535dc8e9cc873   \n",
       "715323      9c6ce0c23159646a6acf5dd8e9f39a19   \n",
       "\n",
       "song_order                                 2  \\\n",
       "session_id                                     \n",
       "1           2ad3043e1a7e459ddb09c5ba27e475f8   \n",
       "2           ae75e2846669037aa91cac098e5009c3   \n",
       "3           e57c39b5735364b56ed8f743fa948697   \n",
       "4           c0dc74fda2a54c6182e76dfbb5336e2e   \n",
       "5           aaf15c1b9400651add7925c09b609461   \n",
       "...                                      ...   \n",
       "715317      78c792b3afc368829431ef50a3d871dd   \n",
       "715320      9702af9ea15361bf6b178e073514660d   \n",
       "715321      b784c2c425ed31d70f7007e949f6b177   \n",
       "715322      15ceebf52aa60d0d668cf628674bc291   \n",
       "715323      88c2975000726c4c9f21fba913dab088   \n",
       "\n",
       "song_order                                 3                                 4  \n",
       "session_id                                                                      \n",
       "1           8d1ee4d9df7226fd8af3c4466a48afdc  43fdd8f154e5c522eef60f6edfb38896  \n",
       "2           76de3dbf97c1fd332edf77c3b15de62a  447b380f4fc4aba3602c0c34ae338c04  \n",
       "3           6853db9b1b420754e4a687ec010de175  00adff9ffed0e635df711330cd977b61  \n",
       "4           4977f7d766adae48b96beeebc1694688  6650e87fecc3e969c0d48f7f5e9b2c81  \n",
       "5           e4c1e53d7b940bc597b0509fea1eb86a  d533b73d4d9ed22d700fa53677d22234  \n",
       "...                                      ...                               ...  \n",
       "715317      d3d7d56735c632f74a1c75403cc32d37  8a18062e8de6175f92948ba7ac1a5def  \n",
       "715320      1094d74090426c7540c1c234f3d4221e  0f9462bfa05d2d6926e03b2febf79eec  \n",
       "715321      f3dfc9b03cd7274cf55bacf080619a40  7d8efe6656950a8c4a0164d1936370fe  \n",
       "715322      575ef44cbd49a60d1c5d4f2d72c25af1  c31a95cdd5635c6edfbde9143286b9b7  \n",
       "715323      4c8a29c6fb363a1531a944fb978c4a0b  65a4fa6c28e6c640c30bb9567ec07358  \n",
       "\n",
       "[572259 rows x 5 columns]"
      ]
     },
     "execution_count": 163,
     "metadata": {},
     "output_type": "execute_result"
    }
   ],
   "source": [
    "df2['song_order'] = df2.iloc[::-1].groupby('session_id')['song_id'].cumcount()\n",
    "Z = df2.pivot_table(index='session_id', columns='song_order', values='song_id', aggfunc='first', fill_value='')\n",
    "Z"
   ]
  },
  {
   "cell_type": "code",
   "execution_count": 164,
   "metadata": {},
   "outputs": [
    {
     "data": {
      "text/html": [
       "<div>\n",
       "<style scoped>\n",
       "    .dataframe tbody tr th:only-of-type {\n",
       "        vertical-align: middle;\n",
       "    }\n",
       "\n",
       "    .dataframe tbody tr th {\n",
       "        vertical-align: top;\n",
       "    }\n",
       "\n",
       "    .dataframe thead th {\n",
       "        text-align: right;\n",
       "    }\n",
       "</style>\n",
       "<table border=\"1\" class=\"dataframe\">\n",
       "  <thead>\n",
       "    <tr style=\"text-align: right;\">\n",
       "      <th></th>\n",
       "      <th>0</th>\n",
       "      <th>1</th>\n",
       "      <th>2</th>\n",
       "      <th>3</th>\n",
       "      <th>4</th>\n",
       "      <th>21</th>\n",
       "      <th>22</th>\n",
       "      <th>23</th>\n",
       "      <th>24</th>\n",
       "      <th>25</th>\n",
       "    </tr>\n",
       "    <tr>\n",
       "      <th>session_id</th>\n",
       "      <th></th>\n",
       "      <th></th>\n",
       "      <th></th>\n",
       "      <th></th>\n",
       "      <th></th>\n",
       "      <th></th>\n",
       "      <th></th>\n",
       "      <th></th>\n",
       "      <th></th>\n",
       "      <th></th>\n",
       "    </tr>\n",
       "  </thead>\n",
       "  <tbody>\n",
       "    <tr>\n",
       "      <th>1</th>\n",
       "      <td>824c159701c8553b0e38f0d36ddd6197</td>\n",
       "      <td>7bb8fadfc8f2bf145f4b29a0325fe79a</td>\n",
       "      <td>2ad3043e1a7e459ddb09c5ba27e475f8</td>\n",
       "      <td>8d1ee4d9df7226fd8af3c4466a48afdc</td>\n",
       "      <td>43fdd8f154e5c522eef60f6edfb38896</td>\n",
       "      <td>b186d853cb06ceba2bd56bcdc701b8aa</td>\n",
       "      <td>1071e128ee5f9e2a0f0be0aade025b39</td>\n",
       "      <td>0100af68f3477f6bf724664d0b303f29</td>\n",
       "      <td>22a696cede3609c20ba1bceb8de28032</td>\n",
       "      <td>d6476892c926c88c7f232fd800b75845</td>\n",
       "    </tr>\n",
       "    <tr>\n",
       "      <th>2</th>\n",
       "      <td>6309716e08a58c64871c823f44749686</td>\n",
       "      <td>3030938d53f52426ac30f213cf9915a1</td>\n",
       "      <td>ae75e2846669037aa91cac098e5009c3</td>\n",
       "      <td>76de3dbf97c1fd332edf77c3b15de62a</td>\n",
       "      <td>447b380f4fc4aba3602c0c34ae338c04</td>\n",
       "      <td>cd6dade76334f76d993b913d10bb2ac7</td>\n",
       "      <td>822486e25be33911a62b3f12e549d24d</td>\n",
       "      <td>ed37d73c29e3696f65817916316bf05d</td>\n",
       "      <td>197a95a09a55390eb435e35f7dab9f9f</td>\n",
       "      <td>59844ef9a5e469cd13b1208c4f1142d1</td>\n",
       "    </tr>\n",
       "    <tr>\n",
       "      <th>3</th>\n",
       "      <td>3b050c1502af19554bb9ef8efc67c00d</td>\n",
       "      <td>e904a955c0350ca5b1b6bb84174ee5be</td>\n",
       "      <td>e57c39b5735364b56ed8f743fa948697</td>\n",
       "      <td>6853db9b1b420754e4a687ec010de175</td>\n",
       "      <td>00adff9ffed0e635df711330cd977b61</td>\n",
       "      <td>a17aab4730e49f8e2972bf26227b890c</td>\n",
       "      <td>868bbeb92bd33a728dcf77d0073cd44d</td>\n",
       "      <td>c4d98c14bd48ec0495239c1a65a5178c</td>\n",
       "      <td>4ea79c3619515a39423851b5ceca965e</td>\n",
       "      <td>d76c868bfb392d89b3ef222907de69fc</td>\n",
       "    </tr>\n",
       "    <tr>\n",
       "      <th>4</th>\n",
       "      <td>e29a8f57507d7e4a926a6bd3d51841d3</td>\n",
       "      <td>a288350a1332f6716cde4eedbbf8443f</td>\n",
       "      <td>c0dc74fda2a54c6182e76dfbb5336e2e</td>\n",
       "      <td>4977f7d766adae48b96beeebc1694688</td>\n",
       "      <td>6650e87fecc3e969c0d48f7f5e9b2c81</td>\n",
       "      <td>f6c0c5501b42f208e094de2414ca1167</td>\n",
       "      <td>e29a8f57507d7e4a926a6bd3d51841d3</td>\n",
       "      <td>f6c0c5501b42f208e094de2414ca1167</td>\n",
       "      <td>e29a8f57507d7e4a926a6bd3d51841d3</td>\n",
       "      <td>f6c0c5501b42f208e094de2414ca1167</td>\n",
       "    </tr>\n",
       "    <tr>\n",
       "      <th>5</th>\n",
       "      <td>fd96fd2df80abfae763c3693932f8b26</td>\n",
       "      <td>c10efc962e6b703053c2b44b7d48e8da</td>\n",
       "      <td>aaf15c1b9400651add7925c09b609461</td>\n",
       "      <td>e4c1e53d7b940bc597b0509fea1eb86a</td>\n",
       "      <td>d533b73d4d9ed22d700fa53677d22234</td>\n",
       "      <td>f5606954ce38e9948ed7099251d7e339</td>\n",
       "      <td>995e60ea01e4f371dabd785e76aa5e2f</td>\n",
       "      <td>f5606954ce38e9948ed7099251d7e339</td>\n",
       "      <td>995e60ea01e4f371dabd785e76aa5e2f</td>\n",
       "      <td>b3ac505ffec601de591ce2ce2e010d30</td>\n",
       "    </tr>\n",
       "    <tr>\n",
       "      <th>...</th>\n",
       "      <td>...</td>\n",
       "      <td>...</td>\n",
       "      <td>...</td>\n",
       "      <td>...</td>\n",
       "      <td>...</td>\n",
       "      <td>...</td>\n",
       "      <td>...</td>\n",
       "      <td>...</td>\n",
       "      <td>...</td>\n",
       "      <td>...</td>\n",
       "    </tr>\n",
       "    <tr>\n",
       "      <th>715317</th>\n",
       "      <td>cb6e848eff5f656c47a4541e6be72079</td>\n",
       "      <td>0f59db4259ec62fcf00399b69786a3c0</td>\n",
       "      <td>78c792b3afc368829431ef50a3d871dd</td>\n",
       "      <td>d3d7d56735c632f74a1c75403cc32d37</td>\n",
       "      <td>8a18062e8de6175f92948ba7ac1a5def</td>\n",
       "      <td>3c66c29e5c26efc705c261732b977950</td>\n",
       "      <td>a0c8441cbe902320c846da76329a38e6</td>\n",
       "      <td>5d043bbef0ca3cf5385432478f3d3751</td>\n",
       "      <td>3b48c6883b4d16ddc07cb64b7be38d1c</td>\n",
       "      <td>546da46c864f38bb193940a7b8704f44</td>\n",
       "    </tr>\n",
       "    <tr>\n",
       "      <th>715320</th>\n",
       "      <td>aa7ce52650c7e4f7979e087cedb89020</td>\n",
       "      <td>477ecc7fb10644c0d31408030cd464c6</td>\n",
       "      <td>9702af9ea15361bf6b178e073514660d</td>\n",
       "      <td>1094d74090426c7540c1c234f3d4221e</td>\n",
       "      <td>0f9462bfa05d2d6926e03b2febf79eec</td>\n",
       "      <td>b4b1c6c0e7395c50f2cf0702dd1f85d6</td>\n",
       "      <td>dd45bfa90e9186681877c15eb0166a35</td>\n",
       "      <td>c366d245501f007629813a28c9267d11</td>\n",
       "      <td>f4aabaca763955330cdf57f763d2a72c</td>\n",
       "      <td>f4aabaca763955330cdf57f763d2a72c</td>\n",
       "    </tr>\n",
       "    <tr>\n",
       "      <th>715321</th>\n",
       "      <td>fba1bc1cf12692b1dd65c98e79985e52</td>\n",
       "      <td>9e65aa27a1c3060b5909dda36859f39f</td>\n",
       "      <td>b784c2c425ed31d70f7007e949f6b177</td>\n",
       "      <td>f3dfc9b03cd7274cf55bacf080619a40</td>\n",
       "      <td>7d8efe6656950a8c4a0164d1936370fe</td>\n",
       "      <td>261bceb1e3440067b85f5c54444d91be</td>\n",
       "      <td>65961a80125282df5c95b4c0a3606cc5</td>\n",
       "      <td>a91ec5b2b51524c53ce866f621208087</td>\n",
       "      <td>ab8683d279c095064693c282b8353b98</td>\n",
       "      <td>01c48d6a895a6efed0d5afba83b87902</td>\n",
       "    </tr>\n",
       "    <tr>\n",
       "      <th>715322</th>\n",
       "      <td>826cf1a6e383fdbd900c3865d2edb010</td>\n",
       "      <td>de0705ecf72363e240e535dc8e9cc873</td>\n",
       "      <td>15ceebf52aa60d0d668cf628674bc291</td>\n",
       "      <td>575ef44cbd49a60d1c5d4f2d72c25af1</td>\n",
       "      <td>c31a95cdd5635c6edfbde9143286b9b7</td>\n",
       "      <td>c31a95cdd5635c6edfbde9143286b9b7</td>\n",
       "      <td>aa41008b812435306a6fe831f40b0c11</td>\n",
       "      <td>d1492ba4a2fdf555510934e9740ea8c3</td>\n",
       "      <td>f1bc21ff88fe47bac896fbe591fa2f5f</td>\n",
       "      <td>d1492ba4a2fdf555510934e9740ea8c3</td>\n",
       "    </tr>\n",
       "    <tr>\n",
       "      <th>715323</th>\n",
       "      <td>39415742a9ed09a9f85ea755c676be9a</td>\n",
       "      <td>9c6ce0c23159646a6acf5dd8e9f39a19</td>\n",
       "      <td>88c2975000726c4c9f21fba913dab088</td>\n",
       "      <td>4c8a29c6fb363a1531a944fb978c4a0b</td>\n",
       "      <td>65a4fa6c28e6c640c30bb9567ec07358</td>\n",
       "      <td>d7031cd298948b2ca63565965eb77111</td>\n",
       "      <td>4dc776fa7a8db1bbe647e580e69dca9d</td>\n",
       "      <td>657cb54ed943148dc64f31b6de635591</td>\n",
       "      <td>0a696d765856a7b48bae85715cca06b2</td>\n",
       "      <td>5aba5f02d054be2c82483cd905eb79d2</td>\n",
       "    </tr>\n",
       "  </tbody>\n",
       "</table>\n",
       "<p>572259 rows × 10 columns</p>\n",
       "</div>"
      ],
      "text/plain": [
       "                                          0   \\\n",
       "session_id                                     \n",
       "1           824c159701c8553b0e38f0d36ddd6197   \n",
       "2           6309716e08a58c64871c823f44749686   \n",
       "3           3b050c1502af19554bb9ef8efc67c00d   \n",
       "4           e29a8f57507d7e4a926a6bd3d51841d3   \n",
       "5           fd96fd2df80abfae763c3693932f8b26   \n",
       "...                                      ...   \n",
       "715317      cb6e848eff5f656c47a4541e6be72079   \n",
       "715320      aa7ce52650c7e4f7979e087cedb89020   \n",
       "715321      fba1bc1cf12692b1dd65c98e79985e52   \n",
       "715322      826cf1a6e383fdbd900c3865d2edb010   \n",
       "715323      39415742a9ed09a9f85ea755c676be9a   \n",
       "\n",
       "                                          1   \\\n",
       "session_id                                     \n",
       "1           7bb8fadfc8f2bf145f4b29a0325fe79a   \n",
       "2           3030938d53f52426ac30f213cf9915a1   \n",
       "3           e904a955c0350ca5b1b6bb84174ee5be   \n",
       "4           a288350a1332f6716cde4eedbbf8443f   \n",
       "5           c10efc962e6b703053c2b44b7d48e8da   \n",
       "...                                      ...   \n",
       "715317      0f59db4259ec62fcf00399b69786a3c0   \n",
       "715320      477ecc7fb10644c0d31408030cd464c6   \n",
       "715321      9e65aa27a1c3060b5909dda36859f39f   \n",
       "715322      de0705ecf72363e240e535dc8e9cc873   \n",
       "715323      9c6ce0c23159646a6acf5dd8e9f39a19   \n",
       "\n",
       "                                          2   \\\n",
       "session_id                                     \n",
       "1           2ad3043e1a7e459ddb09c5ba27e475f8   \n",
       "2           ae75e2846669037aa91cac098e5009c3   \n",
       "3           e57c39b5735364b56ed8f743fa948697   \n",
       "4           c0dc74fda2a54c6182e76dfbb5336e2e   \n",
       "5           aaf15c1b9400651add7925c09b609461   \n",
       "...                                      ...   \n",
       "715317      78c792b3afc368829431ef50a3d871dd   \n",
       "715320      9702af9ea15361bf6b178e073514660d   \n",
       "715321      b784c2c425ed31d70f7007e949f6b177   \n",
       "715322      15ceebf52aa60d0d668cf628674bc291   \n",
       "715323      88c2975000726c4c9f21fba913dab088   \n",
       "\n",
       "                                          3   \\\n",
       "session_id                                     \n",
       "1           8d1ee4d9df7226fd8af3c4466a48afdc   \n",
       "2           76de3dbf97c1fd332edf77c3b15de62a   \n",
       "3           6853db9b1b420754e4a687ec010de175   \n",
       "4           4977f7d766adae48b96beeebc1694688   \n",
       "5           e4c1e53d7b940bc597b0509fea1eb86a   \n",
       "...                                      ...   \n",
       "715317      d3d7d56735c632f74a1c75403cc32d37   \n",
       "715320      1094d74090426c7540c1c234f3d4221e   \n",
       "715321      f3dfc9b03cd7274cf55bacf080619a40   \n",
       "715322      575ef44cbd49a60d1c5d4f2d72c25af1   \n",
       "715323      4c8a29c6fb363a1531a944fb978c4a0b   \n",
       "\n",
       "                                          4   \\\n",
       "session_id                                     \n",
       "1           43fdd8f154e5c522eef60f6edfb38896   \n",
       "2           447b380f4fc4aba3602c0c34ae338c04   \n",
       "3           00adff9ffed0e635df711330cd977b61   \n",
       "4           6650e87fecc3e969c0d48f7f5e9b2c81   \n",
       "5           d533b73d4d9ed22d700fa53677d22234   \n",
       "...                                      ...   \n",
       "715317      8a18062e8de6175f92948ba7ac1a5def   \n",
       "715320      0f9462bfa05d2d6926e03b2febf79eec   \n",
       "715321      7d8efe6656950a8c4a0164d1936370fe   \n",
       "715322      c31a95cdd5635c6edfbde9143286b9b7   \n",
       "715323      65a4fa6c28e6c640c30bb9567ec07358   \n",
       "\n",
       "                                          21  \\\n",
       "session_id                                     \n",
       "1           b186d853cb06ceba2bd56bcdc701b8aa   \n",
       "2           cd6dade76334f76d993b913d10bb2ac7   \n",
       "3           a17aab4730e49f8e2972bf26227b890c   \n",
       "4           f6c0c5501b42f208e094de2414ca1167   \n",
       "5           f5606954ce38e9948ed7099251d7e339   \n",
       "...                                      ...   \n",
       "715317      3c66c29e5c26efc705c261732b977950   \n",
       "715320      b4b1c6c0e7395c50f2cf0702dd1f85d6   \n",
       "715321      261bceb1e3440067b85f5c54444d91be   \n",
       "715322      c31a95cdd5635c6edfbde9143286b9b7   \n",
       "715323      d7031cd298948b2ca63565965eb77111   \n",
       "\n",
       "                                          22  \\\n",
       "session_id                                     \n",
       "1           1071e128ee5f9e2a0f0be0aade025b39   \n",
       "2           822486e25be33911a62b3f12e549d24d   \n",
       "3           868bbeb92bd33a728dcf77d0073cd44d   \n",
       "4           e29a8f57507d7e4a926a6bd3d51841d3   \n",
       "5           995e60ea01e4f371dabd785e76aa5e2f   \n",
       "...                                      ...   \n",
       "715317      a0c8441cbe902320c846da76329a38e6   \n",
       "715320      dd45bfa90e9186681877c15eb0166a35   \n",
       "715321      65961a80125282df5c95b4c0a3606cc5   \n",
       "715322      aa41008b812435306a6fe831f40b0c11   \n",
       "715323      4dc776fa7a8db1bbe647e580e69dca9d   \n",
       "\n",
       "                                          23  \\\n",
       "session_id                                     \n",
       "1           0100af68f3477f6bf724664d0b303f29   \n",
       "2           ed37d73c29e3696f65817916316bf05d   \n",
       "3           c4d98c14bd48ec0495239c1a65a5178c   \n",
       "4           f6c0c5501b42f208e094de2414ca1167   \n",
       "5           f5606954ce38e9948ed7099251d7e339   \n",
       "...                                      ...   \n",
       "715317      5d043bbef0ca3cf5385432478f3d3751   \n",
       "715320      c366d245501f007629813a28c9267d11   \n",
       "715321      a91ec5b2b51524c53ce866f621208087   \n",
       "715322      d1492ba4a2fdf555510934e9740ea8c3   \n",
       "715323      657cb54ed943148dc64f31b6de635591   \n",
       "\n",
       "                                          24                                25  \n",
       "session_id                                                                      \n",
       "1           22a696cede3609c20ba1bceb8de28032  d6476892c926c88c7f232fd800b75845  \n",
       "2           197a95a09a55390eb435e35f7dab9f9f  59844ef9a5e469cd13b1208c4f1142d1  \n",
       "3           4ea79c3619515a39423851b5ceca965e  d76c868bfb392d89b3ef222907de69fc  \n",
       "4           e29a8f57507d7e4a926a6bd3d51841d3  f6c0c5501b42f208e094de2414ca1167  \n",
       "5           995e60ea01e4f371dabd785e76aa5e2f  b3ac505ffec601de591ce2ce2e010d30  \n",
       "...                                      ...                               ...  \n",
       "715317      3b48c6883b4d16ddc07cb64b7be38d1c  546da46c864f38bb193940a7b8704f44  \n",
       "715320      f4aabaca763955330cdf57f763d2a72c  f4aabaca763955330cdf57f763d2a72c  \n",
       "715321      ab8683d279c095064693c282b8353b98  01c48d6a895a6efed0d5afba83b87902  \n",
       "715322      f1bc21ff88fe47bac896fbe591fa2f5f  d1492ba4a2fdf555510934e9740ea8c3  \n",
       "715323      0a696d765856a7b48bae85715cca06b2  5aba5f02d054be2c82483cd905eb79d2  \n",
       "\n",
       "[572259 rows x 10 columns]"
      ]
     },
     "execution_count": 164,
     "metadata": {},
     "output_type": "execute_result"
    }
   ],
   "source": [
    "df3 = pd.concat([Z, df[[21,22,23,24,25]]], axis=1)\n",
    "df3"
   ]
  },
  {
   "cell_type": "code",
   "execution_count": 167,
   "metadata": {},
   "outputs": [],
   "source": [
    "df3_ = df3.sample(frac=0.25)"
   ]
  },
  {
   "cell_type": "code",
   "execution_count": 170,
   "metadata": {},
   "outputs": [
    {
     "data": {
      "text/plain": [
       "0.261087581862801"
      ]
     },
     "execution_count": 170,
     "metadata": {},
     "output_type": "execute_result"
    }
   ],
   "source": [
    "\n",
    "df3['score'] = 0.\n",
    "w =  [1.0, 0.63, 0.5, 0.43, 0.38]\n",
    "for j in range(21, 26):\n",
    "    df3['score'] += (df3[[j]].values == df3[[0,1,2,3,4]]).any(axis=1)*w[j-21]\n",
    "s5 = df3['score'].mean()*0.8\n",
    "songs_ = len(set(df3_[[0,1,2,3,4]].values.ravel()))\n",
    "songs_/meta_song.shape[0]*0.2 + s5"
   ]
  },
  {
   "cell_type": "code",
   "execution_count": 105,
   "metadata": {},
   "outputs": [
    {
     "data": {
      "text/plain": [
       "0.26010593034423907"
      ]
     },
     "execution_count": 105,
     "metadata": {},
     "output_type": "execute_result"
    }
   ],
   "source": [
    "test_source.query('listening_order >= 16')['song_id'].nunique()/meta_song.shape[0]*0.2+s5"
   ]
  },
  {
   "cell_type": "code",
   "execution_count": 171,
   "metadata": {},
   "outputs": [
    {
     "data": {
      "text/plain": [
       "0.26120012542492116"
      ]
     },
     "execution_count": 171,
     "metadata": {},
     "output_type": "execute_result"
    }
   ],
   "source": [
    "\n",
    "s5_songs = test_source[['session_id', 'song_id']].drop_duplicates().groupby('session_id').tail(5)['song_id'].nunique()\n",
    "s5_songs/meta_song.shape[0]*0.2+s5"
   ]
  },
  {
   "cell_type": "code",
   "execution_count": 173,
   "metadata": {},
   "outputs": [
    {
     "data": {
      "text/plain": [
       "0.26554596270993763"
      ]
     },
     "execution_count": 173,
     "metadata": {},
     "output_type": "execute_result"
    }
   ],
   "source": [
    "df3['score'] = 0.\n",
    "w =  [1.0, 0.63, 0.5, 0.43, 0.38]\n",
    "for j in range(21, 26):\n",
    "    df3['score'] += (df3[[j]].values == df3[[0,1,2,3]]).any(axis=1)*w[j-21]\n",
    "songs_ = len(set(df3_[[0,1,2,3]].values.ravel()))\n",
    "s4= df3['score'].mean()*0.8\n",
    "songs_/meta_song.shape[0]*0.2 + s4+a1"
   ]
  },
  {
   "cell_type": "code",
   "execution_count": 174,
   "metadata": {},
   "outputs": [
    {
     "data": {
      "text/plain": [
       "0.26524850649761833"
      ]
     },
     "execution_count": 174,
     "metadata": {},
     "output_type": "execute_result"
    }
   ],
   "source": [
    "df3['score'] = 0.\n",
    "w =  [1.0, 0.63, 0.5, 0.43, 0.38]\n",
    "for j in range(21, 26):\n",
    "    df3['score'] += (df3[[j]].values == df3[[0,1,2]]).any(axis=1)*w[j-21]\n",
    "songs_ = len(set(df3_[[0,1,2]].values.ravel()))\n",
    "s3= df3['score'].mean()*0.8\n",
    "songs_/meta_song.shape[0]*0.2 + s3+a1*2"
   ]
  },
  {
   "cell_type": "code",
   "execution_count": 177,
   "metadata": {},
   "outputs": [
    {
     "data": {
      "text/plain": [
       "0.26233257602071564"
      ]
     },
     "execution_count": 177,
     "metadata": {},
     "output_type": "execute_result"
    }
   ],
   "source": [
    "df3['score'] = 0.\n",
    "w =  [1.0, 0.63, 0.5, 0.43, 0.38]\n",
    "for j in range(21, 26):\n",
    "    df3['score'] += (df3[[j]].values == df3[[0,1]]).any(axis=1)*w[j-21]\n",
    "songs_ = len(set(df3_[[0,1]].values.ravel()))\n",
    "s2= df3['score'].mean()*0.8\n",
    "songs_/meta_song.shape[0]*0.2 + s2+a1*3"
   ]
  },
  {
   "cell_type": "code",
   "execution_count": 178,
   "metadata": {},
   "outputs": [
    {
     "data": {
      "text/plain": [
       "0.24482380479256613"
      ]
     },
     "execution_count": 178,
     "metadata": {},
     "output_type": "execute_result"
    }
   ],
   "source": [
    "df3['score'] = 0.\n",
    "w =  [1.0, 0.63, 0.5, 0.43, 0.38]\n",
    "for j in range(21, 26):\n",
    "    df3['score'] += (df3[[j]].values == df3[[0]]).any(axis=1)*w[j-21]\n",
    "songs_ = len(set(df3_[[0]].values.ravel()))\n",
    "s1= df3['score'].mean()*0.8\n",
    "songs_/meta_song.shape[0]*0.2 + s1+a1*4"
   ]
  },
  {
   "cell_type": "code",
   "execution_count": null,
   "metadata": {},
   "outputs": [],
   "source": []
  }
 ],
 "metadata": {
  "kernelspec": {
   "display_name": "test1",
   "language": "python",
   "name": "python3"
  },
  "language_info": {
   "codemirror_mode": {
    "name": "ipython",
    "version": 3
   },
   "file_extension": ".py",
   "mimetype": "text/x-python",
   "name": "python",
   "nbconvert_exporter": "python",
   "pygments_lexer": "ipython3",
   "version": "3.11.5"
  }
 },
 "nbformat": 4,
 "nbformat_minor": 2
}
