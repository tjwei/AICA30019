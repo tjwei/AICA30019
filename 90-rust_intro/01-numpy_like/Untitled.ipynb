{
 "cells": [
  {
   "cell_type": "code",
   "execution_count": 28,
   "id": "0e5fb21c-a299-4431-9c8b-d7fdd8232891",
   "metadata": {
    "tags": []
   },
   "outputs": [],
   "source": [
    "macro_rules! tt {\n",
    "    ($t:tt) => { stringify! ($t) };\n",
    "}"
   ]
  },
  {
   "cell_type": "code",
   "execution_count": 26,
   "id": "4b5176ea-1d40-43c5-bafd-f95e6b8426b2",
   "metadata": {
    "tags": []
   },
   "outputs": [
    {
     "name": "stdout",
     "output_type": "stream",
     "text": [
      "for i in range(10) : print(i)\n"
     ]
    }
   ],
   "source": [
    "tt!{for i in range(10):\n",
    "        print(i)\n",
    "\n",
    "};"
   ]
  },
  {
   "cell_type": "code",
   "execution_count": 17,
   "id": "cedea302-cea1-4077-a8cd-c73de80efe55",
   "metadata": {
    "tags": []
   },
   "outputs": [
    {
     "data": {
      "text/plain": [
       "\"aa bb dd ee ff gg\""
      ]
     },
     "execution_count": 17,
     "metadata": {},
     "output_type": "execute_result"
    }
   ],
   "source": [
    "stringify!{aa bb dd ee ff gg}"
   ]
  },
  {
   "cell_type": "code",
   "execution_count": 31,
   "id": "aae8f52a-59e1-4d5e-9a24-07fff923e172",
   "metadata": {
    "tags": []
   },
   "outputs": [
    {
     "data": {
      "text/plain": [
       "\"{ aa bb cc }\""
      ]
     },
     "execution_count": 31,
     "metadata": {},
     "output_type": "execute_result"
    }
   ],
   "source": [
    "tt!({aa \n",
    "    \n",
    "    bb cc})"
   ]
  },
  {
   "cell_type": "code",
   "execution_count": 34,
   "id": "c2dbd457-107a-4f4d-a155-b2297cec884e",
   "metadata": {
    "tags": []
   },
   "outputs": [
    {
     "data": {
      "text/plain": [
       "\"{ aa bb cc }\""
      ]
     },
     "execution_count": 34,
     "metadata": {},
     "output_type": "execute_result"
    }
   ],
   "source": [
    "stringify!({aa \n",
    "    bb \n",
    "    cc})"
   ]
  },
  {
   "cell_type": "code",
   "execution_count": null,
   "id": "0ad4a55f-69ba-47bd-8d16-ceb6956c29aa",
   "metadata": {},
   "outputs": [],
   "source": []
  }
 ],
 "metadata": {
  "kernelspec": {
   "display_name": "Rust",
   "language": "rust",
   "name": "rust"
  },
  "language_info": {
   "codemirror_mode": "rust",
   "file_extension": ".rs",
   "mimetype": "text/rust",
   "name": "Rust",
   "pygment_lexer": "rust",
   "version": ""
  }
 },
 "nbformat": 4,
 "nbformat_minor": 5
}
