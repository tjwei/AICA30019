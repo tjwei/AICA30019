{
 "cells": [
  {
   "cell_type": "code",
   "execution_count": 2,
   "id": "587653d6-6ca2-4cbc-9643-53f479b88759",
   "metadata": {
    "tags": []
   },
   "outputs": [],
   "source": [
    ":dep ndarray\n",
    "use ndarray::array;\n",
    "use ndarray::ArrayBase"
   ]
  },
  {
   "cell_type": "code",
   "execution_count": 3,
   "id": "a98fecc3-185e-4d5b-848e-9cec5df14844",
   "metadata": {
    "tags": []
   },
   "outputs": [
    {
     "data": {
      "text/plain": [
       "[1, 2, 3, 4], shape=[4], strides=[1], layout=CFcf (0xf), const ndim=1"
      ]
     },
     "execution_count": 3,
     "metadata": {},
     "output_type": "execute_result"
    }
   ],
   "source": [
    "let a1 = array![1, 2, 3, 4];\n",
    "a1"
   ]
  },
  {
   "cell_type": "code",
   "execution_count": 4,
   "id": "9549d426-d1ad-40da-90c7-a9cd20c07710",
   "metadata": {},
   "outputs": [
    {
     "data": {
      "text/html": [
       "a1: ArrayBase<ndarray::OwnedRepr<i32>, ndarray::Dim<[usize; 1]>>"
      ],
      "text/plain": [
       "a1: ArrayBase<ndarray::OwnedRepr<i32>, ndarray::Dim<[usize; 1]>>"
      ]
     },
     "execution_count": 4,
     "metadata": {},
     "output_type": "execute_result"
    }
   ],
   "source": [
    ":t a1"
   ]
  },
  {
   "cell_type": "code",
   "execution_count": 5,
   "id": "a6361ff7-bd4b-4655-909e-172aafd22d07",
   "metadata": {
    "tags": []
   },
   "outputs": [
    {
     "data": {
      "text/plain": [
       "[[1, 2, 3],\n",
       " [4, 5, 6],\n",
       " [7, 8, 9]], shape=[3, 3], strides=[3, 1], layout=Cc (0x5), const ndim=2"
      ]
     },
     "execution_count": 5,
     "metadata": {},
     "output_type": "execute_result"
    }
   ],
   "source": [
    "let y = array![[1, 2, 3],\n",
    "                [4, 5, 6],\n",
    "                [7,8,9]];\n",
    "y"
   ]
  },
  {
   "cell_type": "code",
   "execution_count": 6,
   "id": "170ae017-5906-413d-bf0d-6f44a1284f58",
   "metadata": {},
   "outputs": [
    {
     "data": {
      "text/plain": [
       "[\"a\", \"bcc\", \"c\"], shape=[3], strides=[1], layout=CFcf (0xf), const ndim=1"
      ]
     },
     "execution_count": 6,
     "metadata": {},
     "output_type": "execute_result"
    }
   ],
   "source": [
    "array![\"a\", \"bcc\", \"c\"]"
   ]
  },
  {
   "cell_type": "code",
   "execution_count": 7,
   "id": "c49004a6-fa19-44a1-965b-d513e05766f5",
   "metadata": {
    "tags": []
   },
   "outputs": [
    {
     "data": {
      "text/plain": [
       "[[[1, 2],\n",
       "  [3, 4]],\n",
       "\n",
       " [[5, 6],\n",
       "  [7, 8]]], shape=[2, 2, 2], strides=[4, 2, 1], layout=Cc (0x5), const ndim=3"
      ]
     },
     "execution_count": 7,
     "metadata": {},
     "output_type": "execute_result"
    }
   ],
   "source": [
    "let a3 = array![[[1, 2], [3, 4]],\n",
    "                [[5, 6], [7, 8]]];\n",
    "a3"
   ]
  },
  {
   "cell_type": "code",
   "execution_count": 11,
   "id": "11ca147f-cd20-4349-bd21-118d16fa6f24",
   "metadata": {},
   "outputs": [
    {
     "data": {
      "text/plain": [
       "[[[[1, 2],\n",
       "   [3, 4]],\n",
       "\n",
       "  [[5, 6],\n",
       "   [7, 8]]],\n",
       "\n",
       "\n",
       " [[[1, 2],\n",
       "   [3, 4]],\n",
       "\n",
       "  [[5, 6],\n",
       "   [7, 8]]]], shape=[2, 2, 2, 2], strides=[8, 4, 2, 1], layout=Cc (0x5), const ndim=4"
      ]
     },
     "execution_count": 11,
     "metadata": {},
     "output_type": "execute_result"
    }
   ],
   "source": [
    "use ndarray::{arr2, Axis, concatenate, stack};\n",
    "let a4 = stack(Axis(0), &[a3.view(), a3.view()]).unwrap();\n",
    "a4"
   ]
  },
  {
   "cell_type": "code",
   "execution_count": 12,
   "id": "9327dacb-360b-4277-950e-0b435fa7733d",
   "metadata": {
    "tags": []
   },
   "outputs": [],
   "source": [
    ":dep pyo3 = {version=\"0.19.2\", features=[\"auto-initialize\"]}\n",
    ":dep numpy"
   ]
  },
  {
   "cell_type": "code",
   "execution_count": 13,
   "id": "a500a24e-31a6-4f0d-a676-2063fff291a0",
   "metadata": {
    "tags": []
   },
   "outputs": [],
   "source": [
    "use numpy::pyo3::Python;\n",
    "use numpy::pyo3::prelude::*;\n",
    "use numpy::ndarray::array;\n",
    "use numpy::{ToPyArray, PyArray};"
   ]
  },
  {
   "cell_type": "code",
   "execution_count": 14,
   "id": "e6f02ce3-ff6e-4990-af67-73d42e51f838",
   "metadata": {
    "tags": []
   },
   "outputs": [
    {
     "name": "stderr",
     "output_type": "stream",
     "text": [
      "The type of the variable a4 was redefined, so was lost.\n",
      "The type of the variable a3 was redefined, so was lost.\n",
      "The type of the variable a1 was redefined, so was lost.\n",
      "The type of the variable y was redefined, so was lost.\n",
      "[src/lib.rs:20] py_array.readonly() = PyReadonlyArray<i64, ndarray::dimension::dim::Dim<[usize; 2]>>\n"
     ]
    },
    {
     "name": "stdout",
     "output_type": "stream",
     "text": [
      "array([[1, 2],\n",
      "       [3, 4]], dtype=int64)\n"
     ]
    }
   ],
   "source": [
    "Python::with_gil(|py| -> PyResult<()> {\n",
    "    let py_array = array![[1i64, 2], [3, 4]].to_pyarray(py);\n",
    "    println!(\"{:?}\", py_array);\n",
    "   //let arr = py_array.readonly().as_array();    \n",
    "    dbg!(py_array.readonly());\n",
    "    Ok(())\n",
    "});"
   ]
  },
  {
   "cell_type": "code",
   "execution_count": null,
   "id": "52737988-ff9c-4a71-8312-fca2f7678e8b",
   "metadata": {},
   "outputs": [],
   "source": []
  },
  {
   "cell_type": "code",
   "execution_count": 15,
   "id": "7ac63c26-d6d1-429f-b959-2f76f0804731",
   "metadata": {},
   "outputs": [
    {
     "name": "stderr",
     "output_type": "stream",
     "text": [
      "[src/lib.rs:50] &x = \"...arg1..., arg2, arg3\"\n"
     ]
    },
    {
     "data": {
      "text/plain": [
       "()"
      ]
     },
     "execution_count": 15,
     "metadata": {},
     "output_type": "execute_result"
    },
    {
     "name": "stdout",
     "output_type": "stream",
     "text": [
      "jfkdslajf:...arg1..., arg2, arg3\n"
     ]
    }
   ],
   "source": [
    "{\n",
    "let arg1 = \"...arg1...\";\n",
    "let arg2 = \"arg2\";\n",
    "let arg3 = \"arg3\";\n",
    "let mut x = String::from(\"\");\n",
    "\n",
    "Python::with_gil(|py| -> PyResult<()> {\n",
    "    let args = (arg1, arg2, arg3);\n",
    "    x =  PyModule::from_code(\n",
    "        py,\n",
    "        \"def example(*args, **kwargs):\n",
    "            return ', '.join(args)\",\n",
    "        \"\",\n",
    "        \"\",\n",
    "    )?\n",
    "    .getattr(\"example\")?\n",
    "        .call1(args)?\n",
    "        .extract()?;\n",
    "    dbg!(&x);\n",
    "    Ok(())\n",
    "});\n",
    "println!(\"jfkdslajf:{x}\");\n",
    "}"
   ]
  },
  {
   "cell_type": "code",
   "execution_count": 16,
   "id": "0f1c3f68-1a59-48e3-b994-dda542194ed4",
   "metadata": {},
   "outputs": [
    {
     "name": "stderr",
     "output_type": "stream",
     "text": [
      "[src/lib.rs:127] &r2 = [\n",
      "    0,\n",
      "    10,\n",
      "    20,\n",
      "    30,\n",
      "    40,\n",
      "]\n"
     ]
    },
    {
     "data": {
      "text/plain": [
       "Ok(())"
      ]
     },
     "execution_count": 16,
     "metadata": {},
     "output_type": "execute_result"
    }
   ],
   "source": [
    "use pyo3::prelude::*;\n",
    "let mut r2 = vec![1,2,3];\n",
    "Python::with_gil(|py| -> PyResult<()> {\n",
    "    let result = py\n",
    "        .eval(\"[i * 10 for i in range(5)]\", None, None)?;\n",
    "    r2 = result.extract().unwrap();\n",
    "    dbg!(&r2);\n",
    "    Ok(())\n",
    "})"
   ]
  },
  {
   "cell_type": "code",
   "execution_count": 16,
   "id": "7a76b040-a689-427c-b710-23128e8880a6",
   "metadata": {},
   "outputs": [
    {
     "data": {
      "text/plain": [
       "[0, 10, 20, 30, 40]"
      ]
     },
     "execution_count": 16,
     "metadata": {},
     "output_type": "execute_result"
    }
   ],
   "source": [
    "r2"
   ]
  },
  {
   "cell_type": "code",
   "execution_count": 18,
   "id": "79a195b6-ce2c-4000-93e8-70daeaefa029",
   "metadata": {},
   "outputs": [
    {
     "data": {
      "text/plain": [
       "[2, 4, 3]"
      ]
     },
     "execution_count": 18,
     "metadata": {},
     "output_type": "execute_result"
    }
   ],
   "source": [
    "use pyo3::prelude::*;\n",
    "let c = Python::with_gil(|py| -> PyResult<Vec<i32>> {\n",
    "    Ok(py.eval(\"[1+1,2+2,3]\", None, None)?.extract()?)\n",
    "})?;\n",
    "c"
   ]
  },
  {
   "cell_type": "code",
   "execution_count": 19,
   "id": "5c917d40-35de-4cb3-80a2-43f18488b6b5",
   "metadata": {
    "tags": []
   },
   "outputs": [
    {
     "data": {
      "text/html": [
       "c: Vec<i32>"
      ],
      "text/plain": [
       "c: Vec<i32>"
      ]
     },
     "execution_count": 19,
     "metadata": {},
     "output_type": "execute_result"
    }
   ],
   "source": [
    ":t c"
   ]
  },
  {
   "cell_type": "code",
   "execution_count": 20,
   "id": "3ef3e349-9a2b-465e-bbd7-80f38ab328d9",
   "metadata": {
    "tags": []
   },
   "outputs": [
    {
     "name": "stdout",
     "output_type": "stream",
     "text": [
      "Hello tzerj, I'm Python 3.11.5 | packaged by Anaconda, Inc. | (main, Sep 11 2023, 13:26:23) [MSC v.1916 64 bit (AMD64)] \n"
     ]
    },
    {
     "data": {
      "text/plain": [
       "Ok(())"
      ]
     },
     "execution_count": 20,
     "metadata": {},
     "output_type": "execute_result"
    }
   ],
   "source": [
    "use pyo3::prelude::*;\n",
    "use pyo3::types::IntoPyDict;\n",
    "Python::with_gil(|py| -> PyResult<()> {\n",
    "        let sys = py.import(\"sys\")?;\n",
    "        let version: String = sys.getattr(\"version\")?.extract()?;\n",
    "\n",
    "        let locals = [(\"os\", py.import(\"os\")?)].into_py_dict(py);\n",
    "        let code = \"os.getenv('USER') or os.getenv('USERNAME') or 'Unknown'\";\n",
    "        let user: String = py.eval(code, None, Some(&locals))?.extract()?;\n",
    "\n",
    "        println!(\"Hello {}, I'm Python {} \", user, version);\n",
    "        Ok(())\n",
    "    })"
   ]
  },
  {
   "cell_type": "code",
   "execution_count": 21,
   "id": "dd4f907c-2451-426e-9100-01c09ec154cd",
   "metadata": {
    "tags": []
   },
   "outputs": [
    {
     "name": "stdout",
     "output_type": "stream",
     "text": [
      "np.sin(100)=-0.5063656411097588\n"
     ]
    },
    {
     "data": {
      "text/plain": [
       "Ok(())"
      ]
     },
     "execution_count": 21,
     "metadata": {},
     "output_type": "execute_result"
    }
   ],
   "source": [
    "\n",
    "fn python<F>(f2: F) -> PyResult<()> where F: Fn(Python<'_>)-> PyResult<()> {\n",
    "Python::with_gil(f2)\n",
    "}\n",
    "python(|py| {        \n",
    "        let locals = [(\"np\", py.import(\"numpy\")?)].into_py_dict(py);\n",
    "        let code = \"np.sin(100)\";\n",
    "        let rtn: f64 = py.eval(code, None, Some(&locals))?.extract()?;\n",
    "\n",
    "        println!(\"np.sin(100)={rtn}\");\n",
    "        Ok(())\n",
    "    }\n",
    ")"
   ]
  },
  {
   "cell_type": "code",
   "execution_count": 22,
   "id": "70ff6725-a157-4c3e-931e-c04d88695073",
   "metadata": {},
   "outputs": [
    {
     "name": "stderr",
     "output_type": "stream",
     "text": [
      "[src/lib.rs:155] &readonly = PyReadonlyArray<i32, ndarray::dimension::dim::Dim<[usize; 1]>>\n"
     ]
    },
    {
     "data": {
      "text/plain": [
       "Ok(())"
      ]
     },
     "execution_count": 22,
     "metadata": {},
     "output_type": "execute_result"
    }
   ],
   "source": [
    "use numpy::PyArray1;\n",
    "use pyo3::{types::IntoPyDict, PyResult, Python};\n",
    "\n",
    "python(|py| {\n",
    "        let np = py.import(\"numpy\")?;\n",
    "        let locals = [(\"np\", np)].into_py_dict(py);\n",
    "\n",
    "        let pyarray: &PyArray1<i32> = py\n",
    "            .eval(\"np.absolute(np.array([-1, -2, -3], dtype='int32'))\", Some(locals), None)?\n",
    "            .extract()?;\n",
    "\n",
    "        let readonly = pyarray.readonly();\n",
    "        dbg!(&readonly);\n",
    "        let slice = readonly.as_slice()?;\n",
    "        assert_eq!(slice, &[1, 2, 3]);\n",
    "\n",
    "        Ok(())\n",
    "    })\n"
   ]
  },
  {
   "cell_type": "code",
   "execution_count": null,
   "id": "b88a12b3-d3c9-470b-8fc2-31b9a7cdacb8",
   "metadata": {},
   "outputs": [],
   "source": []
  }
 ],
 "metadata": {
  "kernelspec": {
   "display_name": "Rust",
   "language": "rust",
   "name": "rust"
  },
  "language_info": {
   "codemirror_mode": "rust",
   "file_extension": ".rs",
   "mimetype": "text/rust",
   "name": "Rust",
   "pygment_lexer": "rust",
   "version": ""
  }
 },
 "nbformat": 4,
 "nbformat_minor": 5
}
