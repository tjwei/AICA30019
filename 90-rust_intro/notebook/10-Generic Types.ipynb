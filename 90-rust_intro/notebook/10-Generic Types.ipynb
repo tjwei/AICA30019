{
 "cells": [
  {
   "cell_type": "code",
   "execution_count": null,
   "id": "b36ae97d-fa4e-433d-a081-9915dc6b37e8",
   "metadata": {},
   "outputs": [],
   "source": [
    "fn largest<T>(list: &[T]) -> &T {\n",
    "    let mut largest = &list[0];\n",
    "\n",
    "    for item in list {\n",
    "        if item > largest {\n",
    "            largest = item;\n",
    "        }\n",
    "    }\n",
    "\n",
    "    largest\n",
    "}"
   ]
  },
  {
   "cell_type": "code",
   "execution_count": 3,
   "id": "5ad948d7-6173-4ac5-a0d4-7616938096c9",
   "metadata": {},
   "outputs": [],
   "source": [
    "fn largest<T: std::cmp::PartialOrd>(list: &[T]) -> &T {\n",
    "    let mut largest = &list[0];\n",
    "\n",
    "    for item in list {\n",
    "        if item > largest {\n",
    "            largest = item;\n",
    "        }\n",
    "    }\n",
    "\n",
    "    largest\n",
    "}"
   ]
  },
  {
   "cell_type": "code",
   "execution_count": 17,
   "id": "a217fe4f-e890-4051-b53e-b99dba40087e",
   "metadata": {},
   "outputs": [
    {
     "data": {
      "text/plain": [
       "100"
      ]
     },
     "execution_count": 17,
     "metadata": {},
     "output_type": "execute_result"
    }
   ],
   "source": [
    "let number_list = vec![34, 50, 25, 100, 65];\n",
    "largest(&number_list)"
   ]
  },
  {
   "cell_type": "code",
   "execution_count": 18,
   "id": "19be0973-e9ab-4a28-85ee-700275f2729b",
   "metadata": {},
   "outputs": [
    {
     "data": {
      "text/plain": [
       "'y'"
      ]
     },
     "execution_count": 18,
     "metadata": {},
     "output_type": "execute_result"
    }
   ],
   "source": [
    "let char_list = vec!['y', 'm', 'a', 'q'];\n",
    "largest(&char_list)"
   ]
  },
  {
   "cell_type": "code",
   "execution_count": 26,
   "id": "a70da747-97ba-45f7-b148-d27b8074df84",
   "metadata": {},
   "outputs": [
    {
     "name": "stderr",
     "output_type": "stream",
     "text": [
      "[src/lib.rs:124] Point { x: 5, y: 10 } = Point {\n",
      "    x: 5,\n",
      "    y: 10,\n",
      "}\n",
      "[src/lib.rs:125] Point { x: 1.0, y: 4.0 } = Point {\n",
      "    x: 1.0,\n",
      "    y: 4.0,\n",
      "}\n"
     ]
    }
   ],
   "source": [
    "#[derive(Debug)]\n",
    "struct Point<T> {\n",
    "    x: T,\n",
    "    y: T,\n",
    "}\n",
    "\n",
    "dbg!(Point { x: 5, y: 10 });\n",
    "dbg!(Point { x: 1.0, y: 4.0 });"
   ]
  },
  {
   "cell_type": "code",
   "execution_count": 24,
   "id": "20176a6c-d5d4-49c0-b049-4179dd8520a9",
   "metadata": {},
   "outputs": [
    {
     "ename": "Error",
     "evalue": "mismatched types",
     "output_type": "error",
     "traceback": [
      "\u001b[31m[E0308] Error:\u001b[0m mismatched types",
      "   \u001b[38;5;246m╭\u001b[0m\u001b[38;5;246m─\u001b[0m\u001b[38;5;246m[\u001b[0mcommand_24:1:1\u001b[38;5;246m]\u001b[0m",
      "   \u001b[38;5;246m│\u001b[0m",
      " \u001b[38;5;246m1 │\u001b[0m \u001b[38;5;249mP\u001b[0m\u001b[38;5;249mo\u001b[0m\u001b[38;5;249mi\u001b[0m\u001b[38;5;249mn\u001b[0m\u001b[38;5;249mt\u001b[0m\u001b[38;5;249m \u001b[0m\u001b[38;5;249m{\u001b[0m\u001b[38;5;249mx\u001b[0m\u001b[38;5;249m:\u001b[0m\u001b[38;5;249m1\u001b[0m\u001b[38;5;249m,\u001b[0m\u001b[38;5;249m \u001b[0m\u001b[38;5;249my\u001b[0m\u001b[38;5;249m:\u001b[0m\u001b[38;5;54m2\u001b[0m\u001b[38;5;54m.\u001b[0m\u001b[38;5;54m0\u001b[0m\u001b[38;5;249m}\u001b[0m",
      " \u001b[38;5;240m  │\u001b[0m               \u001b[38;5;54m─\u001b[0m\u001b[38;5;54m┬\u001b[0m\u001b[38;5;54m─\u001b[0m  ",
      " \u001b[38;5;240m  │\u001b[0m                \u001b[38;5;54m╰\u001b[0m\u001b[38;5;54m─\u001b[0m\u001b[38;5;54m─\u001b[0m\u001b[38;5;54m─\u001b[0m expected integer, found floating-point number",
      "\u001b[38;5;246m───╯\u001b[0m"
     ]
    }
   ],
   "source": [
    "Point {x:1, y:2.0}"
   ]
  },
  {
   "cell_type": "code",
   "execution_count": null,
   "id": "de023c25-bbee-4e41-af7b-2729a0dfc03a",
   "metadata": {},
   "outputs": [],
   "source": []
  }
 ],
 "metadata": {
  "kernelspec": {
   "display_name": "Rust",
   "language": "rust",
   "name": "rust"
  },
  "language_info": {
   "codemirror_mode": "rust",
   "file_extension": ".rs",
   "mimetype": "text/rust",
   "name": "Rust",
   "pygment_lexer": "rust",
   "version": ""
  }
 },
 "nbformat": 4,
 "nbformat_minor": 5
}
