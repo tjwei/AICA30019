{
 "cells": [
  {
   "cell_type": "code",
   "execution_count": 26,
   "id": "68a22897-eed6-40e0-b614-0c7072c7f79c",
   "metadata": {},
   "outputs": [
    {
     "data": {
      "text/plain": [
       "[\"C:\\\\Users\\\\tzerj\\\\.cargo\\\\bin\\\\evcxr_jupyter.exe\"]"
      ]
     },
     "execution_count": 26,
     "metadata": {},
     "output_type": "execute_result"
    }
   ],
   "source": [
    "use std::{env, fs};;\n",
    "let args: Vec<String> = env::args().collect();\n",
    "\n",
    "args"
   ]
  },
  {
   "cell_type": "code",
   "execution_count": 25,
   "id": "49c8b854-5d8c-490b-9ed7-f387d748e844",
   "metadata": {},
   "outputs": [
    {
     "data": {
      "text/plain": [
       "[\"C:\\\\Users\\\\tzerj\\\\.cargo\\\\bin\\\\evcxr_jupyter.exe\"]"
      ]
     },
     "execution_count": 25,
     "metadata": {},
     "output_type": "execute_result"
    }
   ],
   "source": [
    "env::args().collect::<Vec<String>>()"
   ]
  },
  {
   "cell_type": "code",
   "execution_count": 31,
   "id": "aa33fbab-2732-4e83-8d9e-a3a68df19b99",
   "metadata": {},
   "outputs": [],
   "source": [
    "let s:String = fs::read_to_string(\"test_notebook.ipynb\").expect(\"read failed\");"
   ]
  },
  {
   "cell_type": "code",
   "execution_count": 32,
   "id": "ed6fb2dc-9ddf-45cf-bae7-cb7081b98bef",
   "metadata": {},
   "outputs": [
    {
     "name": "stdout",
     "output_type": "stream",
     "text": [
      "{\n",
      " \"cells\": [\n",
      "  {\n",
      "   \"cell_type\": \"code\",\n",
      "   \"execution_count\": 4,\n",
      "   \"id\": \"17dc4698-1df6-4588-9c22-062f17331be8\",\n",
      "   \"metadata\": {\n",
      "    \"tags\": []\n",
      "   },\n",
      "   \"outputs\": [],\n",
      "   \"source\": [\n",
      "    \":dep rand=\\\"0.8.5\\\"\"\n",
      "   ]\n",
      "  },\n",
      "  {\n",
      "   \"cell_type\": \"code\",\n",
      "   \"execution_count\": 5,\n",
      "   \"id\": \"d8567f3e-d3e3-4538-8027-bf51fd5e2446\",\n",
      "   \"metadata\": {\n",
      "    \"tags\": []\n",
      "   },\n",
      "   \"outputs\": [],\n",
      "   \"source\": [\n",
      "    \"use rand::Rng;\"\n",
      "   ]\n",
      "  },\n",
      "  {\n",
      "   \"cell_type\": \"code\",\n",
      "   \"execution_count\": 10,\n",
      "   \"id\": \"ee5326c5-89ad-40d2-b0a1-48c0385532c7\",\n",
      "   \"metadata\": {\n",
      "    \"tags\": []\n",
      "   },\n",
      "   \"outputs\": [\n",
      "    {\n",
      "     \"data\": {\n",
      "      \"text/plain\": [\n",
      "       \"68\"\n",
      "      ]\n",
      "     },\n",
      "     \"execution_count\": 10,\n",
      "     \"metadata\": {},\n",
      "     \"output_type\": \"execute_result\"\n",
      "    }\n",
      "   ],\n",
      "   \"source\": [\n",
      "    \"rand::thread_rng().gen_range(1..=100)\"\n",
      "   ]\n",
      "  },\n",
      "  {\n",
      "   \"cell_type\": \"code\",\n",
      "   \"execution_count\": 14,\n",
      "   \"id\": \"f0a835dc-02f5-47fb-a179-9b091b6bad02\",\n",
      "   \"metadata\": {\n",
      "    \"tags\": []\n",
      "   },\n",
      "   \"outputs\": [],\n",
      "   \"source\": [\n",
      "    \"let x =123;\"\n",
      "   ]\n",
      "  },\n",
      "  {\n",
      "   \"cell_type\": \"code\",\n",
      "   \"execution_count\": 17,\n",
      "   \"id\": \"d6a0b778-76dd-4183-8ba4-ba521ce8734d\",\n",
      "   \"metadata\": {\n",
      "    \"tags\": []\n",
      "   },\n",
      "   \"outputs\": [\n",
      "    {\n",
      "     \"data\": {\n",
      "      \"text/plain\": [\n",
      "       \"66\"\n",
      "      ]\n",
      "     },\n",
      "     \"execution_count\": 17,\n",
      "     \"metadata\": {},\n",
      "     \"output_type\": \"execute_result\"\n",
      "    }\n",
      "   ],\n",
      "   \"source\": [\n",
      "    \"x\"\n",
      "   ]\n",
      "  },\n",
      "  {\n",
      "   \"cell_type\": \"code\",\n",
      "   \"execution_count\": 15,\n",
      "   \"id\": \"17b54675-c216-472c-9692-c3dcf56590f5\",\n",
      "   \"metadata\": {\n",
      "    \"tags\": []\n",
      "   },\n",
      "   \"outputs\": [],\n",
      "   \"source\": [\n",
      "    \"x=66;\"\n",
      "   ]\n",
      "  },\n",
      "  {\n",
      "   \"cell_type\": \"code\",\n",
      "   \"execution_count\": 18,\n",
      "   \"id\": \"edb62d7a-9bfd-43ea-b889-66e6da6935f1\",\n",
      "   \"metadata\": {\n",
      "    \"tags\": []\n",
      "   },\n",
      "   \"outputs\": [],\n",
      "   \"source\": [\n",
      "    \"let mut x =123;\"\n",
      "   ]\n",
      "  },\n",
      "  {\n",
      "   \"cell_type\": \"code\",\n",
      "   \"execution_count\": 19,\n",
      "   \"id\": \"f5cc9565-744a-43ae-932c-fb1a9152f74e\",\n",
      "   \"metadata\": {\n",
      "    \"tags\": []\n",
      "   },\n",
      "   \"outputs\": [\n",
      "    {\n",
      "     \"data\": {\n",
      "      \"text/plain\": [\n",
      "       \"123\"\n",
      "      ]\n",
      "     },\n",
      "     \"execution_count\": 19,\n",
      "     \"metadata\": {},\n",
      "     \"output_type\": \"execute_result\"\n",
      "    }\n",
      "   ],\n",
      "   \"source\": [\n",
      "    \"x\"\n",
      "   ]\n",
      "  },\n",
      "  {\n",
      "   \"cell_type\": \"code\",\n",
      "   \"execution_count\": 20,\n",
      "   \"id\": \"9bac019a-099b-4747-bbbf-fbdc1fa0dfb2\",\n",
      "   \"metadata\": {\n",
      "    \"tags\": []\n",
      "   },\n",
      "   \"outputs\": [\n",
      "    {\n",
      "     \"data\": {\n",
      "      \"text/plain\": [\n",
      "       \"()\"\n",
      "      ]\n",
      "     },\n",
      "     \"execution_count\": 20,\n",
      "     \"metadata\": {},\n",
      "     \"output_type\": \"execute_result\"\n",
      "    }\n",
      "   ],\n",
      "   \"source\": [\n",
      "    \"x=999\"\n",
      "   ]\n",
      "  },\n",
      "  {\n",
      "   \"cell_type\": \"code\",\n",
      "   \"execution_count\": 21,\n",
      "   \"id\": \"fa07f601-166a-4939-9919-0deee1a2a8c0\",\n",
      "   \"metadata\": {\n",
      "    \"tags\": []\n",
      "   },\n",
      "   \"outputs\": [\n",
      "    {\n",
      "     \"data\": {\n",
      "      \"text/plain\": [\n",
      "       \"999\"\n",
      "      ]\n",
      "     },\n",
      "     \"execution_count\": 21,\n",
      "     \"metadata\": {},\n",
      "     \"output_type\": \"execute_result\"\n",
      "    }\n",
      "   ],\n",
      "   \"source\": [\n",
      "    \"x\"\n",
      "   ]\n",
      "  },\n",
      "  {\n",
      "   \"cell_type\": \"code\",\n",
      "   \"execution_count\": 25,\n",
      "   \"id\": \"c19809e1-ffd5-4e15-844f-197b8ec0fefd\",\n",
      "   \"metadata\": {\n",
      "    \"tags\": []\n",
      "   },\n",
      "   \"outputs\": [\n",
      "    {\n",
      "     \"data\": {\n",
      "      \"text/plain\": [\n",
      "       \"Greater\"\n",
      "      ]\n",
      "     },\n",
      "     \"execution_count\": 25,\n",
      "     \"metadata\": {},\n",
      "     \"output_type\": \"execute_result\"\n",
      "    }\n",
      "   ],\n",
      "   \"source\": [\n",
      "    \"x.cmp(&2)\"\n",
      "   ]\n",
      "  },\n",
      "  {\n",
      "   \"cell_type\": \"code\",\n",
      "   \"execution_count\": null,\n",
      "   \"id\": \"5ba2b09e-b71e-4d31-b3ec-3bd343ab77ab\",\n",
      "   \"metadata\": {},\n",
      "   \"outputs\": [],\n",
      "   \"source\": []\n",
      "  }\n",
      " ],\n",
      " \"metadata\": {\n",
      "  \"kernelspec\": {\n",
      "   \"display_name\": \"Rust\",\n",
      "   \"language\": \"rust\",\n",
      "   \"name\": \"rust\"\n",
      "  },\n",
      "  \"language_info\": {\n",
      "   \"codemirror_mode\": \"rust\",\n",
      "   \"file_extension\": \".rs\",\n",
      "   \"mimetype\": \"text/rust\",\n",
      "   \"name\": \"Rust\",\n",
      "   \"pygment_lexer\": \"rust\",\n",
      "   \"version\": \"\"\n",
      "  }\n",
      " },\n",
      " \"nbformat\": 4,\n",
      " \"nbformat_minor\": 5\n",
      "}\n",
      "\n"
     ]
    }
   ],
   "source": [
    "println!(\"{s}\");"
   ]
  },
  {
   "cell_type": "code",
   "execution_count": 34,
   "id": "15a5a4b8-605b-4712-906f-d311875ad996",
   "metadata": {},
   "outputs": [],
   "source": [
    "let b = Box::new(\"12345\");"
   ]
  },
  {
   "cell_type": "code",
   "execution_count": 48,
   "id": "46004197-b962-416a-b304-4b88aaf00ff2",
   "metadata": {},
   "outputs": [],
   "source": [
    "enum List {\n",
    "    Cons(i32, Box<List>),\n",
    "    Nil,\n",
    "}\n",
    "use List::{Cons, Nil};\n",
    "let a = Cons(1, Box::new(Cons(2, Box::new(Cons(3, Box::new(Nil))))));"
   ]
  },
  {
   "cell_type": "code",
   "execution_count": 63,
   "id": "b2513158-4578-4abf-aa7b-9bd296abc8fb",
   "metadata": {},
   "outputs": [
    {
     "data": {
      "text/plain": [
       "()"
      ]
     },
     "execution_count": 63,
     "metadata": {},
     "output_type": "execute_result"
    }
   ],
   "source": [
    "{\n",
    "    let x = 5;\n",
    "    let y = &x;\n",
    "\n",
    "    assert_eq!(5, x);\n",
    "    assert_eq!(5, *y)\n",
    "}"
   ]
  },
  {
   "cell_type": "code",
   "execution_count": 42,
   "id": "5370f5f5-c7c7-4dc6-9ca2-fc173c2a5f56",
   "metadata": {},
   "outputs": [
    {
     "ename": "Error",
     "evalue": "`List` doesn't implement `std::fmt::Display`",
     "output_type": "error",
     "traceback": [
      "\u001b[31m[E0277] Error:\u001b[0m `List` doesn't implement `std::fmt::Display`",
      "   \u001b[38;5;246m╭\u001b[0m\u001b[38;5;246m─\u001b[0m\u001b[38;5;246m[\u001b[0mcommand_42:1:1\u001b[38;5;246m]\u001b[0m",
      "   \u001b[38;5;246m│\u001b[0m",
      " \u001b[38;5;246m1 │\u001b[0m \u001b[38;5;249mp\u001b[0m\u001b[38;5;249mr\u001b[0m\u001b[38;5;249mi\u001b[0m\u001b[38;5;249mn\u001b[0m\u001b[38;5;249mt\u001b[0m\u001b[38;5;249ml\u001b[0m\u001b[38;5;249mn\u001b[0m\u001b[38;5;249m!\u001b[0m\u001b[38;5;249m(\u001b[0m\u001b[38;5;249m\"\u001b[0m\u001b[38;5;54m{\u001b[0m\u001b[38;5;54mx\u001b[0m\u001b[38;5;54m}\u001b[0m\u001b[38;5;249m\"\u001b[0m\u001b[38;5;249m)\u001b[0m",
      " \u001b[38;5;240m  │\u001b[0m           \u001b[38;5;54m─\u001b[0m\u001b[38;5;54m┬\u001b[0m\u001b[38;5;54m─\u001b[0m  ",
      " \u001b[38;5;240m  │\u001b[0m            \u001b[38;5;54m╰\u001b[0m\u001b[38;5;54m─\u001b[0m\u001b[38;5;54m─\u001b[0m\u001b[38;5;54m─\u001b[0m `List` cannot be formatted with the default formatter",
      "\u001b[38;5;246m───╯\u001b[0m"
     ]
    }
   ],
   "source": [
    "println!(\"{x}\")"
   ]
  },
  {
   "cell_type": "code",
   "execution_count": 65,
   "id": "96d039b7-f0ec-4e78-944e-2735a4257aa3",
   "metadata": {},
   "outputs": [
    {
     "ename": "Error",
     "evalue": "no field `1` on type `List`",
     "output_type": "error",
     "traceback": [
      "\u001b[31m[E0609] Error:\u001b[0m no field `1` on type `List`",
      "   \u001b[38;5;246m╭\u001b[0m\u001b[38;5;246m─\u001b[0m\u001b[38;5;246m[\u001b[0mcommand_65:1:1\u001b[38;5;246m]\u001b[0m",
      "   \u001b[38;5;246m│\u001b[0m",
      " \u001b[38;5;246m1 │\u001b[0m \u001b[38;5;249ma\u001b[0m\u001b[38;5;249m.\u001b[0m\u001b[38;5;54m1\u001b[0m",
      " \u001b[38;5;240m  │\u001b[0m   \u001b[38;5;54m┬\u001b[0m  ",
      " \u001b[38;5;240m  │\u001b[0m   \u001b[38;5;54m╰\u001b[0m\u001b[38;5;54m─\u001b[0m\u001b[38;5;54m─\u001b[0m error: no field `1` on type `List`",
      "\u001b[38;5;246m───╯\u001b[0m"
     ]
    }
   ],
   "source": [
    "a.1"
   ]
  },
  {
   "cell_type": "code",
   "execution_count": 83,
   "id": "68bb6479-b0aa-4251-8728-baf7f1068954",
   "metadata": {},
   "outputs": [],
   "source": [
    "struct MyBox<T>(T, i32);\n",
    "\n",
    "impl<T> MyBox<T> {\n",
    "    fn new(x: T) -> MyBox<T> {\n",
    "        MyBox(x, 1)\n",
    "    }\n",
    "}\n",
    "let x = MyBox::new(6);\n"
   ]
  },
  {
   "cell_type": "code",
   "execution_count": 86,
   "id": "919088ec-be43-4f56-97d8-5e4886ff30b1",
   "metadata": {},
   "outputs": [],
   "source": [
    "let list_of_numbers = vec![1, 2, 3];\n",
    "let list_of_strings: Vec<String> =\n",
    "    list_of_numbers.iter().map(|i| i.to_string()).collect();"
   ]
  },
  {
   "cell_type": "code",
   "execution_count": 89,
   "id": "ff029bf8-70c2-4018-8449-4ac5c5b3d8a8",
   "metadata": {},
   "outputs": [
    {
     "data": {
      "text/plain": [
       "[\"1\", \"2\", \"3\"]"
      ]
     },
     "execution_count": 89,
     "metadata": {},
     "output_type": "execute_result"
    }
   ],
   "source": [
    " list_of_numbers.iter().map(|i| i.to_string()).collect::<Vec<String>>()"
   ]
  },
  {
   "cell_type": "code",
   "execution_count": 90,
   "id": "078af6ad-cbef-4cfa-97ef-b785512f419a",
   "metadata": {},
   "outputs": [],
   "source": [
    "    enum Status {\n",
    "        Value(u32),\n",
    "        Stop,\n",
    "    }"
   ]
  },
  {
   "cell_type": "code",
   "execution_count": 92,
   "id": "84e0f563-7d22-4f11-b3a5-731949b47688",
   "metadata": {},
   "outputs": [
    {
     "ename": "Error",
     "evalue": "type annotations needed",
     "output_type": "error",
     "traceback": [
      "\u001b[31m[E0282] Error:\u001b[0m type annotations needed",
      "   \u001b[38;5;246m╭\u001b[0m\u001b[38;5;246m─\u001b[0m\u001b[38;5;246m[\u001b[0mcommand_92:1:1\u001b[38;5;246m]\u001b[0m",
      "   \u001b[38;5;246m│\u001b[0m",
      " \u001b[38;5;246m1 │\u001b[0m \u001b[38;5;249mS\u001b[0m\u001b[38;5;249mt\u001b[0m\u001b[38;5;249ma\u001b[0m\u001b[38;5;249mt\u001b[0m\u001b[38;5;249mu\u001b[0m\u001b[38;5;249ms\u001b[0m\u001b[38;5;249m:\u001b[0m\u001b[38;5;249m:\u001b[0m\u001b[38;5;249mV\u001b[0m\u001b[38;5;249ma\u001b[0m\u001b[38;5;249ml\u001b[0m\u001b[38;5;249mu\u001b[0m\u001b[38;5;249me\u001b[0m\u001b[38;5;249m.\u001b[0m\u001b[38;5;54mi\u001b[0m\u001b[38;5;54mn\u001b[0m\u001b[38;5;54mt\u001b[0m\u001b[38;5;54mo\u001b[0m\u001b[38;5;249m(\u001b[0m\u001b[38;5;249m)\u001b[0m",
      " \u001b[38;5;240m  │\u001b[0m               \u001b[38;5;54m─\u001b[0m\u001b[38;5;54m─\u001b[0m\u001b[38;5;54m┬\u001b[0m\u001b[38;5;54m─\u001b[0m  ",
      " \u001b[38;5;240m  │\u001b[0m                 \u001b[38;5;54m╰\u001b[0m\u001b[38;5;54m─\u001b[0m\u001b[38;5;54m─\u001b[0m\u001b[38;5;54m─\u001b[0m error: type annotations needed",
      "\u001b[38;5;246m───╯\u001b[0m"
     ]
    }
   ],
   "source": [
    "Status::Value.into()"
   ]
  },
  {
   "cell_type": "code",
   "execution_count": 94,
   "id": "b424cbbf-5778-4fd2-99df-86503d658f34",
   "metadata": {},
   "outputs": [],
   "source": [
    "enum Message {\n",
    "    Quit,\n",
    "    Move { x: i32, y: i32 },\n",
    "    Write(String),\n",
    "    ChangeColor(i32, i32, i32),\n",
    "}\n",
    "let x = Message::Move {x:3, y:4};"
   ]
  },
  {
   "cell_type": "code",
   "execution_count": 95,
   "id": "5735f750-92c2-4313-a345-5fbc3a17da1d",
   "metadata": {},
   "outputs": [
    {
     "ename": "Error",
     "evalue": "type annotations needed",
     "output_type": "error",
     "traceback": [
      "\u001b[31m[E0282] Error:\u001b[0m type annotations needed",
      "   \u001b[38;5;246m╭\u001b[0m\u001b[38;5;246m─\u001b[0m\u001b[38;5;246m[\u001b[0mcommand_95:1:1\u001b[38;5;246m]\u001b[0m",
      "   \u001b[38;5;246m│\u001b[0m",
      " \u001b[38;5;246m1 │\u001b[0m \u001b[38;5;249mx\u001b[0m\u001b[38;5;249m.\u001b[0m\u001b[38;5;54mi\u001b[0m\u001b[38;5;54mn\u001b[0m\u001b[38;5;54mt\u001b[0m\u001b[38;5;54mo\u001b[0m\u001b[38;5;249m(\u001b[0m\u001b[38;5;249m)\u001b[0m",
      " \u001b[38;5;240m  │\u001b[0m   \u001b[38;5;54m─\u001b[0m\u001b[38;5;54m─\u001b[0m\u001b[38;5;54m┬\u001b[0m\u001b[38;5;54m─\u001b[0m  ",
      " \u001b[38;5;240m  │\u001b[0m     \u001b[38;5;54m╰\u001b[0m\u001b[38;5;54m─\u001b[0m\u001b[38;5;54m─\u001b[0m\u001b[38;5;54m─\u001b[0m error: type annotations needed",
      "\u001b[38;5;246m───╯\u001b[0m"
     ]
    }
   ],
   "source": [
    "x.into()"
   ]
  },
  {
   "cell_type": "code",
   "execution_count": 101,
   "id": "0b29cdce-a28d-4142-bfa0-bd14bdba1b45",
   "metadata": {},
   "outputs": [
    {
     "name": "stdout",
     "output_type": "stream",
     "text": [
      "3, 4\n"
     ]
    },
    {
     "data": {
      "text/plain": [
       "()"
      ]
     },
     "execution_count": 101,
     "metadata": {},
     "output_type": "execute_result"
    }
   ],
   "source": [
    "{if let Message::Move {x:i, y:j} = x {\n",
    "    \n",
    "    println!(\"{i}, {j}\");\n",
    "    }\n",
    "\n",
    "\n",
    "}"
   ]
  },
  {
   "cell_type": "code",
   "execution_count": 127,
   "id": "15f29a12-ef41-4cf6-aa55-daaf46d3f226",
   "metadata": {},
   "outputs": [],
   "source": [
    "macro_rules! abc {\n",
    "    ($($x:expr), *) => {\n",
    "        {\n",
    "        let mut temp_vec = Vec::new();\n",
    "        $(\n",
    "            temp_vec.push($x);\n",
    "            temp_vec.push($x*$x);\n",
    "            temp_vec.push($x*$x*$x);\n",
    "            println!(\"{}\", $x);\n",
    "        )*\n",
    "        temp_vec\n",
    "        }\n",
    "    };\n",
    "}"
   ]
  },
  {
   "cell_type": "code",
   "execution_count": 132,
   "id": "7789d188-ad01-4a4e-9c95-52e74b928cdb",
   "metadata": {},
   "outputs": [
    {
     "name": "stdout",
     "output_type": "stream",
     "text": [
      "hello\n"
     ]
    }
   ],
   "source": [
    "macro_rules! four {\n",
    "    () => { println!(\"hello\"); };\n",
    "}\n",
    "four!{};"
   ]
  },
  {
   "cell_type": "code",
   "execution_count": null,
   "id": "940d4623-210e-47e6-b750-021bd71f9936",
   "metadata": {},
   "outputs": [],
   "source": [
    "use proc_macro;\n",
    "#[some]"
   ]
  },
  {
   "cell_type": "code",
   "execution_count": 3,
   "id": "476a3fa9-4b9c-440e-b719-4d49352a6185",
   "metadata": {},
   "outputs": [],
   "source": [
    ":dep pyo3 = {version=\"0.19.2\", features=[\"auto-initialize\"]}"
   ]
  },
  {
   "cell_type": "code",
   "execution_count": 12,
   "id": "ed46e073-fb27-4f7a-b2bf-4377013b3b47",
   "metadata": {},
   "outputs": [
    {
     "name": "stdout",
     "output_type": "stream",
     "text": [
      "hello Py(0x17e6cbc3f60)\n",
      "hello2 Py(0x17e6cbc3f60)\n"
     ]
    },
    {
     "data": {
      "text/plain": [
       "Ok(())"
      ]
     },
     "execution_count": 12,
     "metadata": {},
     "output_type": "execute_result"
    }
   ],
   "source": [
    "use pyo3::prelude::*;\n",
    "use pyo3::types::PyTuple;\n",
    " {\n",
    "    let arg1 = \"arg1\";\n",
    "    let arg2 = \"arg2\";\n",
    "    let arg3 = \"arg3\";\n",
    "\n",
    "    Python::with_gil(|py| -> PyResult<()>  {\n",
    "        let fun: Py<PyAny> = PyModule::from_code(\n",
    "            py,\n",
    "            \"def example(*args, **kwargs):\n",
    "                if args != ():\n",
    "                    print('called with args', args)\n",
    "                if kwargs != {}:\n",
    "                    print('called with kwargs', kwargs)\n",
    "                if args == () and kwargs == {}:\n",
    "                    print('called with no arguments')\",\n",
    "            \"\",\n",
    "            \"\",\n",
    "        )?\n",
    "        .getattr(\"example\")?\n",
    "        .into();\n",
    "        println!(\"hello {:?}\", fun);\n",
    "        // call object without any arguments\n",
    "        fun.call0(py)?;\n",
    "        println!(\"hello2 {:?}\", fun);\n",
    "\n",
    "        // call object with PyTuple\n",
    "        let args = PyTuple::new(py, &[arg1, arg2, arg3]);\n",
    "        fun.call1(py, args)?;\n",
    "\n",
    "        // pass arguments as rust tuple\n",
    "        let args = (arg1, arg2, arg3);\n",
    "        fun.call1(py, args)?;\n",
    "        Ok(())\n",
    "    })\n",
    "}"
   ]
  },
  {
   "cell_type": "code",
   "execution_count": 17,
   "id": "bfaac602-8d97-499f-a6ee-36a4fa5b59e3",
   "metadata": {},
   "outputs": [
    {
     "name": "stdout",
     "output_type": "stream",
     "text": [
      "Hello tzerj, I'm Python 3.11.3 | packaged by Anaconda, Inc. | (main, Apr 19 2023, 23:46:34) [MSC v.1916 64 bit (AMD64)] \n"
     ]
    },
    {
     "data": {
      "text/plain": [
       "Ok(())"
      ]
     },
     "execution_count": 17,
     "metadata": {},
     "output_type": "execute_result"
    }
   ],
   "source": [
    "use pyo3::types::IntoPyDict;\n",
    "Python::with_gil(|py| -> PyResult<()> {\n",
    "        let sys = py.import(\"sys\")?;\n",
    "        let version: String = sys.getattr(\"version\")?.extract()?;\n",
    "\n",
    "        let locals = [(\"os\", py.import(\"os\")?)].into_py_dict(py);\n",
    "        let code = \"os.getenv('USER') or os.getenv('USERNAME') or 'Unknown'\";\n",
    "        let user: String = py.eval(code, None, Some(&locals))?.extract()?;\n",
    "\n",
    "        println!(\"Hello {}, I'm Python {} \", user, version);\n",
    "        Ok(())\n",
    "    })"
   ]
  },
  {
   "cell_type": "code",
   "execution_count": 23,
   "id": "4581dc88-3dac-49a8-8ec3-d007d546886f",
   "metadata": {},
   "outputs": [
    {
     "name": "stdout",
     "output_type": "stream",
     "text": [
      "result=[-0.5063656411097588, -0.8732972972139946]\n"
     ]
    },
    {
     "data": {
      "text/plain": [
       "Ok(())"
      ]
     },
     "execution_count": 23,
     "metadata": {},
     "output_type": "execute_result"
    }
   ],
   "source": [
    "\n",
    "fn python<F>(f2: F) -> PyResult<()> where F: Fn(Python<'_>)-> PyResult<()> {\n",
    "Python::with_gil(f2)\n",
    "}\n",
    "python(|py| {        \n",
    "        let locals = [(\"np\", py.import(\"numpy\")?)].into_py_dict(py);\n",
    "        let code = \"np.sin([100, 200])\";\n",
    "        let rtn: Vec<f64> = py.eval(code, None, Some(&locals))?.extract()?;\n",
    "\n",
    "        println!(\"result={rtn:?}\");\n",
    "        Ok(())\n",
    "    }\n",
    ")"
   ]
  },
  {
   "cell_type": "code",
   "execution_count": 24,
   "id": "c8b65ba1-bead-427e-a1a8-d3f7d386da4c",
   "metadata": {},
   "outputs": [
    {
     "data": {
      "text/plain": [
       "[1, 2, 3]"
      ]
     },
     "execution_count": 24,
     "metadata": {},
     "output_type": "execute_result"
    }
   ],
   "source": [
    "use pyo3::prelude::*;\n",
    "let c = Python::with_gil(|py| -> PyResult<Vec<i32>> {\n",
    "    Ok(py.eval(\"[1,2,3]\", None, None)?.extract()?)\n",
    "})?;\n",
    "c"
   ]
  },
  {
   "cell_type": "code",
   "execution_count": 97,
   "id": "1fba891d-2c57-4391-8189-f15449402c82",
   "metadata": {},
   "outputs": [
    {
     "data": {
      "text/plain": [
       "[1, 2, 3]"
      ]
     },
     "execution_count": 97,
     "metadata": {},
     "output_type": "execute_result"
    }
   ],
   "source": [
    "use pyo3::prelude::*;\n",
    "let c = Python::with_gil(|py| -> PyResult<Vec<i32>> {\n",
    "    py.eval(\"[1,2,3]\", None, None)?.extract()\n",
    "})?;\n",
    "c"
   ]
  },
  {
   "cell_type": "code",
   "execution_count": 107,
   "id": "35af674f-8ad0-4bd9-b6c8-d2821b8431cc",
   "metadata": {},
   "outputs": [],
   "source": [
    "use pyo3::types::PyString;\n",
    "let hello: Py<PyString> = Python::with_gil(|py| {\n",
    "    py.eval(\"\\\"Hello World!\\\"\", None, None)?.extract()\n",
    "})?;"
   ]
  },
  {
   "cell_type": "code",
   "execution_count": 108,
   "id": "632e24d5-f01d-445a-93c4-d56a38021e63",
   "metadata": {},
   "outputs": [
    {
     "data": {
      "text/plain": [
       "Py(0x17e6cc79670)"
      ]
     },
     "execution_count": 108,
     "metadata": {},
     "output_type": "execute_result"
    }
   ],
   "source": [
    "hello"
   ]
  },
  {
   "cell_type": "code",
   "execution_count": 140,
   "id": "28bb07a0-ca1a-4e1a-9241-0e8fac8b711f",
   "metadata": {},
   "outputs": [],
   "source": [
    "use pyo3::types::*\n",
    "let hello: i32 = Python::with_gil(|py| {\n",
    "    py.run(\"import numpy as np\", None, None);\n",
    "    py.run(\"x=347389427\", None, None);\n",
    "    py.eval(\"x\", None, None)?.extract()\n",
    "})?;"
   ]
  },
  {
   "cell_type": "code",
   "execution_count": 121,
   "id": "a51463ee-1dd6-43a3-8b4a-b116c9a32645",
   "metadata": {},
   "outputs": [
    {
     "data": {
      "text/plain": [
       "347389427"
      ]
     },
     "execution_count": 121,
     "metadata": {},
     "output_type": "execute_result"
    }
   ],
   "source": [
    "hello"
   ]
  },
  {
   "cell_type": "code",
   "execution_count": 123,
   "id": "7f642dd4-ca82-4ff9-9fe3-949106107cd6",
   "metadata": {},
   "outputs": [
    {
     "data": {
      "text/plain": [
       "1042168281"
      ]
     },
     "execution_count": 123,
     "metadata": {},
     "output_type": "execute_result"
    }
   ],
   "source": [
    "let hello2: i32 = Python::with_gil(|py| {\n",
    "    py.eval(\"x*3\", None, None)?.extract()\n",
    "})?;\n",
    "hello2"
   ]
  },
  {
   "cell_type": "code",
   "execution_count": 153,
   "id": "49258e98-a01a-41e9-a084-bfbb9363c84b",
   "metadata": {},
   "outputs": [],
   "source": [
    "use ndarray::Arr\n",
    "fn peval(s: &str) -> Vec<f64> {\n",
    "    Python::with_gil(|py| -> PyResult<Vec<f64>> {\n",
    "    py.eval(s, None, None)?.extract()\n",
    "}).expect(\"\")\n",
    "    \n",
    "}"
   ]
  },
  {
   "cell_type": "code",
   "execution_count": 154,
   "id": "16253891-d0fa-46a3-9d93-52b40fd06dc3",
   "metadata": {},
   "outputs": [
    {
     "data": {
      "text/plain": [
       "[-0.4552579589714729, -1.8191748913287034, -0.44089657584796466, 1.57611042418411, 1.2761030050255517, -0.6108677825628088, -1.401497062420049, -0.702469442893006, 0.5224190369866866, 1.1071128333309646, 0.8716032441343824, 0.43183265963604844, 0.9945775415646868, -1.5368321976208106, -0.47803532304860163, 0.14918848228636195, 0.2390981509532685, 1.534737626681181, 0.29875662640849776, -0.7301351691033374, 0.5743484611435038, 1.323619057922893, 0.14709537981760823, -0.7503429137264024, -0.005653030083179515, 0.8877995920790358, 0.24930167954238566, -0.5713867308187954, 0.30868802985152205, -0.13028835071175365, -0.13163763798487868, 0.3507403801710523, -0.1754989227227352, -0.8617842200818349, -0.2361281658483546, -0.938976110339256, 0.9487693423663394, -0.3884430884753112, -0.6918180536290046, 0.876325110885494, 0.29589417148267144, -0.3129480790854379, 1.5026417394353704, 0.3891144875438598, -0.5797797205052364, -0.12805362061448297, 0.5761731333531251, 0.6593236793855948, 0.5102264511992596, -0.9036163153598961, -0.2091781719730263, -0.8159295598697918, -0.2263219450091244, -2.258558565865062, 0.003826361626058581, 0.9330505728414614, -0.2726157077029833, 0.2990590293962831, 0.48931559522271684, 0.3250135946168722, 1.022812188769844, -1.904742864324534, 0.3342429277854418, 4.096028966846983, 1.02839613876147, -0.9712264577148539, -0.24342048681456296, -0.5646193866865691, -1.166202180463826, 2.0459848979237947, -0.20840788104203034, 0.2442880321636233, -0.3191515378776668, 0.06362857475937023, 0.7291149372780529, -1.3957963497635686, -2.5211167735456623, -0.18891676963330045, 1.5432220481533323, -1.191214795855694, -1.0199639092050967, -1.0683224328350203, 0.9229159263904502, 1.37729296017041, 0.270843602605998, 1.0879160297711568, 0.05861727788659853, 0.11133070166219265, -0.9728461509873259, 0.0712008507290029, -0.4773823145242699, 0.10337389944813936, 0.6133885735051469, -0.4579843989542634, -0.6936721113310114, -0.4633495256336285, -1.3159859126056401, 0.17802168501864257, 1.8260226270974815e-5, 1.0021848710305485]"
      ]
     },
     "execution_count": 154,
     "metadata": {},
     "output_type": "execute_result"
    }
   ],
   "source": [
    "peval(\"np.random.randn(100)\")"
   ]
  },
  {
   "cell_type": "code",
   "execution_count": 134,
   "id": "98a8d5f2-9ec4-4fdc-8816-20e74962ab10",
   "metadata": {},
   "outputs": [
    {
     "data": {
      "text/plain": [
       "Ok([1.0, 2.3])"
      ]
     },
     "execution_count": 134,
     "metadata": {},
     "output_type": "execute_result"
    }
   ],
   "source": [
    "let r = Python::with_gil(|py| -> PyResult<Vec<f64>> {\n",
    "    py.eval(\"[1, 2.3]\", None, None)?.extract()\n",
    "});\n",
    "r"
   ]
  },
  {
   "cell_type": "code",
   "execution_count": 156,
   "id": "a960d1fe-cf35-42d2-b8c1-2b62138a56c3",
   "metadata": {},
   "outputs": [],
   "source": [
    ":dep numpy"
   ]
  },
  {
   "cell_type": "code",
   "execution_count": 163,
   "id": "6614393a-c495-481a-9abd-a03d2edfe75b",
   "metadata": {},
   "outputs": [
    {
     "ename": "Error",
     "evalue": "expected value, found type alias `ndarray::Array`",
     "output_type": "error",
     "traceback": [
      "\u001b[31m[E0423] Error:\u001b[0m expected value, found type alias `ndarray::Array`",
      "   \u001b[38;5;246m╭\u001b[0m\u001b[38;5;246m─\u001b[0m\u001b[38;5;246m[\u001b[0mcommand_163:1:1\u001b[38;5;246m]\u001b[0m",
      "   \u001b[38;5;246m│\u001b[0m",
      " \u001b[38;5;246m2 │\u001b[0m \u001b[38;5;54mn\u001b[0m\u001b[38;5;54md\u001b[0m\u001b[38;5;54ma\u001b[0m\u001b[38;5;54mr\u001b[0m\u001b[38;5;54mr\u001b[0m\u001b[38;5;54ma\u001b[0m\u001b[38;5;54my\u001b[0m\u001b[38;5;54m:\u001b[0m\u001b[38;5;54m:\u001b[0m\u001b[38;5;54mA\u001b[0m\u001b[38;5;54mr\u001b[0m\u001b[38;5;54mr\u001b[0m\u001b[38;5;54ma\u001b[0m\u001b[38;5;54my\u001b[0m",
      " \u001b[38;5;240m  │\u001b[0m \u001b[38;5;54m─\u001b[0m\u001b[38;5;54m─\u001b[0m\u001b[38;5;54m─\u001b[0m\u001b[38;5;54m─\u001b[0m\u001b[38;5;54m─\u001b[0m\u001b[38;5;54m─\u001b[0m\u001b[38;5;54m─\u001b[0m\u001b[38;5;54m┬\u001b[0m\u001b[38;5;54m─\u001b[0m\u001b[38;5;54m─\u001b[0m\u001b[38;5;54m─\u001b[0m\u001b[38;5;54m─\u001b[0m\u001b[38;5;54m─\u001b[0m\u001b[38;5;54m─\u001b[0m  ",
      " \u001b[38;5;240m  │\u001b[0m        \u001b[38;5;54m╰\u001b[0m\u001b[38;5;54m─\u001b[0m\u001b[38;5;54m─\u001b[0m\u001b[38;5;54m─\u001b[0m\u001b[38;5;54m─\u001b[0m\u001b[38;5;54m─\u001b[0m\u001b[38;5;54m─\u001b[0m\u001b[38;5;54m─\u001b[0m\u001b[38;5;54m─\u001b[0m error: expected value, found type alias `ndarray::Array`",
      "\u001b[38;5;246m───╯\u001b[0m"
     ]
    },
    {
     "ename": "Error",
     "evalue": "unused macro definition: `pp`",
     "output_type": "error",
     "traceback": [
      "\u001b[31m[unused_macros] Error:\u001b[0m unused macro definition: `pp`"
     ]
    }
   ],
   "source": [
    "use numpy::ndarray;\n",
    "ndarray::Array"
   ]
  },
  {
   "cell_type": "code",
   "execution_count": 158,
   "id": "756d4955-3413-46fb-9c10-a6730fd12c30",
   "metadata": {},
   "outputs": [
    {
     "data": {
      "text/plain": [
       "[0.0, 0.0, 0.0, 0.0, 0.0, 0.0, 0.0, 0.0, 0.0, 0.0]"
      ]
     },
     "execution_count": 158,
     "metadata": {},
     "output_type": "execute_result"
    }
   ],
   "source": [
    "let hello: Vec<f32> = Python::with_gil(|py| {\n",
    "    py.eval(\"np.zeros(10)\", None, None)?.extract()\n",
    "})?;\n",
    "hello"
   ]
  },
  {
   "cell_type": "code",
   "execution_count": 191,
   "id": "e1aa57b0-1b52-4ea9-98a9-b61a14cceff1",
   "metadata": {},
   "outputs": [
    {
     "data": {
      "text/plain": [
       "[[0.0, 1.0],\n",
       " [2.0, 3.0]], shape=[2, 2], strides=[2, 1], layout=Cc (0x5), const ndim=2"
      ]
     },
     "execution_count": 191,
     "metadata": {},
     "output_type": "execute_result"
    }
   ],
   "source": [
    "use numpy::PyArray1;\n",
    "use numpy::PyArray2;\n",
    "use ndarray::Array2;\n",
    "use ndarray::{array, Array};\n",
    "use pyo3::{types::IntoPyDict, Python};\n",
    "Python::with_gil(|py| -> PyResult<Array2<f64>>{\n",
    "    let rtn = PyArray::arange(py, 0., 4., 1.).reshape([2, 2]).unwrap().to_owned_array();\n",
    "    Ok(rtn)\n",
    "})?"
   ]
  },
  {
   "cell_type": "code",
   "execution_count": 220,
   "id": "f1c83a8f-83b7-4c75-b128-c5aa894cd802",
   "metadata": {},
   "outputs": [
    {
     "data": {
      "text/plain": [
       "[[0.0, 0.0, 0.0, 0.0],\n",
       " [0.0, 0.0, 0.0, 0.0],\n",
       " [0.0, 0.0, 0.0, 0.0],\n",
       " [0.0, 0.0, 0.0, 0.0]], shape=[4, 4], strides=[4, 1], layout=Cc (0x5), const ndim=2"
      ]
     },
     "execution_count": 220,
     "metadata": {},
     "output_type": "execute_result"
    }
   ],
   "source": [
    "use numpy::PyArray2;\n",
    "Python::with_gil(|py| -> PyResult<Array2<f64>>{\n",
    "    Ok(py.eval(\"np.zeros((4,4))\", None, None)?\n",
    "        .extract::<&PyArray2<f64>>()?\n",
    "        .to_owned_array()\n",
    "    )\n",
    "})?"
   ]
  },
  {
   "cell_type": "code",
   "execution_count": 229,
   "id": "3529b673-30c7-4709-a62b-d0cd7daa2948",
   "metadata": {},
   "outputs": [
    {
     "data": {
      "text/plain": [
       "[[0.0, 0.0, 0.0, 0.0, 0.0, ..., 0.0, 0.0, 0.0, 0.0, 0.0],\n",
       " [0.0, 0.0, 0.0, 0.0, 0.0, ..., 0.0, 0.0, 0.0, 0.0, 0.0],\n",
       " [0.0, 0.0, 0.0, 0.0, 0.0, ..., 0.0, 0.0, 0.0, 0.0, 0.0],\n",
       " [0.0, 0.0, 0.0, 0.0, 0.0, ..., 0.0, 0.0, 0.0, 0.0, 0.0],\n",
       " [0.0, 0.0, 0.0, 0.0, 0.0, ..., 0.0, 0.0, 0.0, 0.0, 0.0],\n",
       " ...,\n",
       " [0.0, 0.0, 0.0, 0.0, 0.0, ..., 0.0, 0.0, 0.0, 0.0, 0.0],\n",
       " [0.0, 0.0, 0.0, 0.0, 0.0, ..., 0.0, 0.0, 0.0, 0.0, 0.0],\n",
       " [0.0, 0.0, 0.0, 0.0, 0.0, ..., 0.0, 0.0, 0.0, 0.0, 0.0],\n",
       " [0.0, 0.0, 0.0, 0.0, 0.0, ..., 0.0, 0.0, 0.0, 0.0, 0.0],\n",
       " [0.0, 0.0, 0.0, 0.0, 0.0, ..., 0.0, 0.0, 0.0, 0.0, 0.0]], shape=[40, 40], strides=[40, 1], layout=Cc (0x5), const ndim=2"
      ]
     },
     "execution_count": 229,
     "metadata": {},
     "output_type": "execute_result"
    }
   ],
   "source": [
    "use numpy::PyArray2;\n",
    "let x:PyResult<Array2<f64>> = Python::with_gil(\n",
    "    |py| Ok(\n",
    "        py.eval(\"np.zeros((4,4))\", None, None)?\n",
    "        .extract::<&PyArray2<f64>>()?\n",
    "        .to_owned_array()\n",
    "    )\n",
    ");\n",
    "Python::with_gil(|py| -> PyResult<Array2<f64>>{\n",
    "    Ok(py.eval(\"np.zeros((40,40))\", None, None)?\n",
    "        .extract::<&PyArray2<f64>>()?\n",
    "        .to_owned_array()\n",
    "    )\n",
    "})?"
   ]
  },
  {
   "cell_type": "code",
   "execution_count": null,
   "id": "62654c61-6cbc-4416-b468-5e6659efc268",
   "metadata": {},
   "outputs": [],
   "source": []
  }
 ],
 "metadata": {
  "kernelspec": {
   "display_name": "Rust",
   "language": "rust",
   "name": "rust"
  },
  "language_info": {
   "codemirror_mode": "rust",
   "file_extension": ".rs",
   "mimetype": "text/rust",
   "name": "Rust",
   "pygment_lexer": "rust",
   "version": ""
  }
 },
 "nbformat": 4,
 "nbformat_minor": 5
}
