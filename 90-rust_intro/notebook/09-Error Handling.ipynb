{
 "cells": [
  {
   "cell_type": "code",
   "execution_count": 6,
   "id": "c4e65b56-eae8-4bbd-b0e0-589892ff1822",
   "metadata": {},
   "outputs": [
    {
     "name": "stderr",
     "output_type": "stream",
     "text": [
      "thread '<unnamed>' panicked at 'Problem opening the file: Os { code: 2, kind: NotFound, message: \"The system cannot find the file specified.\" }', src/lib.rs:102:19\n",
      "stack backtrace:\n",
      "note: Some details are omitted, run with `RUST_BACKTRACE=full` for a verbose backtrace.\n"
     ]
    }
   ],
   "source": [
    "use std::fs::File;\n",
    "\n",
    "let greeting_file_result = File::open(\"hello.txt\");\n",
    "\n",
    "let greeting_file = match greeting_file_result {\n",
    "    Ok(file) => file,\n",
    "    Err(error) => panic!(\"Problem opening the file: {:?}\", error),\n",
    "};"
   ]
  },
  {
   "cell_type": "code",
   "execution_count": 4,
   "id": "92c1ff63-6aec-43fe-992b-1acb1d1b0479",
   "metadata": {},
   "outputs": [],
   "source": [
    "use std::fs::File;\n",
    "\n",
    "let greeting_file_result = File::open(\"00-test_notebook.ipynb\");\n",
    "\n",
    "let greeting_file = match greeting_file_result {\n",
    "    Ok(file) => file,\n",
    "    Err(error) => panic!(\"Problem opening the file: {:?}\", error),\n",
    "};"
   ]
  },
  {
   "cell_type": "markdown",
   "id": "88914096-5310-44ca-a56f-8954eb294391",
   "metadata": {},
   "source": [
    "### shortchuts: unwrap and expect"
   ]
  },
  {
   "cell_type": "code",
   "execution_count": 7,
   "id": "7a63ddfb-b6cb-4b02-82c6-08ab9978680b",
   "metadata": {},
   "outputs": [
    {
     "name": "stderr",
     "output_type": "stream",
     "text": [
      "thread '<unnamed>' panicked at 'called `Result::unwrap()` on an `Err` value: Os { code: 2, kind: NotFound, message: \"The system cannot find the file specified.\" }', src/lib.rs:96:45\n",
      "stack backtrace:\n",
      "note: Some details are omitted, run with `RUST_BACKTRACE=full` for a verbose backtrace.\n"
     ]
    }
   ],
   "source": [
    "let greeting_file = File::open(\"hello.txt\").unwrap();"
   ]
  },
  {
   "cell_type": "code",
   "execution_count": 8,
   "id": "b9da583b-1915-4fa8-9466-90c556dd9bb4",
   "metadata": {},
   "outputs": [],
   "source": [
    "let greeting_file = File::open(\"00-test_notebook.ipynb\").unwrap();"
   ]
  },
  {
   "cell_type": "code",
   "execution_count": 9,
   "id": "dc120ec2-6d7a-4341-a100-6859714f84b6",
   "metadata": {},
   "outputs": [
    {
     "name": "stderr",
     "output_type": "stream",
     "text": [
      "thread '<unnamed>' panicked at 'hello.txt should be included in this project: Os { code: 2, kind: NotFound, message: \"The system cannot find the file specified.\" }', src/lib.rs:99:10\n",
      "stack backtrace:\n",
      "note: Some details are omitted, run with `RUST_BACKTRACE=full` for a verbose backtrace.\n"
     ]
    }
   ],
   "source": [
    "let greeting_file = File::open(\"hello.txt\")\n",
    "        .expect(\"hello.txt should be included in this project\");"
   ]
  },
  {
   "cell_type": "code",
   "execution_count": null,
   "id": "ee6f07ab-38c6-4a50-bca8-0ac945d4b93d",
   "metadata": {},
   "outputs": [],
   "source": [
    "// Propagating errors\n",
    "use std::fs::File;\n",
    "use std::io::{self, Read};\n",
    "\n",
    "fn read_username_from_file() -> Result<String, io::Error> {\n",
    "    let mut username_file = File::open(\"hello.txt\")?;\n",
    "    let mut username = String::new();\n",
    "    username_file.read_to_string(&mut username)?;\n",
    "    Ok(username)\n",
    "}"
   ]
  }
 ],
 "metadata": {
  "kernelspec": {
   "display_name": "Rust",
   "language": "rust",
   "name": "rust"
  },
  "language_info": {
   "codemirror_mode": "rust",
   "file_extension": ".rs",
   "mimetype": "text/rust",
   "name": "Rust",
   "pygment_lexer": "rust",
   "version": ""
  }
 },
 "nbformat": 4,
 "nbformat_minor": 5
}
