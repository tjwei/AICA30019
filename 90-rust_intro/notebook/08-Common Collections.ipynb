{
 "cells": [
  {
   "cell_type": "code",
   "execution_count": 2,
   "id": "6548df8c-3ff6-4239-ab04-991ef26bb932",
   "metadata": {},
   "outputs": [
    {
     "data": {
      "text/plain": [
       "[]"
      ]
     },
     "execution_count": 2,
     "metadata": {},
     "output_type": "execute_result"
    }
   ],
   "source": [
    "let v: Vec<i32> = Vec::new();\n",
    "v"
   ]
  },
  {
   "cell_type": "code",
   "execution_count": 3,
   "id": "000cc900-9eed-4da5-8735-883c80c4e24a",
   "metadata": {},
   "outputs": [
    {
     "data": {
      "text/plain": [
       "[1, 2, 3]"
      ]
     },
     "execution_count": 3,
     "metadata": {},
     "output_type": "execute_result"
    }
   ],
   "source": [
    "let v = vec![1, 2, 3];\n",
    "v"
   ]
  },
  {
   "cell_type": "code",
   "execution_count": 4,
   "id": "05a79864-15ed-4b2d-87c5-1c39d981b9a0",
   "metadata": {},
   "outputs": [
    {
     "data": {
      "text/plain": [
       "[5, 6, 7, 8]"
      ]
     },
     "execution_count": 4,
     "metadata": {},
     "output_type": "execute_result"
    }
   ],
   "source": [
    "let mut v = Vec::new();\n",
    "\n",
    "v.push(5);\n",
    "v.push(6);\n",
    "v.push(7);\n",
    "v.push(8);\n",
    "v"
   ]
  },
  {
   "cell_type": "code",
   "execution_count": 6,
   "id": "a2a92162-cbf2-4481-95f6-7280638a49c2",
   "metadata": {},
   "outputs": [
    {
     "name": "stdout",
     "output_type": "stream",
     "text": [
      "The third element is 3\n",
      "The third element is 3\n"
     ]
    },
    {
     "data": {
      "text/plain": [
       "()"
      ]
     },
     "execution_count": 6,
     "metadata": {},
     "output_type": "execute_result"
    }
   ],
   "source": [
    "{\n",
    "    let v = vec![1, 2, 3, 4, 5];\n",
    "\n",
    "    let third: &i32 = &v[2];\n",
    "    println!(\"The third element is {third}\");\n",
    "\n",
    "    let third: Option<&i32> = v.get(2);\n",
    "    match third {\n",
    "        Some(third) => println!(\"The third element is {third}\"),\n",
    "        None => println!(\"There is no third element.\"),\n",
    "    }\n",
    "}"
   ]
  },
  {
   "cell_type": "code",
   "execution_count": 10,
   "id": "baaeb048-c41d-496e-8bb1-c7d0e3f0e6f8",
   "metadata": {},
   "outputs": [
    {
     "name": "stdout",
     "output_type": "stream",
     "text": [
      "100\n",
      "32\n",
      "57\n"
     ]
    },
    {
     "data": {
      "text/plain": [
       "[100, 32, 57]"
      ]
     },
     "execution_count": 10,
     "metadata": {},
     "output_type": "execute_result"
    }
   ],
   "source": [
    "let v = vec![100, 32, 57];\n",
    "for i in &v {\n",
    "    println!(\"{i}\");\n",
    "}\n",
    "v"
   ]
  },
  {
   "cell_type": "code",
   "execution_count": 9,
   "id": "35741b2c-eb01-4721-862a-869b3978eb6f",
   "metadata": {},
   "outputs": [
    {
     "data": {
      "text/plain": [
       "[150, 82, 107]"
      ]
     },
     "execution_count": 9,
     "metadata": {},
     "output_type": "execute_result"
    }
   ],
   "source": [
    "let mut v = vec![100, 32, 57];\n",
    "for i in &mut v {\n",
    "    *i += 50;\n",
    "}\n",
    "v"
   ]
  },
  {
   "cell_type": "code",
   "execution_count": 14,
   "id": "8679eeb5-bd4c-4655-beff-c8d547bedad1",
   "metadata": {},
   "outputs": [
    {
     "data": {
      "text/plain": [
       "[Int(3), Text(\"blue\"), Float(10.12)]"
      ]
     },
     "execution_count": 14,
     "metadata": {},
     "output_type": "execute_result"
    }
   ],
   "source": [
    "// Using an Enum to Store Multiple Types\n",
    "#[derive(Debug)]\n",
    "enum SpreadsheetCell {\n",
    "    Int(i32),\n",
    "    Float(f64),\n",
    "    Text(String),\n",
    "}\n",
    "\n",
    "let row = vec![\n",
    "    SpreadsheetCell::Int(3),\n",
    "    SpreadsheetCell::Text(String::from(\"blue\")),\n",
    "    SpreadsheetCell::Float(10.12),\n",
    "];\n",
    "row"
   ]
  },
  {
   "cell_type": "markdown",
   "id": "3f20c770-0bde-4494-96c1-60a7a329ece8",
   "metadata": {},
   "source": [
    "### Hash Map"
   ]
  },
  {
   "cell_type": "code",
   "execution_count": 48,
   "id": "248df1bc-6d8f-4a62-b8ee-24259fb520da",
   "metadata": {},
   "outputs": [],
   "source": [
    "use std::collections::HashMap;\n",
    "\n",
    "let mut scores = HashMap::new();\n",
    "\n",
    "scores.insert(String::from(\"Blue\"), 10);\n",
    "scores.insert(String::from(\"Yellow\"), 50);\n",
    "\n",
    "let team_name = String::from(\"Blue\");\n",
    "let score = scores.get(&team_name).copied().unwrap_or(0);"
   ]
  },
  {
   "cell_type": "code",
   "execution_count": 16,
   "id": "ea024cf1-206b-4fcd-9b57-455f0e91bc53",
   "metadata": {},
   "outputs": [
    {
     "data": {
      "text/plain": [
       "{\"Blue\": 10, \"Yellow\": 50}"
      ]
     },
     "execution_count": 16,
     "metadata": {},
     "output_type": "execute_result"
    }
   ],
   "source": [
    "scores"
   ]
  },
  {
   "cell_type": "code",
   "execution_count": 18,
   "id": "82339d13-7d4a-497c-9b62-728489beece9",
   "metadata": {},
   "outputs": [
    {
     "name": "stdout",
     "output_type": "stream",
     "text": [
      "Yellow: 50\n",
      "Blue: 10\n"
     ]
    },
    {
     "data": {
      "text/plain": [
       "()"
      ]
     },
     "execution_count": 18,
     "metadata": {},
     "output_type": "execute_result"
    }
   ],
   "source": [
    "for (key, value) in &scores {\n",
    "    println!(\"{key}: {value}\");\n",
    "}"
   ]
  },
  {
   "cell_type": "code",
   "execution_count": 19,
   "id": "898597b3-32de-4de3-8d2d-edad2717dc9a",
   "metadata": {},
   "outputs": [
    {
     "data": {
      "text/plain": [
       "{\"Yellow\": 50, \"Blue\": 25}"
      ]
     },
     "execution_count": 19,
     "metadata": {},
     "output_type": "execute_result"
    }
   ],
   "source": [
    "scores.insert(String::from(\"Blue\"), 25);\n",
    "scores"
   ]
  },
  {
   "cell_type": "code",
   "execution_count": 39,
   "id": "9596db40-2f38-4aad-8730-91d1c63cda16",
   "metadata": {},
   "outputs": [
    {
     "name": "stdout",
     "output_type": "stream",
     "text": [
      "{\"wonderful\": 1, \"world\": 2, \"hello\": 1}\n"
     ]
    }
   ],
   "source": [
    "let text = \"hello world wonderful world\";\n",
    "\n",
    "let mut map = HashMap::new();\n",
    "\n",
    "for word in text.split_whitespace() {\n",
    "    let count = map.entry(word).or_insert(0);\n",
    "    *count += 1;\n",
    "}\n",
    "\n",
    "println!(\"{:?}\", map);"
   ]
  },
  {
   "cell_type": "code",
   "execution_count": 75,
   "id": "c0979f4f-bee4-427a-8695-b36e662b76bf",
   "metadata": {},
   "outputs": [
    {
     "data": {
      "text/plain": [
       "{\"Blue\": 29, \"Yellow\": 50}"
      ]
     },
     "execution_count": 75,
     "metadata": {},
     "output_type": "execute_result"
    }
   ],
   "source": [
    "// alternatively\n",
    "*scores.get_mut(\"Blue\").unwrap() += 19;\n",
    "scores"
   ]
  },
  {
   "cell_type": "code",
   "execution_count": null,
   "id": "854e2c42-d91d-4c1a-b00f-c9baa9744ee6",
   "metadata": {},
   "outputs": [],
   "source": []
  }
 ],
 "metadata": {
  "kernelspec": {
   "display_name": "Rust",
   "language": "rust",
   "name": "rust"
  },
  "language_info": {
   "codemirror_mode": "rust",
   "file_extension": ".rs",
   "mimetype": "text/rust",
   "name": "Rust",
   "pygment_lexer": "rust",
   "version": ""
  }
 },
 "nbformat": 4,
 "nbformat_minor": 5
}
