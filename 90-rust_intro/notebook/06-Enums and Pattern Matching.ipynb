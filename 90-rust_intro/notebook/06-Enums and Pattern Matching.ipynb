{
 "cells": [
  {
   "cell_type": "markdown",
   "id": "8c2f0587-a9bc-44c8-9d96-22c5b101c960",
   "metadata": {},
   "source": [
    "https://doc.rust-lang.org/book/ch06-01-defining-an-enum.html"
   ]
  },
  {
   "cell_type": "code",
   "execution_count": 3,
   "id": "5b5387b4-6bfd-41d4-a254-e532142d7d2c",
   "metadata": {},
   "outputs": [],
   "source": [
    "enum IpAddrKind {\n",
    "    V4,\n",
    "    V6,\n",
    "}\n",
    "let four = IpAddrKind::V4;\n",
    "let six = IpAddrKind::V6;\n",
    "// so we can define something like this\n",
    "fn route(ip_kind: IpAddrKind) {}\n",
    "// and calling the function like this\n",
    "route(IpAddrKind::V4);\n",
    "route(IpAddrKind::V6);"
   ]
  },
  {
   "cell_type": "code",
   "execution_count": 6,
   "id": "cb304338-c7ed-4344-9ff7-0c54a3cc6152",
   "metadata": {},
   "outputs": [
    {
     "data": {
      "text/plain": [
       "10"
      ]
     },
     "execution_count": 6,
     "metadata": {},
     "output_type": "execute_result"
    }
   ],
   "source": [
    "enum Coin {\n",
    "    Penny,\n",
    "    Nickel,\n",
    "    Dime,\n",
    "    Quarter,\n",
    "}\n",
    "\n",
    "fn value_in_cents(coin: Coin) -> u8 {\n",
    "    match coin {\n",
    "        Coin::Penny => 1,\n",
    "        Coin::Nickel => 5,\n",
    "        Coin::Dime => 10,\n",
    "        Coin::Quarter => 25,\n",
    "    }\n",
    "}\n",
    "\n",
    "value_in_cents(Coin::Dime)"
   ]
  },
  {
   "cell_type": "code",
   "execution_count": 7,
   "id": "d6c101cc-501f-4877-ad7a-9623992679f5",
   "metadata": {},
   "outputs": [],
   "source": [
    "fn plus_one(x: Option<i32>) -> Option<i32> {\n",
    "    match x {\n",
    "        None => None,\n",
    "        Some(i) => Some(i + 1),\n",
    "    }\n",
    "}\n",
    "\n",
    "let five = Some(5);\n",
    "let six = plus_one(five);\n",
    "let none = plus_one(None);"
   ]
  },
  {
   "cell_type": "code",
   "execution_count": 8,
   "id": "dc32e775-5546-4ba0-ae97-39a0d6da6b01",
   "metadata": {},
   "outputs": [
    {
     "data": {
      "text/plain": [
       "Some(5)"
      ]
     },
     "execution_count": 8,
     "metadata": {},
     "output_type": "execute_result"
    }
   ],
   "source": [
    "five"
   ]
  },
  {
   "cell_type": "code",
   "execution_count": 9,
   "id": "3aa63011-434f-4670-8e3b-c9fcbbd5f439",
   "metadata": {},
   "outputs": [
    {
     "data": {
      "text/plain": [
       "Some(6)"
      ]
     },
     "execution_count": 9,
     "metadata": {},
     "output_type": "execute_result"
    }
   ],
   "source": [
    "six"
   ]
  },
  {
   "cell_type": "code",
   "execution_count": 10,
   "id": "288119b2-73ce-4d81-bede-66e1be43f8c1",
   "metadata": {},
   "outputs": [
    {
     "data": {
      "text/plain": [
       "None"
      ]
     },
     "execution_count": 10,
     "metadata": {},
     "output_type": "execute_result"
    }
   ],
   "source": [
    "none"
   ]
  },
  {
   "cell_type": "code",
   "execution_count": null,
   "id": "6afd9b7a-4eef-472e-8b64-765c60345def",
   "metadata": {},
   "outputs": [],
   "source": []
  }
 ],
 "metadata": {
  "kernelspec": {
   "display_name": "Rust",
   "language": "rust",
   "name": "rust"
  },
  "language_info": {
   "codemirror_mode": "rust",
   "file_extension": ".rs",
   "mimetype": "text/rust",
   "name": "Rust",
   "pygment_lexer": "rust",
   "version": ""
  }
 },
 "nbformat": 4,
 "nbformat_minor": 5
}
