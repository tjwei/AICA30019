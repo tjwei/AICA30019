{
 "cells": [
  {
   "cell_type": "code",
   "execution_count": 2,
   "id": "39446eaa-89f4-4bcf-b75e-9a477690b27d",
   "metadata": {},
   "outputs": [
    {
     "data": {
      "text/plain": [
       "5"
      ]
     },
     "execution_count": 2,
     "metadata": {},
     "output_type": "execute_result"
    }
   ],
   "source": [
    "let x = 5;\n",
    "x"
   ]
  },
  {
   "cell_type": "code",
   "execution_count": 3,
   "id": "05ca2a92-4e8a-49da-a0be-5b188379dc62",
   "metadata": {},
   "outputs": [
    {
     "ename": "Error",
     "evalue": "cannot assign twice to immutable variable `x`",
     "output_type": "error",
     "traceback": [
      "\u001b[31m[E0384] Error:\u001b[0m cannot assign twice to immutable variable `x`",
      "   \u001b[38;5;246m╭\u001b[0m\u001b[38;5;246m─\u001b[0m\u001b[38;5;246m[\u001b[0mcommand_3:1:1\u001b[38;5;246m]\u001b[0m",
      "   \u001b[38;5;246m│\u001b[0m",
      " \u001b[38;5;246m1 │\u001b[0m \u001b[38;5;54mx\u001b[0m\u001b[38;5;54m \u001b[0m\u001b[38;5;54m=\u001b[0m\u001b[38;5;54m \u001b[0m\u001b[38;5;54m6\u001b[0m\u001b[38;5;249m;\u001b[0m",
      " \u001b[38;5;240m  │\u001b[0m \u001b[38;5;54m─\u001b[0m\u001b[38;5;54m─\u001b[0m\u001b[38;5;54m┬\u001b[0m\u001b[38;5;54m─\u001b[0m\u001b[38;5;54m─\u001b[0m  ",
      " \u001b[38;5;240m  │\u001b[0m   \u001b[38;5;54m╰\u001b[0m\u001b[38;5;54m─\u001b[0m\u001b[38;5;54m─\u001b[0m\u001b[38;5;54m─\u001b[0m\u001b[38;5;54m─\u001b[0m cannot assign twice to immutable variable",
      " \u001b[38;5;240m  │\u001b[0m ",
      " \u001b[38;5;240m  │\u001b[0m \u001b[38;5;115mNote\u001b[0m: You can change an existing variable to mutable like: `let mut x = x;`",
      "\u001b[38;5;246m───╯\u001b[0m"
     ]
    }
   ],
   "source": [
    "// x is immutable, so cannot assign a new value to it.\n",
    "x = 6;"
   ]
  },
  {
   "cell_type": "code",
   "execution_count": 9,
   "id": "6801cd66-3aa9-4863-9198-55fe0fe4115f",
   "metadata": {},
   "outputs": [
    {
     "name": "stdout",
     "output_type": "stream",
     "text": [
      "1: x = 123\n",
      "2: x = 456\n"
     ]
    }
   ],
   "source": [
    "// make it mutable\n",
    "let mut x = 123;\n",
    "println!(\"1: x = {x}\");\n",
    "x = 456;\n",
    "println!(\"2: x = {x}\");"
   ]
  },
  {
   "cell_type": "code",
   "execution_count": 10,
   "id": "47afd2a8-7a63-422c-88c9-0357aacfeb9d",
   "metadata": {},
   "outputs": [
    {
     "data": {
      "text/plain": [
       "10800"
      ]
     },
     "execution_count": 10,
     "metadata": {},
     "output_type": "execute_result"
    }
   ],
   "source": [
    "// there are also constant\n",
    "const THREE_HOURS_IN_SECONDS: u32 = 60 * 60 * 3;\n",
    "THREE_HOURS_IN_SECONDS"
   ]
  },
  {
   "cell_type": "code",
   "execution_count": 14,
   "id": "c6852c60-be11-4b84-a6e3-3581f50b188d",
   "metadata": {},
   "outputs": [
    {
     "name": "stdout",
     "output_type": "stream",
     "text": [
      "1: x=5\n",
      "2: x=234.123\n",
      "3: x=5\n",
      "4: x=abc\n"
     ]
    }
   ],
   "source": [
    "// shadowing\n",
    "let x = 5;\n",
    "println!(\"1: x={x}\");\n",
    "{\n",
    "    let x = 234.123;\n",
    "    println!(\"2: x={x}\");\n",
    "}\n",
    "println!(\"3: x={x}\");\n",
    "let x = \"abc\";\n",
    "println!(\"4: x={x}\");"
   ]
  },
  {
   "cell_type": "code",
   "execution_count": 15,
   "id": "89af68b4-e045-4aff-bab9-033fb3b4f0f1",
   "metadata": {},
   "outputs": [
    {
     "name": "stdout",
     "output_type": "stream",
     "text": [
      "1: spaces=   \n",
      "2: spaces=3\n"
     ]
    }
   ],
   "source": [
    "let spaces = \"   \";\n",
    "println!(\"1: spaces={spaces}\");\n",
    "let spaces = spaces.len();\n",
    "println!(\"2: spaces={spaces}\");"
   ]
  },
  {
   "cell_type": "code",
   "execution_count": 17,
   "id": "ec08e212-43a1-46af-a9e9-92d71586193b",
   "metadata": {},
   "outputs": [
    {
     "data": {
      "text/plain": [
       "42"
      ]
     },
     "execution_count": 17,
     "metadata": {},
     "output_type": "execute_result"
    }
   ],
   "source": [
    "// data type\n",
    "let guess: u32 = \"42\".parse().expect(\"Not a number!\");\n",
    "guess"
   ]
  },
  {
   "cell_type": "code",
   "execution_count": 19,
   "id": "9edb1453-77b8-4147-a064-6e200dc4bc75",
   "metadata": {},
   "outputs": [
    {
     "ename": "Error",
     "evalue": "Couldn't automatically determine type of variable `guess`.\nPlease give it an explicit type.",
     "output_type": "error",
     "traceback": [
      "Couldn't automatically determine type of variable `guess`.\nPlease give it an explicit type."
     ]
    }
   ],
   "source": [
    "// without type annotation, parse cannot determine the type of 'guess'\n",
    "let guess = \"42\".parse().expect(\"Not a number!\");\n"
   ]
  },
  {
   "cell_type": "markdown",
   "id": "b4da69af-cec3-482e-a12b-2167d604cae3",
   "metadata": {},
   "source": [
    "<a href='https://doc.rust-lang.org/book/ch03-02-data-types.html'> date types</a>\n"
   ]
  },
  {
   "cell_type": "code",
   "execution_count": 52,
   "id": "9106d64f-dbfa-41fc-8ba9-73a8e43aa643",
   "metadata": {},
   "outputs": [],
   "source": [
    "let x:i32 = 5;\n",
    "let x:u32 = 5;"
   ]
  },
  {
   "cell_type": "code",
   "execution_count": 54,
   "id": "9b116abe-bd1c-45c9-ad02-c362ec25527d",
   "metadata": {},
   "outputs": [],
   "source": [
    "let x = 5u128;"
   ]
  },
  {
   "cell_type": "code",
   "execution_count": 55,
   "id": "539c5d2a-9eb7-493a-ae11-df1055a24efa",
   "metadata": {},
   "outputs": [
    {
     "data": {
      "text/html": [
       "x: u128"
      ],
      "text/plain": [
       "x: u128"
      ]
     },
     "execution_count": 55,
     "metadata": {},
     "output_type": "execute_result"
    }
   ],
   "source": [
    ":t x"
   ]
  },
  {
   "cell_type": "code",
   "execution_count": 24,
   "id": "a1941397-693a-4951-9584-ffe724a0155a",
   "metadata": {},
   "outputs": [],
   "source": [
    "let mut x:u8 = 123;"
   ]
  },
  {
   "cell_type": "code",
   "execution_count": 25,
   "id": "5378e5d5-d0ad-4ea0-8e29-6b246b21237e",
   "metadata": {},
   "outputs": [
    {
     "name": "stderr",
     "output_type": "stream",
     "text": [
      "thread '<unnamed>' panicked at 'attempt to add with overflow', src/lib.rs:102:5\n",
      "stack backtrace:\n",
      "note: Some details are omitted, run with `RUST_BACKTRACE=full` for a verbose backtrace.\n"
     ]
    }
   ],
   "source": [
    "x = x+200;\n",
    "x"
   ]
  },
  {
   "cell_type": "code",
   "execution_count": 27,
   "id": "09d47d29-1d52-4077-aa85-55435a18d9b5",
   "metadata": {},
   "outputs": [],
   "source": [
    "// array type\n",
    "let a = [1, 2, 3, 4, 5];\n",
    "let months = [\"January\", \"February\", \"March\", \"April\", \"May\", \"June\", \"July\",\n",
    "              \"August\", \"September\", \"October\", \"November\", \"December\"];\n",
    "let a: [i32; 5] = [1, 2, 3, 4, 5];"
   ]
  },
  {
   "cell_type": "code",
   "execution_count": null,
   "id": "90885913-9a8c-4e42-bdac-82dcf28a3376",
   "metadata": {},
   "outputs": [
    {
     "data": {
      "text/plain": [
       "[1, 2, 3, 4, 5]"
      ]
     },
     "execution_count": 28,
     "metadata": {},
     "output_type": "execute_result"
    }
   ],
   "source": [
    "a"
   ]
  },
  {
   "cell_type": "code",
   "execution_count": null,
   "id": "2b3ed929-98b3-44db-aedd-026ae6849658",
   "metadata": {},
   "outputs": [
    {
     "name": "stdout",
     "output_type": "stream",
     "text": [
      "[1, 2, 3, 4, 5]\n"
     ]
    }
   ],
   "source": [
    "println!(\"{a:?}\");"
   ]
  },
  {
   "cell_type": "code",
   "execution_count": null,
   "id": "1ff893cb-2d3b-47f3-8437-4dbcca5196cf",
   "metadata": {},
   "outputs": [
    {
     "data": {
      "text/html": [
       "a: [i32; 5]"
      ],
      "text/plain": [
       "a: [i32; 5]"
      ]
     },
     "execution_count": 31,
     "metadata": {},
     "output_type": "execute_result"
    }
   ],
   "source": [
    ":t a"
   ]
  },
  {
   "cell_type": "code",
   "execution_count": 35,
   "id": "aba50f02-9117-4ba6-8093-d1b1db967d2f",
   "metadata": {},
   "outputs": [
    {
     "ename": "Error",
     "evalue": "negative integers cannot be used to index on a `[i32; 5]`",
     "output_type": "error",
     "traceback": [
      "\u001b[31mError:\u001b[0m negative integers cannot be used to index on a `[i32; 5]`",
      "   \u001b[38;5;246m╭\u001b[0m\u001b[38;5;246m─\u001b[0m\u001b[38;5;246m[\u001b[0mcommand_35:1:1\u001b[38;5;246m]\u001b[0m",
      "   \u001b[38;5;246m│\u001b[0m",
      " \u001b[38;5;246m1 │\u001b[0m \u001b[38;5;249ma\u001b[0m\u001b[38;5;249m[\u001b[0m\u001b[38;5;54m-\u001b[0m\u001b[38;5;54m1\u001b[0m\u001b[38;5;249m]\u001b[0m",
      " \u001b[38;5;240m  │\u001b[0m   \u001b[38;5;100m┬\u001b[0m\u001b[38;5;54m┬\u001b[0m  ",
      " \u001b[38;5;240m  │\u001b[0m   \u001b[38;5;100m╰\u001b[0m\u001b[38;5;100m─\u001b[0m\u001b[38;5;100m─\u001b[0m\u001b[38;5;100m─\u001b[0m help: to access an element starting from the end of the `[i32; 5]`, compute the index: `a.len() `",
      " \u001b[38;5;240m  │\u001b[0m    \u001b[38;5;54m│\u001b[0m  ",
      " \u001b[38;5;240m  │\u001b[0m    \u001b[38;5;54m╰\u001b[0m\u001b[38;5;54m─\u001b[0m\u001b[38;5;54m─\u001b[0m cannot use a negative integer for indexing on `[i32; 5]`",
      "\u001b[38;5;246m───╯\u001b[0m"
     ]
    }
   ],
   "source": [
    "// cannot do this\n",
    "a[-1]"
   ]
  },
  {
   "cell_type": "code",
   "execution_count": 36,
   "id": "275d7def-d525-40bf-9cc8-9c6d437e61d6",
   "metadata": {},
   "outputs": [
    {
     "data": {
      "text/plain": [
       "5"
      ]
     },
     "execution_count": 36,
     "metadata": {},
     "output_type": "execute_result"
    }
   ],
   "source": [
    "// can do this\n",
    "a[a.len()-1]"
   ]
  },
  {
   "cell_type": "code",
   "execution_count": 41,
   "id": "5b5824dd-2965-4a7c-b8bb-e5ff0933a2b5",
   "metadata": {},
   "outputs": [
    {
     "name": "stdout",
     "output_type": "stream",
     "text": [
      "calling function test_func(111)\n",
      "333\n",
      "calling function test_func(123)\n",
      "369\n"
     ]
    }
   ],
   "source": [
    "// function \n",
    "fn test_func(x: i32) -> i32 {\n",
    "    println!(\"calling function test_func({x})\");\n",
    "    x * 3\n",
    "}\n",
    "println!(\"{}\", test_func(111));\n",
    "println!(\"{}\", test_func(123));"
   ]
  },
  {
   "cell_type": "code",
   "execution_count": 43,
   "id": "8b84a221-b7ac-4728-8919-3c1cbf167368",
   "metadata": {},
   "outputs": [
    {
     "name": "stdout",
     "output_type": "stream",
     "text": [
      "enter the scope\n"
     ]
    },
    {
     "data": {
      "text/plain": [
       "123454321"
      ]
     },
     "execution_count": 43,
     "metadata": {},
     "output_type": "execute_result"
    }
   ],
   "source": [
    "// every scope block is an expression can return value\n",
    "let x = {\n",
    "    let y = 11111;\n",
    "    println!(\"enter the scope\");\n",
    "    y * y\n",
    "};\n",
    "x"
   ]
  },
  {
   "cell_type": "code",
   "execution_count": 59,
   "id": "6b0eda29-10bd-4be6-ac39-df2f65d4daf3",
   "metadata": {},
   "outputs": [
    {
     "data": {
      "text/plain": [
       "1"
      ]
     },
     "execution_count": 59,
     "metadata": {},
     "output_type": "execute_result"
    }
   ],
   "source": [
    "// control flow\n",
    "\n",
    "let n = 10;\n",
    "if n > 5 {1} else {-1}"
   ]
  },
  {
   "cell_type": "code",
   "execution_count": 3,
   "id": "2d24abaa-e2c7-4b49-8eb3-d7307f397d4a",
   "metadata": {},
   "outputs": [
    {
     "name": "stdout",
     "output_type": "stream",
     "text": [
      "x=0\n",
      "x=1\n",
      "x=2\n",
      "x=3\n",
      "x=4\n",
      "x=5\n",
      "x=6\n",
      "x=7\n",
      "x=8\n",
      "x=9\n",
      "x=10\n"
     ]
    },
    {
     "data": {
      "text/plain": [
       "11"
      ]
     },
     "execution_count": 3,
     "metadata": {},
     "output_type": "execute_result"
    }
   ],
   "source": [
    "let mut x = 0;\n",
    "loop {\n",
    "    println!(\"x={x}\");\n",
    "    x += 1;\n",
    "    if x> 10 {break x}\n",
    "}"
   ]
  },
  {
   "cell_type": "code",
   "execution_count": 4,
   "id": "2a7f5313-f985-4a3c-8ae0-c3bc7fee8556",
   "metadata": {},
   "outputs": [
    {
     "name": "stdout",
     "output_type": "stream",
     "text": [
      "count = 0\n",
      "remaining = 10\n",
      "remaining = 9\n",
      "count = 1\n",
      "remaining = 10\n",
      "remaining = 9\n",
      "count = 2\n",
      "remaining = 10\n",
      "End count = 2\n"
     ]
    }
   ],
   "source": [
    "// can assign lable to a loop, so we can break a parent loop\n",
    "let mut count = 0;\n",
    "'counting_up: loop {\n",
    "    println!(\"count = {count}\");\n",
    "    let mut remaining = 10;\n",
    "\n",
    "    loop {\n",
    "        println!(\"remaining = {remaining}\");\n",
    "        if remaining == 9 {\n",
    "            break;\n",
    "        }\n",
    "        if count == 2 {\n",
    "            break 'counting_up;\n",
    "        }\n",
    "        remaining -= 1;\n",
    "    }\n",
    "\n",
    "    count += 1;\n",
    "}\n",
    "println!(\"End count = {count}\");"
   ]
  },
  {
   "cell_type": "code",
   "execution_count": 5,
   "id": "9bdbff40-76fe-4a4a-99c6-a5a4afff5e31",
   "metadata": {},
   "outputs": [
    {
     "name": "stdout",
     "output_type": "stream",
     "text": [
      "3!\n",
      "2!\n",
      "1!\n",
      "LIFTOFF!!!\n"
     ]
    }
   ],
   "source": [
    "// while loop\n",
    "let mut number = 3;\n",
    "\n",
    "while number != 0 {\n",
    "    println!(\"{number}!\");\n",
    "\n",
    "    number -= 1;\n",
    "}\n",
    "\n",
    "println!(\"LIFTOFF!!!\");"
   ]
  },
  {
   "cell_type": "code",
   "execution_count": 6,
   "id": "80b27eb9-0206-49ac-bcf6-582a9878acb1",
   "metadata": {},
   "outputs": [
    {
     "name": "stdout",
     "output_type": "stream",
     "text": [
      "the value is: 10\n",
      "the value is: 20\n",
      "the value is: 30\n",
      "the value is: 40\n",
      "the value is: 50\n"
     ]
    },
    {
     "data": {
      "text/plain": [
       "()"
      ]
     },
     "execution_count": 6,
     "metadata": {},
     "output_type": "execute_result"
    }
   ],
   "source": [
    "// for loop\n",
    "let a = [10, 20, 30, 40, 50];\n",
    "\n",
    "for element in a {\n",
    "    println!(\"the value is: {element}\");\n",
    "}"
   ]
  },
  {
   "cell_type": "code",
   "execution_count": 10,
   "id": "ebbfefcb-bfb7-4fa9-a182-77d96c17bcd8",
   "metadata": {},
   "outputs": [
    {
     "name": "stdout",
     "output_type": "stream",
     "text": [
      "3!\n",
      "2!\n",
      "1!\n",
      "LIFTOFF!!!\n"
     ]
    }
   ],
   "source": [
    "// reverse loop and range\n",
    "for number in (1..4).rev() {\n",
    "    println!(\"{number}!\");\n",
    "}\n",
    "println!(\"LIFTOFF!!!\");"
   ]
  },
  {
   "cell_type": "code",
   "execution_count": null,
   "id": "bdf8d612-be85-424c-a52d-476cd577dd07",
   "metadata": {},
   "outputs": [],
   "source": []
  }
 ],
 "metadata": {
  "kernelspec": {
   "display_name": "Rust",
   "language": "rust",
   "name": "rust"
  },
  "language_info": {
   "codemirror_mode": "rust",
   "file_extension": ".rs",
   "mimetype": "text/rust",
   "name": "Rust",
   "pygment_lexer": "rust",
   "version": ""
  }
 },
 "nbformat": 4,
 "nbformat_minor": 5
}
