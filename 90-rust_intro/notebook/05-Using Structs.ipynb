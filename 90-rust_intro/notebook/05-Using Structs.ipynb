{
 "cells": [
  {
   "cell_type": "code",
   "execution_count": 15,
   "id": "87079b95-aa39-4c1c-9fd2-728ae67aca13",
   "metadata": {},
   "outputs": [],
   "source": [
    "#[derive(Debug)]\n",
    "struct User {\n",
    "    active: bool,\n",
    "    username: String,\n",
    "    email: String,\n",
    "    sign_in_count: u64,\n",
    "}"
   ]
  },
  {
   "cell_type": "code",
   "execution_count": 29,
   "id": "3dfa8c72-60c5-4085-a1c0-ed27247a5732",
   "metadata": {},
   "outputs": [],
   "source": [
    " let user1 = User {\n",
    "        active: true,\n",
    "        username: String::from(\"someusername123\"),\n",
    "        email: String::from(\"someone@example.com\"),\n",
    "        sign_in_count: 1,\n",
    "    };"
   ]
  },
  {
   "cell_type": "code",
   "execution_count": 42,
   "id": "d90ea072-4b96-4b62-a1a8-a85d1b4c4009",
   "metadata": {},
   "outputs": [
    {
     "name": "stdout",
     "output_type": "stream",
     "text": [
      "User {\n",
      "    active: true,\n",
      "    username: \"someusername123\",\n",
      "    email: \"someone@example.com\",\n",
      "    sign_in_count: 1,\n",
      "}\n"
     ]
    },
    {
     "data": {
      "text/plain": [
       "\"someusername123\""
      ]
     },
     "execution_count": 42,
     "metadata": {},
     "output_type": "execute_result"
    }
   ],
   "source": [
    "println!(\"{user1:#?}\");\n",
    "user1.username"
   ]
  },
  {
   "cell_type": "code",
   "execution_count": 7,
   "id": "8d7ac3c9-9dc7-4575-b857-2a7cb0a1647a",
   "metadata": {},
   "outputs": [],
   "source": [
    "// a builder\n",
    "fn build_user(email: String, username: String) -> User {\n",
    "    User {\n",
    "        active: true,\n",
    "        username: username,\n",
    "        email: email,\n",
    "        sign_in_count: 1,\n",
    "    }\n",
    "}"
   ]
  },
  {
   "cell_type": "code",
   "execution_count": 26,
   "id": "0b121091-55c2-456d-b7e7-5f65e1fd91b0",
   "metadata": {},
   "outputs": [],
   "source": [
    "// syntax sugar\n",
    "fn build_user(email: String, username: String) -> User {\n",
    "    User {\n",
    "        active: true,\n",
    "        username,\n",
    "        email,\n",
    "        sign_in_count: 1,\n",
    "    }\n",
    "}\n",
    "// you can also do this\n",
    "let user2 = User {\n",
    "        email: String::from(\"another@example.com\"),\n",
    "        ..user1\n",
    "    };"
   ]
  },
  {
   "cell_type": "code",
   "execution_count": 27,
   "id": "53ca78c2-e392-4043-a0b0-3d9baeb3c426",
   "metadata": {},
   "outputs": [
    {
     "name": "stdout",
     "output_type": "stream",
     "text": [
      "User {\n",
      "    active: true,\n",
      "    username: \"someusername123\",\n",
      "    email: \"another@example.com\",\n",
      "    sign_in_count: 1,\n",
      "}\n"
     ]
    },
    {
     "data": {
      "text/plain": [
       "()"
      ]
     },
     "execution_count": 27,
     "metadata": {},
     "output_type": "execute_result"
    }
   ],
   "source": [
    "println!(\"{user2:#?}\")"
   ]
  },
  {
   "cell_type": "code",
   "execution_count": 18,
   "id": "efede7b8-bf76-4225-8776-1e35ddd4f5c9",
   "metadata": {},
   "outputs": [],
   "source": [
    "// Rust also has Tuple Structs\n",
    "#[derive(Debug)]\n",
    "struct Color(i32, i32, i32);\n",
    "#[derive(Debug)]\n",
    "struct Point(i32, i32, i32);\n",
    "let black = Color(0, 0, 0);\n",
    "let origin = Point(0, 0, 0);"
   ]
  },
  {
   "cell_type": "code",
   "execution_count": 20,
   "id": "40f04cb1-2fe3-4c72-845d-a308524c7fc8",
   "metadata": {},
   "outputs": [
    {
     "data": {
      "text/plain": [
       "Point(0, 0, 0)"
      ]
     },
     "execution_count": 20,
     "metadata": {},
     "output_type": "execute_result"
    }
   ],
   "source": [
    "origin"
   ]
  },
  {
   "cell_type": "code",
   "execution_count": 34,
   "id": "01392b3b-2ef4-4221-974f-4ea07609fdcf",
   "metadata": {},
   "outputs": [
    {
     "data": {
      "text/plain": [
       "Color(0, 0, 0)"
      ]
     },
     "execution_count": 34,
     "metadata": {},
     "output_type": "execute_result"
    }
   ],
   "source": [
    "black"
   ]
  },
  {
   "cell_type": "code",
   "execution_count": 40,
   "id": "d08ca591-bfff-4d4f-bc6c-949f7744576e",
   "metadata": {},
   "outputs": [
    {
     "data": {
      "text/plain": [
       "255"
      ]
     },
     "execution_count": 40,
     "metadata": {},
     "output_type": "execute_result"
    }
   ],
   "source": [
    "let red = Color(255, 0, 0);\n",
    "red.0"
   ]
  },
  {
   "cell_type": "code",
   "execution_count": 55,
   "id": "a344243c-2324-4604-a4bc-279b39eec77a",
   "metadata": {},
   "outputs": [
    {
     "data": {
      "text/plain": [
       "1500"
      ]
     },
     "execution_count": 55,
     "metadata": {},
     "output_type": "execute_result"
    }
   ],
   "source": [
    "// defining methods\n",
    "#[derive(Debug)]\n",
    "struct Rectangle {\n",
    "    width: u32,\n",
    "    height: u32,\n",
    "}\n",
    "\n",
    "impl Rectangle {\n",
    "    fn area(&self) -> u32 {\n",
    "        self.width * self.height\n",
    "    }\n",
    "}\n",
    "let rect1 = Rectangle {\n",
    "    width: 30,\n",
    "    height: 50,\n",
    "};\n",
    "rect1.area()"
   ]
  },
  {
   "cell_type": "code",
   "execution_count": 56,
   "id": "9d6b1a85-5b35-489a-84ad-739f4916e422",
   "metadata": {},
   "outputs": [
    {
     "data": {
      "text/plain": [
       "Rectangle { width: 30, height: 50 }"
      ]
     },
     "execution_count": 56,
     "metadata": {},
     "output_type": "execute_result"
    }
   ],
   "source": [
    "rect1"
   ]
  },
  {
   "cell_type": "code",
   "execution_count": null,
   "id": "589a4324-760a-417c-9b9c-c074c231ae18",
   "metadata": {},
   "outputs": [],
   "source": []
  }
 ],
 "metadata": {
  "kernelspec": {
   "display_name": "Rust",
   "language": "rust",
   "name": "rust"
  },
  "language_info": {
   "codemirror_mode": "rust",
   "file_extension": ".rs",
   "mimetype": "text/rust",
   "name": "Rust",
   "pygment_lexer": "rust",
   "version": ""
  }
 },
 "nbformat": 4,
 "nbformat_minor": 5
}
